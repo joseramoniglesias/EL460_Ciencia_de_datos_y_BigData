{
 "nbformat": 4,
 "nbformat_minor": 0,
 "metadata": {
  "colab": {
   "private_outputs": true,
   "provenance": [],
   "include_colab_link": true
  },
  "kernelspec": {
   "name": "python3",
   "display_name": "Python 3"
  },
  "language_info": {
   "name": "python"
  }
 },
 "cells": [
  {
   "cell_type": "markdown",
   "source": [
    "# Ciencia de datos y BigData<a class=\"tocSkip\">\n",
    "### Ingenieria Electrónica <a class=\"tocSkip\">\n",
    "### Universidad Popular del Cesar <a class=\"tocSkip\">\n",
    "### Prof.: Jose Ramón Iglesias Gamarra - [https://github.com/joseramoniglesias/](https://github.com/joseramoniglesias/) <a class=\"tocSkip\">\n",
    "  **joseiglesias@unicesar.edu.co**"
   ],
   "metadata": {
    "id": "hnu2K40M-fGX"
   }
  },
  {
   "cell_type": "markdown",
   "source": [
    "# **PROGRAMACIÓN Y ESTADÍSTICA BÁSICA**\n",
    "\n",
    "## **Descripción**\n",
    "\n",
    "En este módulo se abordarán los principios de programación para el manejo de datos desde Python. Además, se estudiarán algunas herramientas para el análisis exploratorio de datos como apoyo a la toma de decisiones informadas."
   ],
   "metadata": {
    "id": "yXBh5zpctxPW"
   }
  },
  {
   "cell_type": "markdown",
   "source": [
    "### Configuración del entorno de trabajo"
   ],
   "metadata": {
    "id": "PY5OwXjiuPgu"
   }
  },
  {
   "cell_type": "markdown",
   "source": [
    "#### Importar las bibliotecas de Python a usar"
   ],
   "metadata": {
    "id": "ja1CL1V-OB-h"
   }
  },
  {
   "cell_type": "code",
   "source": [
    "# Visualización y gráficos\n",
    "import seaborn as sns\n",
    "import plotly.io as pio\n",
    "import plotly.express as px\n",
    "import plotly.graph_objects as go\n",
    "import matplotlib.pyplot as plt\n",
    "from matplotlib.patches import Ellipse\n",
    "\n",
    "# Manipulación de datos y análisis\n",
    "import numpy as np\n",
    "import pandas as pd\n",
    "import geopandas as gpd\n",
    "\n",
    "# Estadísticas\n",
    "from scipy.stats import norm, binom, bernoulli, multinomial, laplace, uniform, t, ttest_ind, multivariate_normal\n",
    "\n",
    "# Widgets interactivos\n",
    "import ipywidgets as widgets\n",
    "from ipywidgets import interact\n",
    "from IPython.display import display, HTML, clear_output\n",
    "\n",
    "# Utilidades de geometría y mapas\n",
    "from shapely import wkt\n",
    "from shapely.geometry import Point, LineString"
   ],
   "metadata": {
    "id": "KyShDzMaOGzn"
   },
   "execution_count": null,
   "outputs": []
  },
  {
   "cell_type": "markdown",
   "source": [
    "# **Introducción a la Probabilidad Aplicada al Análisis Exploratorio de Datos, Aprendizaje de Máquina e Inteligencia Artificial**\n",
    "\n",
    "Se pretende:\n",
    "\n",
    "- Entender las reglas de suma y multiplicación en probabilidades.\n",
    "- Conocer el concepto de función de densidad y función de distribución.\n",
    "- Explorar las familias paramétricas clásicas para modelar datos categóricos y no categóricos, y métodos no paramétricos.\n",
    "- Visualizar conceptos utilizando gráficos con matplotlib y pyplot."
   ],
   "metadata": {
    "id": "jPjA9K1xusI_"
   }
  },
  {
   "cell_type": "markdown",
   "source": [
    "## Recuerda\n",
    "\n",
    "- La probabilidad es fundamental en el análisis exploratorio de datos, el aprendizaje de máquina y la inteligencia artificial.\n",
    "\n",
    "- Permite modelar la incertidumbre y hacer inferencias sobre datos desconocidos.\n",
    "\n",
    "-  En su forma básica, conteo por frecuencia de aparición, la probabilidad marginal de un evento A se puede determinar como:\n",
    "\n",
    "$P(A)=\\frac{\\text{#Veces A}}{\\text{TotalDatos}}$"
   ],
   "metadata": {
    "id": "AlSNLN5Hu20A"
   }
  },
  {
   "cell_type": "markdown",
   "source": [
    "## **Reglas de Suma y Multiplicación en Probabilidades**\n",
    "\n",
    "> Agregar bloque entrecomillado\n",
    "\n",
    "\n",
    "\n",
    "- **Regla de Suma**: La regla de suma establece que la probabilidad de que ocurra al menos uno de varios eventos mutuamente excluyentes es igual a la suma de sus probabilidades individuales.\n",
    "\n",
    "Matemáticamente:\n",
    "\n",
    "$\n",
    "P(A \\cup B) = P(A) + P(B)\n",
    "$\n",
    "\n",
    "\n",
    "**Ejemplo**: Supongamos que tenemos una baraja estándar de 52 cartas. ¿Cuál es la probabilidad de sacar un As o un Rey?"
   ],
   "metadata": {
    "id": "pm6TFIOEvFr_"
   }
  },
  {
   "cell_type": "code",
   "execution_count": null,
   "metadata": {
    "id": "lTipnsHct5T4"
   },
   "outputs": [],
   "source": [
    "# Probabilidad de sacar un As\n",
    "P_As = 4 / 52\n",
    "\n",
    "# Probabilidad de sacar un Rey\n",
    "P_Rey = 4 / 52\n",
    "\n",
    "# Probabilidad de sacar un As o un Rey (eventos mutuamente excluyentes)\n",
    "P_As_o_Rey = P_As + P_Rey\n",
    "\n",
    "print(f\"La probabilidad de sacar un As o un Rey es: {P_As_o_Rey:.2f}\")"
   ]
  },
  {
   "cell_type": "markdown",
   "source": [
    "- **Regla de Multiplicación**: La regla de multiplicación establece que la probabilidad de que ocurran dos eventos independientes $A$ y $B$ es el producto de sus probabilidades individuales:\n",
    "\n",
    "$\n",
    "P(A \\cap B) = P(A,B) = P(A) P(B)\n",
    "$\n",
    "\n",
    "**Ejemplo**: ¿Cuál es la probabilidad de obtener \"cara\" al lanzar una moneda y un \"6\" al lanzar un dado?"
   ],
   "metadata": {
    "id": "Rd_wLL-AvqMr"
   }
  },
  {
   "cell_type": "code",
   "source": [
    "# Probabilidad de obtener \"cara\"\n",
    "P_Cara = 1 / 2\n",
    "\n",
    "# Probabilidad de obtener un \"6\"\n",
    "P_6 = 1 / 6\n",
    "\n",
    "# Probabilidad conjunta\n",
    "P_Cara_y_6 = P_Cara * P_6\n",
    "\n",
    "print(f\"La probabilidad de obtener 'cara' y un '6' es: {P_Cara_y_6:.2f}\")"
   ],
   "metadata": {
    "id": "ldXOLj1avi3M"
   },
   "execution_count": null,
   "outputs": []
  },
  {
   "cell_type": "markdown",
   "source": [
    "- Para eventos no independientes:\n",
    "\n",
    "$P(A,B)= P(A|B)P(B)$\n",
    "\n",
    "donde $P(A|B)$ es la probabilidad condicional de A dado B.\n"
   ],
   "metadata": {
    "id": "Mxm-SJfUwL5h"
   }
  },
  {
   "cell_type": "markdown",
   "source": [
    "**Ejemplo**: Se cuenta las ocurrencias de los eventos conjuntos $A$ $\\cap$ $B$, para dos posibles eventos en cada variable aleatoria, según la tabla:\n",
    "\n",
    "![Captura de pantalla 2024-09-18 172657.png](data:image/png;base64,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)\n",
    "\n",
    "- Por consiguiente, dado que se tienen 200 muestras:\n",
    "\n",
    "$P(A1,B1)=\\frac{40}{200};$\n",
    "$P(A2,B1)=\\frac{60}{200};$\n",
    "$P(A1,B2)=\\frac{70}{200};$\n",
    "$P(A2,B2)=\\frac{30}{200};$\n",
    "\n",
    "\n",
    "\n",
    "- Para determinar las probabilidades condicionales, redefinimos el factor por el que dividimos el conteo según la fila o columna que describa el evento que condiciona, por ejemplo:\n",
    "\n",
    "$P(A1|B1) = \\frac{40}{40+60}=\\frac{40}{100};$\n",
    "$P(B1|A1)=  \\frac{40}{40+70}=\\frac{40}{110};$\n",
    "$P(B2|A1)=  \\frac{70}{40+70}=\\frac{70}{110};$\n",
    "\n",
    "\n",
    "**Ejercicio**\n",
    "\n",
    "$P(B2|A2)=?$\n",
    "\n",
    "$P(A2|B2)=?$\n",
    "\n",
    "$P(A1|B2)=?$\n",
    "\n",
    "\n",
    "\n",
    "\n"
   ],
   "metadata": {
    "id": "RdHoBW2fzg_R"
   }
  },
  {
   "cell_type": "markdown",
   "source": [
    "\n",
    "- Note que:\n",
    "\n",
    "$P(A,B)=P(B,A)$\n",
    "\n",
    "- Define la simetría probabilidad conjunta.\n",
    "\n",
    "Además, por regla de la suma, las probabilidades marginales:\n",
    "\n",
    "$P(A1)=P(A1,B1)+P(A1,B2)=\\frac{40+70}{200}=\\frac{110}{200}$\n",
    "\n",
    "Incluyendo la regal del producto:\n",
    "\n",
    "$P(A1)=P(A1|B1)P(B1)+P(A1|B2)P(B2)$\n",
    "\n",
    "**Ejercicio**: Por regla de la suma:\n",
    "\n",
    "$P(A1)=?;$\n",
    "$P(A2)=?;$\n",
    "$P(B1)=?;$\n",
    "$P(B2)=?$\n",
    "\n",
    "Repita incluyendo la regla del producto."
   ],
   "metadata": {
    "id": "BtG_1bUK2ewb"
   }
  },
  {
   "cell_type": "markdown",
   "source": [
    "## **Funciones de Densidad y de Distribución**\n",
    "\n",
    "- **Función de Densidad de Probabilidad p(x) (PDF)**: Describe la probabilidad relativa de que una variable aleatoria continua tome un valor específico.\n",
    "\n",
    "- **Función de Distribución Acumulada P(a<x<b) (CDF)**: Representa la probabilidad de que una variable aleatoria sea menor o igual a un valor específico.\n",
    "\n",
    "- La PDF debe integrar a 1:\n",
    "\n",
    "$\\int p(x)dx=1$\n",
    "\n",
    "y:\n",
    "\n",
    "$\\frac{dP(x)}{dx}=p(x)$\n",
    "\n",
    "**Ejemplo**: Distribución Normal\n",
    "\n",
    "$p(x)=\\frac{1}{\\sqrt{2\\pi \\sigma^2}}\\exp\\left(\\frac{-\\|x-\\mu\\|^2}{2\\sigma^2}\\right)$"
   ],
   "metadata": {
    "id": "G6wt_kQGwQ0Z"
   }
  },
  {
   "cell_type": "markdown",
   "source": [
    "Las expresiones para la **PDF** y **CDF** de una **distribución normal general** :\n",
    "\n",
    "Función de Densidad de Probabilidad (PDF):\n",
    "$$\n",
    "f(x) = \\frac{1}{\\sqrt{2\\pi \\sigma^{2} }} e^{-\\frac{\\|x - \\mu\\|^2}{2\\sigma^2}}\n",
    "$$\n",
    "\n",
    "Función de Distribución Acumulada (CDF):\n",
    "$$\n",
    "F(x) = \\frac{1}{\\sqrt{2\\pi  \\sigma^{2} }} \\int_{-\\infty}^x e^{-\\frac{(t - \\mu)^2}{2\\sigma^2}} dt\n",
    "$$\n",
    "\n",
    "Donde:\n",
    "- $x$ es la variable aleatoria.\n",
    "- $\\mu$ es la media de la distribución.\n",
    "- $\\sigma$ es la desviación estándar de la distribución."
   ],
   "metadata": {
    "id": "Hn11a4fChb3_"
   }
  },
  {
   "cell_type": "code",
   "source": [
    "# @title\n",
    "# Generar valores en el rango de -4 a 4\n",
    "x = np.linspace(-4, 4, 1000)\n",
    "\n",
    "# Calcular la PDF y CDF\n",
    "pdf = norm.pdf(x, loc=0, scale=1)\n",
    "cdf = norm.cdf(x, loc=0, scale=1)\n",
    "\n",
    "# Graficar la PDF\n",
    "plt.figure(figsize=(12, 5))\n",
    "plt.subplot(1, 2, 1)\n",
    "plt.plot(x, pdf, label='PDF')\n",
    "plt.title('Función de Densidad de Probabilidad (PDF)')\n",
    "plt.xlabel('x')\n",
    "plt.ylabel('Probabilidad')\n",
    "plt.legend()\n",
    "\n",
    "# Graficar la CDF\n",
    "plt.subplot(1, 2, 2)\n",
    "plt.plot(x, cdf, color='green', label='CDF')\n",
    "plt.title('Función de Distribución Acumulada (CDF)')\n",
    "plt.xlabel('x')\n",
    "plt.ylabel('Probabilidad Acumulada')\n",
    "plt.legend()\n",
    "\n",
    "plt.tight_layout()\n",
    "plt.show()\n"
   ],
   "metadata": {
    "id": "Wdh7kgVgwJM7",
    "cellView": "form"
   },
   "execution_count": null,
   "outputs": []
  },
  {
   "cell_type": "markdown",
   "source": [
    "Para tareas basadas en datos, generalmente tenemos dos opciones para estimar las probabilidades:\n",
    "\n",
    "- **Familas paramétricas**: forma fija de probabilidad que requiere de la estimación de sus parámetros desde datos.\n",
    "\n",
    "- **Estimación no paramétrica**: no se asume una familia fija de probabilidad, pero se imponen funciones no lineales localizadas sobre el rango de variación de los datos para estimar la $p(x)$ como una combinación lineal de dichas funciones."
   ],
   "metadata": {
    "id": "ICEOw246xWOB"
   }
  },
  {
   "cell_type": "markdown",
   "source": [
    "## **Familias Paramétricas Clásicas**\n",
    "\n"
   ],
   "metadata": {
    "id": "id3D3-RvxUfN"
   }
  },
  {
   "cell_type": "markdown",
   "source": [
    "###**Datos Categóricos**"
   ],
   "metadata": {
    "id": "pxpvTYo3kXYs"
   }
  },
  {
   "cell_type": "markdown",
   "source": [
    "Los métodos paramétricos asumen una forma específica de la distribución de los datos."
   ],
   "metadata": {
    "id": "kxjCzn-plPF1"
   }
  },
  {
   "cell_type": "markdown",
   "source": [
    "#### **Distribución Bernoulli**: Modela experimentos con dos posibles resultados: éxito (1) y fracaso (0)."
   ],
   "metadata": {
    "id": "NoPEHhvXjsuG"
   }
  },
  {
   "cell_type": "markdown",
   "source": [
    "La expresión matemática de la **distribución de Bernoulli** es:\n",
    "\n",
    "$$\n",
    "P(X = x) = p^x (1 - p)^{1 - x}, \\quad x \\in \\{0, 1\\}\n",
    "$$\n",
    "\n",
    "Donde:\n",
    "- $ P(X = 1) = p $ es la probabilidad de éxito.\n",
    "- $ P(X = 0) = 1 - p $ es la probabilidad de fracaso.\n",
    "- $ x $ es el resultado (éxito o fracaso).\n"
   ],
   "metadata": {
    "id": "3L-plZaKs4-R"
   }
  },
  {
   "cell_type": "code",
   "source": [
    "# @title\n",
    "# Probabilidad de éxito\n",
    "p = 0.7\n",
    "\n",
    "# Generar datos\n",
    "data = bernoulli.rvs(p, size=1000)\n",
    "\n",
    "# Graficar\n",
    "plt.hist(data, bins=2, edgecolor='black')\n",
    "plt.xticks([0, 1], ['Fracaso', 'Éxito'])\n",
    "plt.title('Distribución Bernoulli')\n",
    "plt.xlabel('Resultado')\n",
    "plt.ylabel('Frecuencia')\n",
    "plt.show()"
   ],
   "metadata": {
    "id": "FQOPbYJwwgJ1",
    "cellView": "form"
   },
   "execution_count": null,
   "outputs": []
  },
  {
   "cell_type": "markdown",
   "source": [
    "#### **Distribución Binomial**: Modela el número de éxitos en $n$ ensayos de Bernoulli independientes"
   ],
   "metadata": {
    "id": "QQKahP0lx-Yk"
   }
  },
  {
   "cell_type": "markdown",
   "source": [
    "La expresión matemática de la función de masa de probabilidad (PMF) de la **distribución binomial** es:\n",
    "\n",
    "$$\n",
    "P(X = k) = \\binom{n}{k} p^k (1 - p)^{n - k}\n",
    "$$\n",
    "\n",
    "Donde:\n",
    "- $ n $ es el número total de ensayos.\n",
    "- $ k $ es el número de éxitos.\n",
    "- $ p $ es la probabilidad de éxito en cada ensayo.\n",
    "- $ \\binom{n}{k} $ es el coeficiente binomial, que se calcula como $\\frac{n!}{k!(n-k)!}$."
   ],
   "metadata": {
    "id": "36aXlUvatgkI"
   }
  },
  {
   "cell_type": "code",
   "source": [
    "# @title\n",
    "# Parámetros\n",
    "n = 10  # Número de ensayos\n",
    "p = 0.5  # Probabilidad de éxito\n",
    "\n",
    "# Valores posibles\n",
    "x = np.arange(0, n+1)\n",
    "\n",
    "# PMF\n",
    "pmf = binom.pmf(x, n, p)\n",
    "\n",
    "# Graficar\n",
    "plt.bar(x, pmf, edgecolor='black')\n",
    "plt.title('Distribución Binomial')\n",
    "plt.xlabel('Número de Éxitos')\n",
    "plt.ylabel('Probabilidad')\n",
    "plt.show()"
   ],
   "metadata": {
    "id": "KrNE0Kurx88M",
    "cellView": "form"
   },
   "execution_count": null,
   "outputs": []
  },
  {
   "cell_type": "markdown",
   "source": [
    "#### **Multinomial**"
   ],
   "metadata": {
    "id": "loCw3DNW4Klu"
   }
  },
  {
   "cell_type": "markdown",
   "source": [
    "La expresión matemática para la función de masa de probabilidad (PMF) de la **distribución multinomial** es:\n",
    "\n",
    "$$\n",
    "P(X_1 = x_1, X_2 = x_2, \\ldots, X_k = x_k) = \\frac{n!}{x_1! x_2! \\cdots x_k!} \\prod_{i=1}^k p_i^{x_i}\n",
    "$$\n",
    "\n",
    "Donde:\n",
    "- $n$ es el número total de ensayos.\n",
    "- $ x_i$ es el número de veces que ocurre la $i$-ésima categoría.\n",
    "- $ p_i$ es la probabilidad de que una observación caiga en la $i$-ésima categoría.\n",
    "- La expresión $\\frac{n!}{x_1! x_2! \\cdots x_k!}$ es el coeficiente multinomial, que cuenta el número de maneras diferentes en que se pueden distribuir los $n$ ensayos en las $k$ categorías."
   ],
   "metadata": {
    "id": "eSCxQtHPuBmo"
   }
  },
  {
   "cell_type": "code",
   "source": [
    "# @title\n",
    "# Parámetros\n",
    "n = 20  # Número de lanzamientos\n",
    "p = [0.1, 0.2, 0.3, 0.15, 0.15, 0.1]  # Probabilidades para cada cara del dado\n",
    "\n",
    "# Generar una muestra multinomial\n",
    "np.random.seed(42)  # Para reproducibilidad\n",
    "muestra = multinomial.rvs(n, p, size=1000)\n",
    "\n",
    "# Calcular la frecuencia promedio de cada cara\n",
    "frecuencias = np.mean(muestra, axis=0)\n",
    "\n",
    "# Graficar los resultados\n",
    "caras = np.arange(1, 7)\n",
    "plt.bar(caras, frecuencias, edgecolor='black')\n",
    "plt.xticks(caras)\n",
    "plt.title('Distribución Multinomial - Frecuencia Promedio de Cada Cara')\n",
    "plt.xlabel('Cara del Dado')\n",
    "plt.ylabel('Frecuencia Promedio')\n",
    "plt.show()"
   ],
   "metadata": {
    "id": "ZwS-jv204MiI"
   },
   "execution_count": null,
   "outputs": []
  },
  {
   "cell_type": "markdown",
   "source": [
    "### **Datos No Categóricos**"
   ],
   "metadata": {
    "id": "nPyp1byjkbT1"
   }
  },
  {
   "cell_type": "markdown",
   "source": [
    "#### **Distribución Normal**: Ya explorada en secciones anteriores."
   ],
   "metadata": {
    "id": "fpL45bP3kd-s"
   }
  },
  {
   "cell_type": "markdown",
   "source": [
    "#### **Distribución Laplaciana**: Modela diferencias entre dos variables aleatorias independientes con distribución exponencial."
   ],
   "metadata": {
    "id": "Z0EIByGgyPTx"
   }
  },
  {
   "cell_type": "markdown",
   "source": [
    "La expresión matemática para la función de densidad de probabilidad (PDF) de la **distribución Laplaciana** es:\n",
    "\n",
    "$$\n",
    "f(x) = \\frac{1}{2b} \\exp\\left(-\\frac{|x - \\mu|}{b}\\right)\n",
    "$$\n",
    "\n",
    "Donde:\n",
    "- $ x $ es la variable aleatoria.\n",
    "- $ \\mu $ es el parámetro de localización (media).\n",
    "- $ b $ es el parámetro de escala."
   ],
   "metadata": {
    "id": "ha5ujkd4xK5m"
   }
  },
  {
   "cell_type": "code",
   "source": [
    "# @title\n",
    "# Parámetros de la distribución\n",
    "mu = 0   # Media\n",
    "b = 1    # Parámetro de escala\n",
    "\n",
    "# Generar valores\n",
    "x = np.linspace(-10, 10, 1000)\n",
    "pdf = laplace.pdf(x, loc=mu, scale=b)\n",
    "\n",
    "# Graficar\n",
    "plt.plot(x, pdf, label='μ=0, b=1')\n",
    "plt.title('Distribución Laplaciana')\n",
    "plt.xlabel('x')\n",
    "plt.ylabel('Probabilidad')\n",
    "plt.legend()\n",
    "plt.show()"
   ],
   "metadata": {
    "id": "Ew2ec5qCyKJX",
    "cellView": "form"
   },
   "execution_count": null,
   "outputs": []
  },
  {
   "cell_type": "markdown",
   "source": [
    "#### **PDF Uniforme**: Modela situaciones donde todos los valores dentro de un intervalo tienen la misma probabilidad de ocurrir"
   ],
   "metadata": {
    "id": "YhBqfHuIlvWz"
   }
  },
  {
   "cell_type": "markdown",
   "source": [
    "La **función de densidad de probabilidad (PDF)** de una distribución uniforme continua en el intervalo \\([a, b]\\) está dada por:\n",
    "\n",
    "$$\n",
    "f(x) =\n",
    "\\begin{cases}\n",
    "\\frac{1}{b - a} & \\text{si } a \\leq x \\leq b \\\\\n",
    "0 & \\text{en otro caso}\n",
    "\\end{cases}\n",
    "$$\n",
    "\n",
    "Donde:\n",
    "\n",
    "- $a$ y $b$ son los límites inferior y superior del intervalo de la distribución uniforme.\n",
    "- La densidad es constante en el intervalo $[a, b]$, y fuera de ese rango, la densidad es cero."
   ],
   "metadata": {
    "id": "Ye1ss7q0mXUk"
   }
  },
  {
   "cell_type": "code",
   "source": [
    "# @title\n",
    "# Parámetros de la distribución uniforme\n",
    "a, b = 0, 1  # Intervalo [a, b]\n",
    "\n",
    "# Crear el rango de valores x\n",
    "x = np.linspace(-0.5, 1.5, 1000)\n",
    "\n",
    "# Calcular la PDF\n",
    "pdf = uniform.pdf(x, loc=a, scale=b-a)\n",
    "\n",
    "# Crear la gráfica\n",
    "plt.figure(figsize=(10, 6))\n",
    "plt.plot(x, pdf, 'b-', lw=2, label='PDF Uniforme')\n",
    "plt.fill_between(x, pdf, where=(x >= a) & (x <= b), alpha=0.3)\n",
    "\n",
    "# Personalizar la gráfica\n",
    "plt.title('Función de Densidad de Probabilidad Uniforme')\n",
    "plt.xlabel('x')\n",
    "plt.ylabel('Densidad de Probabilidad')\n",
    "plt.ylim(0, 1.2)\n",
    "plt.xlim(-0.5, 1.5)\n",
    "plt.axvline(x=a, color='r', linestyle='--', alpha=0.5)\n",
    "plt.axvline(x=b, color='r', linestyle='--', alpha=0.5)\n",
    "plt.text(a, 1.1, 'a', horizontalalignment='center')\n",
    "plt.text(b, 1.1, 'b', horizontalalignment='center')\n",
    "plt.legend()\n",
    "\n",
    "# Mostrar la gráfica\n",
    "plt.grid(True, alpha=0.3)\n",
    "plt.show()"
   ],
   "metadata": {
    "cellView": "form",
    "id": "pSGCWIc_l0yT"
   },
   "execution_count": null,
   "outputs": []
  },
  {
   "cell_type": "markdown",
   "source": [
    "#### **Distribución T Student**: Modela la probabilidad de diferencias entre medias cuando el tamaño de muestra es pequeño y la varianza es desconocida."
   ],
   "metadata": {
    "id": "4QkHMKX5n-zD"
   }
  },
  {
   "cell_type": "markdown",
   "source": [
    "La expresión matemática para la función de Densidad de Probabilidad (PDF) de la distribución **t de Student**:\n",
    "$$\n",
    "f(t) = \\frac{\\Gamma\\left(\\frac{\\nu + 1}{2}\\right)}{\\sqrt{\\nu \\pi} \\, \\Gamma\\left(\\frac{\\nu}{2}\\right)} \\left( 1 + \\frac{t^2}{\\nu} \\right)^{-\\frac{\\nu + 1}{2}}\n",
    "$$\n",
    "\n",
    "Donde:\n",
    "- $t$ es la variable aleatoria.\n",
    "- $\\nu$ es el número de grados de libertad.\n",
    "- $\\Gamma$ es la función gamma, que generaliza el factorial para números reales."
   ],
   "metadata": {
    "id": "c76UFQtrolDs"
   }
  },
  {
   "cell_type": "code",
   "source": [
    "# @title\n",
    "# Grados de libertad\n",
    "df = 3\n",
    "\n",
    "# Generar valores\n",
    "x = np.linspace(-6, 6, 100)\n",
    "y = t.pdf(x, df)\n",
    "\n",
    "# Graficar la PDF\n",
    "plt.figure(figsize=(10, 6))\n",
    "plt.plot(x, y, label=f't-distribution (df={df})', color='blue')\n",
    "plt.fill_between(x, y, where=(x >= -3) & (x <= 1), alpha=0.3)\n",
    "\n",
    "plt.title('Distribución t de Student - Inclinada a la Izquierda')\n",
    "plt.xlabel('Valor')\n",
    "plt.ylabel('Densidad de probabilidad')\n",
    "plt.legend()\n",
    "plt.grid(True)\n",
    "plt.show()"
   ],
   "metadata": {
    "cellView": "form",
    "id": "s_DM_hnboN3q"
   },
   "execution_count": null,
   "outputs": []
  },
  {
   "cell_type": "markdown",
   "source": [
    "#### **Gaussiana multivariada**: Modela la relación conjunta entre múltiples variables continuas, capturando sus medias y covarianzas"
   ],
   "metadata": {
    "id": "qGhxRCn60bea"
   }
  },
  {
   "cell_type": "markdown",
   "source": [
    "La **distribución gaussiana multivariada** está definida por la siguiente función de densidad de probabilidad (PDF):\n",
    "\n",
    "$$\n",
    "f(\\mathbf{x}) = \\frac{1}{(2 \\pi)^{k/2} |\\Sigma|^{1/2}} \\exp\\left(-\\frac{1}{2} (\\mathbf{x} - \\boldsymbol{\\mu})^T \\Sigma^{-1} (\\mathbf{x} - \\boldsymbol{\\mu}) \\right)\n",
    "$$\n",
    "\n",
    "Donde:\n",
    "- $\\mathbf{x}$ es un vector de variables aleatorias.\n",
    "- $\\boldsymbol{\\mu}$ es el vector de medias.\n",
    "- $\\Sigma$es la matriz de covarianza.\n",
    "- $k$ es el número de dimensiones.\n",
    "- $|\\Sigma|$ es el determinante de la matriz de covarianza.\n",
    "- $\\Sigma^{-1}$ es la inversa de la matriz de covarianza."
   ],
   "metadata": {
    "id": "HsPoLqYM0_Su"
   }
  },
  {
   "cell_type": "code",
   "source": [
    "# @title\n",
    "# Parámetros de la distribución\n",
    "mu = [0, 0]  # Media\n",
    "sigma = [[1, 0.8], [0.8, 1]]  # Matriz de covarianza\n",
    "\n",
    "# Generar datos aleatorios para scatter\n",
    "np.random.seed(42)\n",
    "data = np.random.multivariate_normal(mu, sigma, size=100)\n",
    "\n",
    "# Generar una malla de puntos\n",
    "x, y = np.mgrid[-3:3:.01, -3:3:.01]\n",
    "pos = np.dstack((x, y))\n",
    "\n",
    "# Evaluar la función de densidad de probabilidad en cada punto de la malla\n",
    "rv = multivariate_normal(mu, sigma)\n",
    "pdf = rv.pdf(pos)\n",
    "\n",
    "# Calcular los vectores propios y valores propios\n",
    "eigenvalues, eigenvectors = np.linalg.eig(sigma)\n",
    "\n",
    "# Ordenar los vectores propios por valor propio\n",
    "order = np.argsort(eigenvalues)[::-1]\n",
    "eigenvectors = eigenvectors[:, order]\n",
    "eigenvalues = eigenvalues[order]\n",
    "\n",
    "# Graficar\n",
    "plt.figure(figsize=(10, 8))\n",
    "\n",
    "# Gráfico de la PDF\n",
    "plt.contourf(x, y, pdf, cmap='viridis', alpha=0.6)\n",
    "plt.colorbar(label='Densidad de Probabilidad')\n",
    "\n",
    "# Scatter de datos\n",
    "plt.scatter(data[:, 0], data[:, 1], s=10, color='black', alpha=0.5, label='Datos')\n",
    "\n",
    "# Contorno de la covarianza\n",
    "for i in range(1, 4):\n",
    "    sigma_ellipse = Ellipse(mu, width=2*np.sqrt(eigenvalues[0])*i, height=2*np.sqrt(eigenvalues[1])*i,\n",
    "                            angle=np.degrees(np.arctan2(*eigenvectors[:, 0][::-1])),\n",
    "                            edgecolor='red', fill=False, linestyle='--')\n",
    "    plt.gca().add_patch(sigma_ellipse)\n",
    "\n",
    "# Ejes de los vectores propios\n",
    "for i in range(2):\n",
    "    plt.arrow(mu[0], mu[1], eigenvectors[0, i] * np.sqrt(eigenvalues[i]),\n",
    "              eigenvectors[1, i] * np.sqrt(eigenvalues[i]),\n",
    "              head_width=0.2, head_length=0.2, fc='blue', ec='blue')\n",
    "\n",
    "# Configuración del gráfico\n",
    "plt.title('Distribución Gaussiana Multivariada con Datos y Covarianza')\n",
    "plt.xlabel('X1')\n",
    "plt.ylabel('X2')\n",
    "plt.legend()\n",
    "plt.grid(True)\n",
    "plt.show()"
   ],
   "metadata": {
    "cellView": "form",
    "id": "--3iezBQ1pkM"
   },
   "execution_count": null,
   "outputs": []
  },
  {
   "cell_type": "markdown",
   "source": [
    "## Métodos No Paramétricos"
   ],
   "metadata": {
    "id": "_l1Sjx5eymcy"
   }
  },
  {
   "cell_type": "markdown",
   "source": [
    "Los métodos no paramétricos no asumen una forma específica de la distribución de los datos."
   ],
   "metadata": {
    "id": "7K5caXooj2sT"
   }
  },
  {
   "cell_type": "markdown",
   "source": [
    "#### **Estimación de Densidad Kernel (KDE)**: Estima la función de densidad de probabilidad de una variable, para visualizar la distribución subyacente de datos."
   ],
   "metadata": {
    "id": "eWV0lLcJj5wD"
   }
  },
  {
   "cell_type": "markdown",
   "source": [
    "$$\n",
    "\\hat{f}(x) = \\frac{1}{n h} \\sum_{i=1}^{n} K\\left( \\frac{x - x_i}{h} \\right)\n",
    "$$\n",
    "\n",
    "Donde:\n",
    "- $ \\hat{f}(x) $ es la estimación de la densidad en el punto $ x $.\n",
    "- $ n $ es el número total de datos en la muestra.\n",
    "- $ h > 0 $ es el **parámetro de suavizado** o **ancho de banda**, que controla el nivel de suavizado de la curva. Si $ h $ es pequeño, la estimación será más ajustada a los datos, mientras que un $ h $ grande proporciona una curva más suave.\n",
    "- $ x_i $ son los datos observados, es decir, los puntos de la muestra.\n",
    "- $ K(\\cdot) $ es la **función kernel**, que es una función simétrica y suavizante que determina la forma de la distribución alrededor de cada punto de datos $ x_i $. Algunas kernels comunes incluyen:\n",
    "  - **Kernel Gaussiano**:\n",
    "    $$\n",
    "    K(x-x_i) = \\frac{1}{\\sqrt{2\\pi h}} e^{-\\frac{\\|x-x_i\\|^2}{2h}}\n",
    "    $$"
   ],
   "metadata": {
    "id": "iIK3xYNue90_"
   }
  },
  {
   "cell_type": "code",
   "source": [
    "# @title\n",
    "# Generar datos de ejemplo\n",
    "data = np.concatenate([np.random.normal(-2, 1, 500), np.random.normal(2, 1, 500)])\n",
    "\n",
    "# Graficar KDE\n",
    "sns.kdeplot(data, shade=True)\n",
    "plt.title('Estimación de Densidad Kernel')\n",
    "plt.xlabel('Valor')\n",
    "plt.ylabel('Densidad')\n",
    "plt.show()"
   ],
   "metadata": {
    "id": "eDFk7pY7yddn",
    "cellView": "form"
   },
   "execution_count": null,
   "outputs": []
  },
  {
   "cell_type": "markdown",
   "source": [
    "#### **Histograma**: Representación gráfica de la distribución de datos numéricos."
   ],
   "metadata": {
    "id": "IYxY0fvqy0a1"
   }
  },
  {
   "cell_type": "markdown",
   "source": [
    "$$\n",
    "H(x) = \\sum_{i=1}^{n} \\mathbf{1}_{[x_i, x_{i+1})}(x) f_i\n",
    "$$\n",
    "\n",
    "Donde:\n",
    "- $ H(x) $ es la función del histograma.\n",
    "- $ [x_i, x_{i+1}) $ es el intervalo del i-ésimo bin.\n",
    "- $ f_i $ es la frecuencia (o conteo) de los valores dentro del bin $ [x_i, x_{i+1}) $.\n",
    "- $ \\mathbf{1}_{[x_i, x_{i+1})}(x) $ es la función indicadora, que es 1 si $ x \\in [x_i, x_{i+1}) $, y 0 en caso contrario."
   ],
   "metadata": {
    "id": "FvfjFlwZfM1G"
   }
  },
  {
   "cell_type": "code",
   "source": [
    "# @title\n",
    "# Graficar histograma\n",
    "plt.hist(data, bins=30, edgecolor='black')\n",
    "plt.title('Histograma de Datos')\n",
    "plt.xlabel('Valor')\n",
    "plt.ylabel('Frecuencia')\n",
    "plt.show()"
   ],
   "metadata": {
    "id": "YgRISc_lyuD4",
    "cellView": "form"
   },
   "execution_count": null,
   "outputs": []
  },
  {
   "metadata": {},
   "cell_type": "markdown",
   "source": [
    "**Copyright**\n",
    "\n",
    "The notebooks are provided as [Open Educational Resource](https://de.wikipedia.org/wiki/Open_Educational_Resources). Feel free to use the notebooks for your own educational purposes. The text is licensed under [Creative Commons Attribution 4.0](https://creativecommons.org/licenses/by/4.0/), the code of the IPython examples under the [MIT license](https://opensource.org/licenses/MIT)."
   ]
  },
  {
   "metadata": {},
   "cell_type": "code",
   "outputs": [],
   "execution_count": null,
   "source": ""
  }
 ]
}
