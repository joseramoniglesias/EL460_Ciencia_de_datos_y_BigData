{
 "nbformat": 4,
 "nbformat_minor": 0,
 "metadata": {
  "colab": {
   "provenance": [],
   "toc_visible": true,
   "include_colab_link": true
  },
  "kernelspec": {
   "name": "python3",
   "display_name": "Python 3 (ipykernel)",
   "language": "python"
  },
  "language_info": {
   "name": "python"
  },
  "widgets": {
   "application/vnd.jupyter.widget-state+json": {
    "64ca579dcd87423fa14ff3a4702c6096": {
     "model_module": "@jupyter-widgets/controls",
     "model_name": "VBoxModel",
     "model_module_version": "1.5.0",
     "state": {
      "_dom_classes": [
       "widget-interact"
      ],
      "_model_module": "@jupyter-widgets/controls",
      "_model_module_version": "1.5.0",
      "_model_name": "VBoxModel",
      "_view_count": null,
      "_view_module": "@jupyter-widgets/controls",
      "_view_module_version": "1.5.0",
      "_view_name": "VBoxView",
      "box_style": "",
      "children": [
       "IPY_MODEL_91acb9bb8b1242a1882e9a20ef1c94fa",
       "IPY_MODEL_69ce8cf9af834a258dc89157e18ff816"
      ],
      "layout": "IPY_MODEL_264231f4a7d74a7a883059529ea7d9c4"
     }
    },
    "91acb9bb8b1242a1882e9a20ef1c94fa": {
     "model_module": "@jupyter-widgets/controls",
     "model_name": "IntSliderModel",
     "model_module_version": "1.5.0",
     "state": {
      "_dom_classes": [],
      "_model_module": "@jupyter-widgets/controls",
      "_model_module_version": "1.5.0",
      "_model_name": "IntSliderModel",
      "_view_count": null,
      "_view_module": "@jupyter-widgets/controls",
      "_view_module_version": "1.5.0",
      "_view_name": "IntSliderView",
      "continuous_update": true,
      "description": "x",
      "description_tooltip": null,
      "disabled": false,
      "layout": "IPY_MODEL_707ef38e55f049de90c6951bb4937045",
      "max": 100,
      "min": 0,
      "orientation": "horizontal",
      "readout": true,
      "readout_format": "d",
      "step": 1,
      "style": "IPY_MODEL_59bf3f95ed1d47e495b29a9a3ee95860",
      "value": 5
     }
    },
    "69ce8cf9af834a258dc89157e18ff816": {
     "model_module": "@jupyter-widgets/output",
     "model_name": "OutputModel",
     "model_module_version": "1.0.0",
     "state": {
      "_dom_classes": [],
      "_model_module": "@jupyter-widgets/output",
      "_model_module_version": "1.0.0",
      "_model_name": "OutputModel",
      "_view_count": null,
      "_view_module": "@jupyter-widgets/output",
      "_view_module_version": "1.0.0",
      "_view_name": "OutputView",
      "layout": "IPY_MODEL_bf2a860692114c00bbc0955f13ba1bbc",
      "msg_id": "",
      "outputs": [
       {
        "output_type": "display_data",
        "data": {
         "text/plain": "   longitude  latitude  housing_median_age  total_rooms  total_bedrooms  \\\n0    -122.23     37.88                41.0        880.0           129.0   \n1    -122.22     37.86                21.0       7099.0          1106.0   \n2    -122.24     37.85                52.0       1467.0           190.0   \n3    -122.25     37.85                52.0       1274.0           235.0   \n4    -122.25     37.85                52.0       1627.0           280.0   \n\n   population  households  median_income  median_house_value ocean_proximity  \n0       322.0       126.0         8.3252            452600.0        NEAR BAY  \n1      2401.0      1138.0         8.3014            358500.0        NEAR BAY  \n2       496.0       177.0         7.2574            352100.0        NEAR BAY  \n3       558.0       219.0         5.6431            341300.0        NEAR BAY  \n4       565.0       259.0         3.8462            342200.0        NEAR BAY  ",
         "text/html": "\n  <div id=\"df-aaf6d9f4-8a70-431e-bdb8-38f911e2e564\" class=\"colab-df-container\">\n    <div>\n<style scoped>\n    .dataframe tbody tr th:only-of-type {\n        vertical-align: middle;\n    }\n\n    .dataframe tbody tr th {\n        vertical-align: top;\n    }\n\n    .dataframe thead th {\n        text-align: right;\n    }\n</style>\n<table border=\"1\" class=\"dataframe\">\n  <thead>\n    <tr style=\"text-align: right;\">\n      <th></th>\n      <th>longitude</th>\n      <th>latitude</th>\n      <th>housing_median_age</th>\n      <th>total_rooms</th>\n      <th>total_bedrooms</th>\n      <th>population</th>\n      <th>households</th>\n      <th>median_income</th>\n      <th>median_house_value</th>\n      <th>ocean_proximity</th>\n    </tr>\n  </thead>\n  <tbody>\n    <tr>\n      <th>0</th>\n      <td>-122.23</td>\n      <td>37.88</td>\n      <td>41.0</td>\n      <td>880.0</td>\n      <td>129.0</td>\n      <td>322.0</td>\n      <td>126.0</td>\n      <td>8.3252</td>\n      <td>452600.0</td>\n      <td>NEAR BAY</td>\n    </tr>\n    <tr>\n      <th>1</th>\n      <td>-122.22</td>\n      <td>37.86</td>\n      <td>21.0</td>\n      <td>7099.0</td>\n      <td>1106.0</td>\n      <td>2401.0</td>\n      <td>1138.0</td>\n      <td>8.3014</td>\n      <td>358500.0</td>\n      <td>NEAR BAY</td>\n    </tr>\n    <tr>\n      <th>2</th>\n      <td>-122.24</td>\n      <td>37.85</td>\n      <td>52.0</td>\n      <td>1467.0</td>\n      <td>190.0</td>\n      <td>496.0</td>\n      <td>177.0</td>\n      <td>7.2574</td>\n      <td>352100.0</td>\n      <td>NEAR BAY</td>\n    </tr>\n    <tr>\n      <th>3</th>\n      <td>-122.25</td>\n      <td>37.85</td>\n      <td>52.0</td>\n      <td>1274.0</td>\n      <td>235.0</td>\n      <td>558.0</td>\n      <td>219.0</td>\n      <td>5.6431</td>\n      <td>341300.0</td>\n      <td>NEAR BAY</td>\n    </tr>\n    <tr>\n      <th>4</th>\n      <td>-122.25</td>\n      <td>37.85</td>\n      <td>52.0</td>\n      <td>1627.0</td>\n      <td>280.0</td>\n      <td>565.0</td>\n      <td>259.0</td>\n      <td>3.8462</td>\n      <td>342200.0</td>\n      <td>NEAR BAY</td>\n    </tr>\n  </tbody>\n</table>\n</div>\n    <div class=\"colab-df-buttons\">\n\n  <div class=\"colab-df-container\">\n    <button class=\"colab-df-convert\" onclick=\"convertToInteractive('df-aaf6d9f4-8a70-431e-bdb8-38f911e2e564')\"\n            title=\"Convert this dataframe to an interactive table.\"\n            style=\"display:none;\">\n\n  <svg xmlns=\"http://www.w3.org/2000/svg\" height=\"24px\" viewBox=\"0 -960 960 960\">\n    <path d=\"M120-120v-720h720v720H120Zm60-500h600v-160H180v160Zm220 220h160v-160H400v160Zm0 220h160v-160H400v160ZM180-400h160v-160H180v160Zm440 0h160v-160H620v160ZM180-180h160v-160H180v160Zm440 0h160v-160H620v160Z\"/>\n  </svg>\n    </button>\n\n  <style>\n    .colab-df-container {\n      display:flex;\n      gap: 12px;\n    }\n\n    .colab-df-convert {\n      background-color: #E8F0FE;\n      border: none;\n      border-radius: 50%;\n      cursor: pointer;\n      display: none;\n      fill: #1967D2;\n      height: 32px;\n      padding: 0 0 0 0;\n      width: 32px;\n    }\n\n    .colab-df-convert:hover {\n      background-color: #E2EBFA;\n      box-shadow: 0px 1px 2px rgba(60, 64, 67, 0.3), 0px 1px 3px 1px rgba(60, 64, 67, 0.15);\n      fill: #174EA6;\n    }\n\n    .colab-df-buttons div {\n      margin-bottom: 4px;\n    }\n\n    [theme=dark] .colab-df-convert {\n      background-color: #3B4455;\n      fill: #D2E3FC;\n    }\n\n    [theme=dark] .colab-df-convert:hover {\n      background-color: #434B5C;\n      box-shadow: 0px 1px 3px 1px rgba(0, 0, 0, 0.15);\n      filter: drop-shadow(0px 1px 2px rgba(0, 0, 0, 0.3));\n      fill: #FFFFFF;\n    }\n  </style>\n\n    <script>\n      const buttonEl =\n        document.querySelector('#df-aaf6d9f4-8a70-431e-bdb8-38f911e2e564 button.colab-df-convert');\n      buttonEl.style.display =\n        google.colab.kernel.accessAllowed ? 'block' : 'none';\n\n      async function convertToInteractive(key) {\n        const element = document.querySelector('#df-aaf6d9f4-8a70-431e-bdb8-38f911e2e564');\n        const dataTable =\n          await google.colab.kernel.invokeFunction('convertToInteractive',\n                                                    [key], {});\n        if (!dataTable) return;\n\n        const docLinkHtml = 'Like what you see? Visit the ' +\n          '<a target=\"_blank\" href=https://colab.research.google.com/notebooks/data_table.ipynb>data table notebook</a>'\n          + ' to learn more about interactive tables.';\n        element.innerHTML = '';\n        dataTable['output_type'] = 'display_data';\n        await google.colab.output.renderOutput(dataTable, element);\n        const docLink = document.createElement('div');\n        docLink.innerHTML = docLinkHtml;\n        element.appendChild(docLink);\n      }\n    </script>\n  </div>\n\n\n<div id=\"df-e612b20b-90d1-4567-bf9f-b0b46b8af482\">\n  <button class=\"colab-df-quickchart\" onclick=\"quickchart('df-e612b20b-90d1-4567-bf9f-b0b46b8af482')\"\n            title=\"Suggest charts\"\n            style=\"display:none;\">\n\n<svg xmlns=\"http://www.w3.org/2000/svg\" height=\"24px\"viewBox=\"0 0 24 24\"\n     width=\"24px\">\n    <g>\n        <path d=\"M19 3H5c-1.1 0-2 .9-2 2v14c0 1.1.9 2 2 2h14c1.1 0 2-.9 2-2V5c0-1.1-.9-2-2-2zM9 17H7v-7h2v7zm4 0h-2V7h2v10zm4 0h-2v-4h2v4z\"/>\n    </g>\n</svg>\n  </button>\n\n<style>\n  .colab-df-quickchart {\n      --bg-color: #E8F0FE;\n      --fill-color: #1967D2;\n      --hover-bg-color: #E2EBFA;\n      --hover-fill-color: #174EA6;\n      --disabled-fill-color: #AAA;\n      --disabled-bg-color: #DDD;\n  }\n\n  [theme=dark] .colab-df-quickchart {\n      --bg-color: #3B4455;\n      --fill-color: #D2E3FC;\n      --hover-bg-color: #434B5C;\n      --hover-fill-color: #FFFFFF;\n      --disabled-bg-color: #3B4455;\n      --disabled-fill-color: #666;\n  }\n\n  .colab-df-quickchart {\n    background-color: var(--bg-color);\n    border: none;\n    border-radius: 50%;\n    cursor: pointer;\n    display: none;\n    fill: var(--fill-color);\n    height: 32px;\n    padding: 0;\n    width: 32px;\n  }\n\n  .colab-df-quickchart:hover {\n    background-color: var(--hover-bg-color);\n    box-shadow: 0 1px 2px rgba(60, 64, 67, 0.3), 0 1px 3px 1px rgba(60, 64, 67, 0.15);\n    fill: var(--button-hover-fill-color);\n  }\n\n  .colab-df-quickchart-complete:disabled,\n  .colab-df-quickchart-complete:disabled:hover {\n    background-color: var(--disabled-bg-color);\n    fill: var(--disabled-fill-color);\n    box-shadow: none;\n  }\n\n  .colab-df-spinner {\n    border: 2px solid var(--fill-color);\n    border-color: transparent;\n    border-bottom-color: var(--fill-color);\n    animation:\n      spin 1s steps(1) infinite;\n  }\n\n  @keyframes spin {\n    0% {\n      border-color: transparent;\n      border-bottom-color: var(--fill-color);\n      border-left-color: var(--fill-color);\n    }\n    20% {\n      border-color: transparent;\n      border-left-color: var(--fill-color);\n      border-top-color: var(--fill-color);\n    }\n    30% {\n      border-color: transparent;\n      border-left-color: var(--fill-color);\n      border-top-color: var(--fill-color);\n      border-right-color: var(--fill-color);\n    }\n    40% {\n      border-color: transparent;\n      border-right-color: var(--fill-color);\n      border-top-color: var(--fill-color);\n    }\n    60% {\n      border-color: transparent;\n      border-right-color: var(--fill-color);\n    }\n    80% {\n      border-color: transparent;\n      border-right-color: var(--fill-color);\n      border-bottom-color: var(--fill-color);\n    }\n    90% {\n      border-color: transparent;\n      border-bottom-color: var(--fill-color);\n    }\n  }\n</style>\n\n  <script>\n    async function quickchart(key) {\n      const quickchartButtonEl =\n        document.querySelector('#' + key + ' button');\n      quickchartButtonEl.disabled = true;  // To prevent multiple clicks.\n      quickchartButtonEl.classList.add('colab-df-spinner');\n      try {\n        const charts = await google.colab.kernel.invokeFunction(\n            'suggestCharts', [key], {});\n      } catch (error) {\n        console.error('Error during call to suggestCharts:', error);\n      }\n      quickchartButtonEl.classList.remove('colab-df-spinner');\n      quickchartButtonEl.classList.add('colab-df-quickchart-complete');\n    }\n    (() => {\n      let quickchartButtonEl =\n        document.querySelector('#df-e612b20b-90d1-4567-bf9f-b0b46b8af482 button');\n      quickchartButtonEl.style.display =\n        google.colab.kernel.accessAllowed ? 'block' : 'none';\n    })();\n  </script>\n</div>\n\n    </div>\n  </div>\n",
         "application/vnd.google.colaboratory.intrinsic+json": {
          "type": "dataframe",
          "summary": "{\n  \"name\": \"    display(housing\",\n  \"rows\": 5,\n  \"fields\": [\n    {\n      \"column\": \"longitude\",\n      \"properties\": {\n        \"dtype\": \"number\",\n        \"std\": 0.013038404810404884,\n        \"min\": -122.25,\n        \"max\": -122.22,\n        \"num_unique_values\": 4,\n        \"samples\": [\n          -122.22,\n          -122.25,\n          -122.23\n        ],\n        \"semantic_type\": \"\",\n        \"description\": \"\"\n      }\n    },\n    {\n      \"column\": \"latitude\",\n      \"properties\": {\n        \"dtype\": \"number\",\n        \"std\": 0.0130384048104057,\n        \"min\": 37.85,\n        \"max\": 37.88,\n        \"num_unique_values\": 3,\n        \"samples\": [\n          37.88,\n          37.86,\n          37.85\n        ],\n        \"semantic_type\": \"\",\n        \"description\": \"\"\n      }\n    },\n    {\n      \"column\": \"housing_median_age\",\n      \"properties\": {\n        \"dtype\": \"number\",\n        \"std\": 13.501851724856113,\n        \"min\": 21.0,\n        \"max\": 52.0,\n        \"num_unique_values\": 3,\n        \"samples\": [\n          41.0,\n          21.0,\n          52.0\n        ],\n        \"semantic_type\": \"\",\n        \"description\": \"\"\n      }\n    },\n    {\n      \"column\": \"total_rooms\",\n      \"properties\": {\n        \"dtype\": \"number\",\n        \"std\": 2603.0181136519204,\n        \"min\": 880.0,\n        \"max\": 7099.0,\n        \"num_unique_values\": 5,\n        \"samples\": [\n          7099.0,\n          1627.0,\n          1467.0\n        ],\n        \"semantic_type\": \"\",\n        \"description\": \"\"\n      }\n    },\n    {\n      \"column\": \"total_bedrooms\",\n      \"properties\": {\n        \"dtype\": \"number\",\n        \"std\": 405.24128614937547,\n        \"min\": 129.0,\n        \"max\": 1106.0,\n        \"num_unique_values\": 5,\n        \"samples\": [\n          1106.0,\n          280.0,\n          190.0\n        ],\n        \"semantic_type\": \"\",\n        \"description\": \"\"\n      }\n    },\n    {\n      \"column\": \"population\",\n      \"properties\": {\n        \"dtype\": \"number\",\n        \"std\": 862.3365352343596,\n        \"min\": 322.0,\n        \"max\": 2401.0,\n        \"num_unique_values\": 5,\n        \"samples\": [\n          2401.0,\n          565.0,\n          496.0\n        ],\n        \"semantic_type\": \"\",\n        \"description\": \"\"\n      }\n    },\n    {\n      \"column\": \"households\",\n      \"properties\": {\n        \"dtype\": \"number\",\n        \"std\": 424.49346284719155,\n        \"min\": 126.0,\n        \"max\": 1138.0,\n        \"num_unique_values\": 5,\n        \"samples\": [\n          1138.0,\n          259.0,\n          177.0\n        ],\n        \"semantic_type\": \"\",\n        \"description\": \"\"\n      }\n    },\n    {\n      \"column\": \"median_income\",\n      \"properties\": {\n        \"dtype\": \"number\",\n        \"std\": 1.9218775476080674,\n        \"min\": 3.8462,\n        \"max\": 8.3252,\n        \"num_unique_values\": 5,\n        \"samples\": [\n          8.3014,\n          3.8462,\n          7.2574\n        ],\n        \"semantic_type\": \"\",\n        \"description\": \"\"\n      }\n    },\n    {\n      \"column\": \"median_house_value\",\n      \"properties\": {\n        \"dtype\": \"number\",\n        \"std\": 47089.73348830932,\n        \"min\": 341300.0,\n        \"max\": 452600.0,\n        \"num_unique_values\": 5,\n        \"samples\": [\n          358500.0,\n          342200.0,\n          352100.0\n        ],\n        \"semantic_type\": \"\",\n        \"description\": \"\"\n      }\n    },\n    {\n      \"column\": \"ocean_proximity\",\n      \"properties\": {\n        \"dtype\": \"category\",\n        \"num_unique_values\": 1,\n        \"samples\": [\n          \"NEAR BAY\"\n        ],\n        \"semantic_type\": \"\",\n        \"description\": \"\"\n      }\n    }\n  ]\n}"
         }
        },
        "metadata": {}
       }
      ]
     }
    },
    "264231f4a7d74a7a883059529ea7d9c4": {
     "model_module": "@jupyter-widgets/base",
     "model_name": "LayoutModel",
     "model_module_version": "1.2.0",
     "state": {
      "_model_module": "@jupyter-widgets/base",
      "_model_module_version": "1.2.0",
      "_model_name": "LayoutModel",
      "_view_count": null,
      "_view_module": "@jupyter-widgets/base",
      "_view_module_version": "1.2.0",
      "_view_name": "LayoutView",
      "align_content": null,
      "align_items": null,
      "align_self": null,
      "border": null,
      "bottom": null,
      "display": null,
      "flex": null,
      "flex_flow": null,
      "grid_area": null,
      "grid_auto_columns": null,
      "grid_auto_flow": null,
      "grid_auto_rows": null,
      "grid_column": null,
      "grid_gap": null,
      "grid_row": null,
      "grid_template_areas": null,
      "grid_template_columns": null,
      "grid_template_rows": null,
      "height": null,
      "justify_content": null,
      "justify_items": null,
      "left": null,
      "margin": null,
      "max_height": null,
      "max_width": null,
      "min_height": null,
      "min_width": null,
      "object_fit": null,
      "object_position": null,
      "order": null,
      "overflow": null,
      "overflow_x": null,
      "overflow_y": null,
      "padding": null,
      "right": null,
      "top": null,
      "visibility": null,
      "width": null
     }
    },
    "707ef38e55f049de90c6951bb4937045": {
     "model_module": "@jupyter-widgets/base",
     "model_name": "LayoutModel",
     "model_module_version": "1.2.0",
     "state": {
      "_model_module": "@jupyter-widgets/base",
      "_model_module_version": "1.2.0",
      "_model_name": "LayoutModel",
      "_view_count": null,
      "_view_module": "@jupyter-widgets/base",
      "_view_module_version": "1.2.0",
      "_view_name": "LayoutView",
      "align_content": null,
      "align_items": null,
      "align_self": null,
      "border": null,
      "bottom": null,
      "display": null,
      "flex": null,
      "flex_flow": null,
      "grid_area": null,
      "grid_auto_columns": null,
      "grid_auto_flow": null,
      "grid_auto_rows": null,
      "grid_column": null,
      "grid_gap": null,
      "grid_row": null,
      "grid_template_areas": null,
      "grid_template_columns": null,
      "grid_template_rows": null,
      "height": null,
      "justify_content": null,
      "justify_items": null,
      "left": null,
      "margin": null,
      "max_height": null,
      "max_width": null,
      "min_height": null,
      "min_width": null,
      "object_fit": null,
      "object_position": null,
      "order": null,
      "overflow": null,
      "overflow_x": null,
      "overflow_y": null,
      "padding": null,
      "right": null,
      "top": null,
      "visibility": null,
      "width": null
     }
    },
    "59bf3f95ed1d47e495b29a9a3ee95860": {
     "model_module": "@jupyter-widgets/controls",
     "model_name": "SliderStyleModel",
     "model_module_version": "1.5.0",
     "state": {
      "_model_module": "@jupyter-widgets/controls",
      "_model_module_version": "1.5.0",
      "_model_name": "SliderStyleModel",
      "_view_count": null,
      "_view_module": "@jupyter-widgets/base",
      "_view_module_version": "1.2.0",
      "_view_name": "StyleView",
      "description_width": "",
      "handle_color": null
     }
    },
    "bf2a860692114c00bbc0955f13ba1bbc": {
     "model_module": "@jupyter-widgets/base",
     "model_name": "LayoutModel",
     "model_module_version": "1.2.0",
     "state": {
      "_model_module": "@jupyter-widgets/base",
      "_model_module_version": "1.2.0",
      "_model_name": "LayoutModel",
      "_view_count": null,
      "_view_module": "@jupyter-widgets/base",
      "_view_module_version": "1.2.0",
      "_view_name": "LayoutView",
      "align_content": null,
      "align_items": null,
      "align_self": null,
      "border": null,
      "bottom": null,
      "display": null,
      "flex": null,
      "flex_flow": null,
      "grid_area": null,
      "grid_auto_columns": null,
      "grid_auto_flow": null,
      "grid_auto_rows": null,
      "grid_column": null,
      "grid_gap": null,
      "grid_row": null,
      "grid_template_areas": null,
      "grid_template_columns": null,
      "grid_template_rows": null,
      "height": null,
      "justify_content": null,
      "justify_items": null,
      "left": null,
      "margin": null,
      "max_height": null,
      "max_width": null,
      "min_height": null,
      "min_width": null,
      "object_fit": null,
      "object_position": null,
      "order": null,
      "overflow": null,
      "overflow_x": null,
      "overflow_y": null,
      "padding": null,
      "right": null,
      "top": null,
      "visibility": null,
      "width": null
     }
    },
    "2b9a842cfa934780a78e42ae656e0a4e": {
     "model_module": "@jupyter-widgets/controls",
     "model_name": "DropdownModel",
     "model_module_version": "1.5.0",
     "state": {
      "_dom_classes": [],
      "_model_module": "@jupyter-widgets/controls",
      "_model_module_version": "1.5.0",
      "_model_name": "DropdownModel",
      "_options_labels": [
       "longitude",
       "latitude",
       "housing_median_age",
       "total_rooms",
       "total_bedrooms",
       "population",
       "households",
       "median_income",
       "median_house_value",
       "ocean_proximity"
      ],
      "_view_count": null,
      "_view_module": "@jupyter-widgets/controls",
      "_view_module_version": "1.5.0",
      "_view_name": "DropdownView",
      "description": "Columna:",
      "description_tooltip": null,
      "disabled": false,
      "index": 0,
      "layout": "IPY_MODEL_10355c3ae5c84c3cb86793bddabecf49",
      "style": "IPY_MODEL_b96ec572a3354fea8783e990f2f0eba0"
     }
    },
    "10355c3ae5c84c3cb86793bddabecf49": {
     "model_module": "@jupyter-widgets/base",
     "model_name": "LayoutModel",
     "model_module_version": "1.2.0",
     "state": {
      "_model_module": "@jupyter-widgets/base",
      "_model_module_version": "1.2.0",
      "_model_name": "LayoutModel",
      "_view_count": null,
      "_view_module": "@jupyter-widgets/base",
      "_view_module_version": "1.2.0",
      "_view_name": "LayoutView",
      "align_content": null,
      "align_items": null,
      "align_self": null,
      "border": null,
      "bottom": null,
      "display": null,
      "flex": null,
      "flex_flow": null,
      "grid_area": null,
      "grid_auto_columns": null,
      "grid_auto_flow": null,
      "grid_auto_rows": null,
      "grid_column": null,
      "grid_gap": null,
      "grid_row": null,
      "grid_template_areas": null,
      "grid_template_columns": null,
      "grid_template_rows": null,
      "height": null,
      "justify_content": null,
      "justify_items": null,
      "left": null,
      "margin": null,
      "max_height": null,
      "max_width": null,
      "min_height": null,
      "min_width": null,
      "object_fit": null,
      "object_position": null,
      "order": null,
      "overflow": null,
      "overflow_x": null,
      "overflow_y": null,
      "padding": null,
      "right": null,
      "top": null,
      "visibility": null,
      "width": null
     }
    },
    "b96ec572a3354fea8783e990f2f0eba0": {
     "model_module": "@jupyter-widgets/controls",
     "model_name": "DescriptionStyleModel",
     "model_module_version": "1.5.0",
     "state": {
      "_model_module": "@jupyter-widgets/controls",
      "_model_module_version": "1.5.0",
      "_model_name": "DescriptionStyleModel",
      "_view_count": null,
      "_view_module": "@jupyter-widgets/base",
      "_view_module_version": "1.2.0",
      "_view_name": "StyleView",
      "description_width": ""
     }
    },
    "1b5229fe6b50408d80c71a927a5ec3c3": {
     "model_module": "@jupyter-widgets/controls",
     "model_name": "HTMLModel",
     "model_module_version": "1.5.0",
     "state": {
      "_dom_classes": [],
      "_model_module": "@jupyter-widgets/controls",
      "_model_module_version": "1.5.0",
      "_model_name": "HTMLModel",
      "_view_count": null,
      "_view_module": "@jupyter-widgets/controls",
      "_view_module_version": "1.5.0",
      "_view_name": "HTMLView",
      "description": "",
      "description_tooltip": null,
      "layout": "IPY_MODEL_81979adda852422597a8c886d392d734",
      "placeholder": "​",
      "style": "IPY_MODEL_8c50d681da8a43e386a1c2c8f0f3355c",
      "value": "<table class=\"dataframe table table-striped\">\n  <thead>\n    <tr style=\"text-align: right;\">\n      <th></th>\n      <th>count</th>\n    </tr>\n    <tr>\n      <th>longitude</th>\n      <th></th>\n    </tr>\n  </thead>\n  <tbody>\n    <tr>\n      <th>-118.31</th>\n      <td>162</td>\n    </tr>\n    <tr>\n      <th>-118.30</th>\n      <td>160</td>\n    </tr>\n    <tr>\n      <th>-118.29</th>\n      <td>148</td>\n    </tr>\n    <tr>\n      <th>-118.27</th>\n      <td>144</td>\n    </tr>\n    <tr>\n      <th>-118.32</th>\n      <td>142</td>\n    </tr>\n    <tr>\n      <th>-118.28</th>\n      <td>141</td>\n    </tr>\n    <tr>\n      <th>-118.35</th>\n      <td>140</td>\n    </tr>\n    <tr>\n      <th>-118.36</th>\n      <td>138</td>\n    </tr>\n    <tr>\n      <th>-118.19</th>\n      <td>135</td>\n    </tr>\n    <tr>\n      <th>-118.37</th>\n      <td>128</td>\n    </tr>\n  </tbody>\n</table>"
     }
    },
    "81979adda852422597a8c886d392d734": {
     "model_module": "@jupyter-widgets/base",
     "model_name": "LayoutModel",
     "model_module_version": "1.2.0",
     "state": {
      "_model_module": "@jupyter-widgets/base",
      "_model_module_version": "1.2.0",
      "_model_name": "LayoutModel",
      "_view_count": null,
      "_view_module": "@jupyter-widgets/base",
      "_view_module_version": "1.2.0",
      "_view_name": "LayoutView",
      "align_content": null,
      "align_items": null,
      "align_self": null,
      "border": null,
      "bottom": null,
      "display": null,
      "flex": null,
      "flex_flow": null,
      "grid_area": null,
      "grid_auto_columns": null,
      "grid_auto_flow": null,
      "grid_auto_rows": null,
      "grid_column": null,
      "grid_gap": null,
      "grid_row": null,
      "grid_template_areas": null,
      "grid_template_columns": null,
      "grid_template_rows": null,
      "height": null,
      "justify_content": null,
      "justify_items": null,
      "left": null,
      "margin": null,
      "max_height": null,
      "max_width": null,
      "min_height": null,
      "min_width": null,
      "object_fit": null,
      "object_position": null,
      "order": null,
      "overflow": null,
      "overflow_x": null,
      "overflow_y": null,
      "padding": null,
      "right": null,
      "top": null,
      "visibility": null,
      "width": null
     }
    },
    "8c50d681da8a43e386a1c2c8f0f3355c": {
     "model_module": "@jupyter-widgets/controls",
     "model_name": "DescriptionStyleModel",
     "model_module_version": "1.5.0",
     "state": {
      "_model_module": "@jupyter-widgets/controls",
      "_model_module_version": "1.5.0",
      "_model_name": "DescriptionStyleModel",
      "_view_count": null,
      "_view_module": "@jupyter-widgets/base",
      "_view_module_version": "1.2.0",
      "_view_name": "StyleView",
      "description_width": ""
     }
    },
    "27aca8fb3b0c43e7a9223061e62e1a99": {
     "model_module": "@jupyter-widgets/controls",
     "model_name": "CheckboxModel",
     "model_module_version": "1.5.0",
     "state": {
      "_dom_classes": [],
      "_model_module": "@jupyter-widgets/controls",
      "_model_module_version": "1.5.0",
      "_model_name": "CheckboxModel",
      "_view_count": null,
      "_view_module": "@jupyter-widgets/controls",
      "_view_module_version": "1.5.0",
      "_view_name": "CheckboxView",
      "description": "longitude",
      "description_tooltip": null,
      "disabled": false,
      "indent": true,
      "layout": "IPY_MODEL_6234f9bb23794d5e8dfa26908f10d6d0",
      "style": "IPY_MODEL_a31973dd49ee49dcaae9f7299e9ba6f5",
      "value": false
     }
    },
    "6234f9bb23794d5e8dfa26908f10d6d0": {
     "model_module": "@jupyter-widgets/base",
     "model_name": "LayoutModel",
     "model_module_version": "1.2.0",
     "state": {
      "_model_module": "@jupyter-widgets/base",
      "_model_module_version": "1.2.0",
      "_model_name": "LayoutModel",
      "_view_count": null,
      "_view_module": "@jupyter-widgets/base",
      "_view_module_version": "1.2.0",
      "_view_name": "LayoutView",
      "align_content": null,
      "align_items": null,
      "align_self": null,
      "border": null,
      "bottom": null,
      "display": null,
      "flex": null,
      "flex_flow": null,
      "grid_area": null,
      "grid_auto_columns": null,
      "grid_auto_flow": null,
      "grid_auto_rows": null,
      "grid_column": null,
      "grid_gap": null,
      "grid_row": null,
      "grid_template_areas": null,
      "grid_template_columns": null,
      "grid_template_rows": null,
      "height": null,
      "justify_content": null,
      "justify_items": null,
      "left": null,
      "margin": null,
      "max_height": null,
      "max_width": null,
      "min_height": null,
      "min_width": null,
      "object_fit": null,
      "object_position": null,
      "order": null,
      "overflow": null,
      "overflow_x": null,
      "overflow_y": null,
      "padding": null,
      "right": null,
      "top": null,
      "visibility": null,
      "width": null
     }
    },
    "a31973dd49ee49dcaae9f7299e9ba6f5": {
     "model_module": "@jupyter-widgets/controls",
     "model_name": "DescriptionStyleModel",
     "model_module_version": "1.5.0",
     "state": {
      "_model_module": "@jupyter-widgets/controls",
      "_model_module_version": "1.5.0",
      "_model_name": "DescriptionStyleModel",
      "_view_count": null,
      "_view_module": "@jupyter-widgets/base",
      "_view_module_version": "1.2.0",
      "_view_name": "StyleView",
      "description_width": ""
     }
    },
    "bf60c8002d9a46fcbdbdf3de4427a0f1": {
     "model_module": "@jupyter-widgets/controls",
     "model_name": "CheckboxModel",
     "model_module_version": "1.5.0",
     "state": {
      "_dom_classes": [],
      "_model_module": "@jupyter-widgets/controls",
      "_model_module_version": "1.5.0",
      "_model_name": "CheckboxModel",
      "_view_count": null,
      "_view_module": "@jupyter-widgets/controls",
      "_view_module_version": "1.5.0",
      "_view_name": "CheckboxView",
      "description": "latitude",
      "description_tooltip": null,
      "disabled": false,
      "indent": true,
      "layout": "IPY_MODEL_c0221d9dd8774ec783de8d310fae2643",
      "style": "IPY_MODEL_b59c6b1149094ffc90e929f0d6df090c",
      "value": false
     }
    },
    "c0221d9dd8774ec783de8d310fae2643": {
     "model_module": "@jupyter-widgets/base",
     "model_name": "LayoutModel",
     "model_module_version": "1.2.0",
     "state": {
      "_model_module": "@jupyter-widgets/base",
      "_model_module_version": "1.2.0",
      "_model_name": "LayoutModel",
      "_view_count": null,
      "_view_module": "@jupyter-widgets/base",
      "_view_module_version": "1.2.0",
      "_view_name": "LayoutView",
      "align_content": null,
      "align_items": null,
      "align_self": null,
      "border": null,
      "bottom": null,
      "display": null,
      "flex": null,
      "flex_flow": null,
      "grid_area": null,
      "grid_auto_columns": null,
      "grid_auto_flow": null,
      "grid_auto_rows": null,
      "grid_column": null,
      "grid_gap": null,
      "grid_row": null,
      "grid_template_areas": null,
      "grid_template_columns": null,
      "grid_template_rows": null,
      "height": null,
      "justify_content": null,
      "justify_items": null,
      "left": null,
      "margin": null,
      "max_height": null,
      "max_width": null,
      "min_height": null,
      "min_width": null,
      "object_fit": null,
      "object_position": null,
      "order": null,
      "overflow": null,
      "overflow_x": null,
      "overflow_y": null,
      "padding": null,
      "right": null,
      "top": null,
      "visibility": null,
      "width": null
     }
    },
    "b59c6b1149094ffc90e929f0d6df090c": {
     "model_module": "@jupyter-widgets/controls",
     "model_name": "DescriptionStyleModel",
     "model_module_version": "1.5.0",
     "state": {
      "_model_module": "@jupyter-widgets/controls",
      "_model_module_version": "1.5.0",
      "_model_name": "DescriptionStyleModel",
      "_view_count": null,
      "_view_module": "@jupyter-widgets/base",
      "_view_module_version": "1.2.0",
      "_view_name": "StyleView",
      "description_width": ""
     }
    },
    "364c8893d40b4955bb45c9910b3de594": {
     "model_module": "@jupyter-widgets/controls",
     "model_name": "CheckboxModel",
     "model_module_version": "1.5.0",
     "state": {
      "_dom_classes": [],
      "_model_module": "@jupyter-widgets/controls",
      "_model_module_version": "1.5.0",
      "_model_name": "CheckboxModel",
      "_view_count": null,
      "_view_module": "@jupyter-widgets/controls",
      "_view_module_version": "1.5.0",
      "_view_name": "CheckboxView",
      "description": "housing_median_age",
      "description_tooltip": null,
      "disabled": false,
      "indent": true,
      "layout": "IPY_MODEL_2720513947e84230885728f7e42c29d8",
      "style": "IPY_MODEL_d05083cbcbf946ffaed135b2b9b0347c",
      "value": false
     }
    },
    "2720513947e84230885728f7e42c29d8": {
     "model_module": "@jupyter-widgets/base",
     "model_name": "LayoutModel",
     "model_module_version": "1.2.0",
     "state": {
      "_model_module": "@jupyter-widgets/base",
      "_model_module_version": "1.2.0",
      "_model_name": "LayoutModel",
      "_view_count": null,
      "_view_module": "@jupyter-widgets/base",
      "_view_module_version": "1.2.0",
      "_view_name": "LayoutView",
      "align_content": null,
      "align_items": null,
      "align_self": null,
      "border": null,
      "bottom": null,
      "display": null,
      "flex": null,
      "flex_flow": null,
      "grid_area": null,
      "grid_auto_columns": null,
      "grid_auto_flow": null,
      "grid_auto_rows": null,
      "grid_column": null,
      "grid_gap": null,
      "grid_row": null,
      "grid_template_areas": null,
      "grid_template_columns": null,
      "grid_template_rows": null,
      "height": null,
      "justify_content": null,
      "justify_items": null,
      "left": null,
      "margin": null,
      "max_height": null,
      "max_width": null,
      "min_height": null,
      "min_width": null,
      "object_fit": null,
      "object_position": null,
      "order": null,
      "overflow": null,
      "overflow_x": null,
      "overflow_y": null,
      "padding": null,
      "right": null,
      "top": null,
      "visibility": null,
      "width": null
     }
    },
    "d05083cbcbf946ffaed135b2b9b0347c": {
     "model_module": "@jupyter-widgets/controls",
     "model_name": "DescriptionStyleModel",
     "model_module_version": "1.5.0",
     "state": {
      "_model_module": "@jupyter-widgets/controls",
      "_model_module_version": "1.5.0",
      "_model_name": "DescriptionStyleModel",
      "_view_count": null,
      "_view_module": "@jupyter-widgets/base",
      "_view_module_version": "1.2.0",
      "_view_name": "StyleView",
      "description_width": ""
     }
    },
    "ab2abc96e54440ee8446875507406ca5": {
     "model_module": "@jupyter-widgets/controls",
     "model_name": "CheckboxModel",
     "model_module_version": "1.5.0",
     "state": {
      "_dom_classes": [],
      "_model_module": "@jupyter-widgets/controls",
      "_model_module_version": "1.5.0",
      "_model_name": "CheckboxModel",
      "_view_count": null,
      "_view_module": "@jupyter-widgets/controls",
      "_view_module_version": "1.5.0",
      "_view_name": "CheckboxView",
      "description": "total_rooms",
      "description_tooltip": null,
      "disabled": false,
      "indent": true,
      "layout": "IPY_MODEL_338dafe8540f4d4bab32419917df557c",
      "style": "IPY_MODEL_d92f6013c6fc4882aa5a22ca1f8e3224",
      "value": false
     }
    },
    "338dafe8540f4d4bab32419917df557c": {
     "model_module": "@jupyter-widgets/base",
     "model_name": "LayoutModel",
     "model_module_version": "1.2.0",
     "state": {
      "_model_module": "@jupyter-widgets/base",
      "_model_module_version": "1.2.0",
      "_model_name": "LayoutModel",
      "_view_count": null,
      "_view_module": "@jupyter-widgets/base",
      "_view_module_version": "1.2.0",
      "_view_name": "LayoutView",
      "align_content": null,
      "align_items": null,
      "align_self": null,
      "border": null,
      "bottom": null,
      "display": null,
      "flex": null,
      "flex_flow": null,
      "grid_area": null,
      "grid_auto_columns": null,
      "grid_auto_flow": null,
      "grid_auto_rows": null,
      "grid_column": null,
      "grid_gap": null,
      "grid_row": null,
      "grid_template_areas": null,
      "grid_template_columns": null,
      "grid_template_rows": null,
      "height": null,
      "justify_content": null,
      "justify_items": null,
      "left": null,
      "margin": null,
      "max_height": null,
      "max_width": null,
      "min_height": null,
      "min_width": null,
      "object_fit": null,
      "object_position": null,
      "order": null,
      "overflow": null,
      "overflow_x": null,
      "overflow_y": null,
      "padding": null,
      "right": null,
      "top": null,
      "visibility": null,
      "width": null
     }
    },
    "d92f6013c6fc4882aa5a22ca1f8e3224": {
     "model_module": "@jupyter-widgets/controls",
     "model_name": "DescriptionStyleModel",
     "model_module_version": "1.5.0",
     "state": {
      "_model_module": "@jupyter-widgets/controls",
      "_model_module_version": "1.5.0",
      "_model_name": "DescriptionStyleModel",
      "_view_count": null,
      "_view_module": "@jupyter-widgets/base",
      "_view_module_version": "1.2.0",
      "_view_name": "StyleView",
      "description_width": ""
     }
    },
    "a049392f6f3048749ea787e026c6917c": {
     "model_module": "@jupyter-widgets/controls",
     "model_name": "CheckboxModel",
     "model_module_version": "1.5.0",
     "state": {
      "_dom_classes": [],
      "_model_module": "@jupyter-widgets/controls",
      "_model_module_version": "1.5.0",
      "_model_name": "CheckboxModel",
      "_view_count": null,
      "_view_module": "@jupyter-widgets/controls",
      "_view_module_version": "1.5.0",
      "_view_name": "CheckboxView",
      "description": "total_bedrooms",
      "description_tooltip": null,
      "disabled": false,
      "indent": true,
      "layout": "IPY_MODEL_ba4c68f278ae48549ba02edf5d3d825b",
      "style": "IPY_MODEL_4367eeb42fab4c44a61414f7ec636c3b",
      "value": false
     }
    },
    "ba4c68f278ae48549ba02edf5d3d825b": {
     "model_module": "@jupyter-widgets/base",
     "model_name": "LayoutModel",
     "model_module_version": "1.2.0",
     "state": {
      "_model_module": "@jupyter-widgets/base",
      "_model_module_version": "1.2.0",
      "_model_name": "LayoutModel",
      "_view_count": null,
      "_view_module": "@jupyter-widgets/base",
      "_view_module_version": "1.2.0",
      "_view_name": "LayoutView",
      "align_content": null,
      "align_items": null,
      "align_self": null,
      "border": null,
      "bottom": null,
      "display": null,
      "flex": null,
      "flex_flow": null,
      "grid_area": null,
      "grid_auto_columns": null,
      "grid_auto_flow": null,
      "grid_auto_rows": null,
      "grid_column": null,
      "grid_gap": null,
      "grid_row": null,
      "grid_template_areas": null,
      "grid_template_columns": null,
      "grid_template_rows": null,
      "height": null,
      "justify_content": null,
      "justify_items": null,
      "left": null,
      "margin": null,
      "max_height": null,
      "max_width": null,
      "min_height": null,
      "min_width": null,
      "object_fit": null,
      "object_position": null,
      "order": null,
      "overflow": null,
      "overflow_x": null,
      "overflow_y": null,
      "padding": null,
      "right": null,
      "top": null,
      "visibility": null,
      "width": null
     }
    },
    "4367eeb42fab4c44a61414f7ec636c3b": {
     "model_module": "@jupyter-widgets/controls",
     "model_name": "DescriptionStyleModel",
     "model_module_version": "1.5.0",
     "state": {
      "_model_module": "@jupyter-widgets/controls",
      "_model_module_version": "1.5.0",
      "_model_name": "DescriptionStyleModel",
      "_view_count": null,
      "_view_module": "@jupyter-widgets/base",
      "_view_module_version": "1.2.0",
      "_view_name": "StyleView",
      "description_width": ""
     }
    },
    "8323d886ccfb45428335fbfb7174b0f1": {
     "model_module": "@jupyter-widgets/controls",
     "model_name": "CheckboxModel",
     "model_module_version": "1.5.0",
     "state": {
      "_dom_classes": [],
      "_model_module": "@jupyter-widgets/controls",
      "_model_module_version": "1.5.0",
      "_model_name": "CheckboxModel",
      "_view_count": null,
      "_view_module": "@jupyter-widgets/controls",
      "_view_module_version": "1.5.0",
      "_view_name": "CheckboxView",
      "description": "population",
      "description_tooltip": null,
      "disabled": false,
      "indent": true,
      "layout": "IPY_MODEL_779b7cad7b884e5d94d878b094bff2ca",
      "style": "IPY_MODEL_599fb96792d546c28a7c136991eb9488",
      "value": false
     }
    },
    "779b7cad7b884e5d94d878b094bff2ca": {
     "model_module": "@jupyter-widgets/base",
     "model_name": "LayoutModel",
     "model_module_version": "1.2.0",
     "state": {
      "_model_module": "@jupyter-widgets/base",
      "_model_module_version": "1.2.0",
      "_model_name": "LayoutModel",
      "_view_count": null,
      "_view_module": "@jupyter-widgets/base",
      "_view_module_version": "1.2.0",
      "_view_name": "LayoutView",
      "align_content": null,
      "align_items": null,
      "align_self": null,
      "border": null,
      "bottom": null,
      "display": null,
      "flex": null,
      "flex_flow": null,
      "grid_area": null,
      "grid_auto_columns": null,
      "grid_auto_flow": null,
      "grid_auto_rows": null,
      "grid_column": null,
      "grid_gap": null,
      "grid_row": null,
      "grid_template_areas": null,
      "grid_template_columns": null,
      "grid_template_rows": null,
      "height": null,
      "justify_content": null,
      "justify_items": null,
      "left": null,
      "margin": null,
      "max_height": null,
      "max_width": null,
      "min_height": null,
      "min_width": null,
      "object_fit": null,
      "object_position": null,
      "order": null,
      "overflow": null,
      "overflow_x": null,
      "overflow_y": null,
      "padding": null,
      "right": null,
      "top": null,
      "visibility": null,
      "width": null
     }
    },
    "599fb96792d546c28a7c136991eb9488": {
     "model_module": "@jupyter-widgets/controls",
     "model_name": "DescriptionStyleModel",
     "model_module_version": "1.5.0",
     "state": {
      "_model_module": "@jupyter-widgets/controls",
      "_model_module_version": "1.5.0",
      "_model_name": "DescriptionStyleModel",
      "_view_count": null,
      "_view_module": "@jupyter-widgets/base",
      "_view_module_version": "1.2.0",
      "_view_name": "StyleView",
      "description_width": ""
     }
    },
    "55edf00d4d454262920b06e801a5dd6f": {
     "model_module": "@jupyter-widgets/controls",
     "model_name": "CheckboxModel",
     "model_module_version": "1.5.0",
     "state": {
      "_dom_classes": [],
      "_model_module": "@jupyter-widgets/controls",
      "_model_module_version": "1.5.0",
      "_model_name": "CheckboxModel",
      "_view_count": null,
      "_view_module": "@jupyter-widgets/controls",
      "_view_module_version": "1.5.0",
      "_view_name": "CheckboxView",
      "description": "households",
      "description_tooltip": null,
      "disabled": false,
      "indent": true,
      "layout": "IPY_MODEL_a2a031802659496a933046a817b2aa84",
      "style": "IPY_MODEL_d2d7e8271aca4ec39fe75c2d5f7f0744",
      "value": false
     }
    },
    "a2a031802659496a933046a817b2aa84": {
     "model_module": "@jupyter-widgets/base",
     "model_name": "LayoutModel",
     "model_module_version": "1.2.0",
     "state": {
      "_model_module": "@jupyter-widgets/base",
      "_model_module_version": "1.2.0",
      "_model_name": "LayoutModel",
      "_view_count": null,
      "_view_module": "@jupyter-widgets/base",
      "_view_module_version": "1.2.0",
      "_view_name": "LayoutView",
      "align_content": null,
      "align_items": null,
      "align_self": null,
      "border": null,
      "bottom": null,
      "display": null,
      "flex": null,
      "flex_flow": null,
      "grid_area": null,
      "grid_auto_columns": null,
      "grid_auto_flow": null,
      "grid_auto_rows": null,
      "grid_column": null,
      "grid_gap": null,
      "grid_row": null,
      "grid_template_areas": null,
      "grid_template_columns": null,
      "grid_template_rows": null,
      "height": null,
      "justify_content": null,
      "justify_items": null,
      "left": null,
      "margin": null,
      "max_height": null,
      "max_width": null,
      "min_height": null,
      "min_width": null,
      "object_fit": null,
      "object_position": null,
      "order": null,
      "overflow": null,
      "overflow_x": null,
      "overflow_y": null,
      "padding": null,
      "right": null,
      "top": null,
      "visibility": null,
      "width": null
     }
    },
    "d2d7e8271aca4ec39fe75c2d5f7f0744": {
     "model_module": "@jupyter-widgets/controls",
     "model_name": "DescriptionStyleModel",
     "model_module_version": "1.5.0",
     "state": {
      "_model_module": "@jupyter-widgets/controls",
      "_model_module_version": "1.5.0",
      "_model_name": "DescriptionStyleModel",
      "_view_count": null,
      "_view_module": "@jupyter-widgets/base",
      "_view_module_version": "1.2.0",
      "_view_name": "StyleView",
      "description_width": ""
     }
    },
    "ee710701a1fd44e7b7b61a459ede403b": {
     "model_module": "@jupyter-widgets/controls",
     "model_name": "CheckboxModel",
     "model_module_version": "1.5.0",
     "state": {
      "_dom_classes": [],
      "_model_module": "@jupyter-widgets/controls",
      "_model_module_version": "1.5.0",
      "_model_name": "CheckboxModel",
      "_view_count": null,
      "_view_module": "@jupyter-widgets/controls",
      "_view_module_version": "1.5.0",
      "_view_name": "CheckboxView",
      "description": "median_income",
      "description_tooltip": null,
      "disabled": false,
      "indent": true,
      "layout": "IPY_MODEL_2c768b5ac99a4b2a94bd0958cba72391",
      "style": "IPY_MODEL_b51a548d988b4ea8bb6a1de599f0cbf9",
      "value": false
     }
    },
    "2c768b5ac99a4b2a94bd0958cba72391": {
     "model_module": "@jupyter-widgets/base",
     "model_name": "LayoutModel",
     "model_module_version": "1.2.0",
     "state": {
      "_model_module": "@jupyter-widgets/base",
      "_model_module_version": "1.2.0",
      "_model_name": "LayoutModel",
      "_view_count": null,
      "_view_module": "@jupyter-widgets/base",
      "_view_module_version": "1.2.0",
      "_view_name": "LayoutView",
      "align_content": null,
      "align_items": null,
      "align_self": null,
      "border": null,
      "bottom": null,
      "display": null,
      "flex": null,
      "flex_flow": null,
      "grid_area": null,
      "grid_auto_columns": null,
      "grid_auto_flow": null,
      "grid_auto_rows": null,
      "grid_column": null,
      "grid_gap": null,
      "grid_row": null,
      "grid_template_areas": null,
      "grid_template_columns": null,
      "grid_template_rows": null,
      "height": null,
      "justify_content": null,
      "justify_items": null,
      "left": null,
      "margin": null,
      "max_height": null,
      "max_width": null,
      "min_height": null,
      "min_width": null,
      "object_fit": null,
      "object_position": null,
      "order": null,
      "overflow": null,
      "overflow_x": null,
      "overflow_y": null,
      "padding": null,
      "right": null,
      "top": null,
      "visibility": null,
      "width": null
     }
    },
    "b51a548d988b4ea8bb6a1de599f0cbf9": {
     "model_module": "@jupyter-widgets/controls",
     "model_name": "DescriptionStyleModel",
     "model_module_version": "1.5.0",
     "state": {
      "_model_module": "@jupyter-widgets/controls",
      "_model_module_version": "1.5.0",
      "_model_name": "DescriptionStyleModel",
      "_view_count": null,
      "_view_module": "@jupyter-widgets/base",
      "_view_module_version": "1.2.0",
      "_view_name": "StyleView",
      "description_width": ""
     }
    },
    "7fd45d9e57e34ecba6263914776d5b29": {
     "model_module": "@jupyter-widgets/controls",
     "model_name": "CheckboxModel",
     "model_module_version": "1.5.0",
     "state": {
      "_dom_classes": [],
      "_model_module": "@jupyter-widgets/controls",
      "_model_module_version": "1.5.0",
      "_model_name": "CheckboxModel",
      "_view_count": null,
      "_view_module": "@jupyter-widgets/controls",
      "_view_module_version": "1.5.0",
      "_view_name": "CheckboxView",
      "description": "median_house_value",
      "description_tooltip": null,
      "disabled": false,
      "indent": true,
      "layout": "IPY_MODEL_de8a99f3f9a140389d1ed704b7038f80",
      "style": "IPY_MODEL_aa97f81e74aa4126939965e383b39b02",
      "value": false
     }
    },
    "de8a99f3f9a140389d1ed704b7038f80": {
     "model_module": "@jupyter-widgets/base",
     "model_name": "LayoutModel",
     "model_module_version": "1.2.0",
     "state": {
      "_model_module": "@jupyter-widgets/base",
      "_model_module_version": "1.2.0",
      "_model_name": "LayoutModel",
      "_view_count": null,
      "_view_module": "@jupyter-widgets/base",
      "_view_module_version": "1.2.0",
      "_view_name": "LayoutView",
      "align_content": null,
      "align_items": null,
      "align_self": null,
      "border": null,
      "bottom": null,
      "display": null,
      "flex": null,
      "flex_flow": null,
      "grid_area": null,
      "grid_auto_columns": null,
      "grid_auto_flow": null,
      "grid_auto_rows": null,
      "grid_column": null,
      "grid_gap": null,
      "grid_row": null,
      "grid_template_areas": null,
      "grid_template_columns": null,
      "grid_template_rows": null,
      "height": null,
      "justify_content": null,
      "justify_items": null,
      "left": null,
      "margin": null,
      "max_height": null,
      "max_width": null,
      "min_height": null,
      "min_width": null,
      "object_fit": null,
      "object_position": null,
      "order": null,
      "overflow": null,
      "overflow_x": null,
      "overflow_y": null,
      "padding": null,
      "right": null,
      "top": null,
      "visibility": null,
      "width": null
     }
    },
    "aa97f81e74aa4126939965e383b39b02": {
     "model_module": "@jupyter-widgets/controls",
     "model_name": "DescriptionStyleModel",
     "model_module_version": "1.5.0",
     "state": {
      "_model_module": "@jupyter-widgets/controls",
      "_model_module_version": "1.5.0",
      "_model_name": "DescriptionStyleModel",
      "_view_count": null,
      "_view_module": "@jupyter-widgets/base",
      "_view_module_version": "1.2.0",
      "_view_name": "StyleView",
      "description_width": ""
     }
    },
    "a34ba3d821054417936bd859a496e59a": {
     "model_module": "@jupyter-widgets/controls",
     "model_name": "CheckboxModel",
     "model_module_version": "1.5.0",
     "state": {
      "_dom_classes": [],
      "_model_module": "@jupyter-widgets/controls",
      "_model_module_version": "1.5.0",
      "_model_name": "CheckboxModel",
      "_view_count": null,
      "_view_module": "@jupyter-widgets/controls",
      "_view_module_version": "1.5.0",
      "_view_name": "CheckboxView",
      "description": "ocean_proximity",
      "description_tooltip": null,
      "disabled": false,
      "indent": true,
      "layout": "IPY_MODEL_0317aecc768f425eb934a284ef4be344",
      "style": "IPY_MODEL_e98caebaa82b4133b0369bee4ae1315c",
      "value": false
     }
    },
    "0317aecc768f425eb934a284ef4be344": {
     "model_module": "@jupyter-widgets/base",
     "model_name": "LayoutModel",
     "model_module_version": "1.2.0",
     "state": {
      "_model_module": "@jupyter-widgets/base",
      "_model_module_version": "1.2.0",
      "_model_name": "LayoutModel",
      "_view_count": null,
      "_view_module": "@jupyter-widgets/base",
      "_view_module_version": "1.2.0",
      "_view_name": "LayoutView",
      "align_content": null,
      "align_items": null,
      "align_self": null,
      "border": null,
      "bottom": null,
      "display": null,
      "flex": null,
      "flex_flow": null,
      "grid_area": null,
      "grid_auto_columns": null,
      "grid_auto_flow": null,
      "grid_auto_rows": null,
      "grid_column": null,
      "grid_gap": null,
      "grid_row": null,
      "grid_template_areas": null,
      "grid_template_columns": null,
      "grid_template_rows": null,
      "height": null,
      "justify_content": null,
      "justify_items": null,
      "left": null,
      "margin": null,
      "max_height": null,
      "max_width": null,
      "min_height": null,
      "min_width": null,
      "object_fit": null,
      "object_position": null,
      "order": null,
      "overflow": null,
      "overflow_x": null,
      "overflow_y": null,
      "padding": null,
      "right": null,
      "top": null,
      "visibility": null,
      "width": null
     }
    },
    "e98caebaa82b4133b0369bee4ae1315c": {
     "model_module": "@jupyter-widgets/controls",
     "model_name": "DescriptionStyleModel",
     "model_module_version": "1.5.0",
     "state": {
      "_model_module": "@jupyter-widgets/controls",
      "_model_module_version": "1.5.0",
      "_model_name": "DescriptionStyleModel",
      "_view_count": null,
      "_view_module": "@jupyter-widgets/base",
      "_view_module_version": "1.2.0",
      "_view_name": "StyleView",
      "description_width": ""
     }
    },
    "459f26399d574121b3fcaa17a3c24ad1": {
     "model_module": "@jupyter-widgets/controls",
     "model_name": "ButtonModel",
     "model_module_version": "1.5.0",
     "state": {
      "_dom_classes": [],
      "_model_module": "@jupyter-widgets/controls",
      "_model_module_version": "1.5.0",
      "_model_name": "ButtonModel",
      "_view_count": null,
      "_view_module": "@jupyter-widgets/controls",
      "_view_module_version": "1.5.0",
      "_view_name": "ButtonView",
      "button_style": "",
      "description": "Actualizar selección",
      "disabled": false,
      "icon": "",
      "layout": "IPY_MODEL_1cf1a8a64945457581be18fd80c4e3c4",
      "style": "IPY_MODEL_65b28ccf26324398aa0170896f4babe8",
      "tooltip": ""
     }
    },
    "1cf1a8a64945457581be18fd80c4e3c4": {
     "model_module": "@jupyter-widgets/base",
     "model_name": "LayoutModel",
     "model_module_version": "1.2.0",
     "state": {
      "_model_module": "@jupyter-widgets/base",
      "_model_module_version": "1.2.0",
      "_model_name": "LayoutModel",
      "_view_count": null,
      "_view_module": "@jupyter-widgets/base",
      "_view_module_version": "1.2.0",
      "_view_name": "LayoutView",
      "align_content": null,
      "align_items": null,
      "align_self": null,
      "border": null,
      "bottom": null,
      "display": null,
      "flex": null,
      "flex_flow": null,
      "grid_area": null,
      "grid_auto_columns": null,
      "grid_auto_flow": null,
      "grid_auto_rows": null,
      "grid_column": null,
      "grid_gap": null,
      "grid_row": null,
      "grid_template_areas": null,
      "grid_template_columns": null,
      "grid_template_rows": null,
      "height": null,
      "justify_content": null,
      "justify_items": null,
      "left": null,
      "margin": null,
      "max_height": null,
      "max_width": null,
      "min_height": null,
      "min_width": null,
      "object_fit": null,
      "object_position": null,
      "order": null,
      "overflow": null,
      "overflow_x": null,
      "overflow_y": null,
      "padding": null,
      "right": null,
      "top": null,
      "visibility": null,
      "width": null
     }
    },
    "65b28ccf26324398aa0170896f4babe8": {
     "model_module": "@jupyter-widgets/controls",
     "model_name": "ButtonStyleModel",
     "model_module_version": "1.5.0",
     "state": {
      "_model_module": "@jupyter-widgets/controls",
      "_model_module_version": "1.5.0",
      "_model_name": "ButtonStyleModel",
      "_view_count": null,
      "_view_module": "@jupyter-widgets/base",
      "_view_module_version": "1.2.0",
      "_view_name": "StyleView",
      "button_color": null,
      "font_weight": ""
     }
    },
    "633649b047894e75985180da1a9201d4": {
     "model_module": "@jupyter-widgets/output",
     "model_name": "OutputModel",
     "model_module_version": "1.0.0",
     "state": {
      "_dom_classes": [],
      "_model_module": "@jupyter-widgets/output",
      "_model_module_version": "1.0.0",
      "_model_name": "OutputModel",
      "_view_count": null,
      "_view_module": "@jupyter-widgets/output",
      "_view_module_version": "1.0.0",
      "_view_name": "OutputView",
      "layout": "IPY_MODEL_5662d4a0f3fe4f8e8a2ff6f729ae80db",
      "msg_id": "",
      "outputs": []
     }
    },
    "5662d4a0f3fe4f8e8a2ff6f729ae80db": {
     "model_module": "@jupyter-widgets/base",
     "model_name": "LayoutModel",
     "model_module_version": "1.2.0",
     "state": {
      "_model_module": "@jupyter-widgets/base",
      "_model_module_version": "1.2.0",
      "_model_name": "LayoutModel",
      "_view_count": null,
      "_view_module": "@jupyter-widgets/base",
      "_view_module_version": "1.2.0",
      "_view_name": "LayoutView",
      "align_content": null,
      "align_items": null,
      "align_self": null,
      "border": null,
      "bottom": null,
      "display": null,
      "flex": null,
      "flex_flow": null,
      "grid_area": null,
      "grid_auto_columns": null,
      "grid_auto_flow": null,
      "grid_auto_rows": null,
      "grid_column": null,
      "grid_gap": null,
      "grid_row": null,
      "grid_template_areas": null,
      "grid_template_columns": null,
      "grid_template_rows": null,
      "height": null,
      "justify_content": null,
      "justify_items": null,
      "left": null,
      "margin": null,
      "max_height": null,
      "max_width": null,
      "min_height": null,
      "min_width": null,
      "object_fit": null,
      "object_position": null,
      "order": null,
      "overflow": null,
      "overflow_x": null,
      "overflow_y": null,
      "padding": null,
      "right": null,
      "top": null,
      "visibility": null,
      "width": null
     }
    },
    "384598539f414277a07bcba4f4f0d75e": {
     "model_module": "@jupyter-widgets/controls",
     "model_name": "CheckboxModel",
     "model_module_version": "1.5.0",
     "state": {
      "_dom_classes": [],
      "_model_module": "@jupyter-widgets/controls",
      "_model_module_version": "1.5.0",
      "_model_name": "CheckboxModel",
      "_view_count": null,
      "_view_module": "@jupyter-widgets/controls",
      "_view_module_version": "1.5.0",
      "_view_name": "CheckboxView",
      "description": "longitude",
      "description_tooltip": null,
      "disabled": false,
      "indent": true,
      "layout": "IPY_MODEL_3adfdbcad6a8494fbcf97209c9c1968b",
      "style": "IPY_MODEL_388c81200cf040e0bf0a763b2b741343",
      "value": false
     }
    },
    "3adfdbcad6a8494fbcf97209c9c1968b": {
     "model_module": "@jupyter-widgets/base",
     "model_name": "LayoutModel",
     "model_module_version": "1.2.0",
     "state": {
      "_model_module": "@jupyter-widgets/base",
      "_model_module_version": "1.2.0",
      "_model_name": "LayoutModel",
      "_view_count": null,
      "_view_module": "@jupyter-widgets/base",
      "_view_module_version": "1.2.0",
      "_view_name": "LayoutView",
      "align_content": null,
      "align_items": null,
      "align_self": null,
      "border": null,
      "bottom": null,
      "display": null,
      "flex": null,
      "flex_flow": null,
      "grid_area": null,
      "grid_auto_columns": null,
      "grid_auto_flow": null,
      "grid_auto_rows": null,
      "grid_column": null,
      "grid_gap": null,
      "grid_row": null,
      "grid_template_areas": null,
      "grid_template_columns": null,
      "grid_template_rows": null,
      "height": null,
      "justify_content": null,
      "justify_items": null,
      "left": null,
      "margin": null,
      "max_height": null,
      "max_width": null,
      "min_height": null,
      "min_width": null,
      "object_fit": null,
      "object_position": null,
      "order": null,
      "overflow": null,
      "overflow_x": null,
      "overflow_y": null,
      "padding": null,
      "right": null,
      "top": null,
      "visibility": null,
      "width": null
     }
    },
    "388c81200cf040e0bf0a763b2b741343": {
     "model_module": "@jupyter-widgets/controls",
     "model_name": "DescriptionStyleModel",
     "model_module_version": "1.5.0",
     "state": {
      "_model_module": "@jupyter-widgets/controls",
      "_model_module_version": "1.5.0",
      "_model_name": "DescriptionStyleModel",
      "_view_count": null,
      "_view_module": "@jupyter-widgets/base",
      "_view_module_version": "1.2.0",
      "_view_name": "StyleView",
      "description_width": ""
     }
    },
    "73c66b94aca4423f921143ebb301b87d": {
     "model_module": "@jupyter-widgets/controls",
     "model_name": "CheckboxModel",
     "model_module_version": "1.5.0",
     "state": {
      "_dom_classes": [],
      "_model_module": "@jupyter-widgets/controls",
      "_model_module_version": "1.5.0",
      "_model_name": "CheckboxModel",
      "_view_count": null,
      "_view_module": "@jupyter-widgets/controls",
      "_view_module_version": "1.5.0",
      "_view_name": "CheckboxView",
      "description": "latitude",
      "description_tooltip": null,
      "disabled": false,
      "indent": true,
      "layout": "IPY_MODEL_f40b4eb167514a0c8b40829e37bf3c45",
      "style": "IPY_MODEL_58e1167775b244039d64473d3246b5d6",
      "value": false
     }
    },
    "f40b4eb167514a0c8b40829e37bf3c45": {
     "model_module": "@jupyter-widgets/base",
     "model_name": "LayoutModel",
     "model_module_version": "1.2.0",
     "state": {
      "_model_module": "@jupyter-widgets/base",
      "_model_module_version": "1.2.0",
      "_model_name": "LayoutModel",
      "_view_count": null,
      "_view_module": "@jupyter-widgets/base",
      "_view_module_version": "1.2.0",
      "_view_name": "LayoutView",
      "align_content": null,
      "align_items": null,
      "align_self": null,
      "border": null,
      "bottom": null,
      "display": null,
      "flex": null,
      "flex_flow": null,
      "grid_area": null,
      "grid_auto_columns": null,
      "grid_auto_flow": null,
      "grid_auto_rows": null,
      "grid_column": null,
      "grid_gap": null,
      "grid_row": null,
      "grid_template_areas": null,
      "grid_template_columns": null,
      "grid_template_rows": null,
      "height": null,
      "justify_content": null,
      "justify_items": null,
      "left": null,
      "margin": null,
      "max_height": null,
      "max_width": null,
      "min_height": null,
      "min_width": null,
      "object_fit": null,
      "object_position": null,
      "order": null,
      "overflow": null,
      "overflow_x": null,
      "overflow_y": null,
      "padding": null,
      "right": null,
      "top": null,
      "visibility": null,
      "width": null
     }
    },
    "58e1167775b244039d64473d3246b5d6": {
     "model_module": "@jupyter-widgets/controls",
     "model_name": "DescriptionStyleModel",
     "model_module_version": "1.5.0",
     "state": {
      "_model_module": "@jupyter-widgets/controls",
      "_model_module_version": "1.5.0",
      "_model_name": "DescriptionStyleModel",
      "_view_count": null,
      "_view_module": "@jupyter-widgets/base",
      "_view_module_version": "1.2.0",
      "_view_name": "StyleView",
      "description_width": ""
     }
    },
    "26ede90b40f44740a2c6f1d5ba36d7cb": {
     "model_module": "@jupyter-widgets/controls",
     "model_name": "CheckboxModel",
     "model_module_version": "1.5.0",
     "state": {
      "_dom_classes": [],
      "_model_module": "@jupyter-widgets/controls",
      "_model_module_version": "1.5.0",
      "_model_name": "CheckboxModel",
      "_view_count": null,
      "_view_module": "@jupyter-widgets/controls",
      "_view_module_version": "1.5.0",
      "_view_name": "CheckboxView",
      "description": "housing_median_age",
      "description_tooltip": null,
      "disabled": false,
      "indent": true,
      "layout": "IPY_MODEL_b89c57dfa4db4537b613d1cb31c789ef",
      "style": "IPY_MODEL_df2c109c015e4e159f16b03ab02e9056",
      "value": false
     }
    },
    "b89c57dfa4db4537b613d1cb31c789ef": {
     "model_module": "@jupyter-widgets/base",
     "model_name": "LayoutModel",
     "model_module_version": "1.2.0",
     "state": {
      "_model_module": "@jupyter-widgets/base",
      "_model_module_version": "1.2.0",
      "_model_name": "LayoutModel",
      "_view_count": null,
      "_view_module": "@jupyter-widgets/base",
      "_view_module_version": "1.2.0",
      "_view_name": "LayoutView",
      "align_content": null,
      "align_items": null,
      "align_self": null,
      "border": null,
      "bottom": null,
      "display": null,
      "flex": null,
      "flex_flow": null,
      "grid_area": null,
      "grid_auto_columns": null,
      "grid_auto_flow": null,
      "grid_auto_rows": null,
      "grid_column": null,
      "grid_gap": null,
      "grid_row": null,
      "grid_template_areas": null,
      "grid_template_columns": null,
      "grid_template_rows": null,
      "height": null,
      "justify_content": null,
      "justify_items": null,
      "left": null,
      "margin": null,
      "max_height": null,
      "max_width": null,
      "min_height": null,
      "min_width": null,
      "object_fit": null,
      "object_position": null,
      "order": null,
      "overflow": null,
      "overflow_x": null,
      "overflow_y": null,
      "padding": null,
      "right": null,
      "top": null,
      "visibility": null,
      "width": null
     }
    },
    "df2c109c015e4e159f16b03ab02e9056": {
     "model_module": "@jupyter-widgets/controls",
     "model_name": "DescriptionStyleModel",
     "model_module_version": "1.5.0",
     "state": {
      "_model_module": "@jupyter-widgets/controls",
      "_model_module_version": "1.5.0",
      "_model_name": "DescriptionStyleModel",
      "_view_count": null,
      "_view_module": "@jupyter-widgets/base",
      "_view_module_version": "1.2.0",
      "_view_name": "StyleView",
      "description_width": ""
     }
    },
    "ce327dadba124ec3b63d603d683baaf8": {
     "model_module": "@jupyter-widgets/controls",
     "model_name": "CheckboxModel",
     "model_module_version": "1.5.0",
     "state": {
      "_dom_classes": [],
      "_model_module": "@jupyter-widgets/controls",
      "_model_module_version": "1.5.0",
      "_model_name": "CheckboxModel",
      "_view_count": null,
      "_view_module": "@jupyter-widgets/controls",
      "_view_module_version": "1.5.0",
      "_view_name": "CheckboxView",
      "description": "total_rooms",
      "description_tooltip": null,
      "disabled": false,
      "indent": true,
      "layout": "IPY_MODEL_9f7f0dfff5fb412fa70cd46c05804e56",
      "style": "IPY_MODEL_5ee332eeabda4772821e43f38d831e93",
      "value": false
     }
    },
    "9f7f0dfff5fb412fa70cd46c05804e56": {
     "model_module": "@jupyter-widgets/base",
     "model_name": "LayoutModel",
     "model_module_version": "1.2.0",
     "state": {
      "_model_module": "@jupyter-widgets/base",
      "_model_module_version": "1.2.0",
      "_model_name": "LayoutModel",
      "_view_count": null,
      "_view_module": "@jupyter-widgets/base",
      "_view_module_version": "1.2.0",
      "_view_name": "LayoutView",
      "align_content": null,
      "align_items": null,
      "align_self": null,
      "border": null,
      "bottom": null,
      "display": null,
      "flex": null,
      "flex_flow": null,
      "grid_area": null,
      "grid_auto_columns": null,
      "grid_auto_flow": null,
      "grid_auto_rows": null,
      "grid_column": null,
      "grid_gap": null,
      "grid_row": null,
      "grid_template_areas": null,
      "grid_template_columns": null,
      "grid_template_rows": null,
      "height": null,
      "justify_content": null,
      "justify_items": null,
      "left": null,
      "margin": null,
      "max_height": null,
      "max_width": null,
      "min_height": null,
      "min_width": null,
      "object_fit": null,
      "object_position": null,
      "order": null,
      "overflow": null,
      "overflow_x": null,
      "overflow_y": null,
      "padding": null,
      "right": null,
      "top": null,
      "visibility": null,
      "width": null
     }
    },
    "5ee332eeabda4772821e43f38d831e93": {
     "model_module": "@jupyter-widgets/controls",
     "model_name": "DescriptionStyleModel",
     "model_module_version": "1.5.0",
     "state": {
      "_model_module": "@jupyter-widgets/controls",
      "_model_module_version": "1.5.0",
      "_model_name": "DescriptionStyleModel",
      "_view_count": null,
      "_view_module": "@jupyter-widgets/base",
      "_view_module_version": "1.2.0",
      "_view_name": "StyleView",
      "description_width": ""
     }
    },
    "9e9c9e0ff6414e6998a33a7764a4b9f9": {
     "model_module": "@jupyter-widgets/controls",
     "model_name": "CheckboxModel",
     "model_module_version": "1.5.0",
     "state": {
      "_dom_classes": [],
      "_model_module": "@jupyter-widgets/controls",
      "_model_module_version": "1.5.0",
      "_model_name": "CheckboxModel",
      "_view_count": null,
      "_view_module": "@jupyter-widgets/controls",
      "_view_module_version": "1.5.0",
      "_view_name": "CheckboxView",
      "description": "total_bedrooms",
      "description_tooltip": null,
      "disabled": false,
      "indent": true,
      "layout": "IPY_MODEL_abbc19560be043bbaf2381b51d6dff2a",
      "style": "IPY_MODEL_4066fef215db4e51912fa82765f99096",
      "value": false
     }
    },
    "abbc19560be043bbaf2381b51d6dff2a": {
     "model_module": "@jupyter-widgets/base",
     "model_name": "LayoutModel",
     "model_module_version": "1.2.0",
     "state": {
      "_model_module": "@jupyter-widgets/base",
      "_model_module_version": "1.2.0",
      "_model_name": "LayoutModel",
      "_view_count": null,
      "_view_module": "@jupyter-widgets/base",
      "_view_module_version": "1.2.0",
      "_view_name": "LayoutView",
      "align_content": null,
      "align_items": null,
      "align_self": null,
      "border": null,
      "bottom": null,
      "display": null,
      "flex": null,
      "flex_flow": null,
      "grid_area": null,
      "grid_auto_columns": null,
      "grid_auto_flow": null,
      "grid_auto_rows": null,
      "grid_column": null,
      "grid_gap": null,
      "grid_row": null,
      "grid_template_areas": null,
      "grid_template_columns": null,
      "grid_template_rows": null,
      "height": null,
      "justify_content": null,
      "justify_items": null,
      "left": null,
      "margin": null,
      "max_height": null,
      "max_width": null,
      "min_height": null,
      "min_width": null,
      "object_fit": null,
      "object_position": null,
      "order": null,
      "overflow": null,
      "overflow_x": null,
      "overflow_y": null,
      "padding": null,
      "right": null,
      "top": null,
      "visibility": null,
      "width": null
     }
    },
    "4066fef215db4e51912fa82765f99096": {
     "model_module": "@jupyter-widgets/controls",
     "model_name": "DescriptionStyleModel",
     "model_module_version": "1.5.0",
     "state": {
      "_model_module": "@jupyter-widgets/controls",
      "_model_module_version": "1.5.0",
      "_model_name": "DescriptionStyleModel",
      "_view_count": null,
      "_view_module": "@jupyter-widgets/base",
      "_view_module_version": "1.2.0",
      "_view_name": "StyleView",
      "description_width": ""
     }
    },
    "a88e6e5210f34df0902397f1319a5c41": {
     "model_module": "@jupyter-widgets/controls",
     "model_name": "CheckboxModel",
     "model_module_version": "1.5.0",
     "state": {
      "_dom_classes": [],
      "_model_module": "@jupyter-widgets/controls",
      "_model_module_version": "1.5.0",
      "_model_name": "CheckboxModel",
      "_view_count": null,
      "_view_module": "@jupyter-widgets/controls",
      "_view_module_version": "1.5.0",
      "_view_name": "CheckboxView",
      "description": "population",
      "description_tooltip": null,
      "disabled": false,
      "indent": true,
      "layout": "IPY_MODEL_a646d31969b04087b391a51448882454",
      "style": "IPY_MODEL_3bf68033fa104ad884e0167bac596840",
      "value": false
     }
    },
    "a646d31969b04087b391a51448882454": {
     "model_module": "@jupyter-widgets/base",
     "model_name": "LayoutModel",
     "model_module_version": "1.2.0",
     "state": {
      "_model_module": "@jupyter-widgets/base",
      "_model_module_version": "1.2.0",
      "_model_name": "LayoutModel",
      "_view_count": null,
      "_view_module": "@jupyter-widgets/base",
      "_view_module_version": "1.2.0",
      "_view_name": "LayoutView",
      "align_content": null,
      "align_items": null,
      "align_self": null,
      "border": null,
      "bottom": null,
      "display": null,
      "flex": null,
      "flex_flow": null,
      "grid_area": null,
      "grid_auto_columns": null,
      "grid_auto_flow": null,
      "grid_auto_rows": null,
      "grid_column": null,
      "grid_gap": null,
      "grid_row": null,
      "grid_template_areas": null,
      "grid_template_columns": null,
      "grid_template_rows": null,
      "height": null,
      "justify_content": null,
      "justify_items": null,
      "left": null,
      "margin": null,
      "max_height": null,
      "max_width": null,
      "min_height": null,
      "min_width": null,
      "object_fit": null,
      "object_position": null,
      "order": null,
      "overflow": null,
      "overflow_x": null,
      "overflow_y": null,
      "padding": null,
      "right": null,
      "top": null,
      "visibility": null,
      "width": null
     }
    },
    "3bf68033fa104ad884e0167bac596840": {
     "model_module": "@jupyter-widgets/controls",
     "model_name": "DescriptionStyleModel",
     "model_module_version": "1.5.0",
     "state": {
      "_model_module": "@jupyter-widgets/controls",
      "_model_module_version": "1.5.0",
      "_model_name": "DescriptionStyleModel",
      "_view_count": null,
      "_view_module": "@jupyter-widgets/base",
      "_view_module_version": "1.2.0",
      "_view_name": "StyleView",
      "description_width": ""
     }
    },
    "f116422cec7845bea6d4723f772deb9c": {
     "model_module": "@jupyter-widgets/controls",
     "model_name": "CheckboxModel",
     "model_module_version": "1.5.0",
     "state": {
      "_dom_classes": [],
      "_model_module": "@jupyter-widgets/controls",
      "_model_module_version": "1.5.0",
      "_model_name": "CheckboxModel",
      "_view_count": null,
      "_view_module": "@jupyter-widgets/controls",
      "_view_module_version": "1.5.0",
      "_view_name": "CheckboxView",
      "description": "households",
      "description_tooltip": null,
      "disabled": false,
      "indent": true,
      "layout": "IPY_MODEL_879ffb8ea5b84949a925b1a917434f43",
      "style": "IPY_MODEL_f33bc4eeea794552a11dbc46c9561c69",
      "value": false
     }
    },
    "879ffb8ea5b84949a925b1a917434f43": {
     "model_module": "@jupyter-widgets/base",
     "model_name": "LayoutModel",
     "model_module_version": "1.2.0",
     "state": {
      "_model_module": "@jupyter-widgets/base",
      "_model_module_version": "1.2.0",
      "_model_name": "LayoutModel",
      "_view_count": null,
      "_view_module": "@jupyter-widgets/base",
      "_view_module_version": "1.2.0",
      "_view_name": "LayoutView",
      "align_content": null,
      "align_items": null,
      "align_self": null,
      "border": null,
      "bottom": null,
      "display": null,
      "flex": null,
      "flex_flow": null,
      "grid_area": null,
      "grid_auto_columns": null,
      "grid_auto_flow": null,
      "grid_auto_rows": null,
      "grid_column": null,
      "grid_gap": null,
      "grid_row": null,
      "grid_template_areas": null,
      "grid_template_columns": null,
      "grid_template_rows": null,
      "height": null,
      "justify_content": null,
      "justify_items": null,
      "left": null,
      "margin": null,
      "max_height": null,
      "max_width": null,
      "min_height": null,
      "min_width": null,
      "object_fit": null,
      "object_position": null,
      "order": null,
      "overflow": null,
      "overflow_x": null,
      "overflow_y": null,
      "padding": null,
      "right": null,
      "top": null,
      "visibility": null,
      "width": null
     }
    },
    "f33bc4eeea794552a11dbc46c9561c69": {
     "model_module": "@jupyter-widgets/controls",
     "model_name": "DescriptionStyleModel",
     "model_module_version": "1.5.0",
     "state": {
      "_model_module": "@jupyter-widgets/controls",
      "_model_module_version": "1.5.0",
      "_model_name": "DescriptionStyleModel",
      "_view_count": null,
      "_view_module": "@jupyter-widgets/base",
      "_view_module_version": "1.2.0",
      "_view_name": "StyleView",
      "description_width": ""
     }
    },
    "0941dc2b1bf744a3b3b036f8930b3f56": {
     "model_module": "@jupyter-widgets/controls",
     "model_name": "CheckboxModel",
     "model_module_version": "1.5.0",
     "state": {
      "_dom_classes": [],
      "_model_module": "@jupyter-widgets/controls",
      "_model_module_version": "1.5.0",
      "_model_name": "CheckboxModel",
      "_view_count": null,
      "_view_module": "@jupyter-widgets/controls",
      "_view_module_version": "1.5.0",
      "_view_name": "CheckboxView",
      "description": "median_income",
      "description_tooltip": null,
      "disabled": false,
      "indent": true,
      "layout": "IPY_MODEL_5307137d9d08447ab2ac2496f6a65ef9",
      "style": "IPY_MODEL_637ca78a230347c9a0bea61b5730c175",
      "value": false
     }
    },
    "5307137d9d08447ab2ac2496f6a65ef9": {
     "model_module": "@jupyter-widgets/base",
     "model_name": "LayoutModel",
     "model_module_version": "1.2.0",
     "state": {
      "_model_module": "@jupyter-widgets/base",
      "_model_module_version": "1.2.0",
      "_model_name": "LayoutModel",
      "_view_count": null,
      "_view_module": "@jupyter-widgets/base",
      "_view_module_version": "1.2.0",
      "_view_name": "LayoutView",
      "align_content": null,
      "align_items": null,
      "align_self": null,
      "border": null,
      "bottom": null,
      "display": null,
      "flex": null,
      "flex_flow": null,
      "grid_area": null,
      "grid_auto_columns": null,
      "grid_auto_flow": null,
      "grid_auto_rows": null,
      "grid_column": null,
      "grid_gap": null,
      "grid_row": null,
      "grid_template_areas": null,
      "grid_template_columns": null,
      "grid_template_rows": null,
      "height": null,
      "justify_content": null,
      "justify_items": null,
      "left": null,
      "margin": null,
      "max_height": null,
      "max_width": null,
      "min_height": null,
      "min_width": null,
      "object_fit": null,
      "object_position": null,
      "order": null,
      "overflow": null,
      "overflow_x": null,
      "overflow_y": null,
      "padding": null,
      "right": null,
      "top": null,
      "visibility": null,
      "width": null
     }
    },
    "637ca78a230347c9a0bea61b5730c175": {
     "model_module": "@jupyter-widgets/controls",
     "model_name": "DescriptionStyleModel",
     "model_module_version": "1.5.0",
     "state": {
      "_model_module": "@jupyter-widgets/controls",
      "_model_module_version": "1.5.0",
      "_model_name": "DescriptionStyleModel",
      "_view_count": null,
      "_view_module": "@jupyter-widgets/base",
      "_view_module_version": "1.2.0",
      "_view_name": "StyleView",
      "description_width": ""
     }
    },
    "374b335f5d144a6fbc7c8f15a22f51fb": {
     "model_module": "@jupyter-widgets/controls",
     "model_name": "CheckboxModel",
     "model_module_version": "1.5.0",
     "state": {
      "_dom_classes": [],
      "_model_module": "@jupyter-widgets/controls",
      "_model_module_version": "1.5.0",
      "_model_name": "CheckboxModel",
      "_view_count": null,
      "_view_module": "@jupyter-widgets/controls",
      "_view_module_version": "1.5.0",
      "_view_name": "CheckboxView",
      "description": "median_house_value",
      "description_tooltip": null,
      "disabled": false,
      "indent": true,
      "layout": "IPY_MODEL_668b83f49d024393bc1e72b60f6c7bb3",
      "style": "IPY_MODEL_d9b6665b47dc4b20b4fb8511f005b0d3",
      "value": false
     }
    },
    "668b83f49d024393bc1e72b60f6c7bb3": {
     "model_module": "@jupyter-widgets/base",
     "model_name": "LayoutModel",
     "model_module_version": "1.2.0",
     "state": {
      "_model_module": "@jupyter-widgets/base",
      "_model_module_version": "1.2.0",
      "_model_name": "LayoutModel",
      "_view_count": null,
      "_view_module": "@jupyter-widgets/base",
      "_view_module_version": "1.2.0",
      "_view_name": "LayoutView",
      "align_content": null,
      "align_items": null,
      "align_self": null,
      "border": null,
      "bottom": null,
      "display": null,
      "flex": null,
      "flex_flow": null,
      "grid_area": null,
      "grid_auto_columns": null,
      "grid_auto_flow": null,
      "grid_auto_rows": null,
      "grid_column": null,
      "grid_gap": null,
      "grid_row": null,
      "grid_template_areas": null,
      "grid_template_columns": null,
      "grid_template_rows": null,
      "height": null,
      "justify_content": null,
      "justify_items": null,
      "left": null,
      "margin": null,
      "max_height": null,
      "max_width": null,
      "min_height": null,
      "min_width": null,
      "object_fit": null,
      "object_position": null,
      "order": null,
      "overflow": null,
      "overflow_x": null,
      "overflow_y": null,
      "padding": null,
      "right": null,
      "top": null,
      "visibility": null,
      "width": null
     }
    },
    "d9b6665b47dc4b20b4fb8511f005b0d3": {
     "model_module": "@jupyter-widgets/controls",
     "model_name": "DescriptionStyleModel",
     "model_module_version": "1.5.0",
     "state": {
      "_model_module": "@jupyter-widgets/controls",
      "_model_module_version": "1.5.0",
      "_model_name": "DescriptionStyleModel",
      "_view_count": null,
      "_view_module": "@jupyter-widgets/base",
      "_view_module_version": "1.2.0",
      "_view_name": "StyleView",
      "description_width": ""
     }
    },
    "315339dfab8a46df8834b858ba1f9a75": {
     "model_module": "@jupyter-widgets/controls",
     "model_name": "CheckboxModel",
     "model_module_version": "1.5.0",
     "state": {
      "_dom_classes": [],
      "_model_module": "@jupyter-widgets/controls",
      "_model_module_version": "1.5.0",
      "_model_name": "CheckboxModel",
      "_view_count": null,
      "_view_module": "@jupyter-widgets/controls",
      "_view_module_version": "1.5.0",
      "_view_name": "CheckboxView",
      "description": "ocean_proximity",
      "description_tooltip": null,
      "disabled": false,
      "indent": true,
      "layout": "IPY_MODEL_7142e3ee67aa46d0a546d522b29e745c",
      "style": "IPY_MODEL_595f80cb15d14168bb0b3eef1f08953b",
      "value": false
     }
    },
    "7142e3ee67aa46d0a546d522b29e745c": {
     "model_module": "@jupyter-widgets/base",
     "model_name": "LayoutModel",
     "model_module_version": "1.2.0",
     "state": {
      "_model_module": "@jupyter-widgets/base",
      "_model_module_version": "1.2.0",
      "_model_name": "LayoutModel",
      "_view_count": null,
      "_view_module": "@jupyter-widgets/base",
      "_view_module_version": "1.2.0",
      "_view_name": "LayoutView",
      "align_content": null,
      "align_items": null,
      "align_self": null,
      "border": null,
      "bottom": null,
      "display": null,
      "flex": null,
      "flex_flow": null,
      "grid_area": null,
      "grid_auto_columns": null,
      "grid_auto_flow": null,
      "grid_auto_rows": null,
      "grid_column": null,
      "grid_gap": null,
      "grid_row": null,
      "grid_template_areas": null,
      "grid_template_columns": null,
      "grid_template_rows": null,
      "height": null,
      "justify_content": null,
      "justify_items": null,
      "left": null,
      "margin": null,
      "max_height": null,
      "max_width": null,
      "min_height": null,
      "min_width": null,
      "object_fit": null,
      "object_position": null,
      "order": null,
      "overflow": null,
      "overflow_x": null,
      "overflow_y": null,
      "padding": null,
      "right": null,
      "top": null,
      "visibility": null,
      "width": null
     }
    },
    "595f80cb15d14168bb0b3eef1f08953b": {
     "model_module": "@jupyter-widgets/controls",
     "model_name": "DescriptionStyleModel",
     "model_module_version": "1.5.0",
     "state": {
      "_model_module": "@jupyter-widgets/controls",
      "_model_module_version": "1.5.0",
      "_model_name": "DescriptionStyleModel",
      "_view_count": null,
      "_view_module": "@jupyter-widgets/base",
      "_view_module_version": "1.2.0",
      "_view_name": "StyleView",
      "description_width": ""
     }
    },
    "725a49cf37e340618d4d0cac5c6639a0": {
     "model_module": "@jupyter-widgets/controls",
     "model_name": "ButtonModel",
     "model_module_version": "1.5.0",
     "state": {
      "_dom_classes": [],
      "_model_module": "@jupyter-widgets/controls",
      "_model_module_version": "1.5.0",
      "_model_name": "ButtonModel",
      "_view_count": null,
      "_view_module": "@jupyter-widgets/controls",
      "_view_module_version": "1.5.0",
      "_view_name": "ButtonView",
      "button_style": "",
      "description": "Actualizar selección",
      "disabled": false,
      "icon": "",
      "layout": "IPY_MODEL_2bf6d9e24c4b4c5db75560473ad4d034",
      "style": "IPY_MODEL_c39454252a8440a28e0971c6831a285b",
      "tooltip": ""
     }
    },
    "2bf6d9e24c4b4c5db75560473ad4d034": {
     "model_module": "@jupyter-widgets/base",
     "model_name": "LayoutModel",
     "model_module_version": "1.2.0",
     "state": {
      "_model_module": "@jupyter-widgets/base",
      "_model_module_version": "1.2.0",
      "_model_name": "LayoutModel",
      "_view_count": null,
      "_view_module": "@jupyter-widgets/base",
      "_view_module_version": "1.2.0",
      "_view_name": "LayoutView",
      "align_content": null,
      "align_items": null,
      "align_self": null,
      "border": null,
      "bottom": null,
      "display": null,
      "flex": null,
      "flex_flow": null,
      "grid_area": null,
      "grid_auto_columns": null,
      "grid_auto_flow": null,
      "grid_auto_rows": null,
      "grid_column": null,
      "grid_gap": null,
      "grid_row": null,
      "grid_template_areas": null,
      "grid_template_columns": null,
      "grid_template_rows": null,
      "height": null,
      "justify_content": null,
      "justify_items": null,
      "left": null,
      "margin": null,
      "max_height": null,
      "max_width": null,
      "min_height": null,
      "min_width": null,
      "object_fit": null,
      "object_position": null,
      "order": null,
      "overflow": null,
      "overflow_x": null,
      "overflow_y": null,
      "padding": null,
      "right": null,
      "top": null,
      "visibility": null,
      "width": null
     }
    },
    "c39454252a8440a28e0971c6831a285b": {
     "model_module": "@jupyter-widgets/controls",
     "model_name": "ButtonStyleModel",
     "model_module_version": "1.5.0",
     "state": {
      "_model_module": "@jupyter-widgets/controls",
      "_model_module_version": "1.5.0",
      "_model_name": "ButtonStyleModel",
      "_view_count": null,
      "_view_module": "@jupyter-widgets/base",
      "_view_module_version": "1.2.0",
      "_view_name": "StyleView",
      "button_color": null,
      "font_weight": ""
     }
    },
    "718f1be158014d399b23db182c20eff7": {
     "model_module": "@jupyter-widgets/output",
     "model_name": "OutputModel",
     "model_module_version": "1.0.0",
     "state": {
      "_dom_classes": [],
      "_model_module": "@jupyter-widgets/output",
      "_model_module_version": "1.0.0",
      "_model_name": "OutputModel",
      "_view_count": null,
      "_view_module": "@jupyter-widgets/output",
      "_view_module_version": "1.0.0",
      "_view_name": "OutputView",
      "layout": "IPY_MODEL_172d4500786c417fa5db61d3527f95a9",
      "msg_id": "",
      "outputs": []
     }
    },
    "172d4500786c417fa5db61d3527f95a9": {
     "model_module": "@jupyter-widgets/base",
     "model_name": "LayoutModel",
     "model_module_version": "1.2.0",
     "state": {
      "_model_module": "@jupyter-widgets/base",
      "_model_module_version": "1.2.0",
      "_model_name": "LayoutModel",
      "_view_count": null,
      "_view_module": "@jupyter-widgets/base",
      "_view_module_version": "1.2.0",
      "_view_name": "LayoutView",
      "align_content": null,
      "align_items": null,
      "align_self": null,
      "border": null,
      "bottom": null,
      "display": null,
      "flex": null,
      "flex_flow": null,
      "grid_area": null,
      "grid_auto_columns": null,
      "grid_auto_flow": null,
      "grid_auto_rows": null,
      "grid_column": null,
      "grid_gap": null,
      "grid_row": null,
      "grid_template_areas": null,
      "grid_template_columns": null,
      "grid_template_rows": null,
      "height": null,
      "justify_content": null,
      "justify_items": null,
      "left": null,
      "margin": null,
      "max_height": null,
      "max_width": null,
      "min_height": null,
      "min_width": null,
      "object_fit": null,
      "object_position": null,
      "order": null,
      "overflow": null,
      "overflow_x": null,
      "overflow_y": null,
      "padding": null,
      "right": null,
      "top": null,
      "visibility": null,
      "width": null
     }
    },
    "f2e78463714e4cc0a5f2aca6bd8ec5f4": {
     "model_module": "@jupyter-widgets/controls",
     "model_name": "DropdownModel",
     "model_module_version": "1.5.0",
     "state": {
      "_dom_classes": [],
      "_model_module": "@jupyter-widgets/controls",
      "_model_module_version": "1.5.0",
      "_model_name": "DropdownModel",
      "_options_labels": [
       "longitude",
       "latitude",
       "housing_median_age",
       "total_rooms",
       "total_bedrooms",
       "population",
       "households",
       "median_income",
       "median_house_value",
       "ocean_proximity"
      ],
      "_view_count": null,
      "_view_module": "@jupyter-widgets/controls",
      "_view_module_version": "1.5.0",
      "_view_name": "DropdownView",
      "description": "Columna:",
      "description_tooltip": null,
      "disabled": false,
      "index": 0,
      "layout": "IPY_MODEL_59b50e4a5dab4b70bae5cb7dc5c8e522",
      "style": "IPY_MODEL_5a7665d81eaf49a88789b4b345d92a35"
     }
    },
    "59b50e4a5dab4b70bae5cb7dc5c8e522": {
     "model_module": "@jupyter-widgets/base",
     "model_name": "LayoutModel",
     "model_module_version": "1.2.0",
     "state": {
      "_model_module": "@jupyter-widgets/base",
      "_model_module_version": "1.2.0",
      "_model_name": "LayoutModel",
      "_view_count": null,
      "_view_module": "@jupyter-widgets/base",
      "_view_module_version": "1.2.0",
      "_view_name": "LayoutView",
      "align_content": null,
      "align_items": null,
      "align_self": null,
      "border": null,
      "bottom": null,
      "display": null,
      "flex": null,
      "flex_flow": null,
      "grid_area": null,
      "grid_auto_columns": null,
      "grid_auto_flow": null,
      "grid_auto_rows": null,
      "grid_column": null,
      "grid_gap": null,
      "grid_row": null,
      "grid_template_areas": null,
      "grid_template_columns": null,
      "grid_template_rows": null,
      "height": null,
      "justify_content": null,
      "justify_items": null,
      "left": null,
      "margin": null,
      "max_height": null,
      "max_width": null,
      "min_height": null,
      "min_width": null,
      "object_fit": null,
      "object_position": null,
      "order": null,
      "overflow": null,
      "overflow_x": null,
      "overflow_y": null,
      "padding": null,
      "right": null,
      "top": null,
      "visibility": null,
      "width": null
     }
    },
    "5a7665d81eaf49a88789b4b345d92a35": {
     "model_module": "@jupyter-widgets/controls",
     "model_name": "DescriptionStyleModel",
     "model_module_version": "1.5.0",
     "state": {
      "_model_module": "@jupyter-widgets/controls",
      "_model_module_version": "1.5.0",
      "_model_name": "DescriptionStyleModel",
      "_view_count": null,
      "_view_module": "@jupyter-widgets/base",
      "_view_module_version": "1.2.0",
      "_view_name": "StyleView",
      "description_width": ""
     }
    },
    "9d8d04c59a834bb4bb72d9377727a165": {
     "model_module": "@jupyter-widgets/controls",
     "model_name": "HTMLModel",
     "model_module_version": "1.5.0",
     "state": {
      "_dom_classes": [],
      "_model_module": "@jupyter-widgets/controls",
      "_model_module_version": "1.5.0",
      "_model_name": "HTMLModel",
      "_view_count": null,
      "_view_module": "@jupyter-widgets/controls",
      "_view_module_version": "1.5.0",
      "_view_name": "HTMLView",
      "description": "",
      "description_tooltip": null,
      "layout": "IPY_MODEL_124e00ff662a45c9a3069769b7d9e3bd",
      "placeholder": "​",
      "style": "IPY_MODEL_e6880aafd9b34829ba7dd4d7ee4feb98",
      "value": ""
     }
    },
    "124e00ff662a45c9a3069769b7d9e3bd": {
     "model_module": "@jupyter-widgets/base",
     "model_name": "LayoutModel",
     "model_module_version": "1.2.0",
     "state": {
      "_model_module": "@jupyter-widgets/base",
      "_model_module_version": "1.2.0",
      "_model_name": "LayoutModel",
      "_view_count": null,
      "_view_module": "@jupyter-widgets/base",
      "_view_module_version": "1.2.0",
      "_view_name": "LayoutView",
      "align_content": null,
      "align_items": null,
      "align_self": null,
      "border": null,
      "bottom": null,
      "display": null,
      "flex": null,
      "flex_flow": null,
      "grid_area": null,
      "grid_auto_columns": null,
      "grid_auto_flow": null,
      "grid_auto_rows": null,
      "grid_column": null,
      "grid_gap": null,
      "grid_row": null,
      "grid_template_areas": null,
      "grid_template_columns": null,
      "grid_template_rows": null,
      "height": null,
      "justify_content": null,
      "justify_items": null,
      "left": null,
      "margin": null,
      "max_height": null,
      "max_width": null,
      "min_height": null,
      "min_width": null,
      "object_fit": null,
      "object_position": null,
      "order": null,
      "overflow": null,
      "overflow_x": null,
      "overflow_y": null,
      "padding": null,
      "right": null,
      "top": null,
      "visibility": null,
      "width": null
     }
    },
    "e6880aafd9b34829ba7dd4d7ee4feb98": {
     "model_module": "@jupyter-widgets/controls",
     "model_name": "DescriptionStyleModel",
     "model_module_version": "1.5.0",
     "state": {
      "_model_module": "@jupyter-widgets/controls",
      "_model_module_version": "1.5.0",
      "_model_name": "DescriptionStyleModel",
      "_view_count": null,
      "_view_module": "@jupyter-widgets/base",
      "_view_module_version": "1.2.0",
      "_view_name": "StyleView",
      "description_width": ""
     }
    }
   }
  }
 },
 "cells": [
  {
   "metadata": {},
   "cell_type": "markdown",
   "source": [
    "# Ciencia de datos y BigData<a class=\"tocSkip\">\n",
    "### Ingenieria Electrónica <a class=\"tocSkip\">\n",
    "### Universidad Popular del Cesar <a class=\"tocSkip\">\n",
    "### Prof.: Jose Ramón Iglesias Gamarra - [https://github.com/joseramoniglesias/](https://github.com/joseramoniglesias/) <a class=\"tocSkip\">\n",
    "  **joseiglesias@unicesar.edu.co**"
   ]
  },
  {
   "metadata": {},
   "cell_type": "markdown",
   "source": [
    "**PROGRAMACIÓN Y ESTADÍSTICA BÁSICA**\n",
    "\n",
    "## **Descripción**\n",
    "\n",
    "En este módulo se abordarán los principios de programación para el manejo de datos desde Python. Además, se estudiarán algunas herramientas para el análisis exploratorio de datos como apoyo a la toma de decisiones informadas."
   ]
  },
  {
   "cell_type": "markdown",
   "source": [
    "## Configuración del entorno de trabajo"
   ],
   "metadata": {
    "id": "4lermI_zXBFR"
   }
  },
  {
   "cell_type": "code",
   "source": [
    "# @title\n",
    "# el comando `git clone <enlace_repositorio>` copia el contenido del repositorio en el directorio de trabajo\n",
    "!git clone https://github.com/joseramoniglesias/EL460_Ciencia_de_datos_y_BigData.git\n",
    "# el comando `cd <carpeta>` cambia el directorio de trabajo\n",
    "# en este caso, dejando el repositorio recién descargado\n",
    "%cd \"/content/EL460_Ciencia_de_datos_y_BigData/\""
   ],
   "metadata": {
    "colab": {
     "base_uri": "https://localhost:8080/"
    },
    "id": "_84wUZiPmGoB",
    "outputId": "588b4ca3-8476-4186-cbc2-52f8f5b5b96b",
    "collapsed": true,
    "cellView": "form"
   },
   "outputs": [],
   "execution_count": null
  },
  {
   "cell_type": "markdown",
   "source": [
    "# **Sesión 1**\n",
    "\n",
    "En esta sesión aprenderemos a manejar datos con pandas, utilizando un dataset de [precios de vivienda en California](https://www.kaggle.com/datasets/camnugent/california-housing-prices) como ejemplo. Nos enfocaremos en explorar el dataset usando las funciones clave como `.head()`, `.info()`, y `.value_counts()`, entre otras.\n"
   ],
   "metadata": {
    "id": "R7j1DAcoa-kl"
   }
  },
  {
   "cell_type": "markdown",
   "source": [
    "## **Importación de Librerías**\n",
    "Lo primero que debemos hacer es importar las librerías necesarias."
   ],
   "metadata": {
    "id": "1TpRjeesKb90"
   }
  },
  {
   "cell_type": "code",
   "source": [
    "import pandas as pd     # manipulación y análisis de datos\n",
    "import numpy as np      # matrices y arreglos multidimensionales, junto con funciones matemáticas\n",
    "import sqlite3          # interactuar con bases de datos SQLite\n",
    "import ipywidgets as widgets # controles interactivos\n",
    "from ipywidgets import interact # controles interactivos"
   ],
   "metadata": {
    "id": "szdzIMIEKuXL",
    "ExecuteTime": {
     "end_time": "2025-01-21T16:02:08.246060Z",
     "start_time": "2025-01-21T16:02:08.229992Z"
    }
   },
   "outputs": [],
   "execution_count": 1
  },
  {
   "cell_type": "markdown",
   "source": [
    "## **Importación y Exportación de Datasets en Diferentes Formatos**\n",
    "\n",
    "Ahora, debemos cargar los datos que vamos a usar en nuestro ejercicio. Los formatos de datos más habituales incluyen:\n",
    "- **CSV (Comma-Separated Values):** Un formato de texto simple en el que los datos se organizan en filas y columnas separadas por comas. Es ampliamente utilizado para intercambiar datos entre aplicaciones, especialmente en hojas de cálculo y bases de datos.\n",
    "\n",
    "- **JSON (JavaScript Object Notation):** Un formato de datos estructurado que organiza la información en pares clave-valor. Es legible tanto para humanos como para máquinas, y es comúnmente utilizado en APIs (Application Programming Interface) y aplicaciones web.\n",
    "\n",
    "- **SQL (Structured Query Language):** No es un formato de archivo en sí, pero se refiere al lenguaje utilizado para interactuar con bases de datos relacionales. Los datos se almacenan en tablas dentro de una base de datos, y se accede a ellos mediante consultas SQL.\n",
    "\n",
    "- **Excel (XLSX/XLS):** Un formato de archivo utilizado por Microsoft Excel para almacenar datos en hojas de cálculo. Soporta tanto datos tabulares como gráficos y permite un almacenamiento más complejo, con fórmulas, filtros y formatos avanzados.\n",
    "\n",
    "Para la manipulación de estos datos en formato tabular, la librería de Python más ampliamente usada es **`pandas`**. Esta cuenta con funciones para leer y guardar datos tabulares en los formatos mencionados.\n",
    "\n",
    "En este caso, tenemos el archivo `/content/curso_IA_CHEC/Modulo1/databases/california_housing.csv`. Para cargar estos datos en formato CSV usamos la función [read_csv()](https://pandas.pydata.org/docs/reference/api/pandas.read_csv.html)\n",
    "\n",
    "Los principales parámetros de esta función son:\n",
    "- **`filepath_or_buffer`**: Ruta o URL del archivo CSV.\n",
    "- **`sep`**: Separador de campos, por defecto `','`.\n",
    "- **`header`**: Fila que contiene los nombres de columnas (por defecto, la primera: `header=0`).\n",
    "- **`names`**: Lista de nombres de columnas si no hay encabezado o si se quiere personalizar.\n",
    "- **`index_col`**: Columna(s) a usar como índice del DataFrame.\n",
    "- **`usecols`**: Columnas a leer, especificadas por nombres o posiciones.\n",
    "- **`dtype`**: Tipos de datos a usar para las columnas.\n",
    "- **`na_values`**: Valores adicionales a considerar como `NaN`.\n",
    "- **`nrows`**: Número de filas a leer.\n",
    "- **`skiprows`**: Filas a omitir al inicio del archivo.\n",
    "- **`parse_dates`**: Columna(s) a interpretar como fechas.\n",
    "\n",
    "En la mayoría de ocasiones los valores por defecto son adecuados así que no hace falta modificarlos.\n",
    "Análogamente, **`pandas`** cuenta con funciones para leer archivos en los formatos anteriormente mencionados: [read_json()](https://pandas.pydata.org/docs/reference/api/pandas.read_json.html), [read_sql()](https://pandas.pydata.org/docs/reference/api/pandas.read_sql.html) y [read_excel()](https://pandas.pydata.org/docs/reference/api/pandas.read_excel.html)\n"
   ],
   "metadata": {
    "id": "ZoMSIGG_bmnH"
   }
  },
  {
   "cell_type": "code",
   "source": [
    "# se cargan los datos en formato csv\n",
    "housing = pd.read_csv('databases/california_housing.csv')"
   ],
   "metadata": {
    "id": "WHPLAKOIYpTW",
    "ExecuteTime": {
     "end_time": "2025-01-21T16:03:48.754554Z",
     "start_time": "2025-01-21T16:03:48.694691Z"
    }
   },
   "outputs": [],
   "execution_count": 2
  },
  {
   "cell_type": "markdown",
   "source": [
    "Por otra parte, se cuenta con funciones para guardar Datasets en los formatos mencionados. Por ejemplo, para guardar en formato CSV se tiene el método [DataFrame.to_csv()](https://pandas.pydata.org/docs/reference/api/pandas.DataFrame.to_csv.html) cuyos principales parámetros son:\n",
    "- **`path_or_buf`**: Ruta o buffer donde se guardará el CSV. Si no se especifica, devuelve el CSV como una cadena.\n",
    "- **`sep`**: Separador de campos, por defecto `','`.\n",
    "- **`index`**: Si incluir o no el índice del DataFrame (por defecto `True`).\n",
    "- **`header`**: Si incluir o no los nombres de las columnas (por defecto `True`).\n",
    "- **`columns`**: Lista de columnas que se desean exportar.\n",
    "- **`na_rep`**: Representación de los valores `NaN` (por defecto, están en blanco).\n",
    "- **`float_format`**: Formato para los valores de punto flotante.\n",
    "- **`date_format`**: Formato para las columnas con fechas.\n",
    "- **`encoding`**: Codificación del archivo resultante (por ejemplo, `'utf-8'`).\n",
    "- **`line_terminator`**: Caracteres que se usarán para terminar las líneas (por defecto `'\\n'`).\n",
    "\n",
    "Y así como este, se tienen métodos para guardar en formato JSON ([DataFrame.to_json()](https://pandas.pydata.org/docs/reference/api/pandas.DataFrame.to_json.html)), SQL ([DataFrame.to_sql()](https://pandas.pydata.org/docs/reference/api/pandas.DataFrame.to_sql.html)) y Excel ([DataFrame.to_excel()](https://pandas.pydata.org/docs/reference/api/pandas.DataFrame.to_excel.html)).\n",
    "\n",
    "Para fines ilustrativos, vamos a guardar el archivo que acabamos de leer en los demás formatos."
   ],
   "metadata": {
    "id": "B_cnNRPkfckp"
   }
  },
  {
   "cell_type": "code",
   "source": [
    "# housing.to_csv('Modulo1/databases/california_housing.csv', index=False)\n",
    "housing.to_json('databases/california_housing.json')\n",
    "housing.to_excel('databases/california_housing.xlsx', index=False)"
   ],
   "metadata": {
    "id": "xi6059ZIQQdN",
    "ExecuteTime": {
     "end_time": "2025-01-21T16:04:08.456234Z",
     "start_time": "2025-01-21T16:04:04.415639Z"
    }
   },
   "outputs": [],
   "execution_count": 4
  },
  {
   "cell_type": "code",
   "source": [
    "# para guardar con SQL primero creamos la base de datos y nos conectamos a esta\n",
    "# con la librería sqlite3\n",
    "conn = sqlite3.connect('databases/california_housing.db')\n",
    "# el método to_sql recibe de primer parámetro el nombre de la tabla, y de segundo\n",
    "# la base de datos\n",
    "housing.to_sql('housing', conn, if_exists='replace', index=False)\n",
    "conn.close()"
   ],
   "metadata": {
    "id": "NQMrDk_MRIiL",
    "ExecuteTime": {
     "end_time": "2025-01-21T16:04:15.146642Z",
     "start_time": "2025-01-21T16:04:15.037023Z"
    }
   },
   "outputs": [],
   "execution_count": 5
  },
  {
   "cell_type": "markdown",
   "source": [
    "Los archivos generados se encuentran en las rutas especificadas:\n",
    "- `/content/EL460_Ciencia_de_datos_y_BigData/databases/california_housing.json`\n",
    "- `/content/EL460_Ciencia_de_datos_y_BigData/databases/california_housing.xlsx`\n",
    "- `/content/EL460_Ciencia_de_datos_y_BigData/databases/california_housing.db`\n",
    "\n",
    "Ahora procedemos a leer estos archivos.\n",
    "\n"
   ],
   "metadata": {
    "id": "Q5WCVCEIShfg"
   }
  },
  {
   "cell_type": "code",
   "source": [
    "housing_json = pd.read_json('databases/california_housing.json')\n",
    "housing_excel = pd.read_excel('databases/california_housing.xlsx')\n",
    "\n",
    "conn = sqlite3.connect('databases/california_housing.db')\n",
    "housing_sql = pd.read_sql(\"SELECT * FROM housing\", conn)\n",
    "conn.close()"
   ],
   "metadata": {
    "id": "gYRLPUfARruI",
    "ExecuteTime": {
     "end_time": "2025-01-21T16:06:03.305493Z",
     "start_time": "2025-01-21T16:05:59.582272Z"
    }
   },
   "outputs": [],
   "execution_count": 6
  },
  {
   "cell_type": "markdown",
   "source": [
    "Si exploramos `housing_json`, `housing_excel` y `housing_sql` podemos ver que los 3 son iguales a `housing`. Durante el desarrollo de esta sesión usaremos solamente este último, por lo que podemos eliminar los otros de la memoria.\n"
   ],
   "metadata": {
    "id": "CF9F29wNS9t-"
   }
  },
  {
   "cell_type": "code",
   "source": [
    "del housing_json, housing_excel, housing_sql"
   ],
   "metadata": {
    "id": "R05RpaJ_Tr6n",
    "ExecuteTime": {
     "end_time": "2025-01-21T16:06:19.070187Z",
     "start_time": "2025-01-21T16:06:19.060380Z"
    }
   },
   "outputs": [],
   "execution_count": 7
  },
  {
   "cell_type": "markdown",
   "source": [
    "## **Exploración Inicial del Dataset con `.head()`**\n",
    "\n",
    "La función `.head()` nos permite visualizar las primeras filas del dataset, facilitando una primera exploración rápida y general de la estructura y el contenido de los datos. Esto es particularmente útil para identificar la naturaleza de las columnas y la calidad de los datos al comenzar un análisis."
   ],
   "metadata": {
    "id": "Cdz2VbYIlgte"
   }
  },
  {
   "cell_type": "code",
   "source": [
    "housing.head(5)"
   ],
   "metadata": {
    "colab": {
     "base_uri": "https://localhost:8080/",
     "height": 206
    },
    "id": "R61Z4kHNluob",
    "outputId": "530ca79f-0053-40da-fb0f-a0326e77521a",
    "ExecuteTime": {
     "end_time": "2025-01-21T16:06:26.326441Z",
     "start_time": "2025-01-21T16:06:26.300889Z"
    }
   },
   "outputs": [
    {
     "data": {
      "text/plain": [
       "   longitude  latitude  housing_median_age  total_rooms  total_bedrooms  \\\n",
       "0    -122.23     37.88                41.0        880.0           129.0   \n",
       "1    -122.22     37.86                21.0       7099.0          1106.0   \n",
       "2    -122.24     37.85                52.0       1467.0           190.0   \n",
       "3    -122.25     37.85                52.0       1274.0           235.0   \n",
       "4    -122.25     37.85                52.0       1627.0           280.0   \n",
       "\n",
       "   population  households  median_income  median_house_value ocean_proximity  \n",
       "0       322.0       126.0         8.3252            452600.0        NEAR BAY  \n",
       "1      2401.0      1138.0         8.3014            358500.0        NEAR BAY  \n",
       "2       496.0       177.0         7.2574            352100.0        NEAR BAY  \n",
       "3       558.0       219.0         5.6431            341300.0        NEAR BAY  \n",
       "4       565.0       259.0         3.8462            342200.0        NEAR BAY  "
      ],
      "text/html": [
       "<div>\n",
       "<style scoped>\n",
       "    .dataframe tbody tr th:only-of-type {\n",
       "        vertical-align: middle;\n",
       "    }\n",
       "\n",
       "    .dataframe tbody tr th {\n",
       "        vertical-align: top;\n",
       "    }\n",
       "\n",
       "    .dataframe thead th {\n",
       "        text-align: right;\n",
       "    }\n",
       "</style>\n",
       "<table border=\"1\" class=\"dataframe\">\n",
       "  <thead>\n",
       "    <tr style=\"text-align: right;\">\n",
       "      <th></th>\n",
       "      <th>longitude</th>\n",
       "      <th>latitude</th>\n",
       "      <th>housing_median_age</th>\n",
       "      <th>total_rooms</th>\n",
       "      <th>total_bedrooms</th>\n",
       "      <th>population</th>\n",
       "      <th>households</th>\n",
       "      <th>median_income</th>\n",
       "      <th>median_house_value</th>\n",
       "      <th>ocean_proximity</th>\n",
       "    </tr>\n",
       "  </thead>\n",
       "  <tbody>\n",
       "    <tr>\n",
       "      <th>0</th>\n",
       "      <td>-122.23</td>\n",
       "      <td>37.88</td>\n",
       "      <td>41.0</td>\n",
       "      <td>880.0</td>\n",
       "      <td>129.0</td>\n",
       "      <td>322.0</td>\n",
       "      <td>126.0</td>\n",
       "      <td>8.3252</td>\n",
       "      <td>452600.0</td>\n",
       "      <td>NEAR BAY</td>\n",
       "    </tr>\n",
       "    <tr>\n",
       "      <th>1</th>\n",
       "      <td>-122.22</td>\n",
       "      <td>37.86</td>\n",
       "      <td>21.0</td>\n",
       "      <td>7099.0</td>\n",
       "      <td>1106.0</td>\n",
       "      <td>2401.0</td>\n",
       "      <td>1138.0</td>\n",
       "      <td>8.3014</td>\n",
       "      <td>358500.0</td>\n",
       "      <td>NEAR BAY</td>\n",
       "    </tr>\n",
       "    <tr>\n",
       "      <th>2</th>\n",
       "      <td>-122.24</td>\n",
       "      <td>37.85</td>\n",
       "      <td>52.0</td>\n",
       "      <td>1467.0</td>\n",
       "      <td>190.0</td>\n",
       "      <td>496.0</td>\n",
       "      <td>177.0</td>\n",
       "      <td>7.2574</td>\n",
       "      <td>352100.0</td>\n",
       "      <td>NEAR BAY</td>\n",
       "    </tr>\n",
       "    <tr>\n",
       "      <th>3</th>\n",
       "      <td>-122.25</td>\n",
       "      <td>37.85</td>\n",
       "      <td>52.0</td>\n",
       "      <td>1274.0</td>\n",
       "      <td>235.0</td>\n",
       "      <td>558.0</td>\n",
       "      <td>219.0</td>\n",
       "      <td>5.6431</td>\n",
       "      <td>341300.0</td>\n",
       "      <td>NEAR BAY</td>\n",
       "    </tr>\n",
       "    <tr>\n",
       "      <th>4</th>\n",
       "      <td>-122.25</td>\n",
       "      <td>37.85</td>\n",
       "      <td>52.0</td>\n",
       "      <td>1627.0</td>\n",
       "      <td>280.0</td>\n",
       "      <td>565.0</td>\n",
       "      <td>259.0</td>\n",
       "      <td>3.8462</td>\n",
       "      <td>342200.0</td>\n",
       "      <td>NEAR BAY</td>\n",
       "    </tr>\n",
       "  </tbody>\n",
       "</table>\n",
       "</div>"
      ]
     },
     "execution_count": 8,
     "metadata": {},
     "output_type": "execute_result"
    }
   ],
   "execution_count": 8
  },
  {
   "cell_type": "markdown",
   "source": [
    "Puedes ajustar el número 5 a cualquier número entero positivo para mostrar más o menos filas según sea necesario. A continuación, puedes seleccionar cuántas filas deseas visualizar en la tabla."
   ],
   "metadata": {
    "id": "VfQKvazQmANK"
   }
  },
  {
   "cell_type": "code",
   "source": [
    "@interact(x=(0, 100, 1))\n",
    "def actualizar(x=5):\n",
    "    # la función display es para que se muestra la tabla al ser usado\n",
    "    # .head dentro de una función\n",
    "    display(housing.head(x))"
   ],
   "metadata": {
    "colab": {
     "base_uri": "https://localhost:8080/",
     "height": 238,
     "referenced_widgets": [
      "64ca579dcd87423fa14ff3a4702c6096",
      "91acb9bb8b1242a1882e9a20ef1c94fa",
      "69ce8cf9af834a258dc89157e18ff816",
      "264231f4a7d74a7a883059529ea7d9c4",
      "707ef38e55f049de90c6951bb4937045",
      "59bf3f95ed1d47e495b29a9a3ee95860",
      "bf2a860692114c00bbc0955f13ba1bbc"
     ]
    },
    "id": "d8qYVA9bqpAp",
    "outputId": "4aed46f9-5230-45ac-c130-701587f7a2e0",
    "ExecuteTime": {
     "end_time": "2025-01-21T16:06:34.086537Z",
     "start_time": "2025-01-21T16:06:34.023085Z"
    }
   },
   "outputs": [
    {
     "data": {
      "text/plain": [
       "interactive(children=(IntSlider(value=5, description='x'), Output()), _dom_classes=('widget-interact',))"
      ],
      "application/vnd.jupyter.widget-view+json": {
       "version_major": 2,
       "version_minor": 0,
       "model_id": "147b4a51555545bcaa206b911ae343ad"
      }
     },
     "metadata": {},
     "output_type": "display_data"
    }
   ],
   "execution_count": 9
  },
  {
   "cell_type": "markdown",
   "source": [
    "## **Información General del Dataset con `.info()`**\n",
    "\n",
    "La función `.info()` nos da un resumen del dataset, incluyendo el número de entradas, los tipos de datos de cada columna y la cantidad de valores nulos. Esto es muy útil para entender la estructura de los datos y posibles problemas de calidad (como valores faltantes)."
   ],
   "metadata": {
    "id": "V5Ltjwlor7eZ"
   }
  },
  {
   "cell_type": "code",
   "source": [
    "housing.info()"
   ],
   "metadata": {
    "colab": {
     "base_uri": "https://localhost:8080/"
    },
    "id": "nKrjzbcswIDO",
    "outputId": "79b91837-3d3d-4b70-96c5-d6cb2dde44a8",
    "ExecuteTime": {
     "end_time": "2025-01-21T16:06:43.321978Z",
     "start_time": "2025-01-21T16:06:43.303056Z"
    }
   },
   "outputs": [
    {
     "name": "stdout",
     "output_type": "stream",
     "text": [
      "<class 'pandas.core.frame.DataFrame'>\n",
      "RangeIndex: 20640 entries, 0 to 20639\n",
      "Data columns (total 10 columns):\n",
      " #   Column              Non-Null Count  Dtype  \n",
      "---  ------              --------------  -----  \n",
      " 0   longitude           20640 non-null  float64\n",
      " 1   latitude            20640 non-null  float64\n",
      " 2   housing_median_age  20640 non-null  float64\n",
      " 3   total_rooms         20640 non-null  float64\n",
      " 4   total_bedrooms      20433 non-null  float64\n",
      " 5   population          20640 non-null  float64\n",
      " 6   households          20640 non-null  float64\n",
      " 7   median_income       20640 non-null  float64\n",
      " 8   median_house_value  20640 non-null  float64\n",
      " 9   ocean_proximity     20640 non-null  object \n",
      "dtypes: float64(9), object(1)\n",
      "memory usage: 1.6+ MB\n"
     ]
    }
   ],
   "execution_count": 10
  },
  {
   "cell_type": "markdown",
   "source": [
    "## **Análisis de Frecuencia con .value_counts()**\n",
    "\n",
    "La función `.value_counts()` es útil para analizar la frecuencia de los valores en una columna específica. Por ejemplo, podemos ver cuántas veces aparece cada valor. Por ejemplo, a continuación se presenta cómo hacer el análisis sobre `ocean_proximity`:"
   ],
   "metadata": {
    "id": "APfP03Ity5a7"
   }
  },
  {
   "cell_type": "code",
   "source": [
    "housing[\"ocean_proximity\"].value_counts()"
   ],
   "metadata": {
    "colab": {
     "base_uri": "https://localhost:8080/",
     "height": 272
    },
    "id": "aMw5j3wHzBVy",
    "outputId": "9cc1698b-b31e-4f50-eca8-ae6073303bf0",
    "ExecuteTime": {
     "end_time": "2025-01-21T16:06:51.728561Z",
     "start_time": "2025-01-21T16:06:51.707179Z"
    }
   },
   "outputs": [
    {
     "data": {
      "text/plain": [
       "ocean_proximity\n",
       "<1H OCEAN     9136\n",
       "INLAND        6551\n",
       "NEAR OCEAN    2658\n",
       "NEAR BAY      2290\n",
       "ISLAND           5\n",
       "Name: count, dtype: int64"
      ]
     },
     "execution_count": 11,
     "metadata": {},
     "output_type": "execute_result"
    }
   ],
   "execution_count": 11
  },
  {
   "cell_type": "markdown",
   "source": [
    "Esto nos dice que la proximidad al óceano más comun es **<1H OCEAN**. Puedes cambiar el argumento `ocean_proximity` por cualquier columna. A continuación, puedes seleccionar una columna para ver los 10 elementos más frecuentes de ella."
   ],
   "metadata": {
    "id": "BSP8hE_00CLC"
   }
  },
  {
   "cell_type": "code",
   "source": [
    "# Función para mostrar el conteo de valores únicos en la columna seleccionada\n",
    "def al_cambiar_columna(cambio):\n",
    "    columna = cambio if isinstance(cambio, str) else cambio.new\n",
    "    conteo_valores = housing[columna].value_counts()\n",
    "    # Limitar los resultados a los primeros 10 conteos\n",
    "    conteo_limitado = conteo_valores.head(10)\n",
    "    # Convertir los conteos limitados a HTML para mostrar en el widget\n",
    "    etiqueta_resultado.value = conteo_limitado.to_frame().to_html(classes='table table-striped', border=0)\n",
    "\n",
    "\n",
    "# Crear un menú desplegable con los nombres de las columnas\n",
    "desplegable_columnas = widgets.Dropdown(\n",
    "    options=housing.columns,\n",
    "    value=housing.columns[0],  # Valor predeterminado\n",
    "    description='Columna:',\n",
    ")\n",
    "\n",
    "# Crear una etiqueta para mostrar el resultado en formato HTML\n",
    "etiqueta_resultado = widgets.HTML(value='')\n",
    "\n",
    "al_cambiar_columna(desplegable_columnas.value)\n",
    "# Enlazar la función con el cambio en el menú desplegable\n",
    "desplegable_columnas.observe(al_cambiar_columna, names='value')\n",
    "\n",
    "# Mostrar el menú desplegable y la etiqueta\n",
    "display(desplegable_columnas, etiqueta_resultado)"
   ],
   "metadata": {
    "colab": {
     "base_uri": "https://localhost:8080/",
     "height": 544,
     "referenced_widgets": [
      "2b9a842cfa934780a78e42ae656e0a4e",
      "10355c3ae5c84c3cb86793bddabecf49",
      "b96ec572a3354fea8783e990f2f0eba0",
      "1b5229fe6b50408d80c71a927a5ec3c3",
      "81979adda852422597a8c886d392d734",
      "8c50d681da8a43e386a1c2c8f0f3355c"
     ]
    },
    "id": "5dvzqvEkilgv",
    "outputId": "b9cedcd7-fa2b-4832-e1f3-89d76f92fa65",
    "ExecuteTime": {
     "end_time": "2025-01-21T16:07:01.826677Z",
     "start_time": "2025-01-21T16:07:01.801106Z"
    }
   },
   "outputs": [
    {
     "data": {
      "text/plain": [
       "Dropdown(description='Columna:', options=('longitude', 'latitude', 'housing_median_age', 'total_rooms', 'total…"
      ],
      "application/vnd.jupyter.widget-view+json": {
       "version_major": 2,
       "version_minor": 0,
       "model_id": "bea62a7949744718a7c66a06dd3f9ac3"
      }
     },
     "metadata": {},
     "output_type": "display_data"
    },
    {
     "data": {
      "text/plain": [
       "HTML(value='<table class=\"dataframe table table-striped\">\\n  <thead>\\n    <tr style=\"text-align: right;\">\\n   …"
      ],
      "application/vnd.jupyter.widget-view+json": {
       "version_major": 2,
       "version_minor": 0,
       "model_id": "fd12585a5d05441bb972f61341b47b35"
      }
     },
     "metadata": {},
     "output_type": "display_data"
    }
   ],
   "execution_count": 12
  },
  {
   "cell_type": "markdown",
   "source": [
    "## **Indexación Básica**"
   ],
   "metadata": {
    "id": "1hFut3uoOoV3"
   }
  },
  {
   "cell_type": "markdown",
   "source": [
    "* Podemos solo ver columnas de nuestro interés especificándolas en el DataFrame"
   ],
   "metadata": {
    "id": "0hBqRXK3RnVr"
   }
  },
  {
   "cell_type": "code",
   "source": [
    "housing[['population', 'median_house_value']]"
   ],
   "metadata": {
    "colab": {
     "base_uri": "https://localhost:8080/",
     "height": 424
    },
    "id": "kklETbobSUE9",
    "outputId": "7f2c6ee7-67e3-4de7-f22a-24f803279b71",
    "ExecuteTime": {
     "end_time": "2025-01-21T16:07:14.592905Z",
     "start_time": "2025-01-21T16:07:14.561680Z"
    }
   },
   "outputs": [
    {
     "data": {
      "text/plain": [
       "       population  median_house_value\n",
       "0           322.0            452600.0\n",
       "1          2401.0            358500.0\n",
       "2           496.0            352100.0\n",
       "3           558.0            341300.0\n",
       "4           565.0            342200.0\n",
       "...           ...                 ...\n",
       "20635       845.0             78100.0\n",
       "20636       356.0             77100.0\n",
       "20637      1007.0             92300.0\n",
       "20638       741.0             84700.0\n",
       "20639      1387.0             89400.0\n",
       "\n",
       "[20640 rows x 2 columns]"
      ],
      "text/html": [
       "<div>\n",
       "<style scoped>\n",
       "    .dataframe tbody tr th:only-of-type {\n",
       "        vertical-align: middle;\n",
       "    }\n",
       "\n",
       "    .dataframe tbody tr th {\n",
       "        vertical-align: top;\n",
       "    }\n",
       "\n",
       "    .dataframe thead th {\n",
       "        text-align: right;\n",
       "    }\n",
       "</style>\n",
       "<table border=\"1\" class=\"dataframe\">\n",
       "  <thead>\n",
       "    <tr style=\"text-align: right;\">\n",
       "      <th></th>\n",
       "      <th>population</th>\n",
       "      <th>median_house_value</th>\n",
       "    </tr>\n",
       "  </thead>\n",
       "  <tbody>\n",
       "    <tr>\n",
       "      <th>0</th>\n",
       "      <td>322.0</td>\n",
       "      <td>452600.0</td>\n",
       "    </tr>\n",
       "    <tr>\n",
       "      <th>1</th>\n",
       "      <td>2401.0</td>\n",
       "      <td>358500.0</td>\n",
       "    </tr>\n",
       "    <tr>\n",
       "      <th>2</th>\n",
       "      <td>496.0</td>\n",
       "      <td>352100.0</td>\n",
       "    </tr>\n",
       "    <tr>\n",
       "      <th>3</th>\n",
       "      <td>558.0</td>\n",
       "      <td>341300.0</td>\n",
       "    </tr>\n",
       "    <tr>\n",
       "      <th>4</th>\n",
       "      <td>565.0</td>\n",
       "      <td>342200.0</td>\n",
       "    </tr>\n",
       "    <tr>\n",
       "      <th>...</th>\n",
       "      <td>...</td>\n",
       "      <td>...</td>\n",
       "    </tr>\n",
       "    <tr>\n",
       "      <th>20635</th>\n",
       "      <td>845.0</td>\n",
       "      <td>78100.0</td>\n",
       "    </tr>\n",
       "    <tr>\n",
       "      <th>20636</th>\n",
       "      <td>356.0</td>\n",
       "      <td>77100.0</td>\n",
       "    </tr>\n",
       "    <tr>\n",
       "      <th>20637</th>\n",
       "      <td>1007.0</td>\n",
       "      <td>92300.0</td>\n",
       "    </tr>\n",
       "    <tr>\n",
       "      <th>20638</th>\n",
       "      <td>741.0</td>\n",
       "      <td>84700.0</td>\n",
       "    </tr>\n",
       "    <tr>\n",
       "      <th>20639</th>\n",
       "      <td>1387.0</td>\n",
       "      <td>89400.0</td>\n",
       "    </tr>\n",
       "  </tbody>\n",
       "</table>\n",
       "<p>20640 rows × 2 columns</p>\n",
       "</div>"
      ]
     },
     "execution_count": 13,
     "metadata": {},
     "output_type": "execute_result"
    }
   ],
   "execution_count": 13
  },
  {
   "cell_type": "code",
   "source": [
    "print(\"Selecciona las columnas que sean de tu interés para visualizar.\")\n",
    "\n",
    "# Crear casillas de verificación para seleccionar columnas\n",
    "casillas = [widgets.Checkbox(value=False, description=col) for col in housing.columns]\n",
    "\n",
    "# Crear un área de salida para mostrar el DataFrame\n",
    "salida = widgets.Output()\n",
    "\n",
    "# Función para mostrar las columnas seleccionadas\n",
    "def mostrar_columnas(b):\n",
    "    with salida:\n",
    "        # Limpiar el área de salida\n",
    "        salida.clear_output()\n",
    "        # Obtener las columnas seleccionadas\n",
    "        columnas_seleccionadas = [col.description for col in casillas if col.value]\n",
    "        if columnas_seleccionadas:\n",
    "            # Mostrar DataFrame filtrado\n",
    "            display(housing[columnas_seleccionadas])\n",
    "        else:\n",
    "            print(\"Selecciona al menos una columna para mostrar el DataFrame.\")\n",
    "\n",
    "# Crear un botón para actualizar la selección\n",
    "boton_actualizar = widgets.Button(description=\"Actualizar selección\")\n",
    "boton_actualizar.on_click(mostrar_columnas)\n",
    "\n",
    "# Mostrar casillas y botón\n",
    "display(*casillas)\n",
    "display(boton_actualizar)\n",
    "\n",
    "# Mostrar el área de salida\n",
    "display(salida)"
   ],
   "metadata": {
    "colab": {
     "base_uri": "https://localhost:8080/",
     "height": 369,
     "referenced_widgets": [
      "27aca8fb3b0c43e7a9223061e62e1a99",
      "6234f9bb23794d5e8dfa26908f10d6d0",
      "a31973dd49ee49dcaae9f7299e9ba6f5",
      "bf60c8002d9a46fcbdbdf3de4427a0f1",
      "c0221d9dd8774ec783de8d310fae2643",
      "b59c6b1149094ffc90e929f0d6df090c",
      "364c8893d40b4955bb45c9910b3de594",
      "2720513947e84230885728f7e42c29d8",
      "d05083cbcbf946ffaed135b2b9b0347c",
      "ab2abc96e54440ee8446875507406ca5",
      "338dafe8540f4d4bab32419917df557c",
      "d92f6013c6fc4882aa5a22ca1f8e3224",
      "a049392f6f3048749ea787e026c6917c",
      "ba4c68f278ae48549ba02edf5d3d825b",
      "4367eeb42fab4c44a61414f7ec636c3b",
      "8323d886ccfb45428335fbfb7174b0f1",
      "779b7cad7b884e5d94d878b094bff2ca",
      "599fb96792d546c28a7c136991eb9488",
      "55edf00d4d454262920b06e801a5dd6f",
      "a2a031802659496a933046a817b2aa84",
      "d2d7e8271aca4ec39fe75c2d5f7f0744",
      "ee710701a1fd44e7b7b61a459ede403b",
      "2c768b5ac99a4b2a94bd0958cba72391",
      "b51a548d988b4ea8bb6a1de599f0cbf9",
      "7fd45d9e57e34ecba6263914776d5b29",
      "de8a99f3f9a140389d1ed704b7038f80",
      "aa97f81e74aa4126939965e383b39b02",
      "a34ba3d821054417936bd859a496e59a",
      "0317aecc768f425eb934a284ef4be344",
      "e98caebaa82b4133b0369bee4ae1315c",
      "459f26399d574121b3fcaa17a3c24ad1",
      "1cf1a8a64945457581be18fd80c4e3c4",
      "65b28ccf26324398aa0170896f4babe8",
      "633649b047894e75985180da1a9201d4",
      "5662d4a0f3fe4f8e8a2ff6f729ae80db"
     ]
    },
    "id": "IOC4LwvKSDvV",
    "outputId": "c483c8f8-0538-4aa4-97bb-a6e311dc10b8",
    "ExecuteTime": {
     "end_time": "2025-01-21T16:07:21.875541Z",
     "start_time": "2025-01-21T16:07:21.786806Z"
    }
   },
   "outputs": [
    {
     "name": "stdout",
     "output_type": "stream",
     "text": [
      "Selecciona las columnas que sean de tu interés para visualizar.\n"
     ]
    },
    {
     "data": {
      "text/plain": [
       "Checkbox(value=False, description='longitude')"
      ],
      "application/vnd.jupyter.widget-view+json": {
       "version_major": 2,
       "version_minor": 0,
       "model_id": "a75b65fb574e443ba116baab1b4a78fb"
      }
     },
     "metadata": {},
     "output_type": "display_data"
    },
    {
     "data": {
      "text/plain": [
       "Checkbox(value=False, description='latitude')"
      ],
      "application/vnd.jupyter.widget-view+json": {
       "version_major": 2,
       "version_minor": 0,
       "model_id": "a4ab31dae8f445109715d86dbdb1d226"
      }
     },
     "metadata": {},
     "output_type": "display_data"
    },
    {
     "data": {
      "text/plain": [
       "Checkbox(value=False, description='housing_median_age')"
      ],
      "application/vnd.jupyter.widget-view+json": {
       "version_major": 2,
       "version_minor": 0,
       "model_id": "719e54862f9c465899bc27da05591c0b"
      }
     },
     "metadata": {},
     "output_type": "display_data"
    },
    {
     "data": {
      "text/plain": [
       "Checkbox(value=False, description='total_rooms')"
      ],
      "application/vnd.jupyter.widget-view+json": {
       "version_major": 2,
       "version_minor": 0,
       "model_id": "d97d4a42de854e57900bd64eeea1a586"
      }
     },
     "metadata": {},
     "output_type": "display_data"
    },
    {
     "data": {
      "text/plain": [
       "Checkbox(value=False, description='total_bedrooms')"
      ],
      "application/vnd.jupyter.widget-view+json": {
       "version_major": 2,
       "version_minor": 0,
       "model_id": "8813bc9ed9ee4f37a263f24b8d8ca77e"
      }
     },
     "metadata": {},
     "output_type": "display_data"
    },
    {
     "data": {
      "text/plain": [
       "Checkbox(value=False, description='population')"
      ],
      "application/vnd.jupyter.widget-view+json": {
       "version_major": 2,
       "version_minor": 0,
       "model_id": "177cefac50cb4eb690080d13a0e49121"
      }
     },
     "metadata": {},
     "output_type": "display_data"
    },
    {
     "data": {
      "text/plain": [
       "Checkbox(value=False, description='households')"
      ],
      "application/vnd.jupyter.widget-view+json": {
       "version_major": 2,
       "version_minor": 0,
       "model_id": "3921f2644bf3426981e930b1828401d0"
      }
     },
     "metadata": {},
     "output_type": "display_data"
    },
    {
     "data": {
      "text/plain": [
       "Checkbox(value=False, description='median_income')"
      ],
      "application/vnd.jupyter.widget-view+json": {
       "version_major": 2,
       "version_minor": 0,
       "model_id": "2640f145cc7840c8943f85969f31af62"
      }
     },
     "metadata": {},
     "output_type": "display_data"
    },
    {
     "data": {
      "text/plain": [
       "Checkbox(value=False, description='median_house_value')"
      ],
      "application/vnd.jupyter.widget-view+json": {
       "version_major": 2,
       "version_minor": 0,
       "model_id": "3e2db7bb3a364427a45458c1c86042bf"
      }
     },
     "metadata": {},
     "output_type": "display_data"
    },
    {
     "data": {
      "text/plain": [
       "Checkbox(value=False, description='ocean_proximity')"
      ],
      "application/vnd.jupyter.widget-view+json": {
       "version_major": 2,
       "version_minor": 0,
       "model_id": "88f1f28de8a14935b5c57c543535bccc"
      }
     },
     "metadata": {},
     "output_type": "display_data"
    },
    {
     "data": {
      "text/plain": [
       "Button(description='Actualizar selección', style=ButtonStyle())"
      ],
      "application/vnd.jupyter.widget-view+json": {
       "version_major": 2,
       "version_minor": 0,
       "model_id": "7482462808dc483194ea0b2c504b40e0"
      }
     },
     "metadata": {},
     "output_type": "display_data"
    },
    {
     "data": {
      "text/plain": [
       "Output()"
      ],
      "application/vnd.jupyter.widget-view+json": {
       "version_major": 2,
       "version_minor": 0,
       "model_id": "2bd0260f0a5544acb6766ceeb8d2577e"
      }
     },
     "metadata": {},
     "output_type": "display_data"
    }
   ],
   "execution_count": 14
  },
  {
   "cell_type": "markdown",
   "source": [
    "\n",
    "\n",
    "* `.index` proporciona los índices del DataFrame.\n",
    "\n",
    "  El índice de un DataFrame es una serie de etiquetas que identifican cada fila. Las etiquetas pueden ser números enteros, cadenas o cualquier otro tipo hash. El índice se utiliza para el acceso y la alineación basados ​​en etiquetas, y se puede acceder a él o modificarlo mediante este atributo"
   ],
   "metadata": {
    "id": "LRaDJI_AO_Ah"
   }
  },
  {
   "cell_type": "code",
   "source": [
    "housing.index"
   ],
   "metadata": {
    "colab": {
     "base_uri": "https://localhost:8080/"
    },
    "id": "3sO5kVedO-ha",
    "outputId": "2ea8b10e-053e-4c66-8a28-3f1992d1863c",
    "ExecuteTime": {
     "end_time": "2025-01-21T16:08:00.084319Z",
     "start_time": "2025-01-21T16:08:00.076178Z"
    }
   },
   "outputs": [
    {
     "data": {
      "text/plain": [
       "RangeIndex(start=0, stop=20640, step=1)"
      ]
     },
     "execution_count": 15,
     "metadata": {},
     "output_type": "execute_result"
    }
   ],
   "execution_count": 15
  },
  {
   "cell_type": "markdown",
   "source": [
    "En este caso, cada entrada (fila) está representada por un número del 0 al 16999 (no se cuenta el final)."
   ],
   "metadata": {
    "id": "KxsDkfG4PqDE"
   }
  },
  {
   "cell_type": "code",
   "source": [
    "housing.index[0] # el índice del elemento 0 es 0"
   ],
   "metadata": {
    "colab": {
     "base_uri": "https://localhost:8080/"
    },
    "outputId": "80834570-7c10-42a9-f356-cf2886874085",
    "id": "CF8AlLGvQIAB",
    "ExecuteTime": {
     "end_time": "2025-01-21T16:08:06.213553Z",
     "start_time": "2025-01-21T16:08:06.191550Z"
    }
   },
   "outputs": [
    {
     "data": {
      "text/plain": [
       "0"
      ]
     },
     "execution_count": 16,
     "metadata": {},
     "output_type": "execute_result"
    }
   ],
   "execution_count": 16
  },
  {
   "cell_type": "code",
   "source": [
    "housing.index[455] # el índice del elemento 455 es 455"
   ],
   "metadata": {
    "colab": {
     "base_uri": "https://localhost:8080/"
    },
    "id": "jNLRyUEZP8g1",
    "outputId": "317aa4ea-d3e2-4061-94df-985c49d7caec",
    "ExecuteTime": {
     "end_time": "2025-01-21T16:08:11.892568Z",
     "start_time": "2025-01-21T16:08:11.882504Z"
    }
   },
   "outputs": [
    {
     "data": {
      "text/plain": [
       "455"
      ]
     },
     "execution_count": 17,
     "metadata": {},
     "output_type": "execute_result"
    }
   ],
   "execution_count": 17
  },
  {
   "cell_type": "markdown",
   "source": [
    "* `.loc` nos permite seleccionar unas filas y/o unas muestras en específico.\n",
    "\n",
    "  Por ejemplo, para seleccionar las filas 0, 4 y 5:"
   ],
   "metadata": {
    "id": "nyi8M1hkP3op"
   }
  },
  {
   "cell_type": "code",
   "source": [
    "housing.loc[[0,4,5]]"
   ],
   "metadata": {
    "colab": {
     "base_uri": "https://localhost:8080/",
     "height": 143
    },
    "id": "ZF4Cw7VvPpB_",
    "outputId": "a1ef7b2f-3f70-46a0-fd35-5af46d41481a",
    "ExecuteTime": {
     "end_time": "2025-01-21T16:08:14.699430Z",
     "start_time": "2025-01-21T16:08:14.670451Z"
    }
   },
   "outputs": [
    {
     "data": {
      "text/plain": [
       "   longitude  latitude  housing_median_age  total_rooms  total_bedrooms  \\\n",
       "0    -122.23     37.88                41.0        880.0           129.0   \n",
       "4    -122.25     37.85                52.0       1627.0           280.0   \n",
       "5    -122.25     37.85                52.0        919.0           213.0   \n",
       "\n",
       "   population  households  median_income  median_house_value ocean_proximity  \n",
       "0       322.0       126.0         8.3252            452600.0        NEAR BAY  \n",
       "4       565.0       259.0         3.8462            342200.0        NEAR BAY  \n",
       "5       413.0       193.0         4.0368            269700.0        NEAR BAY  "
      ],
      "text/html": [
       "<div>\n",
       "<style scoped>\n",
       "    .dataframe tbody tr th:only-of-type {\n",
       "        vertical-align: middle;\n",
       "    }\n",
       "\n",
       "    .dataframe tbody tr th {\n",
       "        vertical-align: top;\n",
       "    }\n",
       "\n",
       "    .dataframe thead th {\n",
       "        text-align: right;\n",
       "    }\n",
       "</style>\n",
       "<table border=\"1\" class=\"dataframe\">\n",
       "  <thead>\n",
       "    <tr style=\"text-align: right;\">\n",
       "      <th></th>\n",
       "      <th>longitude</th>\n",
       "      <th>latitude</th>\n",
       "      <th>housing_median_age</th>\n",
       "      <th>total_rooms</th>\n",
       "      <th>total_bedrooms</th>\n",
       "      <th>population</th>\n",
       "      <th>households</th>\n",
       "      <th>median_income</th>\n",
       "      <th>median_house_value</th>\n",
       "      <th>ocean_proximity</th>\n",
       "    </tr>\n",
       "  </thead>\n",
       "  <tbody>\n",
       "    <tr>\n",
       "      <th>0</th>\n",
       "      <td>-122.23</td>\n",
       "      <td>37.88</td>\n",
       "      <td>41.0</td>\n",
       "      <td>880.0</td>\n",
       "      <td>129.0</td>\n",
       "      <td>322.0</td>\n",
       "      <td>126.0</td>\n",
       "      <td>8.3252</td>\n",
       "      <td>452600.0</td>\n",
       "      <td>NEAR BAY</td>\n",
       "    </tr>\n",
       "    <tr>\n",
       "      <th>4</th>\n",
       "      <td>-122.25</td>\n",
       "      <td>37.85</td>\n",
       "      <td>52.0</td>\n",
       "      <td>1627.0</td>\n",
       "      <td>280.0</td>\n",
       "      <td>565.0</td>\n",
       "      <td>259.0</td>\n",
       "      <td>3.8462</td>\n",
       "      <td>342200.0</td>\n",
       "      <td>NEAR BAY</td>\n",
       "    </tr>\n",
       "    <tr>\n",
       "      <th>5</th>\n",
       "      <td>-122.25</td>\n",
       "      <td>37.85</td>\n",
       "      <td>52.0</td>\n",
       "      <td>919.0</td>\n",
       "      <td>213.0</td>\n",
       "      <td>413.0</td>\n",
       "      <td>193.0</td>\n",
       "      <td>4.0368</td>\n",
       "      <td>269700.0</td>\n",
       "      <td>NEAR BAY</td>\n",
       "    </tr>\n",
       "  </tbody>\n",
       "</table>\n",
       "</div>"
      ]
     },
     "execution_count": 18,
     "metadata": {},
     "output_type": "execute_result"
    }
   ],
   "execution_count": 18
  },
  {
   "cell_type": "markdown",
   "source": [
    "Por otro lado, también podemos seleccionar cuáles son las columnas que queremos ver de las filas especificadas. Por ejemplo,  seleccionemos solo las columnas de estas que nos dan la posición geográfica (`longitude` y `latitude`):"
   ],
   "metadata": {
    "id": "-CGH4iuvQsST"
   }
  },
  {
   "cell_type": "code",
   "source": [
    "housing.loc[[0,4,5],['longitude', 'latitude']]"
   ],
   "metadata": {
    "colab": {
     "base_uri": "https://localhost:8080/",
     "height": 143
    },
    "id": "slJA_P8bQmtj",
    "outputId": "b50a2bf6-510b-4c5b-f7da-6ff21c162364",
    "ExecuteTime": {
     "end_time": "2025-01-21T16:08:23.597595Z",
     "start_time": "2025-01-21T16:08:23.578158Z"
    }
   },
   "outputs": [
    {
     "data": {
      "text/plain": [
       "   longitude  latitude\n",
       "0    -122.23     37.88\n",
       "4    -122.25     37.85\n",
       "5    -122.25     37.85"
      ],
      "text/html": [
       "<div>\n",
       "<style scoped>\n",
       "    .dataframe tbody tr th:only-of-type {\n",
       "        vertical-align: middle;\n",
       "    }\n",
       "\n",
       "    .dataframe tbody tr th {\n",
       "        vertical-align: top;\n",
       "    }\n",
       "\n",
       "    .dataframe thead th {\n",
       "        text-align: right;\n",
       "    }\n",
       "</style>\n",
       "<table border=\"1\" class=\"dataframe\">\n",
       "  <thead>\n",
       "    <tr style=\"text-align: right;\">\n",
       "      <th></th>\n",
       "      <th>longitude</th>\n",
       "      <th>latitude</th>\n",
       "    </tr>\n",
       "  </thead>\n",
       "  <tbody>\n",
       "    <tr>\n",
       "      <th>0</th>\n",
       "      <td>-122.23</td>\n",
       "      <td>37.88</td>\n",
       "    </tr>\n",
       "    <tr>\n",
       "      <th>4</th>\n",
       "      <td>-122.25</td>\n",
       "      <td>37.85</td>\n",
       "    </tr>\n",
       "    <tr>\n",
       "      <th>5</th>\n",
       "      <td>-122.25</td>\n",
       "      <td>37.85</td>\n",
       "    </tr>\n",
       "  </tbody>\n",
       "</table>\n",
       "</div>"
      ]
     },
     "execution_count": 19,
     "metadata": {},
     "output_type": "execute_result"
    }
   ],
   "execution_count": 19
  },
  {
   "cell_type": "code",
   "source": [
    "# @title\n",
    "\n",
    "print(\"Selecciona las columnas que te interesan ver de estos datos.\")\n",
    "\n",
    "# Crear checkboxes para seleccionar columnas\n",
    "checkboxes = [widgets.Checkbox(value=False, description=col) for col in housing.columns]\n",
    "\n",
    "# Crear un área de salida para mostrar el DataFrame\n",
    "output = widgets.Output()\n",
    "\n",
    "# Función para mostrar las columnas seleccionadas\n",
    "def mostrar_columnas(b):\n",
    "    with output:\n",
    "        # Limpiar el área de salida\n",
    "        output.clear_output()\n",
    "        # Obtener las columnas seleccionadas\n",
    "        columnas_seleccionadas = [col.description for col in checkboxes if col.value]\n",
    "        if columnas_seleccionadas:\n",
    "            # Mostrar DataFrame filtrado\n",
    "            display(housing.loc[[0,4,5],columnas_seleccionadas])\n",
    "        else:\n",
    "            display(\"Selecciona al menos una columna para mostrar el DataFrame.\")\n",
    "\n",
    "# Crear un botón para actualizar la selección\n",
    "boton = widgets.Button(description=\"Actualizar selección\")\n",
    "boton.on_click(mostrar_columnas)\n",
    "\n",
    "# Mostrar checkboxes y botón\n",
    "display(*checkboxes)\n",
    "display(boton)\n",
    "\n",
    "# Mostrar el área de salida\n",
    "display(output)"
   ],
   "metadata": {
    "id": "Cmj3G9PI9a5j",
    "colab": {
     "base_uri": "https://localhost:8080/",
     "height": 369,
     "referenced_widgets": [
      "384598539f414277a07bcba4f4f0d75e",
      "3adfdbcad6a8494fbcf97209c9c1968b",
      "388c81200cf040e0bf0a763b2b741343",
      "73c66b94aca4423f921143ebb301b87d",
      "f40b4eb167514a0c8b40829e37bf3c45",
      "58e1167775b244039d64473d3246b5d6",
      "26ede90b40f44740a2c6f1d5ba36d7cb",
      "b89c57dfa4db4537b613d1cb31c789ef",
      "df2c109c015e4e159f16b03ab02e9056",
      "ce327dadba124ec3b63d603d683baaf8",
      "9f7f0dfff5fb412fa70cd46c05804e56",
      "5ee332eeabda4772821e43f38d831e93",
      "9e9c9e0ff6414e6998a33a7764a4b9f9",
      "abbc19560be043bbaf2381b51d6dff2a",
      "4066fef215db4e51912fa82765f99096",
      "a88e6e5210f34df0902397f1319a5c41",
      "a646d31969b04087b391a51448882454",
      "3bf68033fa104ad884e0167bac596840",
      "f116422cec7845bea6d4723f772deb9c",
      "879ffb8ea5b84949a925b1a917434f43",
      "f33bc4eeea794552a11dbc46c9561c69",
      "0941dc2b1bf744a3b3b036f8930b3f56",
      "5307137d9d08447ab2ac2496f6a65ef9",
      "637ca78a230347c9a0bea61b5730c175",
      "374b335f5d144a6fbc7c8f15a22f51fb",
      "668b83f49d024393bc1e72b60f6c7bb3",
      "d9b6665b47dc4b20b4fb8511f005b0d3",
      "315339dfab8a46df8834b858ba1f9a75",
      "7142e3ee67aa46d0a546d522b29e745c",
      "595f80cb15d14168bb0b3eef1f08953b",
      "725a49cf37e340618d4d0cac5c6639a0",
      "2bf6d9e24c4b4c5db75560473ad4d034",
      "c39454252a8440a28e0971c6831a285b",
      "718f1be158014d399b23db182c20eff7",
      "172d4500786c417fa5db61d3527f95a9"
     ]
    },
    "cellView": "form",
    "outputId": "df4b4108-03f4-4c93-b92a-558f04817042",
    "ExecuteTime": {
     "end_time": "2025-01-21T16:08:30.925604Z",
     "start_time": "2025-01-21T16:08:30.843786Z"
    }
   },
   "outputs": [
    {
     "name": "stdout",
     "output_type": "stream",
     "text": [
      "Selecciona las columnas que te interesan ver de estos datos.\n"
     ]
    },
    {
     "data": {
      "text/plain": [
       "Checkbox(value=False, description='longitude')"
      ],
      "application/vnd.jupyter.widget-view+json": {
       "version_major": 2,
       "version_minor": 0,
       "model_id": "8584192a6b9c46c589febf88eca238e7"
      }
     },
     "metadata": {},
     "output_type": "display_data"
    },
    {
     "data": {
      "text/plain": [
       "Checkbox(value=False, description='latitude')"
      ],
      "application/vnd.jupyter.widget-view+json": {
       "version_major": 2,
       "version_minor": 0,
       "model_id": "b9566a9c78af4055b3ada5bedc224368"
      }
     },
     "metadata": {},
     "output_type": "display_data"
    },
    {
     "data": {
      "text/plain": [
       "Checkbox(value=False, description='housing_median_age')"
      ],
      "application/vnd.jupyter.widget-view+json": {
       "version_major": 2,
       "version_minor": 0,
       "model_id": "227626465e904542a935ba9cf02626ad"
      }
     },
     "metadata": {},
     "output_type": "display_data"
    },
    {
     "data": {
      "text/plain": [
       "Checkbox(value=False, description='total_rooms')"
      ],
      "application/vnd.jupyter.widget-view+json": {
       "version_major": 2,
       "version_minor": 0,
       "model_id": "3f7b8186ce674f479424686ff5c9aa32"
      }
     },
     "metadata": {},
     "output_type": "display_data"
    },
    {
     "data": {
      "text/plain": [
       "Checkbox(value=False, description='total_bedrooms')"
      ],
      "application/vnd.jupyter.widget-view+json": {
       "version_major": 2,
       "version_minor": 0,
       "model_id": "a39d528ea32b4814b3e476bb4815359e"
      }
     },
     "metadata": {},
     "output_type": "display_data"
    },
    {
     "data": {
      "text/plain": [
       "Checkbox(value=False, description='population')"
      ],
      "application/vnd.jupyter.widget-view+json": {
       "version_major": 2,
       "version_minor": 0,
       "model_id": "72a824a731514a9ca4a9ad3504282d7f"
      }
     },
     "metadata": {},
     "output_type": "display_data"
    },
    {
     "data": {
      "text/plain": [
       "Checkbox(value=False, description='households')"
      ],
      "application/vnd.jupyter.widget-view+json": {
       "version_major": 2,
       "version_minor": 0,
       "model_id": "53713dfe06d94f39844c9a548cd59861"
      }
     },
     "metadata": {},
     "output_type": "display_data"
    },
    {
     "data": {
      "text/plain": [
       "Checkbox(value=False, description='median_income')"
      ],
      "application/vnd.jupyter.widget-view+json": {
       "version_major": 2,
       "version_minor": 0,
       "model_id": "2cf34278c8564023a65274db1e5ab8b1"
      }
     },
     "metadata": {},
     "output_type": "display_data"
    },
    {
     "data": {
      "text/plain": [
       "Checkbox(value=False, description='median_house_value')"
      ],
      "application/vnd.jupyter.widget-view+json": {
       "version_major": 2,
       "version_minor": 0,
       "model_id": "f3bb9bf27f6247e196fef7b76540672f"
      }
     },
     "metadata": {},
     "output_type": "display_data"
    },
    {
     "data": {
      "text/plain": [
       "Checkbox(value=False, description='ocean_proximity')"
      ],
      "application/vnd.jupyter.widget-view+json": {
       "version_major": 2,
       "version_minor": 0,
       "model_id": "011562691e4d42dd80e4b5bdaebb7e46"
      }
     },
     "metadata": {},
     "output_type": "display_data"
    },
    {
     "data": {
      "text/plain": [
       "Button(description='Actualizar selección', style=ButtonStyle())"
      ],
      "application/vnd.jupyter.widget-view+json": {
       "version_major": 2,
       "version_minor": 0,
       "model_id": "ecd97075357a489d92e9c2546fd85923"
      }
     },
     "metadata": {},
     "output_type": "display_data"
    },
    {
     "data": {
      "text/plain": [
       "Output()"
      ],
      "application/vnd.jupyter.widget-view+json": {
       "version_major": 2,
       "version_minor": 0,
       "model_id": "f0fc2c65c2fb4963b3b02861be01aa4e"
      }
     },
     "metadata": {},
     "output_type": "display_data"
    }
   ],
   "execution_count": 20
  },
  {
   "cell_type": "markdown",
   "source": [
    "También se tiene `.iloc`, que funciona igual a `.loc` pero usando índices posicionales en lugar de los índices y columnas del DataFrame"
   ],
   "metadata": {
    "id": "VFSc19aUqZ0M"
   }
  },
  {
   "cell_type": "markdown",
   "source": [
    "## **Análisis Estadístico Básico**\n",
    "\n",
    "* `.describe()` genera las estadísticas básicas de las variables (columnas). Las estadísticas descriptivas incluyen aquellas que resumen la tendencia central, la dispersión y la forma de la distribución de un conjunto de datos, excluyendo los valores faltantes.\n",
    "\n",
    "Las cuales se definen de la siguiente manera:\n",
    "\n",
    "\n",
    "\n",
    "  1. **count (cantidad de elementos):** nos permite saber cuántos elementos no faltantes hay en en la columna.\n",
    "\n",
    "  2. **mean (promedio):** El promedio es una medida de tendencia central calculada sumando todos los valores de un conjunto de datos y dividiendo el resultado por la cantidad de valores.\n",
    "$$\\bar{x} = \\frac{\\sum_{i=1}^{n} x_i}{n}$$\n",
    "donde:\n",
    "- $x_i$ es cada valor individual.\n",
    "- $n$ el número total de valores.\n",
    "\n",
    "3. **std (desviación estándar):** La desviación estándar mide la dispersión de los datos repecto al promedio.\n",
    "\n",
    "  Muestral:\n",
    "  $$\n",
    "  s^2 = \\frac{\\sum_{i=1}^{n} (x_i - \\bar{x})^2}{n - 1}\n",
    "  $$\n",
    "  Poblacional:\n",
    "  $$\n",
    "  \\sigma^2 = \\frac{\\sum_{i=1}^{N} (x_i - \\mu)^2}{N}\n",
    "  $$\n",
    "  donde:\n",
    "  - $x_i$ es cada valor.\n",
    "  - $\\bar{x}$ es el promedio de la muestra.\n",
    "  - $\\mu$ es el promedio de la población.\n",
    "  - $n$ es el tamaño de la muestra.\n",
    "  - $N$ es el tamaño totla de la población.\n",
    "\n",
    "4. **min:** El valor mínimo registrado en la columna.\n",
    "\n",
    "5. **25% (Primer cuartil):** El 25% de los datos está por debajo de este valor, indicando el límite inferior de la distribución.\n",
    "6. **50% (Mediana o segundo cuartil):** El valor central de la distribución, donde el 50% de los datos está por debajo de este valor.\n",
    "\n",
    "7. **75% (Tercer cuartil):** El 75% de los datos está por debajo de este valor, marcando el límite superior de la mayoría de los datos.\n",
    "\n",
    "8. **max:** El valor máximo registrado en la columna.\n"
   ],
   "metadata": {
    "id": "pQLdbrGiVs_z"
   }
  },
  {
   "cell_type": "markdown",
   "source": [
    "Selecciona la columna que te interese conocer su estadística básica."
   ],
   "metadata": {
    "id": "tJcPtjYVbXP4"
   }
  },
  {
   "cell_type": "code",
   "source": [
    "# @title\n",
    "# Función para mostrar el conteo de valores únicos en la columna seleccionada\n",
    "def on_column_change(change):\n",
    "    column = change.new\n",
    "    if column in housing.columns:\n",
    "        stadic = housing[column].describe()\n",
    "\n",
    "        # Convertir los conteos limitados a HTML para mostrar en el widget\n",
    "        result_label.value = stadic.to_frame().to_html(classes='table table-striped', border=0)\n",
    "    else:\n",
    "        result_label.value = 'Columna no válida'\n",
    "\n",
    "# Crear un menú desplegable con los nombres de las columnas\n",
    "column_dropdown = widgets.Dropdown(\n",
    "    options=housing.columns,\n",
    "    value=housing.columns[0],  # Valor predeterminado\n",
    "    description='Columna:',\n",
    ")\n",
    "\n",
    "# Crear una etiqueta para mostrar el resultado en formato HTML\n",
    "result_label = widgets.HTML(value='')\n",
    "\n",
    "# Enlazar la función con el cambio en el menú desplegable\n",
    "column_dropdown.observe(on_column_change, names='value')\n",
    "\n",
    "# Mostrar el menú desplegable y la etiqueta\n",
    "display(column_dropdown, result_label)"
   ],
   "metadata": {
    "colab": {
     "base_uri": "https://localhost:8080/",
     "height": 51,
     "referenced_widgets": [
      "f2e78463714e4cc0a5f2aca6bd8ec5f4",
      "59b50e4a5dab4b70bae5cb7dc5c8e522",
      "5a7665d81eaf49a88789b4b345d92a35",
      "9d8d04c59a834bb4bb72d9377727a165",
      "124e00ff662a45c9a3069769b7d9e3bd",
      "e6880aafd9b34829ba7dd4d7ee4feb98"
     ]
    },
    "cellView": "form",
    "id": "OKKXcNxqbVtc",
    "outputId": "baacae23-8289-41b1-ea52-8c7d8337c473",
    "ExecuteTime": {
     "end_time": "2025-01-21T16:10:50.291974Z",
     "start_time": "2025-01-21T16:10:50.271484Z"
    }
   },
   "outputs": [
    {
     "data": {
      "text/plain": [
       "Dropdown(description='Columna:', options=('longitude', 'latitude', 'housing_median_age', 'total_rooms', 'total…"
      ],
      "application/vnd.jupyter.widget-view+json": {
       "version_major": 2,
       "version_minor": 0,
       "model_id": "cd913cb6faa94ce38b03f6c7c06ecc66"
      }
     },
     "metadata": {},
     "output_type": "display_data"
    },
    {
     "data": {
      "text/plain": [
       "HTML(value='')"
      ],
      "application/vnd.jupyter.widget-view+json": {
       "version_major": 2,
       "version_minor": 0,
       "model_id": "34e796da37fa425d9d0aff7384731e1a"
      }
     },
     "metadata": {},
     "output_type": "display_data"
    }
   ],
   "execution_count": 24
  },
  {
   "cell_type": "markdown",
   "source": [
    "* `.cov()`: La covarianza mide como dos variables cambian juntas.\n",
    "\n",
    "  Muestral:\n",
    "$$\n",
    "\\text{Cov}(X, Y) = \\frac{\\sum_{i=1}^{n} (x_i - \\bar{x})(y_i - \\bar{y})}{n - 1}\n",
    "$$\n",
    "\n",
    "  Poblacional:\n",
    "$$\n",
    "\\text{Cov}(X, Y) = \\frac{\\sum_{i=1}^{N} (x_i - \\mu_x)(y_i - \\mu_y)}{N}\n",
    "$$\n",
    "\n",
    "  donde:\n",
    "  - $x_i$ e $y_i$ son los valores de las variables $X$ e $Y$.\n",
    "  - $\\bar{x}$ y $\\bar{y}$ son los promedios muestrales de $X$ e $Y$.\n",
    "  - $\\mu_x$ y $\\mu_y$ son los promedios de $X$ e $Y$ en la población.\n",
    "  - $n$ es el tamaño de la muestra.\n",
    "  - $N$ es el tamaño total de la población."
   ],
   "metadata": {
    "id": "cNfgO3SmFLIE"
   }
  },
  {
   "cell_type": "code",
   "source": [
    "housing_numerico = housing.iloc[:,:-1]\n",
    "cov_matrix = housing_numerico.cov()\n",
    "cov_matrix"
   ],
   "metadata": {
    "colab": {
     "base_uri": "https://localhost:8080/",
     "height": 332
    },
    "id": "xdX8qceKF4hC",
    "outputId": "c7fd9e80-b200-49ee-cada-3e9cb3029048",
    "ExecuteTime": {
     "end_time": "2025-01-21T16:11:31.707893Z",
     "start_time": "2025-01-21T16:11:31.667460Z"
    }
   },
   "outputs": [
    {
     "data": {
      "text/plain": [
       "                       longitude      latitude  housing_median_age  \\\n",
       "longitude               4.014139     -3.957054           -2.728244   \n",
       "latitude               -3.957054      4.562293            0.300346   \n",
       "housing_median_age     -2.728244      0.300346          158.396260   \n",
       "total_rooms           194.803750   -168.217847        -9919.120060   \n",
       "total_bedrooms         58.768508    -60.299623        -1700.312817   \n",
       "population            226.377839   -263.137814        -4222.270582   \n",
       "households             42.368072    -58.010245        -1457.581290   \n",
       "median_income          -0.057765     -0.323860           -2.846140   \n",
       "median_house_value -10627.425205 -35532.559074       153398.801329   \n",
       "\n",
       "                     total_rooms  total_bedrooms    population    households  \\\n",
       "longitude           1.948037e+02    5.876851e+01  2.263778e+02  4.236807e+01   \n",
       "latitude           -1.682178e+02   -6.029962e+01 -2.631378e+02 -5.801024e+01   \n",
       "housing_median_age -9.919120e+03   -1.700313e+03 -4.222271e+03 -1.457581e+03   \n",
       "total_rooms         4.759445e+06    8.567306e+05  2.117613e+06  7.661046e+05   \n",
       "total_bedrooms      8.567306e+05    1.775654e+05  4.191391e+05  1.578295e+05   \n",
       "population          2.117613e+06    4.191391e+05  1.282470e+06  3.928036e+05   \n",
       "households          7.661046e+05    1.578295e+05  3.928036e+05  1.461760e+05   \n",
       "median_income       8.208524e+02   -6.180851e+00  1.040098e+01  9.466667e+00   \n",
       "median_house_value  3.377289e+07    2.416878e+06 -3.221249e+06  2.904924e+06   \n",
       "\n",
       "                    median_income  median_house_value  \n",
       "longitude               -0.057765       -1.062743e+04  \n",
       "latitude                -0.323860       -3.553256e+04  \n",
       "housing_median_age      -2.846140        1.533988e+05  \n",
       "total_rooms            820.852410        3.377289e+07  \n",
       "total_bedrooms          -6.180851        2.416878e+06  \n",
       "population              10.400979       -3.221249e+06  \n",
       "households               9.466667        2.904924e+06  \n",
       "median_income            3.609323        1.508475e+05  \n",
       "median_house_value  150847.482793        1.331615e+10  "
      ],
      "text/html": [
       "<div>\n",
       "<style scoped>\n",
       "    .dataframe tbody tr th:only-of-type {\n",
       "        vertical-align: middle;\n",
       "    }\n",
       "\n",
       "    .dataframe tbody tr th {\n",
       "        vertical-align: top;\n",
       "    }\n",
       "\n",
       "    .dataframe thead th {\n",
       "        text-align: right;\n",
       "    }\n",
       "</style>\n",
       "<table border=\"1\" class=\"dataframe\">\n",
       "  <thead>\n",
       "    <tr style=\"text-align: right;\">\n",
       "      <th></th>\n",
       "      <th>longitude</th>\n",
       "      <th>latitude</th>\n",
       "      <th>housing_median_age</th>\n",
       "      <th>total_rooms</th>\n",
       "      <th>total_bedrooms</th>\n",
       "      <th>population</th>\n",
       "      <th>households</th>\n",
       "      <th>median_income</th>\n",
       "      <th>median_house_value</th>\n",
       "    </tr>\n",
       "  </thead>\n",
       "  <tbody>\n",
       "    <tr>\n",
       "      <th>longitude</th>\n",
       "      <td>4.014139</td>\n",
       "      <td>-3.957054</td>\n",
       "      <td>-2.728244</td>\n",
       "      <td>1.948037e+02</td>\n",
       "      <td>5.876851e+01</td>\n",
       "      <td>2.263778e+02</td>\n",
       "      <td>4.236807e+01</td>\n",
       "      <td>-0.057765</td>\n",
       "      <td>-1.062743e+04</td>\n",
       "    </tr>\n",
       "    <tr>\n",
       "      <th>latitude</th>\n",
       "      <td>-3.957054</td>\n",
       "      <td>4.562293</td>\n",
       "      <td>0.300346</td>\n",
       "      <td>-1.682178e+02</td>\n",
       "      <td>-6.029962e+01</td>\n",
       "      <td>-2.631378e+02</td>\n",
       "      <td>-5.801024e+01</td>\n",
       "      <td>-0.323860</td>\n",
       "      <td>-3.553256e+04</td>\n",
       "    </tr>\n",
       "    <tr>\n",
       "      <th>housing_median_age</th>\n",
       "      <td>-2.728244</td>\n",
       "      <td>0.300346</td>\n",
       "      <td>158.396260</td>\n",
       "      <td>-9.919120e+03</td>\n",
       "      <td>-1.700313e+03</td>\n",
       "      <td>-4.222271e+03</td>\n",
       "      <td>-1.457581e+03</td>\n",
       "      <td>-2.846140</td>\n",
       "      <td>1.533988e+05</td>\n",
       "    </tr>\n",
       "    <tr>\n",
       "      <th>total_rooms</th>\n",
       "      <td>194.803750</td>\n",
       "      <td>-168.217847</td>\n",
       "      <td>-9919.120060</td>\n",
       "      <td>4.759445e+06</td>\n",
       "      <td>8.567306e+05</td>\n",
       "      <td>2.117613e+06</td>\n",
       "      <td>7.661046e+05</td>\n",
       "      <td>820.852410</td>\n",
       "      <td>3.377289e+07</td>\n",
       "    </tr>\n",
       "    <tr>\n",
       "      <th>total_bedrooms</th>\n",
       "      <td>58.768508</td>\n",
       "      <td>-60.299623</td>\n",
       "      <td>-1700.312817</td>\n",
       "      <td>8.567306e+05</td>\n",
       "      <td>1.775654e+05</td>\n",
       "      <td>4.191391e+05</td>\n",
       "      <td>1.578295e+05</td>\n",
       "      <td>-6.180851</td>\n",
       "      <td>2.416878e+06</td>\n",
       "    </tr>\n",
       "    <tr>\n",
       "      <th>population</th>\n",
       "      <td>226.377839</td>\n",
       "      <td>-263.137814</td>\n",
       "      <td>-4222.270582</td>\n",
       "      <td>2.117613e+06</td>\n",
       "      <td>4.191391e+05</td>\n",
       "      <td>1.282470e+06</td>\n",
       "      <td>3.928036e+05</td>\n",
       "      <td>10.400979</td>\n",
       "      <td>-3.221249e+06</td>\n",
       "    </tr>\n",
       "    <tr>\n",
       "      <th>households</th>\n",
       "      <td>42.368072</td>\n",
       "      <td>-58.010245</td>\n",
       "      <td>-1457.581290</td>\n",
       "      <td>7.661046e+05</td>\n",
       "      <td>1.578295e+05</td>\n",
       "      <td>3.928036e+05</td>\n",
       "      <td>1.461760e+05</td>\n",
       "      <td>9.466667</td>\n",
       "      <td>2.904924e+06</td>\n",
       "    </tr>\n",
       "    <tr>\n",
       "      <th>median_income</th>\n",
       "      <td>-0.057765</td>\n",
       "      <td>-0.323860</td>\n",
       "      <td>-2.846140</td>\n",
       "      <td>8.208524e+02</td>\n",
       "      <td>-6.180851e+00</td>\n",
       "      <td>1.040098e+01</td>\n",
       "      <td>9.466667e+00</td>\n",
       "      <td>3.609323</td>\n",
       "      <td>1.508475e+05</td>\n",
       "    </tr>\n",
       "    <tr>\n",
       "      <th>median_house_value</th>\n",
       "      <td>-10627.425205</td>\n",
       "      <td>-35532.559074</td>\n",
       "      <td>153398.801329</td>\n",
       "      <td>3.377289e+07</td>\n",
       "      <td>2.416878e+06</td>\n",
       "      <td>-3.221249e+06</td>\n",
       "      <td>2.904924e+06</td>\n",
       "      <td>150847.482793</td>\n",
       "      <td>1.331615e+10</td>\n",
       "    </tr>\n",
       "  </tbody>\n",
       "</table>\n",
       "</div>"
      ]
     },
     "execution_count": 25,
     "metadata": {},
     "output_type": "execute_result"
    }
   ],
   "execution_count": 25
  },
  {
   "cell_type": "markdown",
   "source": [
    "* `.corr()`: la correlación es una versión normalizada de la covarianza, que mide tanto la dirección como la fuerza de la relación entre las dos variables. La correlación siempre está en el rango de -1 a 1, lo que facilita la interpretación.\n",
    "\n",
    "  $$\n",
    "  \\rho_{XY} = \\frac{\\text{Cov}(X, Y)}{\\sigma_X \\sigma_Y}\n",
    "  $$\n",
    "  donde:\n",
    "  - $\\sigma_X$ y $\\sigma_Y$ son las desviaciones estándar de $X$ e $Y$."
   ],
   "metadata": {
    "id": "ngWpVrIy1rsP"
   }
  },
  {
   "cell_type": "code",
   "source": [
    "corr_matrix = housing_numerico.corr()\n",
    "corr_matrix"
   ],
   "metadata": {
    "colab": {
     "base_uri": "https://localhost:8080/",
     "height": 332
    },
    "id": "8uvXSsi2BmiG",
    "outputId": "92e6a60f-1cd0-495e-f3c6-02986f03a1e6",
    "ExecuteTime": {
     "end_time": "2025-01-21T16:12:08.150149Z",
     "start_time": "2025-01-21T16:12:08.112068Z"
    }
   },
   "outputs": [
    {
     "data": {
      "text/plain": [
       "                    longitude  latitude  housing_median_age  total_rooms  \\\n",
       "longitude            1.000000 -0.924664           -0.108197     0.044568   \n",
       "latitude            -0.924664  1.000000            0.011173    -0.036100   \n",
       "housing_median_age  -0.108197  0.011173            1.000000    -0.361262   \n",
       "total_rooms          0.044568 -0.036100           -0.361262     1.000000   \n",
       "total_bedrooms       0.069608 -0.066983           -0.320451     0.930380   \n",
       "population           0.099773 -0.108785           -0.296244     0.857126   \n",
       "households           0.055310 -0.071035           -0.302916     0.918484   \n",
       "median_income       -0.015176 -0.079809           -0.119034     0.198050   \n",
       "median_house_value  -0.045967 -0.144160            0.105623     0.134153   \n",
       "\n",
       "                    total_bedrooms  population  households  median_income  \\\n",
       "longitude                 0.069608    0.099773    0.055310      -0.015176   \n",
       "latitude                 -0.066983   -0.108785   -0.071035      -0.079809   \n",
       "housing_median_age       -0.320451   -0.296244   -0.302916      -0.119034   \n",
       "total_rooms               0.930380    0.857126    0.918484       0.198050   \n",
       "total_bedrooms            1.000000    0.877747    0.979728      -0.007723   \n",
       "population                0.877747    1.000000    0.907222       0.004834   \n",
       "households                0.979728    0.907222    1.000000       0.013033   \n",
       "median_income            -0.007723    0.004834    0.013033       1.000000   \n",
       "median_house_value        0.049686   -0.024650    0.065843       0.688075   \n",
       "\n",
       "                    median_house_value  \n",
       "longitude                    -0.045967  \n",
       "latitude                     -0.144160  \n",
       "housing_median_age            0.105623  \n",
       "total_rooms                   0.134153  \n",
       "total_bedrooms                0.049686  \n",
       "population                   -0.024650  \n",
       "households                    0.065843  \n",
       "median_income                 0.688075  \n",
       "median_house_value            1.000000  "
      ],
      "text/html": [
       "<div>\n",
       "<style scoped>\n",
       "    .dataframe tbody tr th:only-of-type {\n",
       "        vertical-align: middle;\n",
       "    }\n",
       "\n",
       "    .dataframe tbody tr th {\n",
       "        vertical-align: top;\n",
       "    }\n",
       "\n",
       "    .dataframe thead th {\n",
       "        text-align: right;\n",
       "    }\n",
       "</style>\n",
       "<table border=\"1\" class=\"dataframe\">\n",
       "  <thead>\n",
       "    <tr style=\"text-align: right;\">\n",
       "      <th></th>\n",
       "      <th>longitude</th>\n",
       "      <th>latitude</th>\n",
       "      <th>housing_median_age</th>\n",
       "      <th>total_rooms</th>\n",
       "      <th>total_bedrooms</th>\n",
       "      <th>population</th>\n",
       "      <th>households</th>\n",
       "      <th>median_income</th>\n",
       "      <th>median_house_value</th>\n",
       "    </tr>\n",
       "  </thead>\n",
       "  <tbody>\n",
       "    <tr>\n",
       "      <th>longitude</th>\n",
       "      <td>1.000000</td>\n",
       "      <td>-0.924664</td>\n",
       "      <td>-0.108197</td>\n",
       "      <td>0.044568</td>\n",
       "      <td>0.069608</td>\n",
       "      <td>0.099773</td>\n",
       "      <td>0.055310</td>\n",
       "      <td>-0.015176</td>\n",
       "      <td>-0.045967</td>\n",
       "    </tr>\n",
       "    <tr>\n",
       "      <th>latitude</th>\n",
       "      <td>-0.924664</td>\n",
       "      <td>1.000000</td>\n",
       "      <td>0.011173</td>\n",
       "      <td>-0.036100</td>\n",
       "      <td>-0.066983</td>\n",
       "      <td>-0.108785</td>\n",
       "      <td>-0.071035</td>\n",
       "      <td>-0.079809</td>\n",
       "      <td>-0.144160</td>\n",
       "    </tr>\n",
       "    <tr>\n",
       "      <th>housing_median_age</th>\n",
       "      <td>-0.108197</td>\n",
       "      <td>0.011173</td>\n",
       "      <td>1.000000</td>\n",
       "      <td>-0.361262</td>\n",
       "      <td>-0.320451</td>\n",
       "      <td>-0.296244</td>\n",
       "      <td>-0.302916</td>\n",
       "      <td>-0.119034</td>\n",
       "      <td>0.105623</td>\n",
       "    </tr>\n",
       "    <tr>\n",
       "      <th>total_rooms</th>\n",
       "      <td>0.044568</td>\n",
       "      <td>-0.036100</td>\n",
       "      <td>-0.361262</td>\n",
       "      <td>1.000000</td>\n",
       "      <td>0.930380</td>\n",
       "      <td>0.857126</td>\n",
       "      <td>0.918484</td>\n",
       "      <td>0.198050</td>\n",
       "      <td>0.134153</td>\n",
       "    </tr>\n",
       "    <tr>\n",
       "      <th>total_bedrooms</th>\n",
       "      <td>0.069608</td>\n",
       "      <td>-0.066983</td>\n",
       "      <td>-0.320451</td>\n",
       "      <td>0.930380</td>\n",
       "      <td>1.000000</td>\n",
       "      <td>0.877747</td>\n",
       "      <td>0.979728</td>\n",
       "      <td>-0.007723</td>\n",
       "      <td>0.049686</td>\n",
       "    </tr>\n",
       "    <tr>\n",
       "      <th>population</th>\n",
       "      <td>0.099773</td>\n",
       "      <td>-0.108785</td>\n",
       "      <td>-0.296244</td>\n",
       "      <td>0.857126</td>\n",
       "      <td>0.877747</td>\n",
       "      <td>1.000000</td>\n",
       "      <td>0.907222</td>\n",
       "      <td>0.004834</td>\n",
       "      <td>-0.024650</td>\n",
       "    </tr>\n",
       "    <tr>\n",
       "      <th>households</th>\n",
       "      <td>0.055310</td>\n",
       "      <td>-0.071035</td>\n",
       "      <td>-0.302916</td>\n",
       "      <td>0.918484</td>\n",
       "      <td>0.979728</td>\n",
       "      <td>0.907222</td>\n",
       "      <td>1.000000</td>\n",
       "      <td>0.013033</td>\n",
       "      <td>0.065843</td>\n",
       "    </tr>\n",
       "    <tr>\n",
       "      <th>median_income</th>\n",
       "      <td>-0.015176</td>\n",
       "      <td>-0.079809</td>\n",
       "      <td>-0.119034</td>\n",
       "      <td>0.198050</td>\n",
       "      <td>-0.007723</td>\n",
       "      <td>0.004834</td>\n",
       "      <td>0.013033</td>\n",
       "      <td>1.000000</td>\n",
       "      <td>0.688075</td>\n",
       "    </tr>\n",
       "    <tr>\n",
       "      <th>median_house_value</th>\n",
       "      <td>-0.045967</td>\n",
       "      <td>-0.144160</td>\n",
       "      <td>0.105623</td>\n",
       "      <td>0.134153</td>\n",
       "      <td>0.049686</td>\n",
       "      <td>-0.024650</td>\n",
       "      <td>0.065843</td>\n",
       "      <td>0.688075</td>\n",
       "      <td>1.000000</td>\n",
       "    </tr>\n",
       "  </tbody>\n",
       "</table>\n",
       "</div>"
      ]
     },
     "execution_count": 26,
     "metadata": {},
     "output_type": "execute_result"
    }
   ],
   "execution_count": 26
  },
  {
   "cell_type": "markdown",
   "source": [
    "Para obtener una representación visual de la matriz de correlación, podemos utilizar un mapa de calor."
   ],
   "metadata": {
    "id": "VtzLzEirDB-b"
   }
  },
  {
   "cell_type": "code",
   "source": [
    "import seaborn as sns  # Se importa la librería seaborn, que se utiliza para crear gráficos estadísticos.\n",
    "\n",
    "# Se crea un mapa de calor de la matriz de correlación (corr_matrix) utilizando la función heatmap de seaborn.\n",
    "# Se especifica que las etiquetas de los ejes x e y sean los nombres de las columnas de la matriz de correlación.\n",
    "sns.heatmap(corr_matrix,\n",
    "            xticklabels=corr_matrix.columns.values,  # Etiquetas del eje X\n",
    "            yticklabels=corr_matrix.columns.values,  # Etiquetas del eje Y\n",
    "            cmap='coolwarm',  # gama de colores a usar\n",
    "            annot=True, # mostrar valor en cada casilla\n",
    "            fmt=\".3f\",  # redondear valores a 3 decimales\n",
    "            annot_kws={\"size\": 8}) # tamaño de valores mostrados en cada casilla"
   ],
   "metadata": {
    "colab": {
     "base_uri": "https://localhost:8080/",
     "height": 586
    },
    "id": "CaM7-UziC20u",
    "outputId": "f34a29f1-8326-444a-b29b-76834870e1ad",
    "ExecuteTime": {
     "end_time": "2025-01-21T16:12:19.909154Z",
     "start_time": "2025-01-21T16:12:19.223422Z"
    }
   },
   "outputs": [
    {
     "data": {
      "text/plain": [
       "<Axes: >"
      ]
     },
     "execution_count": 27,
     "metadata": {},
     "output_type": "execute_result"
    },
    {
     "data": {
      "text/plain": [
       "<Figure size 640x480 with 2 Axes>"
      ],
      "image/png": "[encoded data removed]"
     },
     "metadata": {},
     "output_type": "display_data"
    }
   ],
   "execution_count": 27
  },
  {
   "cell_type": "markdown",
   "source": [
    "### **Correlación Parcial**\n",
    "La correlación parcial mide la relación entre dos variables mientras se controla el efecto de una o más variables adicionales.\n",
    "$$\n",
    "\\rho_{XY \\cdot Z} = \\frac{\\text{Cov}(X - \\text{proyección de } X \\text{ sobre } Z, Y - \\text{proyección de } Y \\text{ sobre } Z)}{\\sigma_{X - \\text{proyección}} \\sigma_{Y - \\text{proyección}}}\n",
    "$$\n",
    "que puede expresarse en términos de correlaciones como:\n",
    "$$\n",
    "\\rho_{xy \\cdot z} = \\frac{\\rho_{xy} - \\rho_{xz}\\rho_{yz}}{\\sqrt{(1 - \\rho_{xz}^2)(1 - \\rho_{yz}^2)}}\n",
    "$$\n",
    "cuando $Z$ corresponde a una única variable, o como:\n",
    "$$\n",
    "\\rho_{XY \\cdot Z} = \\frac{-R^{-1}_{XY}}{\\sqrt{R^{-1}_{XX} R^{-1}_{YY}}}\n",
    "$$\n",
    "donde $R$ es la matriz de correlación ($R_{XY} = \\rho_{XY}$).\n",
    "En este caso se calcula la corelación parcial de $X$ e $Y$ tomando como $Z$ las demás variables incluídas en $R$.\n",
    "\n",
    "Calculemos la correlación de las variables numéricas de nuestro Dataset controlando el efecto de la variable objetivo `median_house_value`.\n"
   ],
   "metadata": {
    "id": "GIxsaDyABPcV"
   }
  },
  {
   "cell_type": "code",
   "source": [
    "# se calcula la matriz R de correlación\n",
    "Rh = housing_numerico.corr()\n",
    "# se inicializa la matriz de correlación parcial, del mismo tamaño de R\n",
    "# pero quitándole la fila/columna correspondiente a median_house_value\n",
    "R_parcial = pd.DataFrame(np.zeros((Rh.shape[0]-1, Rh.shape[1]-1)),\n",
    "                         columns=Rh.columns[:-1], index=Rh.columns[:-1])\n",
    "# fijamoz el iterador de z a la última columna\n",
    "iz = -1\n",
    "# iteramos sobre las demás columnas\n",
    "for ix in range(len(housing_numerico.columns) - 1):\n",
    "    for iy in range(ix + 1, len(housing_numerico.columns) - 1):\n",
    "        R_xy = Rh.iloc[ix, iy]\n",
    "        R_xz = Rh.iloc[ix, iz]\n",
    "        R_yz = Rh.iloc[iy, iz]\n",
    "        # calculamos la correlación parcial\n",
    "        pcorr = (R_xy - R_xz * R_yz) / np.sqrt((1 - R_xz**2) * (1 - R_yz**2))\n",
    "        # almacenamos este valor en la posición correspondiente en la matriz de\n",
    "        # correlación parcial\n",
    "        R_parcial.iloc[ix, iy] = pcorr\n",
    "\n",
    "# arriba solo calculamos la triangular superior, pues la matriz es simétrica\n",
    "R_parcial += R_parcial.T\n",
    "np.fill_diagonal(R_parcial.values, 1)"
   ],
   "metadata": {
    "id": "j_dqHrufe4ze",
    "ExecuteTime": {
     "end_time": "2025-01-21T16:12:31.055276Z",
     "start_time": "2025-01-21T16:12:31.024863Z"
    }
   },
   "outputs": [],
   "execution_count": 28
  },
  {
   "cell_type": "code",
   "source": [
    "sns.heatmap(R_parcial,\n",
    "            xticklabels=R_parcial.columns.values,  # Etiquetas del eje X\n",
    "            yticklabels=R_parcial.columns.values,  # Etiquetas del eje Y\n",
    "            cmap='coolwarm',  # gama de colores a usar\n",
    "            annot=True, # mostrar valor en cada casilla\n",
    "            fmt=\".3f\",  # redondear valores a 3 decimales\n",
    "            annot_kws={\"size\": 8}) # tamaño de valores mostrados en cada casilla"
   ],
   "metadata": {
    "colab": {
     "base_uri": "https://localhost:8080/",
     "height": 586
    },
    "id": "tV_ghGg_gNAN",
    "outputId": "a7bcf55b-4d0c-43c0-803d-ae8e5bd7f1eb"
   },
   "execution_count": null,
   "outputs": [
    {
     "output_type": "execute_result",
     "data": {
      "text/plain": [
       "<Axes: >"
      ]
     },
     "metadata": {},
     "execution_count": 37
    },
    {
     "output_type": "display_data",
     "data": {
      "text/plain": [
       "<Figure size 640x480 with 2 Axes>"
      ],
      "image/png": "[encoded data removed]"
     },
     "metadata": {}
    }
   ]
  },
  {
   "cell_type": "markdown",
   "source": [
    "## **Imputación de Datos**\n",
    "Anteriormente, pudimos ver que la columna `total_bedrooms` cuenta con varias columnas que no tienen datos. Esta situación puede resultar inconveniente durante futuros análisis o modelados que se quieran realizar a los datos. Por este motivo, es importante realizar un proceso de reemplazar valores faltantes con estimaciones razonables. Este proceso se conoce como imputación de datos.\n",
    "\n",
    "Una ténica común consiste en usar una medida de tendencia central (media, mediana o moda) para realizar la imputación. Sin embargo, cabe recalcar que esta decisión depende de distintos factores relacionados con la naturaleza y cantidad de los datos faltantes.\n",
    "\n",
    "Veamos como podemos realizar imputación en nuestros datos usando la media y el método `.fillna()`."
   ],
   "metadata": {
    "id": "6i-m7fCFjOn_"
   }
  },
  {
   "cell_type": "code",
   "source": [
    "# inplace=True hace que el DataFrame housing quede modificado\n",
    "housing['total_bedrooms'].fillna(housing['total_bedrooms'].mean(), inplace=True)"
   ],
   "metadata": {
    "id": "Q5hdaC8mkead",
    "ExecuteTime": {
     "end_time": "2025-01-21T16:12:41.031724Z",
     "start_time": "2025-01-21T16:12:41.011890Z"
    }
   },
   "outputs": [
    {
     "name": "stderr",
     "output_type": "stream",
     "text": [
      "C:\\Users\\Public\\Documents\\Wondershare\\CreatorTemp\\ipykernel_15748\\3584847466.py:2: FutureWarning: A value is trying to be set on a copy of a DataFrame or Series through chained assignment using an inplace method.\n",
      "The behavior will change in pandas 3.0. This inplace method will never work because the intermediate object on which we are setting values always behaves as a copy.\n",
      "\n",
      "For example, when doing 'df[col].method(value, inplace=True)', try using 'df.method({col: value}, inplace=True)' or df[col] = df[col].method(value) instead, to perform the operation inplace on the original object.\n",
      "\n",
      "\n",
      "  housing['total_bedrooms'].fillna(housing['total_bedrooms'].mean(), inplace=True)\n"
     ]
    }
   ],
   "execution_count": 29
  },
  {
   "cell_type": "markdown",
   "source": [
    "## **Práctica**\n",
    "Repasemos algunos de los conceptos vistos en esta sesión en la [siguiente práctica](https://modulo1-sesion1.streamlit.app)"
   ],
   "metadata": {
    "id": "oR6gfDa8hS41"
   }
  },
  {
   "cell_type": "code",
   "source": [],
   "metadata": {
    "id": "SqzKDKrFhaAU"
   },
   "execution_count": null,
   "outputs": []
  },
  {
   "metadata": {},
   "cell_type": "markdown",
   "source": [
    "**Copyright**\n",
    "\n",
    "The notebooks are provided as [Open Educational Resource](https://de.wikipedia.org/wiki/Open_Educational_Resources). Feel free to use the notebooks for your own educational purposes. The text is licensed under [Creative Commons Attribution 4.0](https://creativecommons.org/licenses/by/4.0/), the code of the IPython examples under the [MIT license](https://opensource.org/licenses/MIT)."
   ]
  },
  {
   "metadata": {},
   "cell_type": "code",
   "outputs": [],
   "execution_count": null,
   "source": ""
  }
 ]
}
