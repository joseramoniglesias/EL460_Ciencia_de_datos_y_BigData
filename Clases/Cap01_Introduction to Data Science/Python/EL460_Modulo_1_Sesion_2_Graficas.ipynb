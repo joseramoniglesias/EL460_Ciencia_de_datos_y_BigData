{
 "nbformat": 4,
 "nbformat_minor": 0,
 "metadata": {
  "colab": {
   "provenance": [],
   "collapsed_sections": [
    "g-tj-27BMv4a",
    "ja1CL1V-OB-h",
    "JuSfjo_FOhSp",
    "fNJJWozNOy6Z",
    "quZAZuNHQW1g",
    "q7j-ZjSDR0no",
    "Aq8lq9-_UOzE",
    "f__VLInuY3NV",
    "vWQzf2JbPpMp"
   ],
   "include_colab_link": true
  },
  "kernelspec": {
   "name": "python3",
   "display_name": "Python 3 (ipykernel)",
   "language": "python"
  },
  "language_info": {
   "name": "python"
  },
  "widgets": {
   "application/vnd.jupyter.widget-state+json": {
    "9d852d4cc37b43f3a54df3335afe5717": {
     "model_module": "@jupyter-widgets/controls",
     "model_name": "VBoxModel",
     "model_module_version": "1.5.0",
     "state": {
      "_dom_classes": [
       "widget-interact"
      ],
      "_model_module": "@jupyter-widgets/controls",
      "_model_module_version": "1.5.0",
      "_model_name": "VBoxModel",
      "_view_count": null,
      "_view_module": "@jupyter-widgets/controls",
      "_view_module_version": "1.5.0",
      "_view_name": "VBoxView",
      "box_style": "",
      "children": [
       "IPY_MODEL_e7c621cae9cf4c7f8bf2e577bec8d8e1",
       "IPY_MODEL_d5cff5f873b64c3f92992cec260cbf52"
      ],
      "layout": "IPY_MODEL_a370c03d761042e0b22999d0b785693e"
     }
    },
    "e7c621cae9cf4c7f8bf2e577bec8d8e1": {
     "model_module": "@jupyter-widgets/controls",
     "model_name": "IntSliderModel",
     "model_module_version": "1.5.0",
     "state": {
      "_dom_classes": [],
      "_model_module": "@jupyter-widgets/controls",
      "_model_module_version": "1.5.0",
      "_model_name": "IntSliderModel",
      "_view_count": null,
      "_view_module": "@jupyter-widgets/controls",
      "_view_module_version": "1.5.0",
      "_view_name": "IntSliderView",
      "continuous_update": true,
      "description": "x",
      "description_tooltip": null,
      "disabled": false,
      "layout": "IPY_MODEL_726c0939f295406dbfac8b044ac6fa22",
      "max": 100,
      "min": 0,
      "orientation": "horizontal",
      "readout": true,
      "readout_format": "d",
      "step": 1,
      "style": "IPY_MODEL_91293bb99b94455d8cf9a3ee46015eef",
      "value": 5
     }
    },
    "d5cff5f873b64c3f92992cec260cbf52": {
     "model_module": "@jupyter-widgets/output",
     "model_name": "OutputModel",
     "model_module_version": "1.0.0",
     "state": {
      "_dom_classes": [],
      "_model_module": "@jupyter-widgets/output",
      "_model_module_version": "1.0.0",
      "_model_name": "OutputModel",
      "_view_count": null,
      "_view_module": "@jupyter-widgets/output",
      "_view_module_version": "1.0.0",
      "_view_name": "OutputView",
      "layout": "IPY_MODEL_e0081305ea7043ccbd2a6164bafa3737",
      "msg_id": "",
      "outputs": [
       {
        "output_type": "display_data",
        "data": {
         "text/plain": "             Datetime  Temperature  Humidity  WindSpeed  GeneralDiffuseFlows  \\\n0 2017-01-01 00:00:00        6.559      73.8      0.083                0.051   \n1 2017-01-01 00:10:00        6.414      74.5      0.083                0.070   \n2 2017-01-01 00:20:00        6.313      74.5      0.080                0.062   \n3 2017-01-01 00:30:00        6.121      75.0      0.083                0.091   \n4 2017-01-01 00:40:00        5.921      75.7      0.081                0.048   \n\n   DiffuseFlows  PowerConsumption_Zone1  PowerConsumption_Zone2  \\\n0         0.119             34055.69620             16128.87538   \n1         0.085             29814.68354             19375.07599   \n2         0.100             29128.10127             19006.68693   \n3         0.096             28228.86076             18361.09422   \n4         0.085             27335.69620             17872.34043   \n\n   PowerConsumption_Zone3  \n0             20240.96386  \n1             20131.08434  \n2             19668.43373  \n3             18899.27711  \n4             18442.40964  ",
         "text/html": "\n  <div id=\"df-72175b63-bd7b-476a-9b2f-9c97972095e0\" class=\"colab-df-container\">\n    <div>\n<style scoped>\n    .dataframe tbody tr th:only-of-type {\n        vertical-align: middle;\n    }\n\n    .dataframe tbody tr th {\n        vertical-align: top;\n    }\n\n    .dataframe thead th {\n        text-align: right;\n    }\n</style>\n<table border=\"1\" class=\"dataframe\">\n  <thead>\n    <tr style=\"text-align: right;\">\n      <th></th>\n      <th>Datetime</th>\n      <th>Temperature</th>\n      <th>Humidity</th>\n      <th>WindSpeed</th>\n      <th>GeneralDiffuseFlows</th>\n      <th>DiffuseFlows</th>\n      <th>PowerConsumption_Zone1</th>\n      <th>PowerConsumption_Zone2</th>\n      <th>PowerConsumption_Zone3</th>\n    </tr>\n  </thead>\n  <tbody>\n    <tr>\n      <th>0</th>\n      <td>2017-01-01 00:00:00</td>\n      <td>6.559</td>\n      <td>73.8</td>\n      <td>0.083</td>\n      <td>0.051</td>\n      <td>0.119</td>\n      <td>34055.69620</td>\n      <td>16128.87538</td>\n      <td>20240.96386</td>\n    </tr>\n    <tr>\n      <th>1</th>\n      <td>2017-01-01 00:10:00</td>\n      <td>6.414</td>\n      <td>74.5</td>\n      <td>0.083</td>\n      <td>0.070</td>\n      <td>0.085</td>\n      <td>29814.68354</td>\n      <td>19375.07599</td>\n      <td>20131.08434</td>\n    </tr>\n    <tr>\n      <th>2</th>\n      <td>2017-01-01 00:20:00</td>\n      <td>6.313</td>\n      <td>74.5</td>\n      <td>0.080</td>\n      <td>0.062</td>\n      <td>0.100</td>\n      <td>29128.10127</td>\n      <td>19006.68693</td>\n      <td>19668.43373</td>\n    </tr>\n    <tr>\n      <th>3</th>\n      <td>2017-01-01 00:30:00</td>\n      <td>6.121</td>\n      <td>75.0</td>\n      <td>0.083</td>\n      <td>0.091</td>\n      <td>0.096</td>\n      <td>28228.86076</td>\n      <td>18361.09422</td>\n      <td>18899.27711</td>\n    </tr>\n    <tr>\n      <th>4</th>\n      <td>2017-01-01 00:40:00</td>\n      <td>5.921</td>\n      <td>75.7</td>\n      <td>0.081</td>\n      <td>0.048</td>\n      <td>0.085</td>\n      <td>27335.69620</td>\n      <td>17872.34043</td>\n      <td>18442.40964</td>\n    </tr>\n  </tbody>\n</table>\n</div>\n    <div class=\"colab-df-buttons\">\n\n  <div class=\"colab-df-container\">\n    <button class=\"colab-df-convert\" onclick=\"convertToInteractive('df-72175b63-bd7b-476a-9b2f-9c97972095e0')\"\n            title=\"Convert this dataframe to an interactive table.\"\n            style=\"display:none;\">\n\n  <svg xmlns=\"http://www.w3.org/2000/svg\" height=\"24px\" viewBox=\"0 -960 960 960\">\n    <path d=\"M120-120v-720h720v720H120Zm60-500h600v-160H180v160Zm220 220h160v-160H400v160Zm0 220h160v-160H400v160ZM180-400h160v-160H180v160Zm440 0h160v-160H620v160ZM180-180h160v-160H180v160Zm440 0h160v-160H620v160Z\"/>\n  </svg>\n    </button>\n\n  <style>\n    .colab-df-container {\n      display:flex;\n      gap: 12px;\n    }\n\n    .colab-df-convert {\n      background-color: #E8F0FE;\n      border: none;\n      border-radius: 50%;\n      cursor: pointer;\n      display: none;\n      fill: #1967D2;\n      height: 32px;\n      padding: 0 0 0 0;\n      width: 32px;\n    }\n\n    .colab-df-convert:hover {\n      background-color: #E2EBFA;\n      box-shadow: 0px 1px 2px rgba(60, 64, 67, 0.3), 0px 1px 3px 1px rgba(60, 64, 67, 0.15);\n      fill: #174EA6;\n    }\n\n    .colab-df-buttons div {\n      margin-bottom: 4px;\n    }\n\n    [theme=dark] .colab-df-convert {\n      background-color: #3B4455;\n      fill: #D2E3FC;\n    }\n\n    [theme=dark] .colab-df-convert:hover {\n      background-color: #434B5C;\n      box-shadow: 0px 1px 3px 1px rgba(0, 0, 0, 0.15);\n      filter: drop-shadow(0px 1px 2px rgba(0, 0, 0, 0.3));\n      fill: #FFFFFF;\n    }\n  </style>\n\n    <script>\n      const buttonEl =\n        document.querySelector('#df-72175b63-bd7b-476a-9b2f-9c97972095e0 button.colab-df-convert');\n      buttonEl.style.display =\n        google.colab.kernel.accessAllowed ? 'block' : 'none';\n\n      async function convertToInteractive(key) {\n        const element = document.querySelector('#df-72175b63-bd7b-476a-9b2f-9c97972095e0');\n        const dataTable =\n          await google.colab.kernel.invokeFunction('convertToInteractive',\n                                                    [key], {});\n        if (!dataTable) return;\n\n        const docLinkHtml = 'Like what you see? Visit the ' +\n          '<a target=\"_blank\" href=https://colab.research.google.com/notebooks/data_table.ipynb>data table notebook</a>'\n          + ' to learn more about interactive tables.';\n        element.innerHTML = '';\n        dataTable['output_type'] = 'display_data';\n        await google.colab.output.renderOutput(dataTable, element);\n        const docLink = document.createElement('div');\n        docLink.innerHTML = docLinkHtml;\n        element.appendChild(docLink);\n      }\n    </script>\n  </div>\n\n\n<div id=\"df-cd5752a1-7ff3-43aa-b90e-fc965a3eedf5\">\n  <button class=\"colab-df-quickchart\" onclick=\"quickchart('df-cd5752a1-7ff3-43aa-b90e-fc965a3eedf5')\"\n            title=\"Suggest charts\"\n            style=\"display:none;\">\n\n<svg xmlns=\"http://www.w3.org/2000/svg\" height=\"24px\"viewBox=\"0 0 24 24\"\n     width=\"24px\">\n    <g>\n        <path d=\"M19 3H5c-1.1 0-2 .9-2 2v14c0 1.1.9 2 2 2h14c1.1 0 2-.9 2-2V5c0-1.1-.9-2-2-2zM9 17H7v-7h2v7zm4 0h-2V7h2v10zm4 0h-2v-4h2v4z\"/>\n    </g>\n</svg>\n  </button>\n\n<style>\n  .colab-df-quickchart {\n      --bg-color: #E8F0FE;\n      --fill-color: #1967D2;\n      --hover-bg-color: #E2EBFA;\n      --hover-fill-color: #174EA6;\n      --disabled-fill-color: #AAA;\n      --disabled-bg-color: #DDD;\n  }\n\n  [theme=dark] .colab-df-quickchart {\n      --bg-color: #3B4455;\n      --fill-color: #D2E3FC;\n      --hover-bg-color: #434B5C;\n      --hover-fill-color: #FFFFFF;\n      --disabled-bg-color: #3B4455;\n      --disabled-fill-color: #666;\n  }\n\n  .colab-df-quickchart {\n    background-color: var(--bg-color);\n    border: none;\n    border-radius: 50%;\n    cursor: pointer;\n    display: none;\n    fill: var(--fill-color);\n    height: 32px;\n    padding: 0;\n    width: 32px;\n  }\n\n  .colab-df-quickchart:hover {\n    background-color: var(--hover-bg-color);\n    box-shadow: 0 1px 2px rgba(60, 64, 67, 0.3), 0 1px 3px 1px rgba(60, 64, 67, 0.15);\n    fill: var(--button-hover-fill-color);\n  }\n\n  .colab-df-quickchart-complete:disabled,\n  .colab-df-quickchart-complete:disabled:hover {\n    background-color: var(--disabled-bg-color);\n    fill: var(--disabled-fill-color);\n    box-shadow: none;\n  }\n\n  .colab-df-spinner {\n    border: 2px solid var(--fill-color);\n    border-color: transparent;\n    border-bottom-color: var(--fill-color);\n    animation:\n      spin 1s steps(1) infinite;\n  }\n\n  @keyframes spin {\n    0% {\n      border-color: transparent;\n      border-bottom-color: var(--fill-color);\n      border-left-color: var(--fill-color);\n    }\n    20% {\n      border-color: transparent;\n      border-left-color: var(--fill-color);\n      border-top-color: var(--fill-color);\n    }\n    30% {\n      border-color: transparent;\n      border-left-color: var(--fill-color);\n      border-top-color: var(--fill-color);\n      border-right-color: var(--fill-color);\n    }\n    40% {\n      border-color: transparent;\n      border-right-color: var(--fill-color);\n      border-top-color: var(--fill-color);\n    }\n    60% {\n      border-color: transparent;\n      border-right-color: var(--fill-color);\n    }\n    80% {\n      border-color: transparent;\n      border-right-color: var(--fill-color);\n      border-bottom-color: var(--fill-color);\n    }\n    90% {\n      border-color: transparent;\n      border-bottom-color: var(--fill-color);\n    }\n  }\n</style>\n\n  <script>\n    async function quickchart(key) {\n      const quickchartButtonEl =\n        document.querySelector('#' + key + ' button');\n      quickchartButtonEl.disabled = true;  // To prevent multiple clicks.\n      quickchartButtonEl.classList.add('colab-df-spinner');\n      try {\n        const charts = await google.colab.kernel.invokeFunction(\n            'suggestCharts', [key], {});\n      } catch (error) {\n        console.error('Error during call to suggestCharts:', error);\n      }\n      quickchartButtonEl.classList.remove('colab-df-spinner');\n      quickchartButtonEl.classList.add('colab-df-quickchart-complete');\n    }\n    (() => {\n      let quickchartButtonEl =\n        document.querySelector('#df-cd5752a1-7ff3-43aa-b90e-fc965a3eedf5 button');\n      quickchartButtonEl.style.display =\n        google.colab.kernel.accessAllowed ? 'block' : 'none';\n    })();\n  </script>\n</div>\n\n    </div>\n  </div>\n",
         "application/vnd.google.colaboratory.intrinsic+json": {
          "type": "dataframe",
          "summary": "{\n  \"name\": \"    display(consumption\",\n  \"rows\": 5,\n  \"fields\": [\n    {\n      \"column\": \"Datetime\",\n      \"properties\": {\n        \"dtype\": \"date\",\n        \"min\": \"2017-01-01 00:00:00\",\n        \"max\": \"2017-01-01 00:40:00\",\n        \"num_unique_values\": 5,\n        \"samples\": [\n          \"2017-01-01 00:10:00\",\n          \"2017-01-01 00:40:00\",\n          \"2017-01-01 00:20:00\"\n        ],\n        \"semantic_type\": \"\",\n        \"description\": \"\"\n      }\n    },\n    {\n      \"column\": \"Temperature\",\n      \"properties\": {\n        \"dtype\": \"number\",\n        \"std\": 0.2500055999372812,\n        \"min\": 5.921,\n        \"max\": 6.559,\n        \"num_unique_values\": 5,\n        \"samples\": [\n          6.414,\n          5.921,\n          6.313\n        ],\n        \"semantic_type\": \"\",\n        \"description\": \"\"\n      }\n    },\n    {\n      \"column\": \"Humidity\",\n      \"properties\": {\n        \"dtype\": \"number\",\n        \"std\": 0.7035623639735163,\n        \"min\": 73.8,\n        \"max\": 75.7,\n        \"num_unique_values\": 4,\n        \"samples\": [\n          74.5,\n          75.7,\n          73.8\n        ],\n        \"semantic_type\": \"\",\n        \"description\": \"\"\n      }\n    },\n    {\n      \"column\": \"WindSpeed\",\n      \"properties\": {\n        \"dtype\": \"number\",\n        \"std\": 0.0014142135623730963,\n        \"min\": 0.08,\n        \"max\": 0.083,\n        \"num_unique_values\": 3,\n        \"samples\": [\n          0.083,\n          0.08,\n          0.081\n        ],\n        \"semantic_type\": \"\",\n        \"description\": \"\"\n      }\n    },\n    {\n      \"column\": \"GeneralDiffuseFlows\",\n      \"properties\": {\n        \"dtype\": \"number\",\n        \"std\": 0.017271363582531635,\n        \"min\": 0.048,\n        \"max\": 0.091,\n        \"num_unique_values\": 5,\n        \"samples\": [\n          0.07,\n          0.048,\n          0.062\n        ],\n        \"semantic_type\": \"\",\n        \"description\": \"\"\n      }\n    },\n    {\n      \"column\": \"DiffuseFlows\",\n      \"properties\": {\n        \"dtype\": \"number\",\n        \"std\": 0.013982131454109559,\n        \"min\": 0.085,\n        \"max\": 0.119,\n        \"num_unique_values\": 4,\n        \"samples\": [\n          0.085,\n          0.096,\n          0.119\n        ],\n        \"semantic_type\": \"\",\n        \"description\": \"\"\n      }\n    },\n    {\n      \"column\": \"PowerConsumption_Zone1\",\n      \"properties\": {\n        \"dtype\": \"number\",\n        \"std\": 2601.2351981052607,\n        \"min\": 27335.6962,\n        \"max\": 34055.6962,\n        \"num_unique_values\": 5,\n        \"samples\": [\n          29814.68354,\n          27335.6962,\n          29128.10127\n        ],\n        \"semantic_type\": \"\",\n        \"description\": \"\"\n      }\n    },\n    {\n      \"column\": \"PowerConsumption_Zone2\",\n      \"properties\": {\n        \"dtype\": \"number\",\n        \"std\": 1268.9874888491913,\n        \"min\": 16128.87538,\n        \"max\": 19375.07599,\n        \"num_unique_values\": 5,\n        \"samples\": [\n          19375.07599,\n          17872.34043,\n          19006.68693\n        ],\n        \"semantic_type\": \"\",\n        \"description\": \"\"\n      }\n    },\n    {\n      \"column\": \"PowerConsumption_Zone3\",\n      \"properties\": {\n        \"dtype\": \"number\",\n        \"std\": 782.9836083152285,\n        \"min\": 18442.40964,\n        \"max\": 20240.96386,\n        \"num_unique_values\": 5,\n        \"samples\": [\n          20131.08434,\n          18442.40964,\n          19668.43373\n        ],\n        \"semantic_type\": \"\",\n        \"description\": \"\"\n      }\n    }\n  ]\n}"
         }
        },
        "metadata": {}
       }
      ]
     }
    },
    "a370c03d761042e0b22999d0b785693e": {
     "model_module": "@jupyter-widgets/base",
     "model_name": "LayoutModel",
     "model_module_version": "1.2.0",
     "state": {
      "_model_module": "@jupyter-widgets/base",
      "_model_module_version": "1.2.0",
      "_model_name": "LayoutModel",
      "_view_count": null,
      "_view_module": "@jupyter-widgets/base",
      "_view_module_version": "1.2.0",
      "_view_name": "LayoutView",
      "align_content": null,
      "align_items": null,
      "align_self": null,
      "border": null,
      "bottom": null,
      "display": null,
      "flex": null,
      "flex_flow": null,
      "grid_area": null,
      "grid_auto_columns": null,
      "grid_auto_flow": null,
      "grid_auto_rows": null,
      "grid_column": null,
      "grid_gap": null,
      "grid_row": null,
      "grid_template_areas": null,
      "grid_template_columns": null,
      "grid_template_rows": null,
      "height": null,
      "justify_content": null,
      "justify_items": null,
      "left": null,
      "margin": null,
      "max_height": null,
      "max_width": null,
      "min_height": null,
      "min_width": null,
      "object_fit": null,
      "object_position": null,
      "order": null,
      "overflow": null,
      "overflow_x": null,
      "overflow_y": null,
      "padding": null,
      "right": null,
      "top": null,
      "visibility": null,
      "width": null
     }
    },
    "726c0939f295406dbfac8b044ac6fa22": {
     "model_module": "@jupyter-widgets/base",
     "model_name": "LayoutModel",
     "model_module_version": "1.2.0",
     "state": {
      "_model_module": "@jupyter-widgets/base",
      "_model_module_version": "1.2.0",
      "_model_name": "LayoutModel",
      "_view_count": null,
      "_view_module": "@jupyter-widgets/base",
      "_view_module_version": "1.2.0",
      "_view_name": "LayoutView",
      "align_content": null,
      "align_items": null,
      "align_self": null,
      "border": null,
      "bottom": null,
      "display": null,
      "flex": null,
      "flex_flow": null,
      "grid_area": null,
      "grid_auto_columns": null,
      "grid_auto_flow": null,
      "grid_auto_rows": null,
      "grid_column": null,
      "grid_gap": null,
      "grid_row": null,
      "grid_template_areas": null,
      "grid_template_columns": null,
      "grid_template_rows": null,
      "height": null,
      "justify_content": null,
      "justify_items": null,
      "left": null,
      "margin": null,
      "max_height": null,
      "max_width": null,
      "min_height": null,
      "min_width": null,
      "object_fit": null,
      "object_position": null,
      "order": null,
      "overflow": null,
      "overflow_x": null,
      "overflow_y": null,
      "padding": null,
      "right": null,
      "top": null,
      "visibility": null,
      "width": null
     }
    },
    "91293bb99b94455d8cf9a3ee46015eef": {
     "model_module": "@jupyter-widgets/controls",
     "model_name": "SliderStyleModel",
     "model_module_version": "1.5.0",
     "state": {
      "_model_module": "@jupyter-widgets/controls",
      "_model_module_version": "1.5.0",
      "_model_name": "SliderStyleModel",
      "_view_count": null,
      "_view_module": "@jupyter-widgets/base",
      "_view_module_version": "1.2.0",
      "_view_name": "StyleView",
      "description_width": "",
      "handle_color": null
     }
    },
    "e0081305ea7043ccbd2a6164bafa3737": {
     "model_module": "@jupyter-widgets/base",
     "model_name": "LayoutModel",
     "model_module_version": "1.2.0",
     "state": {
      "_model_module": "@jupyter-widgets/base",
      "_model_module_version": "1.2.0",
      "_model_name": "LayoutModel",
      "_view_count": null,
      "_view_module": "@jupyter-widgets/base",
      "_view_module_version": "1.2.0",
      "_view_name": "LayoutView",
      "align_content": null,
      "align_items": null,
      "align_self": null,
      "border": null,
      "bottom": null,
      "display": null,
      "flex": null,
      "flex_flow": null,
      "grid_area": null,
      "grid_auto_columns": null,
      "grid_auto_flow": null,
      "grid_auto_rows": null,
      "grid_column": null,
      "grid_gap": null,
      "grid_row": null,
      "grid_template_areas": null,
      "grid_template_columns": null,
      "grid_template_rows": null,
      "height": null,
      "justify_content": null,
      "justify_items": null,
      "left": null,
      "margin": null,
      "max_height": null,
      "max_width": null,
      "min_height": null,
      "min_width": null,
      "object_fit": null,
      "object_position": null,
      "order": null,
      "overflow": null,
      "overflow_x": null,
      "overflow_y": null,
      "padding": null,
      "right": null,
      "top": null,
      "visibility": null,
      "width": null
     }
    },
    "d0c33e72c2424d6ebe820f897301e7ab": {
     "model_module": "@jupyter-widgets/controls",
     "model_name": "VBoxModel",
     "model_module_version": "1.5.0",
     "state": {
      "_dom_classes": [
       "widget-interact"
      ],
      "_model_module": "@jupyter-widgets/controls",
      "_model_module_version": "1.5.0",
      "_model_name": "VBoxModel",
      "_view_count": null,
      "_view_module": "@jupyter-widgets/controls",
      "_view_module_version": "1.5.0",
      "_view_name": "VBoxView",
      "box_style": "",
      "children": [
       "IPY_MODEL_0ca39552d4bb498abecfed839c4f4b69",
       "IPY_MODEL_b599deed264841969e374719ae742c19",
       "IPY_MODEL_9f0637862c67408484a8e743ba67a167"
      ],
      "layout": "IPY_MODEL_54c5a9915cdc4b0386bba74c3cb9707a"
     }
    },
    "0ca39552d4bb498abecfed839c4f4b69": {
     "model_module": "@jupyter-widgets/controls",
     "model_name": "DropdownModel",
     "model_module_version": "1.5.0",
     "state": {
      "_dom_classes": [],
      "_model_module": "@jupyter-widgets/controls",
      "_model_module_version": "1.5.0",
      "_model_name": "DropdownModel",
      "_options_labels": [
       "Temperature",
       "Humidity",
       "WindSpeed",
       "GeneralDiffuseFlows",
       "DiffuseFlows",
       "PowerConsumption_Zone1",
       "PowerConsumption_Zone2",
       "PowerConsumption_Zone3"
      ],
      "_view_count": null,
      "_view_module": "@jupyter-widgets/controls",
      "_view_module_version": "1.5.0",
      "_view_name": "DropdownView",
      "description": "Columna:",
      "description_tooltip": null,
      "disabled": false,
      "index": 0,
      "layout": "IPY_MODEL_e978a0f8f6e343bfb71425439069782a",
      "style": "IPY_MODEL_5487e9a891b447f88b494305dce045a0"
     }
    },
    "b599deed264841969e374719ae742c19": {
     "model_module": "@jupyter-widgets/controls",
     "model_name": "IntSliderModel",
     "model_module_version": "1.5.0",
     "state": {
      "_dom_classes": [],
      "_model_module": "@jupyter-widgets/controls",
      "_model_module_version": "1.5.0",
      "_model_name": "IntSliderModel",
      "_view_count": null,
      "_view_module": "@jupyter-widgets/controls",
      "_view_module_version": "1.5.0",
      "_view_name": "IntSliderView",
      "continuous_update": false,
      "description": "Bins:",
      "description_tooltip": null,
      "disabled": false,
      "layout": "IPY_MODEL_8fdcccdd7e614df8b82d526489dd9a64",
      "max": 100,
      "min": 10,
      "orientation": "horizontal",
      "readout": true,
      "readout_format": "d",
      "step": 5,
      "style": "IPY_MODEL_a9405e3006fe4dedb5f2402e1bf5bb32",
      "value": 30
     }
    },
    "9f0637862c67408484a8e743ba67a167": {
     "model_module": "@jupyter-widgets/output",
     "model_name": "OutputModel",
     "model_module_version": "1.0.0",
     "state": {
      "_dom_classes": [],
      "_model_module": "@jupyter-widgets/output",
      "_model_module_version": "1.0.0",
      "_model_name": "OutputModel",
      "_view_count": null,
      "_view_module": "@jupyter-widgets/output",
      "_view_module_version": "1.0.0",
      "_view_name": "OutputView",
      "layout": "IPY_MODEL_e95ab5b93ce4425383cacb023ac2fa2d",
      "msg_id": "",
      "outputs": [
       {
        "output_type": "display_data",
        "data": {
         "text/plain": "<Figure size 640x480 with 1 Axes>",
         "image/png": "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\n"
        },
        "metadata": {}
       }
      ]
     }
    },
    "54c5a9915cdc4b0386bba74c3cb9707a": {
     "model_module": "@jupyter-widgets/base",
     "model_name": "LayoutModel",
     "model_module_version": "1.2.0",
     "state": {
      "_model_module": "@jupyter-widgets/base",
      "_model_module_version": "1.2.0",
      "_model_name": "LayoutModel",
      "_view_count": null,
      "_view_module": "@jupyter-widgets/base",
      "_view_module_version": "1.2.0",
      "_view_name": "LayoutView",
      "align_content": null,
      "align_items": null,
      "align_self": null,
      "border": null,
      "bottom": null,
      "display": null,
      "flex": null,
      "flex_flow": null,
      "grid_area": null,
      "grid_auto_columns": null,
      "grid_auto_flow": null,
      "grid_auto_rows": null,
      "grid_column": null,
      "grid_gap": null,
      "grid_row": null,
      "grid_template_areas": null,
      "grid_template_columns": null,
      "grid_template_rows": null,
      "height": null,
      "justify_content": null,
      "justify_items": null,
      "left": null,
      "margin": null,
      "max_height": null,
      "max_width": null,
      "min_height": null,
      "min_width": null,
      "object_fit": null,
      "object_position": null,
      "order": null,
      "overflow": null,
      "overflow_x": null,
      "overflow_y": null,
      "padding": null,
      "right": null,
      "top": null,
      "visibility": null,
      "width": null
     }
    },
    "e978a0f8f6e343bfb71425439069782a": {
     "model_module": "@jupyter-widgets/base",
     "model_name": "LayoutModel",
     "model_module_version": "1.2.0",
     "state": {
      "_model_module": "@jupyter-widgets/base",
      "_model_module_version": "1.2.0",
      "_model_name": "LayoutModel",
      "_view_count": null,
      "_view_module": "@jupyter-widgets/base",
      "_view_module_version": "1.2.0",
      "_view_name": "LayoutView",
      "align_content": null,
      "align_items": null,
      "align_self": null,
      "border": null,
      "bottom": null,
      "display": null,
      "flex": null,
      "flex_flow": null,
      "grid_area": null,
      "grid_auto_columns": null,
      "grid_auto_flow": null,
      "grid_auto_rows": null,
      "grid_column": null,
      "grid_gap": null,
      "grid_row": null,
      "grid_template_areas": null,
      "grid_template_columns": null,
      "grid_template_rows": null,
      "height": null,
      "justify_content": null,
      "justify_items": null,
      "left": null,
      "margin": null,
      "max_height": null,
      "max_width": null,
      "min_height": null,
      "min_width": null,
      "object_fit": null,
      "object_position": null,
      "order": null,
      "overflow": null,
      "overflow_x": null,
      "overflow_y": null,
      "padding": null,
      "right": null,
      "top": null,
      "visibility": null,
      "width": null
     }
    },
    "5487e9a891b447f88b494305dce045a0": {
     "model_module": "@jupyter-widgets/controls",
     "model_name": "DescriptionStyleModel",
     "model_module_version": "1.5.0",
     "state": {
      "_model_module": "@jupyter-widgets/controls",
      "_model_module_version": "1.5.0",
      "_model_name": "DescriptionStyleModel",
      "_view_count": null,
      "_view_module": "@jupyter-widgets/base",
      "_view_module_version": "1.2.0",
      "_view_name": "StyleView",
      "description_width": ""
     }
    },
    "8fdcccdd7e614df8b82d526489dd9a64": {
     "model_module": "@jupyter-widgets/base",
     "model_name": "LayoutModel",
     "model_module_version": "1.2.0",
     "state": {
      "_model_module": "@jupyter-widgets/base",
      "_model_module_version": "1.2.0",
      "_model_name": "LayoutModel",
      "_view_count": null,
      "_view_module": "@jupyter-widgets/base",
      "_view_module_version": "1.2.0",
      "_view_name": "LayoutView",
      "align_content": null,
      "align_items": null,
      "align_self": null,
      "border": null,
      "bottom": null,
      "display": null,
      "flex": null,
      "flex_flow": null,
      "grid_area": null,
      "grid_auto_columns": null,
      "grid_auto_flow": null,
      "grid_auto_rows": null,
      "grid_column": null,
      "grid_gap": null,
      "grid_row": null,
      "grid_template_areas": null,
      "grid_template_columns": null,
      "grid_template_rows": null,
      "height": null,
      "justify_content": null,
      "justify_items": null,
      "left": null,
      "margin": null,
      "max_height": null,
      "max_width": null,
      "min_height": null,
      "min_width": null,
      "object_fit": null,
      "object_position": null,
      "order": null,
      "overflow": null,
      "overflow_x": null,
      "overflow_y": null,
      "padding": null,
      "right": null,
      "top": null,
      "visibility": null,
      "width": null
     }
    },
    "a9405e3006fe4dedb5f2402e1bf5bb32": {
     "model_module": "@jupyter-widgets/controls",
     "model_name": "SliderStyleModel",
     "model_module_version": "1.5.0",
     "state": {
      "_model_module": "@jupyter-widgets/controls",
      "_model_module_version": "1.5.0",
      "_model_name": "SliderStyleModel",
      "_view_count": null,
      "_view_module": "@jupyter-widgets/base",
      "_view_module_version": "1.2.0",
      "_view_name": "StyleView",
      "description_width": "",
      "handle_color": null
     }
    },
    "e95ab5b93ce4425383cacb023ac2fa2d": {
     "model_module": "@jupyter-widgets/base",
     "model_name": "LayoutModel",
     "model_module_version": "1.2.0",
     "state": {
      "_model_module": "@jupyter-widgets/base",
      "_model_module_version": "1.2.0",
      "_model_name": "LayoutModel",
      "_view_count": null,
      "_view_module": "@jupyter-widgets/base",
      "_view_module_version": "1.2.0",
      "_view_name": "LayoutView",
      "align_content": null,
      "align_items": null,
      "align_self": null,
      "border": null,
      "bottom": null,
      "display": null,
      "flex": null,
      "flex_flow": null,
      "grid_area": null,
      "grid_auto_columns": null,
      "grid_auto_flow": null,
      "grid_auto_rows": null,
      "grid_column": null,
      "grid_gap": null,
      "grid_row": null,
      "grid_template_areas": null,
      "grid_template_columns": null,
      "grid_template_rows": null,
      "height": null,
      "justify_content": null,
      "justify_items": null,
      "left": null,
      "margin": null,
      "max_height": null,
      "max_width": null,
      "min_height": null,
      "min_width": null,
      "object_fit": null,
      "object_position": null,
      "order": null,
      "overflow": null,
      "overflow_x": null,
      "overflow_y": null,
      "padding": null,
      "right": null,
      "top": null,
      "visibility": null,
      "width": null
     }
    },
    "4b5fe3d010cf4162a16fc0cdcfc76475": {
     "model_module": "@jupyter-widgets/controls",
     "model_name": "VBoxModel",
     "model_module_version": "1.5.0",
     "state": {
      "_dom_classes": [
       "widget-interact"
      ],
      "_model_module": "@jupyter-widgets/controls",
      "_model_module_version": "1.5.0",
      "_model_name": "VBoxModel",
      "_view_count": null,
      "_view_module": "@jupyter-widgets/controls",
      "_view_module_version": "1.5.0",
      "_view_name": "VBoxView",
      "box_style": "",
      "children": [
       "IPY_MODEL_47d12008bacd4a0e9e2ec86c9e09c8f5",
       "IPY_MODEL_4fe08e691c454957b1c100b14c8c457c",
       "IPY_MODEL_1adbb645f887439086eb8105bf913680"
      ],
      "layout": "IPY_MODEL_1a4eda3245b340f799611355cfd6ce41"
     }
    },
    "47d12008bacd4a0e9e2ec86c9e09c8f5": {
     "model_module": "@jupyter-widgets/controls",
     "model_name": "DropdownModel",
     "model_module_version": "1.5.0",
     "state": {
      "_dom_classes": [],
      "_model_module": "@jupyter-widgets/controls",
      "_model_module_version": "1.5.0",
      "_model_name": "DropdownModel",
      "_options_labels": [
       "Temperature",
       "Humidity",
       "WindSpeed",
       "GeneralDiffuseFlows",
       "DiffuseFlows",
       "PowerConsumption_Zone1",
       "PowerConsumption_Zone2",
       "PowerConsumption_Zone3",
       "month"
      ],
      "_view_count": null,
      "_view_module": "@jupyter-widgets/controls",
      "_view_module_version": "1.5.0",
      "_view_name": "DropdownView",
      "description": "Columna:",
      "description_tooltip": null,
      "disabled": false,
      "index": 0,
      "layout": "IPY_MODEL_6d2fe68c8f264f9ba28d0cfbddf75858",
      "style": "IPY_MODEL_615984b3a3224ac4b0ebcc3666381479"
     }
    },
    "4fe08e691c454957b1c100b14c8c457c": {
     "model_module": "@jupyter-widgets/controls",
     "model_name": "IntSliderModel",
     "model_module_version": "1.5.0",
     "state": {
      "_dom_classes": [],
      "_model_module": "@jupyter-widgets/controls",
      "_model_module_version": "1.5.0",
      "_model_name": "IntSliderModel",
      "_view_count": null,
      "_view_module": "@jupyter-widgets/controls",
      "_view_module_version": "1.5.0",
      "_view_name": "IntSliderView",
      "continuous_update": false,
      "description": "Bins:",
      "description_tooltip": null,
      "disabled": false,
      "layout": "IPY_MODEL_5f8f067413fd474b854c2b2c5c20cac5",
      "max": 100,
      "min": 10,
      "orientation": "horizontal",
      "readout": true,
      "readout_format": "d",
      "step": 5,
      "style": "IPY_MODEL_a8b54e5cf1cf409485aff126cddb3a0f",
      "value": 30
     }
    },
    "1adbb645f887439086eb8105bf913680": {
     "model_module": "@jupyter-widgets/output",
     "model_name": "OutputModel",
     "model_module_version": "1.0.0",
     "state": {
      "_dom_classes": [],
      "_model_module": "@jupyter-widgets/output",
      "_model_module_version": "1.0.0",
      "_model_name": "OutputModel",
      "_view_count": null,
      "_view_module": "@jupyter-widgets/output",
      "_view_module_version": "1.0.0",
      "_view_name": "OutputView",
      "layout": "IPY_MODEL_38f80f9de82a4e1697ba21d8fd739bc0",
      "msg_id": "9a3dc59e-70f3-48f0-ae50-8fdc2242b053",
      "outputs": [
       {
        "output_type": "display_data",
        "data": {
         "text/plain": "<Figure size 640x480 with 1 Axes>",
         "image/png": "iVBORw0KGgoAAAANSUhEUgAAAkQAAAHHCAYAAABeLEexAAAAOXRFWHRTb2Z0d2FyZQBNYXRwbG90bGliIHZlcnNpb24zLjkuMiwgaHR0cHM6Ly9tYXRwbG90bGliLm9yZy8hTgPZAAAACXBIWXMAAA9hAAAPYQGoP6dpAAB1lElEQVR4nO3dd3gU5d7G8e8mkBDSAymEElqE0JtSRLqCoAJiQUABESygB+ycoxQVUWxYECznFQtYD6ACUqQK0qQqhCItCAQSIIQ00ub9Y8zKklCSbDJJ9v5c17qzU+91s+GXmed5xmYYhoGIiIiIC3OzOoCIiIiI1VQQiYiIiMtTQSQiIiIuTwWRiIiIuDwVRCIiIuLyVBCJiIiIy1NBJCIiIi5PBZGIiIi4PBVEIiIi4vJUEInLq1mzJkOGDLE6hpQhM2fOxGazcejQIaujiMhVUkEkZUrOP0S//fZbnss7depEo0aNCn2chQsXMmHChELvR65syJAh+Pj45Jq/Y8cOKleuTM2aNe2FR6dOnbDZbNhsNtzc3PDz86NevXrce++9LF26NM/916xZ077NxY8ePXoU5Vu7KpfLd+Fj5syZVke1zOzZs5k6darVMaSUK2d1ABGr7dmzBze3/P1tsHDhQqZNm6aiyCJ//PEHXbt2xdvbmxUrVlCzZk37smrVqjF58mQAkpOT+fPPP5kzZw5ffPEFd911F1988QXly5d32F+zZs144oknch0nPDy8SN/H1Zg6dSpJSUn21wsXLuTLL7/krbfeonLlyvb57dq1syJeiTB79mz++OMPRo8ebXUUKcVUEInL8/T0tDpCviUnJ+Pt7W11DEvs3LmTLl264OXlxYoVK6hVq5bDcn9/fwYNGuQw75VXXuGxxx7j/fffp2bNmrz66qsOy6tWrZprm5KiT58+Dq9jY2P58ssv6dOnj0MhWJakpKRQsWJFq2OUmBxSPHTJTFzexW2IMjIymDhxIpGRkVSoUIFKlSrRvn17+yWXIUOGMG3aNACHSxY5kpOTeeKJJ6hevTqenp7Uq1eP119/HcMwHI6bmprKY489RuXKlfH19eW2227j6NGj2Gw2hzNPEyZMwGazsWvXLgYMGEBgYCDt27cHzMtGQ4YMoXbt2lSoUIGwsDDuv/9+Tp065XCsnH3s3buXQYMG4e/vT3BwMM8//zyGYXDkyBF69+6Nn58fYWFhvPHGGw7bp6enM27cOFq2bIm/vz/e3t7ccMMNrFix4or/fwcPHkzlypXJyMjIteymm26iXr16V9xHjujoaLp27YqnpycrVqygdu3aV7Wdu7s777zzDg0aNOC9997j7NmzV33MK7mwQKtWrRovvfQS2dnZea77008/ccMNN+Dt7Y2vry+9evVi586dTsnxxRdf0LJlS7y8vAgKCqJ///4cOXLEYZ2cS8Y7duygY8eOVKxYkbp16/Ldd98BsGrVKlq3bo2Xlxf16tXj559/dtg+5+do9+7d3HXXXfj5+VGpUiX+9a9/kZaWVqhMmzdvpkOHDlSsWJF///vfAHz//ff06tWL8PBwPD09qVOnDi+++CJZWVkO2y9YsIDDhw/bv4s5heKl2nKtXLkSm83GypUrryrH+fPnGT9+PHXr1sXT05Pq1avz9NNPc/78+av/gKTE0xkiKZPOnj1LfHx8rvl5/aN8sQkTJjB58mQeeOABrrvuOhITE/ntt9/YsmULN954Iw8++CDHjh1j6dKlfP755w7bGobBbbfdxooVKxg2bBjNmjVj8eLFPPXUUxw9epS33nrLvu6QIUP45ptvuPfee2nTpg2rVq2iV69el8x15513EhkZycsvv2wvrpYuXcqBAwcYOnQoYWFh7Ny5kw8//JCdO3eyfv16h0IN4O677yYqKopXXnmFBQsW8NJLLxEUFMQHH3xAly5dePXVV5k1axZPPvkk1157LR06dAAgMTGRjz/+mHvuuYfhw4dz7tw5/vvf/9K9e3c2btxIs2bNLpn73nvv5bPPPmPx4sXccsst9vmxsbEsX76c8ePHX/EzAfPSZpcuXShXrhwrVqygTp06V7VdDnd3d+655x6ef/551qxZ4/D/OiMjI8+fF29vb7y8vC65z9jYWDp37kxmZibPPvss3t7efPjhh3lu8/nnnzN48GC6d+/Oq6++SkpKCtOnT6d9+/Zs3bq1UGd7Jk2axPPPP89dd93FAw88QFxcHO+++y4dOnRg69atBAQE2Nc9c+YMt9xyC/379+fOO+9k+vTp9O/fn1mzZjF69GgeeughBgwYwGuvvcYdd9zBkSNH8PX1dTjeXXfdRc2aNZk8eTLr16/nnXfe4cyZM3z22WcFynTq1Cluvvlm+vfvz6BBgwgNDQXMgsbHx4fHH38cHx8fli9fzrhx40hMTOS1114D4D//+Q9nz57lr7/+sn+/8mpzdjXyypGdnc1tt93GmjVrGDFiBFFRUfz++++89dZb7N27l3nz5hXoWFICGSJlyCeffGIAl300bNjQYZuIiAhj8ODB9tdNmzY1evXqddnjjBw50sjr6zNv3jwDMF566SWH+XfccYdhs9mMP//80zAMw9i8ebMBGKNHj3ZYb8iQIQZgjB8/3j5v/PjxBmDcc889uY6XkpKSa96XX35pAMbq1atz7WPEiBH2eZmZmUa1atUMm81mvPLKK/b5Z86cMby8vBz+n2RmZhrnz593OM6ZM2eM0NBQ4/7778+V4UJZWVlGtWrVjLvvvtth/ptvvmnYbDbjwIEDl91+8ODBRvny5Y0qVaoY4eHhxt69ey+5bseOHXN9vheaO3euARhvv/22fV5ERMQlf1YmT5582WyjR482AGPDhg32eSdPnjT8/f0NwDh48KBhGIZx7tw5IyAgwBg+fLjD9rGxsYa/v3+u+Zfz2muvOez70KFDhru7uzFp0iSH9X7//XejXLlyDvM7duxoAMbs2bPt83bv3m0Ahpubm7F+/Xr7/MWLFxuA8cknn9jn5fwc3XbbbQ7HeuSRRwzA2L59e4EzzZgxI9d7zevn+8EHHzQqVqxopKWl2ef16tXLiIiIyLVuzu+DnP9XOVasWGEAxooVK66Y4/PPPzfc3NyMX375xWH+jBkzDMBYu3ZtruNK6aRLZlImTZs2jaVLl+Z6NGnS5IrbBgQEsHPnTvbt25fv4y5cuBB3d3cee+wxh/lPPPEEhmHw008/AbBo0SIAHnnkEYf1Hn300Uvu+6GHHso178IzEWlpacTHx9OmTRsAtmzZkmv9Bx54wD7t7u5Oq1atMAyDYcOG2ecHBARQr149Dhw44LCuh4cHANnZ2Zw+fZrMzExatWqV53Eu5ObmxsCBA/nhhx84d+6cff6sWbNo165drjZAecnKyiI+Pp6goCCHhsT5lXPm4MIcAK1bt87z5+Wee+657P4WLlxImzZtuO666+zzgoODGThwoMN6S5cuJSEhgXvuuYf4+Hj7w93dndatW1/VpcdLmTNnDtnZ2dx1110O+w4LCyMyMjLXvn18fOjfv7/9db169QgICCAqKorWrVs7/D8BHH4OcowcOdLhdc7P7cKFCwuUydPTk6FDh+Y6zoU/3+fOnSM+Pp4bbriBlJQUdu/efVX/f/IjrxzffvstUVFR1K9f3+G9dOnSBaBQn52ULLpkJmXSddddR6tWrXLNDwwMzPPSyIVeeOEFevfuzTXXXEOjRo3o0aMH995771UVU4cPHyY8PDzXJYaoqCj78pxnNze3XMVA3bp1L7nvvAqH06dPM3HiRL766itOnjzpsCyvdjI1atRweO3v70+FChVyFRn+/v652iF9+umnvPHGG+zevdvh0uPVFDT33Xcfr776KnPnzuW+++5jz549bN68mRkzZlxxWzD/Yfz4448ZOHAgvXr1YunSpQVqVJ7TW+viz6dy5cp069Yt3/s7fPiwQxGR4+J2UTnFdc4/ohfz8/PL97Ev3LdhGERGRua5/OIeddWqVct1KdXf35/q1avnmgfmJbaLXXysOnXq4ObmZm+rk99MVatWtRfcF9q5cyfPPfccy5cvJzEx0WGZM9uBXS7Hvn37iI6OJjg4OM9tLv7eSemlgkjkIh06dGD//v18//33LFmyhI8//pi33nqLGTNmOJxhKW55tUu56667+PXXX3nqqado1qwZPj4+ZGdn06NHjzwb9rq7u1/VPMChEfgXX3zBkCFD6NOnD0899RQhISG4u7szefJk9u/ff8XsDRo0oGXLlnzxxRfcd999fPHFF3h4eHDXXXddcdsc/fv358yZMzzyyCPcfvvt/Pjjj3n+I3o5f/zxB3D5wrMo5HwWn3/+OWFhYbmWlytX8F/F2dnZ2Gw2fvrppzw/y4vb01zq876an4NLubjAym+mvH62ExIS6NixI35+frzwwgvUqVOHChUqsGXLFp555plLNly/XK4cFzbKvlKO7OxsGjduzJtvvpnnNhcXklJ6qSASyUNQUBBDhw5l6NChJCUl0aFDByZMmGAviC71izYiIoKff/6Zc+fOOZyFyDm9HxERYX/Ozs7m4MGDDn9F//nnn1ed8cyZMyxbtoyJEycybtw4+/yCXOq7ku+++47atWszZ84ch/d+tQ2iwTxL9Pjjj3P8+HFmz55Nr169CAwMzFeOhx9+mNOnT/Pcc88xaNAgvvrqq6seQyorK4vZs2dTsWJFey+9woqIiMjz//eePXscXuc0AA8JCSnQmajLqVOnDoZhUKtWLa655hqn7vtS9u3b53Bm8M8//yQ7O9veMNwZmVauXMmpU6eYM2eOvXE/wMGDB3Ote6nvY87PV0JCgsP8nDO1V6NOnTps376drl27XvI4UjaoDZHIRS6+VOTj40PdunUdutjmXK65+Bdtz549ycrK4r333nOY/9Zbb2Gz2bj55psB6N69OwDvv/++w3rvvvvuVefM+cv74r/gi2LE3ryOtWHDBtatW3fV+7jnnnuw2Wz861//4sCBAwUe9+c///kPY8aM4dtvv+XBBx+8qm2ysrJ47LHHiI6O5rHHHivUJaoL9ezZk/Xr17Nx40b7vLi4OGbNmuWwXvfu3fHz8+Pll1/Os6djXFxcgTPcfvvtuLu7M3HixFw/C4Zh5Pp5doacYSdy5Pzc5vx8OyNTXj9z6enpub4zYH4f87qEllOIrl692j4vKyuLDz/88IrHz3HXXXdx9OhRPvroo1zLUlNTSU5Ovup9ScmmM0QiF2nQoAGdOnWiZcuWBAUF8dtvv/Hdd98xatQo+zotW7YE4LHHHqN79+64u7vTv39/br31Vjp37sx//vMfDh06RNOmTVmyZAnff/89o0ePtv+CbtmyJf369WPq1KmcOnXK3u1+7969wKX/4r2Qn58fHTp0YMqUKWRkZFC1alWWLFmS51/QhXXLLbcwZ84c+vbtS69evTh48CAzZsygQYMGDqMoX05wcDA9evTg22+/JSAg4LJDDFzJG2+8wZkzZ/j4448JCgpyGGjx7NmzfPHFF4A5sF7OSNX79++nf//+vPjii7n2d/ToUfs2F/Lx8ck1MOKFnn76aT7//HN69OjBv/71L3u3+4iICHbs2GFfz8/Pj+nTp3PvvffSokUL+vfvT3BwMDExMSxYsIDrr78+VxF9terUqcNLL73E2LFjOXToEH369MHX15eDBw8yd+5cRowYwZNPPlmgfV/KwYMHue222+jRowfr1q3jiy++YMCAATRt2tRpmdq1a0dgYCCDBw/msccew2az8fnnn+d5Ca9ly5Z8/fXXPP7441x77bX4+Phw66230rBhQ9q0acPYsWM5ffo0QUFBfPXVV2RmZl71e7333nv55ptveOihh1ixYgXXX389WVlZ7N69m2+++YbFixfn2V5RSqHi79gmUnRyutlu2rQpz+V5dcu+uNv9Sy+9ZFx33XVGQECA4eXlZdSvX9+YNGmSkZ6ebl8nMzPTePTRR43g4GDDZrM5dME/d+6cMWbMGCM8PNwoX768ERkZabz22mtGdna2w3GTk5ONkSNHGkFBQYaPj4/Rp08fY8+ePQbg0A0+p6tzXFxcrvfz119/GX379jUCAgIMf39/48477zSOHTt2ya77F+9j8ODBhre39xX/P2VnZxsvv/yyERERYXh6ehrNmzc35s+fbwwePDjP7s6X8s033+Tq/n8ll8qYmZlp9OnTx6F7fE7X6ZyHj4+PERkZaQwaNMhYsmRJnvu/XLf7q3lvO3bsMDp27GhUqFDBqFq1qvHiiy8a//3vfy/Z3bt79+6Gv7+/UaFCBaNOnTrGkCFDjN9+++2q/39c3O0+x//+9z+jffv2hre3t+Ht7W3Ur1/fGDlypLFnzx77OpcaliAiIiLPoSYAY+TIkfbXOT9Hu3btMu644w7D19fXCAwMNEaNGmWkpqbm2r4wmQzDMNauXWu0adPG8PLyMsLDw42nn37aPhzAhV3mk5KSjAEDBhgBAQG5Prf9+/cb3bp1Mzw9PY3Q0FDj3//+t7F06dI8u91fKkd6errx6quvGg0bNjQ8PT2NwMBAo2XLlsbEiRONs2fP5rmNlD42w7iKFnMiUiy2bdtG8+bN+eKLL3J13S4Lvv/+e/r06cPq1au54YYbrI4j+TRhwgQmTpxIXFxcoYY/ECmJ1IZIxCKpqam55k2dOhU3NzeHRqRlyUcffUTt2rWd1qhZRMRZ1IZIxCJTpkxh8+bNdO7cmXLlyvHTTz/x008/MWLEiDLXlferr75ix44dLFiwgLffflu9dUSkxFFBJGKRdu3asXTpUl588UWSkpKoUaMGEyZM4D//+Y/V0ZzunnvuwcfHh2HDhuUanVtEpCRQGyIRERFxeWpDJCIiIi5PBZGIiIi4PLUhugrZ2dkcO3YMX19fNQYVEREpJQzD4Ny5c4SHh1/xNj8qiK7CsWPHylyvHxEREVdx5MgRqlWrdtl1VBBdhZybdB45csRp90ASERGRopWYmEj16tUdbrZ9KSqIrkLOZTI/Pz8VRCIiIqXM1TR3UaNqERERcXkqiERERMTlqSASERERl6eCSERERFyeCiIRERFxeSqIRERExOVZWhCtXr2aW2+9lfDwcGw2G/PmzbMvy8jI4JlnnqFx48Z4e3sTHh7Offfdx7Fjxxz2cfr0aQYOHIifnx8BAQEMGzaMpKQkh3V27NjBDTfcQIUKFahevTpTpkwpjrcnIiIipYSlBVFycjJNmzZl2rRpuZalpKSwZcsWnn/+ebZs2cKcOXPYs2cPt912m8N6AwcOZOfOnSxdupT58+ezevVqRowYYV+emJjITTfdREREBJs3b+a1115jwoQJfPjhh0X+/kRERKR0sBmGYVgdAsxBk+bOnUufPn0uuc6mTZu47rrrOHz4MDVq1CA6OpoGDRqwadMmWrVqBcCiRYvo2bMnf/31F+Hh4UyfPp3//Oc/xMbG4uHhAcCzzz7LvHnz2L1791VlS0xMxN/fn7Nnz2pgRhERkVIiP/9+l6o2RGfPnsVmsxEQEADAunXrCAgIsBdDAN26dcPNzY0NGzbY1+nQoYO9GALo3r07e/bs4cyZM3ke5/z58yQmJjo8REREpOwqNQVRWloazzzzDPfcc4+9youNjSUkJMRhvXLlyhEUFERsbKx9ndDQUId1cl7nrHOxyZMn4+/vb3/oxq4iIiJlW6koiDIyMrjrrrswDIPp06cX+fHGjh3L2bNn7Y8jR44U+TFFRETEOiX+5q45xdDhw4dZvny5wzXAsLAwTp486bB+ZmYmp0+fJiwszL7OiRMnHNbJeZ2zzsU8PT3x9PR05tsQERGREqxEnyHKKYb27dvHzz//TKVKlRyWt23bloSEBDZv3myft3z5crKzs2ndurV9ndWrV5ORkWFfZ+nSpdSrV4/AwMDieSMiIiJSoll6higpKYk///zT/vrgwYNs27aNoKAgqlSpwh133MGWLVuYP38+WVlZ9jY/QUFBeHh4EBUVRY8ePRg+fDgzZswgIyODUaNG0b9/f8LDwwEYMGAAEydOZNiwYTzzzDP88ccfvP3227z11luWvGcRKRoxMTHEx8cXaNvKlStTo0YNJycSkVLFsNCKFSsMINdj8ODBxsGDB/NcBhgrVqyw7+PUqVPGPffcY/j4+Bh+fn7G0KFDjXPnzjkcZ/v27Ub79u0NT09Po2rVqsYrr7ySr5xnz541AOPs2bPOeNsi4mSHDx82vLwqXvJ3xpUeXl4VjcOHD1v9NkTEyfLz73eJGYeoJNM4RCIl25YtW2jZsiV9+35BcHBUvraNi4tm7txBbN68mRYtWhRRQhGxQn7+/S7xjapFRK5WcHAUVaqoqBGR/CvRjapFREREioMKIhEREXF5KohERETE5akgEhEREZengkhERERcngoiERERcXkqiERERMTlqSASERERl6eCSERERFyeCiIRERFxeSqIRERExOWpIBIRERGXp4JIREREXJ4KIhEREXF5KohERETE5akgEhEREZengkhERERcngoiERERcXkqiERERMTlqSASERERl6eCSERERFyeCiIRERFxeSqIRERExOWpIBIRERGXp4JIREREXJ4KIhEREXF5KohERETE5akgEhEREZengkhERERcngoiERERcXkqiERERMTlqSASERERl6eCSERERFyeCiIRcQnZ2bB3L5w9a3USESmJylkdQESkKBkG7NwJK1bA6dNQvjzceCO0agU2m9XpRKSkUEEkImXaypWwerU57eYGGRmwcCH8+Sfcfbel0USkBNElMxEps06fhrVrzen27eGpp6BHDyhXzrx8tn27tflEpORQQSQiZdbixZCVBXXqQJcuUKECtG4NnTuby5cvh/R0/RoUERVEIlJG/fmneRbIzQ26d3dsL9S6NQQFQVISbNsWZl1IESkxVBCJSJm0fLn5fO21EBzsuMzd3WxYDfD77yFA9WLNJiIljwoiESlzTp6E48fNs0MdOuS9Tr16EBEBWVluwPBizSciJY8KIhEpc3bsMJ8jI6FixbzXsdnMrvemwWRlFUcyESmpVBCJSJliGPD77+Z0kyaXX7d+ffD0zARqsHGjb5FnE5GSSwWRiJQphw9DYiJ4esI111x+3XLloE6d0wD8+GOlYkgnIiWVCiIRKVNyzg41aGAWPFdSv/4pAFasCODMmSIMJiIlmgoiESkzsrJs7NplTjdufHXbVKqUCmwnPd2NL78ssmgiUsKpIBKRMiM21pu0NPD2hpo1r24bc3yiTwH49tuiSiYiJZ2lBdHq1au59dZbCQ8Px2azMW/ePIflhmEwbtw4qlSpgpeXF926dWPfvn0O65w+fZqBAwfi5+dHQEAAw4YNIykpyWGdHTt2cMMNN1ChQgWqV6/OlClTivqtiYgF/vrLD4C6dfN749a5gHnPs1OnnJ9LREo+Swui5ORkmjZtyrRp0/JcPmXKFN555x1mzJjBhg0b8Pb2pnv37qSlpdnXGThwIDt37mTp0qXMnz+f1atXM2LECPvyxMREbrrpJiIiIti8eTOvvfYaEyZM4MMPPyzy9ycixevoUbMgql07v1se4pprUsjOhvnznR5LREoBS+92f/PNN3PzzTfnucwwDKZOncpzzz1H7969Afjss88IDQ1l3rx59O/fn+joaBYtWsSmTZto9feAIu+++y49e/bk9ddfJzw8nFmzZpGens7//d//4eHhQcOGDdm2bRtvvvmmQ+EkIqVdZeLjzUGH8l8QQadOZ9m7tyLz5sHgwc5NJiIlX4ltQ3Tw4EFiY2Pp1q2bfZ6/vz+tW7dm3bp1AKxbt46AgAB7MQTQrVs33Nzc2LBhg32dDh064OHhYV+ne/fu7NmzhzOX6FJy/vx5EhMTHR4iUtKZvyvCwsDHJ/9bd+qUAJg3hE1JcWIsESkVSmxBFBsbC0BoaKjD/NDQUPuy2NhYQkJCHJaXK1eOoKAgh3Xy2seFx7jY5MmT8ff3tz+qV9d9jkRKvpuAgp0dArjmmlQiIiA1FZYudWIsESkVSmxBZKWxY8dy9uxZ++PIkSNWRxKRyzAMyCmI6tQp2D5sNujTx5y+qH+HiLiAElsQhYWFAXDixAmH+SdOnLAvCwsL4+TJkw7LMzMzOX36tMM6ee3jwmNczNPTEz8/P4eHiJRcBw5UAKri7p5NjRoF38/fzRWZPx/d20zExZTYgqhWrVqEhYWxbNky+7zExEQ2bNhA27ZtAWjbti0JCQls3rzZvs7y5cvJzs6mdevW9nVWr15NRkaGfZ2lS5dSr149AgMDi+ndiEhR+u038z5kVaokXdXo1JfSvj34+0N8PGza5KRwIlIqWFoQJSUlsW3bNrZt2waYDam3bdtGTEwMNpuN0aNH89JLL/HDDz/w+++/c9999xEeHk6fv89rR0VF0aNHD4YPH87GjRtZu3Yto0aNon///oSHhwMwYMAAPDw8GDZsGDt37uTrr7/m7bff5vHHH7foXYuIs23f7g1AWFjSFda8vPLloXt3c3rBgsKmEpHSxNKC6LfffqN58+Y0b94cgMcff5zmzZszbtw4AJ5++mkeffRRRowYwbXXXktSUhKLFi2iQoUK9n3MmjWL+vXr07VrV3r27En79u0dxhjy9/dnyZIlHDx4kJYtW/LEE08wbtw4dbkXKUNyCqLQ0MIVRAC9epnPKohEXIvNMMzmiHJpiYmJ+Pv7c/bsWbUnEilh/voLzI6gWQwd+js1ajTL1/bHj2/hww9bsnnzZlq0aEFcHISGmg21//oLqlYtitQiUhzy8+93iW1DJCJyNf4elgzYTvny2YXeX3Aw/N0EkYULC707ESklVBCJSKn266/2KaftU5fNRFyPCiIRKdWKsiD6+We44NaJIlKGqSASkVIrNRW2bMl55byCqFkzCA+H5GRYtcppuxWREkwFkYiUWr/9BpmZULlyOnDYafu12aBnT3Nal81EXIMKIhEptXIulzVtmuz0fd9yi/m8YEHOrUFEpCxTQSQipVZOQdSkifMLoq5dwcMDDhyAPXucvnsRKWFUEIlIqWQYF54hKvyAjBfz8YFOncxpXTYTKftUEIlIqfTnn+Y9xzw9oV691CI5Rk5vs/nzi2T3IlKCqCASkVIp5+xQq1bg4VE0jXxyCqI1a+Ds2SI5hIiUECqIRKRUyimI2rUrumPUqQP165s92RYtKrrjiIj1VBCJSKlUHAURQO/e5vP//le0xxERa6kgEpFSJyEBdu40p9u2Ldpj3Xmn+bxgAaSkFO2xRMQ6KohEpNTZsMHsZVanjnln+qLUogXUqmUWQ7rZq0jZpYJIREqd4rpcBuao1Tlnib79tuiPJyLWUEEkIqVOcRZE8E9BNH++LpuJlFUqiESkVMnKgvXrzeniKohatoSaNXXZTKQsU0EkIqXKH39AUhL4+kLDhsVzzAsvm82eXTzHFJHipYJIREqVnMtlbdqAu3vxHfe++8znH36AY8eK77giUjxUEIlIqVLc7YdyNGoE7dubl+z+7/+K99giUvRUEIlIqWJVQQTw4IPm84cfmoWRiJQdKohEpNSIjYUDB8w2Pa1bF//x77gDgoLgyBH46afiP76IFB0VRCJSaqxbZz43agT+/sV//AoVYOhQc/r994v/+CJSdFQQiUipYeXlshwPPmieofrpJ3PEbBEpG1QQiUipURIKoshIGDzYnH76afMWIiJS+pWzOoCIyNU4fx5++82cLoqCKDo6+qrXvfPO8nz5ZUNWr3Zj5syTDB0a4vxAIlKsVBCJSKmweTOkp0NwsHlTV2dJSjoO2Bg0aFA+t3wFeIZhw+Lp0CGNOnVqOC+UiBQ7FUQiUiqsXm0+d+hgtuFxlrS0BMCgc+f3iIxse9XbnT/vzuzZ58nIaMCoUdFMmrQl38euXLkyNWqokBIpCVQQiUipkFMQ3XBD0ew/MLAuVaq0yNc2bdr8xi+/tGLRoigWLRoAfJmv7b28KrJ7d7SKIpESQAWRiJR4WVmwZo053aGDtVkuFBy8B1gM/Ad39y/o1Ws8YWHJV7VtXFw0c+cOIj4+XgWRSAmggkhESrzt2+HcOfDzgyZNrE5zsXGEho7gxIlg5s+vx623QrNmVmcSkfxSt3sRKfFyLpe1b1+8N3S9Otm0br2dqCjIzobvv4cff4S0NKtziUh+qCASkRLvwgbVJVG5clnceec/+bZsgWnTIB89+UXEYiqIRKREM4yib1DtDDYbdO5sDtpYqRIkJcE335hnjNLTrU4nIleigkhESrToaDh1yryPWKtWVqe5spo14aGHzMt7ANu2wQcfQEKChaFE5IpUEIlIibZqlfncti14eFib5WqVKwddu8KQIeZNaE+fhs8/N88aiUjJpIJIREq0xYvN5y5drM1REBERcP/9EBBgFkVffAGpqVanEpG8qCASkRIrPR2WLzene/SwNktB+fnBvfeCjw+cOAGLFlmdSETyUqhxiJKTk1m1ahUxMTGkX9Rq8LHHHitUMBGRdevM8YcqV4YW+RtEukQJCoL+/eHjj2HHDmjeHDw9rU4lIhcqcEG0detWevbsSUpKCsnJyQQFBREfH0/FihUJCQlRQSQihZZzNqV7d3Ar5eezq1aFli3Nm9QuXAi33ebEG7KJSKEV+FfMmDFjuPXWWzlz5gxeXl6sX7+ew4cP07JlS15//XVnZhQRF5XTfqi0Xi67WNeuULEixMXB77+HWB1HRC5Q4IJo27ZtPPHEE7i5ueHu7s758+epXr06U6ZM4d///rczM4qICzpxArZuNadvusnaLM7i5QXdupnTO3aEALpuJlJSFLggKl++PG5/n8MOCQkhJiYGAH9/f44cOeKcdCLispYsMZ9btICQMnQypWlTs6F1Wlp54C6r44jI3wrchqh58+Zs2rSJyMhIOnbsyLhx44iPj+fzzz+nUaNGzswoIi5o4ULzuaxcLsvh5mYOMGn2nhtldRwR+VuBzxC9/PLLVKlSBYBJkyYRGBjIww8/TFxcHB9++KHTAoqI60lONm+QCnDbbdZmKQotWoCbWzZwHX/8UdHqOCJCIc4QtbpgDP2QkBAWaXANEXGSH380i6LateG666xO43ze3lCnzhn27avEN98Ec999VicSkUKNQyQi4kwxMTHEx8czfXptIIDOnY+zdevxK24XXQpvK9+wYRz79lViyZJAEhLM0axFxDr5KohatGjBsmXLCAwMpHnz5thslx5HY8uWLYUOJyKuIyYmhvr1o0hN9QRiAfjvf7vy3/9efbGTlHSuiNI5X0hICrCTjIyGLFgAAwdanUjEteWrIOrduzeefw+v2qdPn6LIIyIuKj4+ntTUFJo1W8a2bR5UqpRCv35fXNW2+/YtZMWK50lLSyvilM42B2jInDkqiESslq+CaPz48XlOF5WsrCwmTJjAF198QWxsLOHh4QwZMoTnnnvOfnbKMAzGjx/PRx99REJCAtdffz3Tp08nMjLSvp/Tp0/z6KOP8uOPP+Lm5ka/fv14++238fHxKfL3ICL5c+JEQwCaN69IlSpXd7+O+PjSd8nMNAd4np9+gpQUc9BGEbFGgXuZbdq0iQ0bNuSav2HDBn777bdChcrx6quvMn36dN577z2io6N59dVXmTJlCu+++659nSlTpvDOO+8wY8YMNmzYgLe3N927d3f4S3HgwIHs3LmTpUuXMn/+fFavXs2IESOcklFEnKkxx4/7AuAao3dsIzz8PKmp/4zKLSLWKHBBNHLkyDwHYDx69CgjR44sVKgcv/76K71796ZXr17UrFmTO+64g5tuuomNGzcC5tmhqVOn8txzz9G7d2+aNGnCZ599xrFjx5g3bx5gNrZctGgRH3/8Ma1bt6Z9+/a8++67fPXVVxw7dswpOUXEWcxR7hs2BH9/i6MUk86dEwCYM8faHCKursAF0a5du2iRx+2nmzdvzq5duwoVKke7du1YtmwZe/fuBWD79u2sWbOGm2++GYCDBw8SGxtLt5yx8DFHym7dujXr1q0DYN26dQQEBDgME9CtWzfc3NzyPMMFcP78eRITEx0eIlK0Dh3yJGfk5htusDZLcerSJQGA+fMhPd3aLCKurMAFkaenJydOnMg1//jx45Qr55ze/M8++yz9+/enfv36lC9fnubNmzN69GgG/t36MDbW7IkSGhrqsF1oaKh9WWxsLCEXjftfrlw5goKC7OtcbPLkyfj7+9sf1atXd8r7EZFLmzkzDHCjRo0ELvpKl2lNmiQTFgYJCbBqldVpRFxXgQuim266ibFjx3L27Fn7vISEBP79739z4403OiXcN998w6xZs5g9ezZbtmzh008/5fXXX+fTTz91yv4vJed95Tx0bzaRohUdDQsXBgHQokXef6iUVW5u/9ye5Oefrc0i4soKfCrn9ddfp0OHDkRERNC8eXMAtm3bRmhoKJ9//rlTwj311FP2s0QAjRs35vDhw0yePJnBgwcTFhYGwIkTJ+y3Ecl53axZMwDCwsI4efKkw34zMzM5ffq0ffuLeXp62ocXEJGilZoKd98NWVk2YAEhIVWuuE1Z07UrzJwJy5ZZnUTEdRX4DFHVqlXZsWMHU6ZMoUGDBrRs2ZK3336b33//3WmXmFJSUnBzc4zo7u5OdnY2ALVq1SIsLIxlF/wWSUxMZMOGDbRt2xaAtm3bkpCQwObNm+3rLF++nOzsbFq3bu2UnCJScKNHw++/Q1BQBjDM6jiW6NLFfN6yBU6ftjaLiKsqVGMfb2/vIu2+fuuttzJp0iRq1KhBw4YN2bp1K2+++Sb3338/ADabjdGjR/PSSy8RGRlJrVq1eP755wkPD7cPHBkVFUWPHj0YPnw4M2bMICMjg1GjRtG/f3/Cw8OLLLuIXF52Nrz8Mnz4Idhs8NJLh3jkkdztEl1BeDhERZmXDletgr59rU4k4noKVRDt27ePFStWcPLkSftZmxzjxo0rVDCAd999l+eff55HHnmEkydPEh4ezoMPPuiw76effprk5GRGjBhBQkIC7du3Z9GiRVSoUMG+zqxZsxg1ahRdu3a1D8z4zjvvFDqfiOSWcz+yyzlyxIPJk2uwYYMfACNGHMPPb2NxxCuxunY1C6Jly1QQiVihwAXRRx99xMMPP0zlypUJCwtzuK+ZzWZzSkHk6+vL1KlTmTp16iXXsdlsvPDCC7zwwguXXCcoKIjZs2cXOo+IXN4/9yNL+XuOJxAB1Pr7URvoCuSMupgMjOKDD2bywQfmnNJ0PzJn6tIF3ntP7YhErFLgguill15i0qRJPPPMM87MIyKlmHk/soo0abKKuLh6xMb6YBi5bwJtsxmEh5+jXbu/CAx8FHi0FN+PzDk6dTJ7nO3eDUePQtWqVicScS0FLojOnDnDnXfe6cwsIlKKZWXBN99UBvaxY0eAfX758hAYCAEB5nNoKFxzjQ1vbz+ggX290ns/MucIDIQWLeC332D5crj3XqsTibiWAhdEd955J0uWLOGhhx5yZh4RKYVOnIDevWHDhhoAVKqUQsuWFalf3yyEbLlPEkkeunY1C6KVK1UQiRS3AhdEdevW5fnnn2f9+vU0btyY8uXLOyx/7LHHCh1OREq+w4fhxhth3z7w8ckkKekx+vZ9gKpVr+5O9fKP9u3h1Vfh11+tTiLiegpcEH344Yf4+PiwatUqVl003rzNZlNBJOICDh6EDh3gr78gIgKmTt1D377TcXN7wOpopdLfw6exezecOgWVKlmbR8SVFLggOnjwoDNziEgpc+4c3HabWQxFRcGSJXDy5HmrY5VqlSpB/fpmQbRuHdxyi9WJRFxHoe/Cmp6ezsGDB6lTp47TbuoqIiVbdrbZxuWPPyAsDJYuNXtFXXSXHLkK0dGOjcnr1avB7t2VmTMnlvDwY5fcrnLlytSoUaOo44m4jAJXMCkpKTz66KP2G63u3buX2rVr8+ijj1K1alWeffZZp4UUkZJl0iT4/nvw9IR589RFvCCSko4DNgYNGnTRkvuB//LJJ7v55JPOl9zey6siu3dHqygScZICF0Rjx45l+/btrFy5kh45t2oGunXrxoQJE1QQiZRRmzfDxInm9AcfgG4JWDBpaQmAQefO7xEZ2dY+PyHBk2++AXf3Dgwduhm3PO44GRcXzdy5g4iPj1dBJOIkBS6I5s2bx9dff02bNm0cRqlu2LAh+/fvd0o4ESlZ0tLgvvvMMYfuugsGD7Y6UekXGFiXKlX+6ZEXFgZeXpCa6ga0oEoV67KJuJIC3+0+Li6OkJCQXPOTk5MdCiQRKTvGjYNdu8zBFadNszpN2WSzQbVq5vSRI9ZmEXElBS6IWrVqxYIFC+yvc4qgjz/+mLZt215qMxEppdasgddfN6c/+ggqV7Y2T1lWvbr5rIJIpPgU+JLZyy+/zM0338yuXbvIzMzk7bffZteuXfz666+5xiUSkdItKcm8PGYYMHQo3Hqr1YnKtpyC6K+/rM0h4koKXBC1b9+ebdu28corr9C4cWOWLFlCixYtWLduHY0bN3ZmRhEpZjExMcTHx9tfv/JKdQ4cCCY0NJ3Bg3exZUt2nttd3IVcCian3VBiolmM+vhYm0fEFRRq4KA6derw0UcfOSuLiJQAMTEx1K8fRWpqyt9zugFLAThxoiedOi274j6Sks4VXUAX4OkJwcEQFwfHjsE111idSKTsK3BBFBMTc9nl6goqUjrFx8eTmppC375f4O/fkG+/bUByMjRocJL27adcdtt9+xayYsXzpKWlFVPasis8XAWRSHEqcEFUs2bNy/Ymy8rKKuiuRaQECA6OYuPGZiQnQ2Ag9O4dgodH7p6lF4qP1yUzZwkPh+3bzYJIRIpegQuirVu3OrzOyMhg69atvPnmm0yaNKnQwUTEWgcP+rNtmzndpw94eFiZxvWEh5vPx46Zjdk1molI0SpwQdS0adNc81q1akV4eDivvfYat99+e6GCiYiVarBqVQQA7dqBroAXv7AwcHOD5GSzcbW/v9WJRMq2Ao9DdCn16tVj06ZNzt6tiBSTjAyAL0lPL0fVqtCli9WJXFO5cpAz9u3Ro9ZmEXEFBT5DlJiY6PDaMAyOHz/OhAkTiIyMLHQwEbHG9OnhQBgeHpn061cOd3erE7mu8HCIjTUvmzVoYHUakbKtwAVRQEBArkbVhmFQvXp1vvrqq0IHE5Hit3gxfPppGAAdOsQQGFjb4kSuLTwctmxRw2qR4lDggmj58uUOBZGbmxvBwcHUrVuXcuUKNbyRiDjBxYMrXklcXHnuuac+UB6YRu3augWP1dSwWqT4FLhy6dSpkxNjiIgz5R5c8UrcMAdfbAxsA54gKWlxUcWTqxQSYrYlOn8eTp+GSpWsTiRSdhW4IJo8eTKhoaHcf//9DvP/7//+j7i4OJ555plChxORgrlwcMXg4Kgrrr95cxibN4dTrlwWLVv+yoYN5zW4Ygng7m72NvvrL/MskQoikaJT4ILogw8+YPbs2bnmN2zYkP79+6sgEikBgoOjqFKlxWXXOXTIbKcCcMst7ri5qX93SVKlyj8FkW4TKVJ0CtztPjY2lio5dyC8QHBwMMePHy9UKBEpHsnJMGeO2T6lWTPIY3gxsVjVquazGlaLFK0CF0TVq1dn7dq1ueavXbuW8JyWgCJSYhkGfP89nDsHlSvDzTdbnUjykvPr9PhxyM62NotIWVbgS2bDhw9n9OjRZGRk0OXvkduWLVvG008/zRNPPOG0gCJSNNatg337zEa7d9yhW3OUVJUqmZ9NejrEx/8zWKOIOFeBC6KnnnqKU6dO8cgjj5Ceng5AhQoVeOaZZxg7dqzTAoqI8x09CsuWmdPdu0NoqLV55NLc3Mx2RIcPm5+bCiKRolHgS2Y2m41XX32VuLg41q9fz/bt2zl9+jTjxo1zZj4RcbLMTPNSWXa2Ofpxy5ZWJ5IruXA8IhEpGoW+l1lsbCynT5+mTp06eHp6YhiGM3KJSBFZvRri4sDbG3r10mB/pYEKIpGiV+CC6NSpU3Tt2pVrrrmGnj172nuWDRs2TG2IREqo2FjI6QvRsydUrGhtHrk6OQXRiROQlWVtFpGyqsAF0ZgxYyhfvjwxMTFUvOC36t13382iRYucEk5EnMcwYP5881JZVJRuFlqaBAaCl5dZDJ04YXUakbKpwI2qlyxZwuLFi6lWrZrD/MjISA4fPlzoYCLiXLt2mY1yy5dXF/vSxmYzzxLt329+hhf92hURJyjwGaLk5GSHM0M5Tp8+jaenZ6FCiYhzZWX906usXTvw9bU2j+Rfzji4GvdWpGgUuCC64YYb+Oyzz+yvbTYb2dnZTJkyhc6dOzslnIg4x2+/wZkzZkPqdu2sTiMFoRGrRYpWgS+ZTZkyha5du/Lbb7+Rnp7O008/zc6dOzl9+nSeI1iLiDXS082eZQCdOmkAxtIqp2H1yZOQmamugSLOVuAzRI0aNWLv3r20b9+e3r17k5yczO23387WrVupU6eOMzOKSCFs2wYpKWbD3BaXv8+rlGC+vuYZPsOA+Hh1DxRxtgKdIcrIyKBHjx7MmDGD//znP87OJCJOkp0N69eb023amKMeS+lks5mXzfbuVUEkUhQK9OuxfPny7Nixw9lZRMTJDh0K4MwZs8t2s2ZWp5HCymlYHRengkjE2Qr89+KgQYP473//68wsIuJkO3aYNylr1Upth8qCnIbVcXHe1gYRKYMK3Kg6MzOT//u//+Pnn3+mZcuWeHs7fkHffPPNQocTkcJozcmT3ri7w3XXWZ1FnCGnYXVCgiegsRNEnKnABdEff/xBi79baO7du9dhmU03RxIpAYYB0KgR+PhYHEWcwtsb/P3h7Fkb0NzqOCJlSr4LogMHDlCrVi1WrFhRFHlExAlSU92A/gA017+bZUp4OJw9C3Ct1VFEypR8tyGKjIwkLi7O/vruu+/mhG6uI1Ki/PxzAOCLn18aNWpYnUacKadhNbSyMoZImZPvgsgwDIfXCxcuJDk52WmBRKTwfvihEgD16p1CV7DLlpyG1SqIRJxLo5KIlDF//glbtvgCWURGnrY6jjjZP2eI6nL2rLuVUUTKlHwXRDabLVej6aJsRH306FEGDRpEpUqV8PLyonHjxvz222/25YZhMG7cOKpUqYKXlxfdunVj3759Dvs4ffo0AwcOxM/Pj4CAAIYNG0ZSUlKRZRax0j+3GFyCj0+GlVGkCHh5gZ9fGgDR0RqPSMRZ8t2o2jAMhgwZYr+jfVpaGg899FCubvdz5swpdLgzZ85w/fXX07lzZ3766SeCg4PZt28fgYGB9nWmTJnCO++8w6effkqtWrV4/vnn6d69O7t27aJChQoADBw4kOPHj7N06VIyMjIYOnQoI0aMYPbs2YXOKFKSGAZ8803Oq8+BJy1MI0UlODiFxMQK7NqlgkjEWfJdEN13330OZ4QGDRrk1EAXevXVV6levTqffPKJfV6tWrXs04ZhMHXqVJ577jl69+4NwGeffUZoaCjz5s2jf//+REdHs2jRIjZt2kSrVuY193fffZeePXvy+uuvE54zsIdIGfD777BnD3h4ZJOe/iMqiMqm4OAU9u8PYtcuDdAo4iz5LohmzpxZBDHy9sMPP9C9e3fuvPNOVq1aRdWqVXnkkUcYPnw4AAcPHiQ2NpZu3brZt/H396d169asW7eO/v37s27dOgICAuzFEEC3bt1wc3Njw4YN9O3bN9dxz58/z/nz5+2vExMTi/BdijjPt9+az23bJrJqlS4Ll1XBwSkAOkMk4kT5bkNUo0YNRo0axdKlS8nMzCyKTHYHDhxg+vTpREZGsnjxYh5++GEee+wxPv30UwBiY2MBCA0NddguNDTUviw2NpaQkBCH5eXKlSMoKMi+zsUmT56Mv7+//VG9enVnvzURpzOMfwqibt3OWBtGilSlSilANidOeKBRT0ScI98F0eeff46npyePPPIIlStX5u6772bWrFkkJCQ4PVx2djYtWrTg5Zdfpnnz5owYMYLhw4czY8YMpx/rQmPHjuXs2bP2x5EjR4r0eCLO8Mcf5uUyT0/o0OGs1XGkCHl4ZAPRAFzQx0RECiHfBVHHjh1544032LdvH2vXrqVZs2a8++67hIWF0aVLF6ZOncqBAwecEq5KlSo0aNDAYV5UVBQxMTEAhIWFAeQaGPLEiRP2ZWFhYZw8edJheWZmJqdPn7avczFPT0/8/PwcHiIlXU5j6h49wMcn29owUgzMSkgFkYhzFGocooYNGzJ27FjWr1/PoUOHuOeee1i2bBmNGjWiUaNGLFiwoFDhrr/+evbs2eMwb+/evURERABmA+uwsDCWLVtmX56YmMiGDRto27YtAG3btiUhIYHNmzfb11m+fDnZ2dm0bt26UPlESpKcjp133mltDikum8z/brI4hkgZUeCbu14sLCyM4cOHM3z4cJKTk1myZIm9a35BjRkzhnbt2vHyyy9z1113sXHjRj788EM+/PBDwBz/aPTo0bz00ktERkbau92Hh4fTp08fwDyj1KNHD/ultoyMDEaNGkX//v3Vw0zKjAMHYNcucHeHXr3M11LWmaeGNm0y249pRHKRwslXQZSf3lZ59d7Kr2uvvZa5c+cyduxYXnjhBWrVqsXUqVMZOHCgfZ2nn36a5ORkRowYQUJCAu3bt2fRokX2MYgAZs2axahRo+jatStubm7069ePd955p9D5REqKnJOx7dtDQIClUaTYbKNcuWxOnnTj0CG4YEQSESmAfBVEAQEBVz0qdVZWVoECXeyWW27hlltuueRym83GCy+8wAsvvHDJdYKCgjQIo5RpOQXRZb4qUuacp169VHbu9Gb9ehVEIoWVr4JoxYoV9ulDhw7x7LPPMmTIEHt7nXXr1vHpp58yefJk56YUkUtKSoKcr2avXtZmkeLVuHGyvSC65x6r04iUbvkqiDp27GiffuGFF3jzzTe554Jv4W233Ubjxo358MMPGTx4sPNSisgl/fwzpKdD7dpQv77VaaQ4NW6czFdfwfr1VicRKf0K3Mts3bp1DqM/52jVqhUbN24sVCgRuXo5l8t69VLDWlfTuHEyAFu3QlqaxWFESrkCF0TVq1fno48+yjX/448/1sjOIsXEMNR+yJWFh6cTEgIZGWZRJCIFV+Bu92+99Rb9+vXjp59+so/ns3HjRvbt28f//vc/pwUUkUvbuhWOHwdvb7jgira4CJsN2rSBH34wL5v93ZxTRAqgwGeIevbsyb59+7jttts4ffo0p0+f5tZbb2Xv3r307NnTmRlF5BLmzzefb7zRvGWHuJ42bcxntSMSKZxCDcxYrVo1Jk2a5KwsIpJPOQWRLpe5LhVEIs5R6JGqU1JSiImJIT093WF+kyZNCrtrEbmMEyf+uW2DTsq6rlatwM0NYmLg2DHQAPwiBVPggiguLo6hQ4fy008/5bncWQMzikjeFi40n1u2hCpVrM0i1vH1hcaNYft2WLtW97ITKagCtyEaPXo0CQkJbNiwAS8vLxYtWsSnn35KZGQkP/zwgzMzikgeLuxuL66tfXvzec0aa3OIlGYFPkO0fPlyvv/+e1q1aoWbmxsRERHceOON+Pn5MXnyZHrpt7RIkUlPh8WLzWm1H5L27WHaNBVEIoVR4DNEycnJhISEABAYGEhcXBwAjRs3ZsuWLc5JJyJ5Wr3avGVHaKh5yUxcW84Zom3b4Nw5S6OIlFoFLojq1avHnj17AGjatCkffPABR48eZcaMGVRRgwaRIpVzuaxnT7NBrbi2atUgIgKys9XbTKSgCnzJ7F//+hfHjx8HYPz48fTo0YNZs2bh4eHBzJkznZVPxKXFxMQQHx+fa/7//tcAqECDBgfYsiUh1/Lo6OiiDyclSvv2cPiw2bD6xhutTiNS+hS4IBo0aJB9umXLlhw+fJjdu3dTo0YNKleu7JRwIq4sJiaG+vWjSE1NuWhJJLAXSOepp5oCSZfcR1KSrp+4ivbtYdYstSMSKahCj0OUo2LFirRo0cJZuxNxefHx8aSmptC37xcEB0fZ5+/YEcL69VC1ahq9eq3Kc9t9+xayYsXzpOmOny4jpx3R+vXmvc3Kl7c2j0hpk6+C6PHHH7/qdd988818hxGR3IKDo6hS5Z8/NpYuNZ8bNfJzmH+h+HhdMnM1DRpAQAAkJJhjErVqZXUikdIlXwXR1otup7xlyxYyMzOpV68eAHv37sXd3Z2W6vYiUiTS0sx2IgDXXGNtFilZ3Nzg+uvNBverV6sgEsmvfBVEK1assE+/+eab+Pr68umnnxIYGAjAmTNnGDp0KDfccINzU4oIAAcOmD2JKlWCoCCr00hJ06GDWRCtXAn5OKEvIhSi2/0bb7zB5MmT7cUQmOMRvfTSS7zxxhtOCScijvbuNZ8jI63NISVT587m8+rVoLsnieRPgQuixMRE+2CMF4qLi+OcRgYTcTrDgH37zGldLpO8NG8Ofn5w9qw5SKOIXL0CF0R9+/Zl6NChzJkzh7/++ou//vqL//3vfwwbNozbb7/dmRlFBDh6FFJSwNMTatSwOo2UROXKQU6LhZUrLY0iUuoUuCCaMWMGN998MwMGDCAiIoKIiAgGDBhAjx49eP/9952ZUUT45+xQnTrg7m5tFim5ci6bXdDkU0SuQoHHIapYsSLvv/8+r732Gvv37wegTp06eHt7Oy2ciPxD7YfkanTqZD7/8gtkZppnjUTkygr9VfH29qZJkybOyCIil5CYCLGx5rQKIrmcZs3+GY9o61a49lqLA4mUEvkqiG6//XZmzpyJn5/fFdsJzZkzp1DBROQfOZfLqlYFnYSVy3F3N7vf//CD2Y5IBZHI1clXGyJ/f39sNpt9+nIPEXEe9S6T/Mi5bLZ8uaUxREqVfJ0h+uSTT/KcFpGik5Hhxt/N9FQQyVXp1s18XrUKzp83eyaKyOUVuJdZamoqKSn/3IX78OHDTJ06lSVLljglmIiYjhzxIzMTAgMhNNTqNFIaNGoEYWGQmgpr11qdRqR0KHBB1Lt3bz777DMAEhISuO6663jjjTfo3bs306dPd1pAEVd34IA5GnxUFPx9xVrksmw2uPFGczrnZsAicnkF7mW2ZcsW3nrrLQC+++47wsLC2Lp1K//73/8YN24cDz/8sNNCirguL2Ji/ABo2NDiKFLiREdHX3LZNdcEATWZNy+FO+/cnWt55cqVqaERPkXsClwQpaSk4OvrC8CSJUu4/fbbcXNzo02bNhzOuR23iBRSdzIz3fH3hypVrM4iJUVS0nHAxqBBgy6zVigQy+7dFWjZ8ibglMNSL6+K7N4draJI5G8FLojq1q3LvHnz6Nu3L4sXL2bMmDEAnDx5Ej8/P6cFFHFtdwDQoIEul8k/0tISAIPOnd8jMrLtJdf77rsUTp+uSNeum6hT54x9flxcNHPnDiI+Pl4FkcjfClwQjRs3jgEDBjBmzBi6du1K27bml3LJkiU0b97caQFFXNX58zbgVsAsiEQuFhhYlypVWlxyeb16sG4dnDpVi/btaxVjMpHSp8AF0R133EH79u05fvw4TZs2tc/v2rUrffv2dUo4EVe2apU/4Ie3dzpVq3pYHUdKodq1zYLowAEwDJ1lFLmcQt26IywsjLCwMId51113XaECiYhp/vxKAERGnsZmC7vC2iK5RUSY9zJLTIS4OAgJsTqRSMlV4IIoOTmZV155hWXLlnHy5Emys7Mdlh84cKDQ4URcVWwsrF9vtsW75ppTgAoiyb/y5aFWLXOk8337VBCJXE6BC6IHHniAVatWce+991KlShX7LT1EpPBmzYKsLBvwKwEBFayOI6VY3br/FETXX291GpGSq8AF0U8//cSCBQu4Xt8wEacyDJg5M+fVp8CD1oWRUi8yEn76CWJizJGrvbysTiRSMhV4pOrAwECCgoKcmUVEgK1b4Y8/wMMjG/ja6jhSygUGQuXKZqGtlgwil1bggujFF19k3LhxDvczE5HCy7nzTadOCcBZK6NIGREZaT7v22dtDpGSrMCXzN544w32799PaGgoNWvWpHz58g7Lt2zZUuhwIq4mPh6++MKcvuuuOHSvZHGGyEiz+/2+feaZIhHJrcAFUZ8+fZwYQ0QAPvoI0tKgRQto1izZ6jhSRtSoAZ6ekJICR4+Cu7vViURKngIXROPHj3dmDhGXl5EB779vTj/2mAbRE+dxd4c6dWDXLtizRyOfi+SlwG2IABISEvj4448ZO3Ysp0+fBsxLZUePHnVKOBFXMncu/PWXOVZM//5Wp5Gypn5983nPHmtziJRUBT5DtGPHDrp164a/vz+HDh1i+PDhBAUFMWfOHGJiYvjss8+cmVOkTDMMePVVc/qhh8zLGyLOFBkJbm7miNVnz+oHTORiBT5D9PjjjzNkyBD27dtHhQr/DBzXs2dPVq9e7ZRwIq7ihx9gyxbw8YFHH7U6jZRFFSqYt/IAOHzY39owIiVQgQuiTZs28eCDuQeMq1q1KrGxsYUKJeJKsrNh3Dhz+rHHzDFjRIpCvXrm86FDAZbmECmJClwQeXp6kpiYmGv+3r17CQ4OLlQoEVcyZw7s2AF+fvDEE1ankbIspyA6ccIbUOUtcqECF0S33XYbL7zwAhkZGQDYbDZiYmJ45pln6Nevn9MCXuiVV17BZrMxevRo+7y0tDRGjhxJpUqV8PHxoV+/fpw4ccJhu5iYGHr16kXFihUJCQnhqaeeIjMzs0gyiuRHRsY/Z4fGjAEN/i5FKSAAwsLAMGzArVbHESlRClwQvfHGGyQlJREcHExqaiodO3akbt26+Pr6MmnSJGdmBMxLdB988AFNmjRxmD9mzBh+/PFHvv32W1atWsWxY8e4/fbb7cuzsrLo1asX6enp/Prrr3z66afMnDmTcTn/ColY6P33IToaKlWCC+p8kSKT09sMiuYPV5HSqsC9zPz9/Vm6dClr165l+/btJCUl0aJFC7p16+bMfAAkJSUxcOBAPvroI1566SX7/LNnz/Lf//6X2bNn06VLFwA++eQToqKiWL9+PW3atGHJkiXs2rWLn3/+mdDQUJo1a8aLL77IM888w4QJE/Dw8HB6XpGrceLEP2eHJk82/3oXKWoNGsDKlQA3kpgYbXEakZKjQGeIsrOz+b//+z9uueUWHnzwQaZPn86aNWs4duwYRhGMCz9y5Eh69eqVq9javHkzGRkZDvPr169PjRo1WLduHQDr1q2jcePGhIaG2tfp3r07iYmJ7Ny5M8/jnT9/nsTERIeHiLM9+ywkJkKrVnD//VanEVcRHAyBgamABytXqreZSI58F0SGYXDbbbfxwAMPcPToURo3bkzDhg05fPgwQ4YMoW/fvk4N+NVXX7FlyxYmT56ca1lsbCweHh4EXPSndWhoqL2nW2xsrEMxlLM8Z1leJk+ejL+/v/1RvXp1J7wTkX+sWgUzZ5rT772nWylI8apd+wwAP/8caHESkZIj35fMZs6cyerVq1m2bBmdO3d2WLZ8+XL69OnDZ599xn333VfocEeOHOFf//oXS5cudRjrqKiNHTuWxx9/3P46MTFRRZEUWExMDPHx8fbXKSluDBwYBXhy++1xlC9/hLzuhRwdrcsZUjRq105g8+ZwNmzw5cwZCFRdJJL/gujLL7/k3//+d65iCKBLly48++yzzJo1yykF0ebNmzl58iQtWrSwz8vKymL16tW89957LF68mPT0dBISEhzOEp04cYKwsDAAwsLC2Lhxo8N+c3qh5axzMU9PTzw1VLA4QUxMDPXrR5GamnLB3HeBZsBh5sxpzJw55y67j6Skyy8Xya/AwDTgdzIzG/P99zBkiNWJRKyX74Jox44dTJky5ZLLb775Zt55551ChcrRtWtXfv/9d4d5Q4cOpX79+jzzzDNUr16d8uXLs2zZMntX/z179hATE0Pbtm0BaNu2LZMmTeLkyZOEhIQAsHTpUvz8/GigOxxKEYuPjyc1NYW+fb8gODiKo0d9WLDgGgB69kynWrWVl9x2376FrFjxPGlpacWUVlzLt0BjvvlGBZEIFKAgOn36dK42ORcKDQ3lzJkzhQqVw9fXl0aNGjnM8/b2plKlSvb5w4YN4/HHHycoKAg/Pz8effRR2rZtS5s2bQC46aabaNCgAffeey9TpkwhNjaW5557jpEjR+oskBSb4OAo/P1b8OWX5uuWLeHaayMvu018vC6ZSVH6FniBn39Gl81EKECj6qysLMqVu3Qd5e7uXqyDHr711lvccsst9OvXjw4dOhAWFsacOXMc8syfPx93d3fatm3LoEGDuO+++3jhhReKLaOIYcD8+XDunDnm0E03WZ1IZDd16qSSkQHff291FhHr5fsMkWEYDBky5JJnV86fP1/oUJez0hxAw65ChQpMmzaNadOmXXKbiIgIFi5cWKS5RC5nz55KREebdxu//XbQ8FdSEtx44xn27/fSZTMRClAQDR48+IrrOKNBtUjZUYdff60GQJcuEB5ucRyRv3XrdoYZM8JZulSXzUTyXRB98sknRZFDpEwyrx5/QWamOzVrQrt2FgcSuUCtWudp1Aj++APmzYOhQ61OJGKdAt/LTESu7P/+Lwxog4dHJn36gM1mdSIRR3fdZT5/+621OUSspoJIpIhs3Agff1wFgOuvP4K/7pIgJdCdd5rPS5fCBeOHirgcFUQiRSA5GQYNgqwsG/AVdes6ZygKEWerXx+aNzcv7379tdVpRKyjgkikCDz5JOzbByEh6cDDulQmJdq995rPn39ubQ4RK6kgEnGypUthxgxzeuLEw0CClXFEruiee8whITZsgL17rU4jYg0VRCJOlJICDz1kTj/6KFx3ne5DJiVfWBh0725Of/GFtVlErKKCSMSJXngBDhyAatVg0iSr04hcvQsvm2VnW5tFxAoqiEScZMcOeP11c3raNPD1tTaPSH707m3+zB46BGvXWp1GpPjle2BGEVcUExND/GX6JBsGjBgRSVaWL126nKFatYNs2QLR0bpBq5QOFStCv34wc6Z5luiGG6xOJFK8VBCJXEFMTAz160eRmppymbX6Ad8BKSxf3pSWLY84LE1KUlsiKfnuu88siL75Bt55BypUsDqRSPFRQSRyBfHx8aSmptC37xcEB0flWp6ZaePbbxtw7hy0aHGWVq3m2Zft27eQFSueJy0trRgTixRMx45QvTocOQLz58Mdd1idSKT4qCASuUrBwVFUqdIi1/xffoFz58z2F927V8HDo4p9WXy8LplJyZXXJd2uXcOZOTOM995LoHbtA3luV7lyZWrUqFHU8USKlQoikUJISYE1a8zpbt3Aw8PaPCJXIynpOGBj0KBBeSyNAnaxapU3LVveBJzKtYaXV0V2745WUSRligoikUJYswbS081xXBo3tjqNyNVJS0sADDp3fo/IyLa5ls+Zk0x8vDft2m2lUaM4h2VxcdHMnTuI+Ph4FURSpqggEimgxETzBq4AXbroTvZS+gQG1s3zMnCrVrBoEezfX51u3arrZ1tcgsYhEimgVasgKwtq1IC6da1OI+I8TZqAuzucOAHHjlmdRqR4qCASKYAzZ2DrVnO6a1edHZKyxcsLGjY0pzdvtjaLSHFRQSRSAL/+ag7GWLu2eYZIpKxp8feVtD/+gPPnrc0iUhxUEInk07lz/5wd0mi+UlbVqAGVK0NGhlkUiZR1KohE8mndOrPtUPXqEBFhdRqRomGz/XOWaMsWa7OIFAcVRCL5kJoKv/1mTrdvr7ZDUrY1bWo2rj52DI4ftzqNSNFSQSSSDxs2mJcQQkMhMtLqNCJFq2JFiPr7bjVqXC1lnQoikauUnu7Ghg3m9A036OyQuIacy2a//24OQipSVqkgErlKu3dXJi0NgoL++atZpKyrWdP8mU9Ph507rU4jUnRUEIlcFU927AgBzLZDbvrmiIu4sHG1LptJWaZf6yJXZTApKR74+Zmj+Iq4kmbNzD8Cjh6F+Hgvq+OIFAkVRCJXkJkJ8AwA7dqZvW5EXIm39z8jV//+e4i1YUSKiAoikStYsiQQqE2FChn2SwcirqZ1a/N5//5AINTSLCJFQQWRyGVkZ8PMmWEANG58kvLlLQ4kYpGqVaFaNcjOdgMesjqOiNOpIBK5jB9+gP37vYCzNGgQb3UcEUvlnCWCh0lP17gTUraoIBK5BMOAl1/OeTUNT88sK+OIWC4qCry904HQvy8li5QdKohELmHZMti0CTw9s4GpVscRsZy7OzRsGAfA7NkhGIbFgUScSAWRyCXknB3q0yceiLM0i0hJUb9+PJDCnj0VWbPG6jQizqOCSCQP69bBihVQrhzce+8Jq+OIlBgVKmQBnwPw9tvWZhFxJhVEInmYPNl8vu8+qFIlw9owIiXOOwDMnQuHDlmbRMRZVBCJXGTbNvjxR/OWBc88Y3UakZJoF61bJ5KdDe++a3UWEedQQSRykXHjzOe774ZrrrE2i0hJNXDgSQA++ABOn7Y4jIgTqCASucCmTebZITc3mDDB6jQiJVe7dok0awbJyTpLJGWDCiKRC+ScHRo0COrVszaLSElms8HYseb0O+9AUpK1eUQKSwWRyN/WroVFi8yxVnIKIxG5tH79IDLSvGT24YdWpxEpHBVEIpj3LHviCXP6/vuhTh1r84iUBu7u8Oyz5vQbb8D589bmESkMFUQiwNdfw4YN4O0NL7xgdRqR0mPQIPOmr8eOwWefWZ1GpOBUEInLS039p3v92LEQFmZtHpHSxMMDnnzSnH71VcjMtDaPSEGpIBKX9/rrcOQI1KgBjz9udRqR0ueBB6ByZdi/H7791uo0IgWjgkhcWnQ0vPSSOf3qq+DlZW0ekdLI2xtGjzanX37ZbJMnUtqoIBKXlZUFw4ZBejr07GkOxCgiBTNyJPj6wh9/wLx5VqcRyb8SXRBNnjyZa6+9Fl9fX0JCQujTpw979uxxWCctLY2RI0dSqVIlfHx86NevHydOON6MMyYmhl69elGxYkVCQkJ46qmnyNSFbpf37rvmTVx9fWHGDHNcFRG5OtHR0WzZssX+OHBgC/37HwfgqadS2bRpi8PynEdMTIzFyUXyVs7qAJezatUqRo4cybXXXktmZib//ve/uemmm9i1axfe3t4AjBkzhgULFvDtt9/i7+/PqFGjuP3221m7di0AWVlZ9OrVi7CwMH799VeOHz/OfffdR/ny5Xn55ZetfHtioS1b/uku/NprUL26tXlESoukpOOAjUGDBuWx1A84yIEDQVx33RvA7FxreHlVZPfuaGrUqFHESUXyp0QXRIsWLXJ4PXPmTEJCQti8eTMdOnTg7Nmz/Pe//2X27Nl06dIFgE8++YSoqCjWr19PmzZtWLJkCbt27eLnn38mNDSUZs2a8eKLL/LMM88wYcIEPDw8rHhrYqHTp80B5c6fh169YPhwqxOJlB5paQmAQefO7xEZ2TbX8m3bUtm4Efz8/stddz2B2wXXIeLiopk7dxDx8fEqiKTEKdEF0cXOnj0LQFBQEACbN28mIyODbt262depX78+NWrUYN26dbRp04Z169bRuHFjQkND7et0796dhx9+mJ07d9K8efNcxzl//jznLxhhLDExsajekhSzrCy49144dAhq14bPP8fhF7aIXJ3AwLpUqdIi1/xKlWDnTkhMrEBsbAtatrQgnEgBlJqCKDs7m9GjR3P99dfTqFEjAGJjY/Hw8CAgIMBh3dDQUGJjY+3rXFgM5SzPWZaXyZMnM3HiRCe/A7HaoUMxjB5dkYULK+Ppmc1LL+3h4MFUDh68/HbR0dHFE1CkDPDwgPbtYfFiWL0amjaFcqXmXxpxZaXmx3TkyJH88ccfrFmzpsiPNXbsWB6/YECaxMREqquRSal2+HAMdev+SFbWSCCL8+fvZsCA/+VrH0lJ54omnEgZ06qV2WEhMRE2b4bWra1OJHJlpaIgGjVqFPPnz2f16tVUq1bNPj8sLIz09HQSEhIczhKdOHGCsL+HGw4LC2Pjxo0O+8vphRZ2iSGJPT098fT0dPK7EGeIiYkhPj4+X9tkZsJ//uPzdzEEnTod4Zpr/g38+6q237dvIStWPE9aWlp+44q4pHLloEMHmD8ffvkFmjc3zxyJlGQluiAyDINHH32UuXPnsnLlSmrVquWwvGXLlpQvX55ly5bRr18/APbs2UNMTAxt25qN/dq2bcukSZM4efIkISEhACxduhQ/Pz8aNGhQvG9ICiUmJob69aNITU3Jx1bewFfALUA21177Jx07XgPUvOo9xMfrkplIfjVrBmvXwpkzsHGjeRlNpCQr0QXRyJEjmT17Nt9//z2+vr72Nj/+/v54eXnh7+/PsGHDePzxxwkKCsLPz49HH32Utm3b0qZNGwBuuukmGjRowL333suUKVOIjY3lueeeY+TIkToLVMrEx8eTmppC375fEBwcdcX1T53yYtmymiQkeOHmlkF29t1Ur/4gcE3RhxVxce7u0LGjOUjjmjXmWSKRkqxEF0TTp08HoFOnTg7zP/nkE4YMGQLAW2+9hZubG/369eP8+fN0796d999/376uu7s78+fP5+GHH6Zt27Z4e3szePBgXtAtzUut4OCoPHu35DAM8y/SpUvNXmU+PtCq1TJWrpwLPFh8QUVcXJMmsGEDHD8OK1dCi0t/bUUsV6ILIsMwrrhOhQoVmDZtGtOmTbvkOhERESxcuNCZ0aSESk6G77+HffvM1/XqwW23wf79p6wNJuKCbDa46Sb49FOzcXWtWhWsjiRySSW6IBLJjz//NE/PJyebjTpvusns7aJbcohYp2ZN8w+TPXtgw4aqVscRuSQVRFLqZWXBzz/D+vXm65AQcyTqv9vQi4jFbrzRPGsbE+MPdLvi+iJWUEEkpdq5c/DNN/DXX+bra681f/mWL29tLhH5R6VK5ndzwwaAN8jK0s21peTRTQuk1PrrL/jwQ/O5QgXo3x969lQxJFISdewInp6ZQBN++KGS1XFEclFBJKXSvn1mQ82kJAgONm/QWq+e1alE5FK8vKBFi+MATJ8ezjkN/C4ljAoiKXX27Qviyy/NEajr1oVhw+Dv+/2KSAnWoEE8sI9Tp8ozYYLVaUQcqSCSUmYQK1ZEYBjmGCf9+4PG1xQpHdzdDeAxAN5+G37/3do8IhdSQSSlxpIlAcBMwEarVtCnjzkaroiUJovo0uUMWVnwyCPmQKoiJYEKIikVliyB556rBbhTv348PXtqfCGR0uqJJ/6iYkXzlh6ffWZ1GhGTCiIp8XbuhDvvhKwsGzCb9u1jVAyJlGJhYRmMG2dOP/WUeQNYEaupIJIS7eRJuOUWSEyE5s3PAUNx00+tSKk3ZgxERUFcHDz3nNVpRFQQSQmWlma2Ezp0COrUgddeOwCkW5xKRJzBwwNy7sM9fbp5rzMRK6kgkhLJMGDoUFi3DgICYMECCAzMsjqWiDhRp04wYID5fR8xwhxKQ8QqKoikRJowAb76yrxJ65w5GnRRpKx64w0IDIQtW8xpEauoIJISZ9YseOEFc3rGDOjc2do8IlJ0wsLgrbfM6fHjYc8ea/OI69LNXaVEWbMG7r/fnH76aXMUahEpW6Kjox1eN2oE7drV4ddf/bn77iQ+/nhvnp0nKleuTI0aNYoppbgaFURSYhw4AH37Qno63H47TJ5sdSIRcaakpOOAjUGDBuWxtDqwk+3bfbn22k+A93Kt4eVVkd27o1UUSZFQQSQlQkIC9OoF8fHQsiV8/jnqXi9SxqSlJQAGnTu/R2Rk21zLd+06w5o1vpQrN5U77ngQP79/epXGxUUzd+4g4uPjVRBJkVBBJJbLyIA77oDdu6FaNfjhB6hY0epUIlJUAgPrUqVKi1zzw8LgyBE4fNidjRsbMWiQRqSX4qO/wcVS2dlmO6Fly8DbG378EcLDrU4lIlaw2eC228zepQcOwG+/WZ1IXIkKIrGMYcCTT5qXx9zd4euvoVkzq1OJiJWCgqBbN3N6yRJzJGuR4qCCSCzz4ov/dLf95BOzDZGIyHXXQd265kCNc+ZowEYpHmpDJMXu8OEYXnqpPB9/XAWAJ544QsOGcWzZcvntLu6qKyJlk80GvXubt/SIjYXly6FxY6tTSVmngkiK1aFDMURGfkdm5uN/z3mSN954I18j1CYlnSuSbCJScvj4mO2JvvrKvIVPYKCv1ZGkjFNBJMUmNRUefNDHXgy1bXuExo0HAAOuavt9+xayYsXzpKWlFWFKESkp6tUzh+HYvBlWrowAgqyOJGWYCiIpFkeOwF13wfr1QUA6HTseo1OnmpiDsV2d+HhdMhNxNd27w6FDcOqUB/BfDMPqRFJWqVG1FLl586BpU1i/Hnx9M4GbqFfvtNWxRKQUKF8e+vUDN7dsoA+ffRZqdSQpo1QQSZE5cQIGDTJvx3HmDLRqBZ9/vhtYZXU0ESlFqlSBdu3+AuC998JZudLaPFI2qSASp0tNhTffNK//z5pl9hh58klYuxaqV0+/8g5ERC4SFRUPfEp2to2774aYGKsTSVmjNkRSIDExMcTHxzvMS0lx44cfKjFzZihxcR4AREUlM3bsERo2TOGPP9R1XkQKxryFx8Ncc82d7N1bkdtugzVrzN5oIs6ggkjyLSYmhvr1o0hNTfl7Tj3ggb8fAX/POwy8SHT0J9x3X3aufajrvIjkXypvvnmA++9vxPbt5iX5OXN0I2hxDhVEkm/x8fGkpvrRtOlKYmOjOHHinz/R/P3TaNz4JPXqncbd/RHgEYdt1XVeRAqjSpV05s2Dzp3h++/hX/+Cd97RTWCl8FQQyVU7dgz+9z/45JNI4Cjbt5t/ltlsEBkJLVrANddUwGarAdTIcx/qOi8ihdW2LcycCQMGwHvvQXAwjBtndSop7VQQyWUdPQrffWc+1q7l7zFAzBFjQ0KSaNbMh0aNwFeDyIpIMerfH+Lj4dFHYfx48POD0aOtTiWlmQoiyeX4cfj2W/Pu87/+6risXTtzhOk33mhHnz7fU6VKC2tCiojLGzUKTp2CCRNgzBhIS4Nnn7U6lZRWKohc2IU9xRIS3Fm+PIDFi4PYvNkHw/jngnzTpkl063aGrl0TCA3N+Lun2F8WpRYR+ce4ceaZ64kTYexYOHcOXnxRDa0l/1QQuaiYmBjq1WtFWloPoD9wI1D+gjV+Bb4GvmP79mNs306uG7Cqp5iIWM1mM88QVahgFkQvvwx798Knn0LFilank9JEBZGLyc6GX36BN97wJi3tAPBPD7FKlVKoU+cMdeqcwde3AjD474cj9RQTEatcaiyzm26CtLQgJk2qwXffufH77ylMmnSQWrXOA1C5cmVq1Mi7s4cIqCByGYcOmX8xffopHDwIUAkAP780mjevQKNGULlyRaAiUPWy+1JPMREpbklJxwEbgwYNusKa1wNz2bMnmDvuqAU8BUzHy8uL3bujVRTJJakgKsOSk81u8jNnwooV/8z39YWuXeOZN683d9/9LuHhahgtIiVbWloCYNC583tERra97LrJybGsXOnJ0aN+wDQCAl4gIeE24uPji70gymtU/6uls1rFSwVRKZfXly062os5cyqzaFEQKSnuANhsBtdee45bbz1N585nOHRoF/Pm/arBzESkVAkMrHtVvVvr1IGNG2H5ckhIqASs5bHHzjJxInTpUjwDOeYe1T9/vLwq6qxWMVJBVIo5ftl8gXuAEUDUBWv9CczEMD5n48YYNm503IcaRotIWWSzQevW0LAhLFgQz+7dgaxd60+3blC/PtxzD9x5pzldVMVRTMxpUlOv4dpr3yU7uzZnz1YgMdGD8+fLkZ7ujmGAu7tB+fLZ+Pik4+t7nuDgFEJCksnM3Mq8eYMsOavlqlQQlWJxcfGkpjYgIuJLjh6tRWameTbIzS2bWrUSiIqKp0qVJGy224HbHbZVw2gRcQU+PtChQwy7d7fh7rt/5ccfQ9i92xzMcfx4qFoVOnWCli2haVNz1P3wcHB3v/K+DQNOnoSYGPNx6BDs22f2ctuzB44dawZsZdOmK+8rIaECADltxr296wJn2LrVm+bNdWuS4qCCqBQ6exZmz4a3364PbOLwYXN+5crm7TOaNnWjYsUgIOiS+1DDaBFxLfu59dalPPxwQ1atCmDx4kA2bfLl6FE3Zs2CWbP+WdPd3SAgIJOKFbOoWDEbPz83AgIqkJpqts1MSTGf4+Lg/PkrHfckoaEVqVLFh0qVICgIvL3B09McKykryxxQ8uxZc+Tto0fNR3KyBzCKBx6At982B6EcONDcVoqGCqJSwjDM6+EffghffWV+Ic0eYWnUrZtM+/aVqFFDf0WIiFzs0j3UKgDtgPZAU6AJEEFWVnlOnTIfV2KzmWeUatQwH5GRcM015iM1dTudOzejd+/N+RrVPzMTfvvtTxYvXoOn5338/rsbDz4ITz8NQ4fCY49BrVpXvTu5SiqISrizZ82/XD78ELZv/2d+VBT07HmEN95oSpcuP1OlSiXrQoqIlGBX30Mtkezs30lJKc/58+XIyHAjPv4ov/76Hg899AS1a1ehQoVsvLyy8fLKws8vi5CQdMpfom7688+CnYkvVw4iIhKBoSxa1JwtW5ry/vuwfz9MnQrvvAN33AFPPgnXXlugQ0geVBCVABf3FDMM+OOPisydW5nFiwNJSzMvZnt6ZtOt2xluvz2epk2T2b07GjhjUWoRkdLlanuoXWjfvj/59dd5zJgxt8DHLUznlaNH/6BTpyw6dIB16/yYPTuE9ev9+OYb+OYbaNnyHAMHnqR9+7MO7Z7UZT//VBBZzLGnWFXgLuA+oP4Fa+0EPuD8+S9YsOAMCxY47kM9xUREikZ+xj+6WGE6r1x+IMrGwBPAADZv9mXzZl8gBvgImAUcVJf9AnCpgmjatGm89tprxMbG0rRpU959912uu+46SzPt23eG1NR7qVRpIqdOhQBmIyB392xq1z5DVFQ8oaHnsdmGAEMu2lY9xUREikNBzi4VpvPK1RRiSUm72bkzmN27K3P+fA3gReBFAgPjOXNmKqtWpTBgwNX1mBMXKoi+/vprHn/8cWbMmEHr1q2ZOnUq3bt3Z8+ePYSEhFiSacMG6N69CTCDU6fMedWrQ6NG0LixG15elci5xUZe1FNMRKRsu1IhFhlpNsLetctsZ3rwIJw5Uxl4ifvug0ceMXsfN2tmrluzptnTLSAA/P3N5/LlzaYahmHe7/Lw4SPExp4mPd1GZqYb6em2v6dtpKe7kZFhvs7IcJy22QwCA32oWrUynp7g4WH2pvP0BD8/87hBQebrkshlCqI333yT4cOHM3ToUABmzJjBggUL+L//+z+effZZSzI1bw4+PlmcPfs7110XQrt2VfH3tySKiIiUUuXKQZMm5iMpCTZsiGHNmt/w9u5NUpI7q1fD6tX52WP1vx9Fo0KFLPz9s/Dzy8TPL4vAwEyCgjKoWdODV18NKLLjXolLFETp6els3ryZsWPH2ue5ubnRrVs31q1bZ1kuDw/43/920a1bC5o124y//+VvqioiInI5Pj7QoEE8a9b0Y/r0WVSo0IydOyty8KAXR454cvy4B+fOuZOUZD6ysi43VouBu7uBu3s27u4Gbm7mtPn8z+uc6dTU08TH7wc8AY+/n3MefkAg4E5amvk4ccLjouPFMnJkjGXtnlyiIIqPjycrK4vQ0FCH+aGhoezevTvX+ufPn+f8BaNtnT17FoDExESnZytfPgGAY8c2k56elK9t4+Ki/37+ncOHvbStttW22rZEH1vbFs+2R46Yf+jfd9/Aq1jbG7MUyAaMv5+z6dJlCjVqNM3XcffvX8Ivv0yiSZOHCQ+PyrXcMCAry4P0dA8yMjz/fniQnl6BxMR0jh79hUOHehIQEJCv415Ozr/bhmFceWXDBRw9etQAjF9//dVh/lNPPWVcd911udYfP368gfmToYceeuihhx56lPLHkSNHrlgruMQZosqVK+Pu7s6JEycc5p84cYKwsLBc648dO5bHH3/c/jo7O5vTp09TqVIlbC4wFHRiYiLVq1fnyJEj+Pn5WR1HLkGfU8mnz6h00OdUOhTkczIMg3PnzhEeHn7FdV2iIPLw8KBly5YsW7aMPn36AGaRs2zZMkaNGpVrfU9PTzwvagbvzFN4pYWfn59+OZQC+pxKPn1GpYM+p9Ihv5+T/1X2VnKJggjg8ccfZ/DgwbRq1YrrrruOqVOnkpycbO91JiIiIq7LZQqiu+++m7i4OMaNG0dsbCzNmjVj0aJFuRpai4iIiOtxmYIIYNSoUXleIhNHnp6ejB8/PtdlQylZ9DmVfPqMSgd9TqVDUX9ONsO4mr5oIiIiImWXm9UBRERERKymgkhERERcngoiERERcXkqiERERMTlqSASuwkTJmCz2Rwe9evXtzqWy1u9ejW33nor4eHh2Gw25s2b57DcMAzGjRtHlSpV8PLyolu3buzbt8+asC7qSp/RkCFDcn23evToYU1YFzV58mSuvfZafH19CQkJoU+fPuzZs8dhnbS0NEaOHEmlSpXw8fGhX79+ue5wIEXraj6nTp065fo+PfTQQ4U+tgoicdCwYUOOHz9uf6xZs8bqSC4vOTmZpk2bMm3atDyXT5kyhXfeeYcZM2awYcMGvL296d69O2lpacWc1HVd6TMC6NGjh8N368svvyzGhLJq1SpGjhzJ+vXrWbp0KRkZGdx0000kJyfb1xkzZgw//vgj3377LatWreLYsWPcfvvtFqZ2PVfzOQEMHz7c4fs0ZcqUwh/cKXdPlTJh/PjxRtOmTa2OIZcBGHPnzrW/zs7ONsLCwozXXnvNPi8hIcHw9PQ0vvzySwsSysWfkWEYxuDBg43evXtbkkfydvLkSQMwVq1aZRiG+b0pX7688e2339rXiY6ONgBj3bp1VsV0eRd/ToZhGB07djT+9a9/Of1YOkMkDvbt20d4eDi1a9dm4MCBxMTEWB1JLuPgwYPExsbSrVs3+zx/f39at27NunXrLEwmF1u5ciUhISHUq1ePhx9+mFOnTlkdyaWdPXsWgKCgIAA2b95MRkaGw3epfv361KhRQ98lC138OeWYNWsWlStXplGjRowdO5aUlJRCH8ulRqqWy2vdujUzZ86kXr16HD9+nIkTJ3LDDTfwxx9/4Ovra3U8yUNsbCxArlvQhIaG2peJ9Xr06MHtt99OrVq12L9/P//+97+5+eabWbduHe7u7lbHcznZ2dmMHj2a66+/nkaNGgHmd8nDwyPXjbz1XbJOXp8TwIABA4iIiCA8PJwdO3bwzDPPsGfPHubMmVOo46kgErubb77ZPt2kSRNat25NREQE33zzDcOGDbMwmUjp1r9/f/t048aNadKkCXXq1GHlypV07drVwmSuaeTIkfzxxx9qI1nCXepzGjFihH26cePGVKlSha5du7J//37q1KlT4OPpkplcUkBAANdccw1//vmn1VHkEsLCwgBy9YQ5ceKEfZmUPLVr16Zy5cr6bllg1KhRzJ8/nxUrVlCtWjX7/LCwMNLT00lISHBYX98la1zqc8pL69atAQr9fVJBJJeUlJTE/v37qVKlitVR5BJq1apFWFgYy5Yts89LTExkw4YNtG3b1sJkcjl//fUXp06d0nerGBmGwahRo5g7dy7Lly+nVq1aDstbtmxJ+fLlHb5Le/bsISYmRt+lYnSlzykv27ZtAyj090mXzMTuySef5NZbbyUiIoJjx44xfvx43N3dueeee6yO5tKSkpIc/vI5ePAg27ZtIygoiBo1ajB69GheeuklIiMjqVWrFs8//zzh4eH06dPHutAu5nKfUVBQEBMnTqRfv36EhYWxf/9+nn76aerWrUv37t0tTO1aRo4cyezZs/n+++/x9fW1twvy9/fHy8sLf39/hg0bxuOPP05QUBB+fn48+uijtG3bljZt2lic3nVc6XPav38/s2fPpmfPnlSqVIkdO3YwZswYOnToQJMmTQp3cKf3W5NS6+677zaqVKlieHh4GFWrVjXuvvtu488//7Q6lstbsWKFAeR6DB482DAMs+v9888/b4SGhhqenp5G165djT179lgb2sVc7jNKSUkxbrrpJiM4ONgoX768ERERYQwfPtyIjY21OrZLyevzAYxPPvnEvk5qaqrxyCOPGIGBgUbFihWNvn37GsePH7cutAu60ucUExNjdOjQwQgKCjI8PT2NunXrGk899ZRx9uzZQh/b9ncAEREREZelNkQiIiLi8lQQiYiIiMtTQSQiIiIuTwWRiIiIuDwVRCIiIuLyVBCJiIiIy1NBJCIiIi5PBZGIiIi4PBVEIuJ0Npvtso8JEyZYHdHpatasydSpU62OISIFpHuZiYjTHT9+3D799ddfM27cOPbs2WOf5+PjY0WsfDMMg6ysLMqVK75flenp6Xh4eBTb8UTEpDNEIuJ0YWFh9oe/vz82m81h3ldffUVUVBQVKlSgfv36vP/++/ZtDx06hM1m45tvvuGGG27Ay8uLa6+9lr1797Jp0yZatWqFj48PN998M3FxcfbthgwZQp8+fZg4cSLBwcH4+fnx0EMPkZ6ebl8nOzubyZMnU6tWLby8vGjatCnfffedffnKlSux2Wz89NNPtGzZEk9PT9asWcP+/fvp3bs3oaGh+Pj4cO211/Lzzz/bt+vUqROHDx9mzJgx9rNgABMmTKBZs2YO/2+mTp1KzZo1c+WeNGkS4eHh1KtXD4AjR45w1113ERAQQFBQEL179+bQoUPO+HhEJA8qiESkWM2aNYtx48YxadIkoqOjefnll3n++ef59NNPHdYbP348zz33HFu2bKFcuXIMGDCAp59+mrfffptffvmFP//8k3Hjxjlss2zZMqKjo1m5ciVffvklc+bMYeLEifblkydP5rPPPmPGjBns3LmTMWPGMGjQIFatWuWwn2effZZXXnmF6OhomjRpQlJSEj179mTZsmVs3bqVHj16cOuttxITEwPAnDlzqFatGi+88ALHjx93OEN2NZYtW8aePXtYunQp8+fPJyMjg+7du+Pr68svv/zC2rVr8fHxoUePHg4Fnog4UaFvDysichmffPKJ4e/vb39dp04dY/bs2Q7rvPjii0bbtm0NwzCMgwcPGoDx8ccf25d/+eWXBmAsW7bMPm/y5MlGvXr17K8HDx5sBAUFGcnJyfZ506dPN3x8fIysrCwjLS3NqFixovHrr786HHvYsGHGPffcYxjGP3etnzdv3hXfV8OGDY13333X/joiIsJ46623HNYZP3680bRpU4d5b731lhEREeGQOzQ01Dh//rx93ueff27Uq1fPyM7Ots87f/684eXlZSxevPiK2UQk/9SGSESKTXJyMvv372fYsGEMHz7cPj8zMxN/f3+HdZs0aWKfDg0NBaBx48YO806ePOmwTdOmTalYsaL9ddu2bUlKSuLIkSMkJSWRkpLCjTfe6LBNeno6zZs3d5jXqlUrh9dJSUlMmDCBBQsWcPz4cTIzM0lNTbWfISqsxo0bO7Qb2r59O3/++Se+vr4O66WlpbF//36nHFNEHKkgEpFik5SUBMBHH31E69atHZa5u7s7vC5fvrx9OqdNzsXzsrOz833sBQsWULVqVYdlnp6eDq+9vb0dXj/55JMsXbqU119/nbp16+Ll5cUdd9xxxctXbm5uGIbhMC8jIyPXehcfLykpiZYtWzJr1qxc6wYHB1/2mCJSMCqIRKTYhIaGEh4ezoEDBxg4cKDT9799+3ZSU1Px8vICYP369fj4+FC9enWCgoLw9PQkJiaGjh075mu/a9euZciQIfTt2xcwC5aLGzh7eHiQlZXlMC84OJjY2FgMw7AXddu2bbvi8Vq0aMHXX39NSEgIfn5++coqIgWjRtUiUqwmTpzI5MmTeeedd9i7dy+///47n3zyCW+++Wah952ens6wYcPYtWsXCxcuZPz48YwaNQo3Nzd8fX158sknGTNmDJ9++in79+9ny5YtvPvuu7kadF8sMjKSOXPmsG3bNrZv386AAQNynZ2qWbMmq1ev5ujRo8THxwNm77O4uDimTJnC/v37mTZtGj/99NMV38fAgQOpXLkyvXv35pdffuHgwYOsXLmSxx57jL/++qvg/4NE5JJUEIlIsXrggQf4+OOP+eSTT2jcuDEdO3Zk5syZ1KpVq9D77tq1K5GRkXTo0IG7776b2267zWEQyBdffJHnn3+eyZMnExUVRY8ePViwYMEVj/3mm28SGBhIu3btuPXWW+nevTstWrRwWOeFF17g0KFD1KlTx35ZKyoqivfff59p06bRtGlTNm7cyJNPPnnF91GxYkVWr15NjRo1uP3224mKimLYsGGkpaXpjJFIEbEZF1/gFhEphYYMGUJCQgLz5s2zOoqIlEI6QyQiIiIuTwWRiIiIuDxdMhMRERGXpzNEIiIi4vJUEImIiIjLU0EkIiIiLk8FkYiIiLg8FUQiIiLi8lQQiYiIiMtTQSQiIiIuTwWRiIiIuDwVRCIiIuLy/h/sQv2Fja4K1gAAAABJRU5ErkJggg==\n"
        },
        "metadata": {}
       }
      ]
     }
    },
    "1a4eda3245b340f799611355cfd6ce41": {
     "model_module": "@jupyter-widgets/base",
     "model_name": "LayoutModel",
     "model_module_version": "1.2.0",
     "state": {
      "_model_module": "@jupyter-widgets/base",
      "_model_module_version": "1.2.0",
      "_model_name": "LayoutModel",
      "_view_count": null,
      "_view_module": "@jupyter-widgets/base",
      "_view_module_version": "1.2.0",
      "_view_name": "LayoutView",
      "align_content": null,
      "align_items": null,
      "align_self": null,
      "border": null,
      "bottom": null,
      "display": null,
      "flex": null,
      "flex_flow": null,
      "grid_area": null,
      "grid_auto_columns": null,
      "grid_auto_flow": null,
      "grid_auto_rows": null,
      "grid_column": null,
      "grid_gap": null,
      "grid_row": null,
      "grid_template_areas": null,
      "grid_template_columns": null,
      "grid_template_rows": null,
      "height": null,
      "justify_content": null,
      "justify_items": null,
      "left": null,
      "margin": null,
      "max_height": null,
      "max_width": null,
      "min_height": null,
      "min_width": null,
      "object_fit": null,
      "object_position": null,
      "order": null,
      "overflow": null,
      "overflow_x": null,
      "overflow_y": null,
      "padding": null,
      "right": null,
      "top": null,
      "visibility": null,
      "width": null
     }
    },
    "6d2fe68c8f264f9ba28d0cfbddf75858": {
     "model_module": "@jupyter-widgets/base",
     "model_name": "LayoutModel",
     "model_module_version": "1.2.0",
     "state": {
      "_model_module": "@jupyter-widgets/base",
      "_model_module_version": "1.2.0",
      "_model_name": "LayoutModel",
      "_view_count": null,
      "_view_module": "@jupyter-widgets/base",
      "_view_module_version": "1.2.0",
      "_view_name": "LayoutView",
      "align_content": null,
      "align_items": null,
      "align_self": null,
      "border": null,
      "bottom": null,
      "display": null,
      "flex": null,
      "flex_flow": null,
      "grid_area": null,
      "grid_auto_columns": null,
      "grid_auto_flow": null,
      "grid_auto_rows": null,
      "grid_column": null,
      "grid_gap": null,
      "grid_row": null,
      "grid_template_areas": null,
      "grid_template_columns": null,
      "grid_template_rows": null,
      "height": null,
      "justify_content": null,
      "justify_items": null,
      "left": null,
      "margin": null,
      "max_height": null,
      "max_width": null,
      "min_height": null,
      "min_width": null,
      "object_fit": null,
      "object_position": null,
      "order": null,
      "overflow": null,
      "overflow_x": null,
      "overflow_y": null,
      "padding": null,
      "right": null,
      "top": null,
      "visibility": null,
      "width": null
     }
    },
    "615984b3a3224ac4b0ebcc3666381479": {
     "model_module": "@jupyter-widgets/controls",
     "model_name": "DescriptionStyleModel",
     "model_module_version": "1.5.0",
     "state": {
      "_model_module": "@jupyter-widgets/controls",
      "_model_module_version": "1.5.0",
      "_model_name": "DescriptionStyleModel",
      "_view_count": null,
      "_view_module": "@jupyter-widgets/base",
      "_view_module_version": "1.2.0",
      "_view_name": "StyleView",
      "description_width": ""
     }
    },
    "5f8f067413fd474b854c2b2c5c20cac5": {
     "model_module": "@jupyter-widgets/base",
     "model_name": "LayoutModel",
     "model_module_version": "1.2.0",
     "state": {
      "_model_module": "@jupyter-widgets/base",
      "_model_module_version": "1.2.0",
      "_model_name": "LayoutModel",
      "_view_count": null,
      "_view_module": "@jupyter-widgets/base",
      "_view_module_version": "1.2.0",
      "_view_name": "LayoutView",
      "align_content": null,
      "align_items": null,
      "align_self": null,
      "border": null,
      "bottom": null,
      "display": null,
      "flex": null,
      "flex_flow": null,
      "grid_area": null,
      "grid_auto_columns": null,
      "grid_auto_flow": null,
      "grid_auto_rows": null,
      "grid_column": null,
      "grid_gap": null,
      "grid_row": null,
      "grid_template_areas": null,
      "grid_template_columns": null,
      "grid_template_rows": null,
      "height": null,
      "justify_content": null,
      "justify_items": null,
      "left": null,
      "margin": null,
      "max_height": null,
      "max_width": null,
      "min_height": null,
      "min_width": null,
      "object_fit": null,
      "object_position": null,
      "order": null,
      "overflow": null,
      "overflow_x": null,
      "overflow_y": null,
      "padding": null,
      "right": null,
      "top": null,
      "visibility": null,
      "width": null
     }
    },
    "a8b54e5cf1cf409485aff126cddb3a0f": {
     "model_module": "@jupyter-widgets/controls",
     "model_name": "SliderStyleModel",
     "model_module_version": "1.5.0",
     "state": {
      "_model_module": "@jupyter-widgets/controls",
      "_model_module_version": "1.5.0",
      "_model_name": "SliderStyleModel",
      "_view_count": null,
      "_view_module": "@jupyter-widgets/base",
      "_view_module_version": "1.2.0",
      "_view_name": "StyleView",
      "description_width": "",
      "handle_color": null
     }
    },
    "38f80f9de82a4e1697ba21d8fd739bc0": {
     "model_module": "@jupyter-widgets/base",
     "model_name": "LayoutModel",
     "model_module_version": "1.2.0",
     "state": {
      "_model_module": "@jupyter-widgets/base",
      "_model_module_version": "1.2.0",
      "_model_name": "LayoutModel",
      "_view_count": null,
      "_view_module": "@jupyter-widgets/base",
      "_view_module_version": "1.2.0",
      "_view_name": "LayoutView",
      "align_content": null,
      "align_items": null,
      "align_self": null,
      "border": null,
      "bottom": null,
      "display": null,
      "flex": null,
      "flex_flow": null,
      "grid_area": null,
      "grid_auto_columns": null,
      "grid_auto_flow": null,
      "grid_auto_rows": null,
      "grid_column": null,
      "grid_gap": null,
      "grid_row": null,
      "grid_template_areas": null,
      "grid_template_columns": null,
      "grid_template_rows": null,
      "height": null,
      "justify_content": null,
      "justify_items": null,
      "left": null,
      "margin": null,
      "max_height": null,
      "max_width": null,
      "min_height": null,
      "min_width": null,
      "object_fit": null,
      "object_position": null,
      "order": null,
      "overflow": null,
      "overflow_x": null,
      "overflow_y": null,
      "padding": null,
      "right": null,
      "top": null,
      "visibility": null,
      "width": null
     }
    }
   }
  }
 },
 "cells": [
  {
   "metadata": {},
   "cell_type": "markdown",
   "source": [
    "# Ciencia de datos y BigData<a class=\"tocSkip\">\n",
    "### Ingenieria Electrónica <a class=\"tocSkip\">\n",
    "### Universidad Popular del Cesar <a class=\"tocSkip\">\n",
    "### Prof.: Jose Ramón Iglesias Gamarra - [https://github.com/joseramoniglesias/](https://github.com/joseramoniglesias/) <a class=\"tocSkip\">\n",
    "  **joseiglesias@unicesar.edu.co**"
   ]
  },
  {
   "metadata": {
    "id": "yXBh5zpctxPW"
   },
   "cell_type": "markdown",
   "source": [
    "# **PROGRAMACIÓN Y ESTADÍSTICA BÁSICA**\n",
    "\n",
    "## **Descripción**\n",
    "\n",
    "En este módulo se abordarán los principios de programación para el manejo de datos desde Python. Además, se estudiarán algunas herramientas para el análisis exploratorio de datos como apoyo a la toma de decisiones informadas."
   ]
  },
  {
   "cell_type": "markdown",
   "source": [
    "### Configuración del entorno de trabajo"
   ],
   "metadata": {
    "id": "crmMCymGy0_1"
   }
  },
  {
   "cell_type": "markdown",
   "source": [
    "#### Descarga de las bases de datos"
   ],
   "metadata": {
    "id": "g-tj-27BMv4a"
   }
  },
  {
   "cell_type": "code",
   "source": "!git clone https://github.com/joseramoniglesias/EL460_Ciencia_de_datos_y_BigData.git # Copiar el respositorio de GitHub del curso",
   "metadata": {
    "colab": {
     "base_uri": "https://localhost:8080/"
    },
    "id": "_84wUZiPmGoB",
    "outputId": "6ec04a86-e67a-47bf-b450-28faab45bbcb"
   },
   "outputs": [],
   "execution_count": null
  },
  {
   "cell_type": "code",
   "source": [
    "# Cambiar el directorio donde situan las bases de datos\n",
    "%cd /content/EL460_Ciencia_de_datos_y_BigData"
   ],
   "metadata": {
    "colab": {
     "base_uri": "https://localhost:8080/"
    },
    "id": "YWsr9vXGU9-G",
    "outputId": "d9b27a94-8a95-49e3-bf76-a60791e81c36"
   },
   "outputs": [],
   "execution_count": null
  },
  {
   "cell_type": "markdown",
   "source": [
    "#### Importar las bibliotecas de Python a usar"
   ],
   "metadata": {
    "id": "ja1CL1V-OB-h"
   }
  },
  {
   "cell_type": "code",
   "source": [
    "# Visualización y gráficos\n",
    "import matplotlib.pyplot as plt\n",
    "import seaborn as sns\n",
    "import plotly.express as px\n",
    "\n",
    "# Manipulación de datos y análisis\n",
    "import numpy as np\n",
    "import pandas as pd\n",
    "import geopandas as gpd\n",
    "\n",
    "# Widgets interactivos\n",
    "import ipywidgets as widgets\n",
    "from ipywidgets import interact\n",
    "from IPython.display import display, HTML, clear_output\n",
    "\n",
    "# Utilidades de geometría y mapas\n",
    "import folium\n",
    "from shapely import wkt\n",
    "from shapely.geometry import Point, LineString\n",
    "\n",
    "# Otras utilidades\n",
    "import random"
   ],
   "metadata": {
    "id": "KyShDzMaOGzn"
   },
   "outputs": [],
   "execution_count": null
  },
  {
   "cell_type": "markdown",
   "source": [
    "**Sesión 2**: En esta sesión aprenderemos a visualizar datos usando Matplotlib, Seaborn y Plotly, utilizando un dataset del consumo de energía.\n",
    "\n",
    "**Matplotlib** es una biblioteca de visualización en 2D y 3D en Python, conocida por su flexibilidad y control detallado sobre los gráficos, lo que permite crear desde visualizaciones básicas hasta complejas, aunque a menudo requiere más líneas de código para personalizaciones. **Seaborn** es una biblioteca construida sobre Matplotlib que facilita la creación de gráficos estadísticos atractivos y informativos, ofreciendo paletas de colores y estilos predefinidos, y es especialmente útil para trabajar con DataFrames de pandas.\n",
    "\n",
    "**Plotly** es una biblioteca de visualización de datos interactiva que permite crear una amplia variedad de gráficos y dashboards personalizados, integrándose bien con pandas y facilitando la exploración de datos. **Plotly Express**, como subbiblioteca de Plotly, simplifica aún más este proceso al proporcionar una sintaxis sencilla para generar gráficos multivariados y animados rápidamente a partir de DataFrames.\n",
    "\n",
    "Nos enfocaremos en las técnicas fundamentales para explorar el dataset mediante visualizaciones, como histogramas, gráficos de densidad, scatters, gráficos de pastel, boxplots, diagramas de violín y geopandas. Exploraremos cómo cada una de estas bibliotecas nos permite analizar y comprender mejor la distribución y relaciones entre las variables clave."
   ],
   "metadata": {
    "id": "R7j1DAcoa-kl"
   }
  },
  {
   "cell_type": "markdown",
   "source": [
    "### Cargamos la base de datos, de los consumos de energía, contenida en el archivo csv"
   ],
   "metadata": {
    "id": "JuSfjo_FOhSp"
   }
  },
  {
   "cell_type": "markdown",
   "source": [
    "Base de datos con datos climáticos y consumo de energía en diferentes zonas.\n",
    "Las variables (columnas):\n",
    "\n",
    "1. **Datetime**: Tiempo que captura el registro de datos en intervalos de 10 minutos.\n",
    "2. **Temperature**: Registros de la temperatura en grados Celsius.\n",
    "3. **Humidity**: Registros de la humedad en porcentaje.\n",
    "4. **WindSpeed**: Registro de la velocidad del viento.\n",
    "5. **GeneralDiffuseFlows**: Registro del flujo de radiación solar difusa.\n",
    "6. **DiffuseFlows**: Registro del flujo de radiación solar difusa específica.\n",
    "7. **PowerConsumption_Zone1, PowerConsumption_Zone2, PowerConsumption_Zone3**: Estas tres columnas contienen el consumo de energía eléctrica para tres diferentes zonas."
   ],
   "metadata": {
    "id": "kzcmx5-bRkvn"
   }
  },
  {
   "cell_type": "code",
   "source": "consumption = pd.read_csv('databases/powerconsumption.csv', parse_dates=[\"Datetime\"])  # Cargar dataset",
   "metadata": {
    "id": "OhLZLWc9OMr5"
   },
   "outputs": [],
   "execution_count": null
  },
  {
   "cell_type": "code",
   "source": [
    "# @title\n",
    "@interact(x=(0, 100, 1))\n",
    "def actualizar(x=5):\n",
    "    display(consumption.head(x))"
   ],
   "metadata": {
    "id": "sYheUI3Thdhz",
    "cellView": "form",
    "colab": {
     "base_uri": "https://localhost:8080/",
     "height": 0,
     "referenced_widgets": [
      "9d852d4cc37b43f3a54df3335afe5717",
      "e7c621cae9cf4c7f8bf2e577bec8d8e1",
      "d5cff5f873b64c3f92992cec260cbf52",
      "a370c03d761042e0b22999d0b785693e",
      "726c0939f295406dbfac8b044ac6fa22",
      "91293bb99b94455d8cf9a3ee46015eef",
      "e0081305ea7043ccbd2a6164bafa3737"
     ]
    },
    "outputId": "0c8fc973-fe53-47b6-ca50-cc5deeb37a49"
   },
   "outputs": [],
   "execution_count": null
  },
  {
   "cell_type": "markdown",
   "source": [
    "Para fines ilustrativos requerimos contar además con columnas categóricas. Para ello, podemos discretizar las columnas continuas."
   ],
   "metadata": {
    "id": "sl3tY_OYRQYP"
   }
  },
  {
   "cell_type": "code",
   "source": [
    "consumption_cat = consumption.drop(columns=['Datetime']).apply(lambda col: pd.cut(col, bins=10, labels=False))\n",
    "consumption_cat.sample(10)"
   ],
   "metadata": {
    "colab": {
     "base_uri": "https://localhost:8080/",
     "height": 0
    },
    "id": "9JkRPqKTRPv3",
    "outputId": "5743494d-0e42-4972-eda4-b47938b59a73"
   },
   "outputs": [],
   "execution_count": null
  },
  {
   "cell_type": "markdown",
   "source": [
    "## **Histograma**"
   ],
   "metadata": {
    "id": "fNJJWozNOy6Z"
   }
  },
  {
   "cell_type": "markdown",
   "source": [
    "Un histograma sirve para visualizar la distribución de datos al mostrar la frecuencia de valores en intervalos o rangos específicos.\n"
   ],
   "metadata": {
    "id": "OjbZvy4c1TGl"
   }
  },
  {
   "cell_type": "markdown",
   "source": [
    "Al graficar usando Matplotlib, el primer argumento que recibe la función `plt.hist` es la variable a la cual queremos graficar el histograma, y con el parámetro `bins` escogemos el número de barras."
   ],
   "metadata": {
    "id": "kRFr3wubPIG5"
   }
  },
  {
   "cell_type": "code",
   "source": [
    "def matplotlib_histograma(column_name,bins):\n",
    "  plt.hist(consumption[column_name], bins=bins, color='blue', edgecolor='black') # Se selecciona la variable y la cantidad de bins\n",
    "  plt.title(f'Histograma de {column_name}') # Se añade un titulo\n",
    "  plt.xlabel(f'{column_name}') # Nombre para el eje x\n",
    "  plt.ylabel('Frecuencia') # Nombre para el eje y\n",
    "  plt.show()\n",
    "\n",
    "# Crear el dropdown para seleccionar la columna\n",
    "column_dropdown = widgets.Dropdown(\n",
    "    options=consumption.columns.tolist()[1:],  # Lista de nombres de columnas\n",
    "    value=consumption.columns[1],  # Valor inicial (segunda columna, por ejemplo)\n",
    "    description='Columna:',\n",
    ")\n",
    "\n",
    "# Crear un slider para el número de bins\n",
    "bins_slider = widgets.IntSlider(\n",
    "    value=30,\n",
    "    min=10,\n",
    "    max=100,\n",
    "    step=5,\n",
    "    description='Bins:',\n",
    "    continuous_update=False\n",
    ")\n",
    "# Mostrar el widget y la gráfica interactiva\n",
    "widgets.interactive(matplotlib_histograma, column_name=column_dropdown, bins=bins_slider)"
   ],
   "metadata": {
    "colab": {
     "base_uri": "https://localhost:8080/",
     "height": 0,
     "referenced_widgets": [
      "d0c33e72c2424d6ebe820f897301e7ab",
      "0ca39552d4bb498abecfed839c4f4b69",
      "b599deed264841969e374719ae742c19",
      "9f0637862c67408484a8e743ba67a167",
      "54c5a9915cdc4b0386bba74c3cb9707a",
      "e978a0f8f6e343bfb71425439069782a",
      "5487e9a891b447f88b494305dce045a0",
      "8fdcccdd7e614df8b82d526489dd9a64",
      "a9405e3006fe4dedb5f2402e1bf5bb32",
      "e95ab5b93ce4425383cacb023ac2fa2d"
     ]
    },
    "id": "aWI2_Ro1OvoS",
    "outputId": "028dc2c7-da5d-4857-f348-7b0cff1d15e0"
   },
   "outputs": [],
   "execution_count": null
  },
  {
   "cell_type": "markdown",
   "source": [
    "En Plotly podemos generar histogramas interactivos de diferentes maneras. Veamos cómo varia la distribución de algunas variables con los meses."
   ],
   "metadata": {
    "id": "dG0eJn4cV3O6"
   }
  },
  {
   "cell_type": "code",
   "source": [
    "# añadimos una columna correspondiente al mes al DataFrame consumption\n",
    "consumption[\"month\"] = consumption.Datetime.dt.month\n",
    "px.histogram(consumption, x=\"Temperature\", animation_frame=\"month\", range_x=[0, 40])"
   ],
   "metadata": {
    "colab": {
     "base_uri": "https://localhost:8080/",
     "height": 0
    },
    "id": "TMnc0sbIMUpZ",
    "outputId": "c81196c9-6009-4bee-999a-697d6b579b60"
   },
   "outputs": [],
   "execution_count": null
  },
  {
   "cell_type": "markdown",
   "source": [
    "También podemos ver varias variables a la vez. Por ejemplo, veamos el consumo de energía en las 3 zonas."
   ],
   "metadata": {
    "id": "zBQLx7_1BliF"
   }
  },
  {
   "cell_type": "code",
   "source": [
    "px.histogram(consumption, x=[\"PowerConsumption_Zone1\", \"PowerConsumption_Zone2\", \"PowerConsumption_Zone3\"],\n",
    "             animation_frame=\"month\", range_x=(0, 60e3))"
   ],
   "metadata": {
    "colab": {
     "base_uri": "https://localhost:8080/",
     "height": 0
    },
    "id": "h30smjEsIz9C",
    "outputId": "cbd48ba4-48fa-4071-933d-781810278e97"
   },
   "outputs": [],
   "execution_count": null
  },
  {
   "cell_type": "markdown",
   "source": [
    "## **PDF y KDE (Densidad de Probabilidad Kernel)**"
   ],
   "metadata": {
    "id": "quZAZuNHQW1g"
   }
  },
  {
   "cell_type": "markdown",
   "source": [
    "La **estimación de densidad kernel (KDE)** es una técnica para estimar la función de densidad de probabilidad de una variable aleatoria continua, para visualizar la distribución subyacente de datos.\n"
   ],
   "metadata": {
    "id": "_KzMndq4Q_kI"
   }
  },
  {
   "cell_type": "markdown",
   "source": [
    "Al graficar con Matplotlib y Seaborn, el primer argumento que recibe la función `sns.histplot` es la la variable a la cual queremos graficar el histograma y el parámetro `kde=True`, activa la visualización del KDE. Para este ejemplo seleccionamos los primeros 10000 datos\n"
   ],
   "metadata": {
    "id": "vi3SCah4RcmI"
   }
  },
  {
   "cell_type": "code",
   "source": [
    "# @title\n",
    "# KDE con histograma\n",
    "def matplotlib_KDE(column_name,bins):\n",
    "  sns.histplot(consumption[column_name].head(10000), kde=True, color='blue', bins=bins)\n",
    "  plt.title(f'Histograma y KDE de {column_name}')\n",
    "  plt.xlabel(column_name)\n",
    "  plt.ylabel('Densidad/Frecuencia')\n",
    "  plt.show()\n",
    "\n",
    "# Crear el dropdown para seleccionar la columna\n",
    "column_dropdown = widgets.Dropdown(\n",
    "    options=consumption.columns.tolist()[1:],  # Lista de nombres de columnas\n",
    "    value=consumption.columns[1],  # Valor inicial (segunda columna, por ejemplo)\n",
    "    description='Columna:',\n",
    ")\n",
    "\n",
    "# Crear un slider para el número de bins\n",
    "bins_slider = widgets.IntSlider(\n",
    "    value=30,\n",
    "    min=10,\n",
    "    max=100,\n",
    "    step=5,\n",
    "    description='Bins:',\n",
    "    continuous_update=False\n",
    ")\n",
    "# Mostrar el widget y la gráfica interactiva\n",
    "widgets.interactive(matplotlib_KDE, column_name=column_dropdown, bins=bins_slider)"
   ],
   "metadata": {
    "colab": {
     "base_uri": "https://localhost:8080/",
     "height": 0,
     "referenced_widgets": [
      "4b5fe3d010cf4162a16fc0cdcfc76475",
      "47d12008bacd4a0e9e2ec86c9e09c8f5",
      "4fe08e691c454957b1c100b14c8c457c",
      "1adbb645f887439086eb8105bf913680",
      "1a4eda3245b340f799611355cfd6ce41",
      "6d2fe68c8f264f9ba28d0cfbddf75858",
      "615984b3a3224ac4b0ebcc3666381479",
      "5f8f067413fd474b854c2b2c5c20cac5",
      "a8b54e5cf1cf409485aff126cddb3a0f",
      "38f80f9de82a4e1697ba21d8fd739bc0"
     ]
    },
    "id": "TApUqhw2O4tv",
    "outputId": "9880552a-79ec-4765-ea06-3337afbabb83"
   },
   "outputs": [],
   "execution_count": null
  },
  {
   "cell_type": "markdown",
   "source": [
    "Se crea un gráfico de densidad 2D con distribuciones marginales para visualizar la relación entre dos columnas del DataFrame, junto con un gráfico de dispersión para diferentes categorías, para los primeros 300 datos"
   ],
   "metadata": {
    "id": "2agSDV_E0H59"
   }
  },
  {
   "cell_type": "code",
   "source": [
    "# @title\n",
    "# Muestrear 500 puntos y eliminar la primera columna de 'consumption'\n",
    "consumption_sampled = consumption.iloc[:, 1:].sample(500, random_state=42)\n",
    "consumption_cat_sampled = consumption_cat.iloc[:, 1:].loc[consumption_sampled.index]\n",
    "\n",
    "# Obtener la lista de columnas de variables continuas después de ignorar la primera\n",
    "continuous_columns = consumption_sampled.columns.tolist()\n",
    "\n",
    "# Crear los dropdowns para las variables continuas y la variable categórica (hue)\n",
    "dropdown_x = widgets.Dropdown(options=continuous_columns, description='X variable')\n",
    "dropdown_y = widgets.Dropdown(options=continuous_columns, description='Y variable')\n",
    "\n",
    "# Crear un dropdown para la variable categórica desde 'consumption_cat'\n",
    "categorical_columns = consumption_cat_sampled.columns.tolist()\n",
    "dropdown_hue = widgets.Dropdown(options=categorical_columns, description='Hue variable')\n",
    "\n",
    "# Función para generar el gráfico\n",
    "def plot_kde(x_col, y_col, hue_col):\n",
    "    plt.figure(figsize=(10, 10))\n",
    "\n",
    "    # Usar la paleta de colores 'tab10' para distinguir hasta 10 categorías\n",
    "    palette = sns.color_palette(\"tab10\", n_colors=10)\n",
    "\n",
    "    # Crear el gráfico conjunto con kdeplot primero\n",
    "    g = sns.jointplot(data=consumption_sampled, x=x_col, y=y_col, kind=\"kde\", hue=consumption_cat_sampled[hue_col],\n",
    "                      fill=True, alpha=0.3, warn_singular=False, palette=palette)\n",
    "\n",
    "    # Superponer el scatter plot por encima del kdeplot\n",
    "    g.plot_joint(sns.scatterplot, hue=consumption_cat_sampled[hue_col], s=10, palette=palette)\n",
    "\n",
    "    # Añadir KDEs marginales individuales arriba y a la derecha\n",
    "    g.plot_marginals(sns.kdeplot, hue=consumption_cat_sampled[hue_col], warn_singular=False, palette=palette)\n",
    "\n",
    "    plt.show()\n",
    "\n",
    "# Conectar los dropdowns a la función interactiva\n",
    "interact(plot_kde, x_col=dropdown_x, y_col=dropdown_y, hue_col=dropdown_hue)"
   ],
   "metadata": {
    "cellView": "form",
    "id": "xKdlqzAZTKNc"
   },
   "outputs": [],
   "execution_count": null
  },
  {
   "cell_type": "markdown",
   "source": [
    "## **Scatter**"
   ],
   "metadata": {
    "id": "q7j-ZjSDR0no"
   }
  },
  {
   "cell_type": "markdown",
   "source": [
    "Un scatter plot muestra la relación entre dos variables numéricas al representar cada punto de datos con coordenadas en un gráfico de dispersión."
   ],
   "metadata": {
    "id": "Mkse2fm233dV"
   }
  },
  {
   "cell_type": "markdown",
   "source": [
    "Al graficar usando Matplotlib, los dos primeros argumentos que recibe la función `plt.scatter` son las variables a la cuales queremos graficar el scatter."
   ],
   "metadata": {
    "id": "hItYDQB3SBgA"
   }
  },
  {
   "cell_type": "code",
   "source": [
    "# @title\n",
    "def matplotlib_scatter(column_name_1, column_name_2):\n",
    "  # Crear el gráfico de dispersión\n",
    "  plt.figure(figsize=(8, 6))\n",
    "  plt.scatter(consumption[column_name_1], consumption[column_name_2], color='blue', alpha=0.5, s=10)\n",
    "\n",
    "  # Agregar títulos y etiquetas\n",
    "  plt.title(f'Scatter Plot: {column_name_1} vs. {column_name_2}')\n",
    "  plt.xlabel(f'{column_name_1}')\n",
    "  plt.ylabel(f'{column_name_2}')\n",
    "\n",
    "  # Mostrar el gráfico\n",
    "  plt.show()\n",
    "\n",
    "# Crear el dropdown para seleccionar la columna (variable 1)\n",
    "column_dropdown_1 = widgets.Dropdown(\n",
    "    options=consumption.columns.tolist()[1:],  # Lista de nombres de columnas\n",
    "    value=consumption.columns[1],  # Valor inicial (segunda columna, por ejemplo)\n",
    "    description='Columna: 1',\n",
    ")\n",
    "\n",
    "# Crear el dropdown para seleccionar la columna (variable 2)\n",
    "column_dropdown_2 = widgets.Dropdown(\n",
    "    options=consumption.columns.tolist()[1:],  # Lista de nombres de columnas\n",
    "    value=consumption.columns[1],  # Valor inicial (segunda columna, por ejemplo)\n",
    "    description='Columna: 2',\n",
    ")\n",
    "\n",
    "# Mostrar el widget y la gráfica interactiva\n",
    "widgets.interactive(matplotlib_scatter, column_name_1=column_dropdown_1, column_name_2=column_dropdown_2)"
   ],
   "metadata": {
    "id": "GjZKzxNySB3I"
   },
   "outputs": [],
   "execution_count": null
  },
  {
   "cell_type": "markdown",
   "source": [
    "Plotly nos permite realizar gráficas como la siguiente, relacionando distintas variables, con muy pocas líneas de código"
   ],
   "metadata": {
    "id": "4CK4qrzZiJJx"
   }
  },
  {
   "cell_type": "code",
   "source": [
    "# @title\n",
    "# Crear el scatter plot interactivo\n",
    "combined_data = consumption.copy()\n",
    "combined_data['Temperature_cat'] = consumption_cat['Temperature']\n",
    "combined_data['Humidity_cat'] = consumption_cat['Humidity']\n",
    "combined_data = combined_data.sort_values(by='Humidity_cat')\n",
    "\n",
    "fig = px.scatter(\n",
    "    combined_data,\n",
    "    x='PowerConsumption_Zone2',\n",
    "    y='PowerConsumption_Zone1',\n",
    "    color='Temperature_cat',\n",
    "    animation_frame=\"Humidity_cat\",\n",
    "    range_x=[5e3, 4e4],\n",
    "    range_y=[1e4, 5.5e4],\n",
    ")\n",
    "\n",
    "# Mostrar el gráfico interactivo\n",
    "fig.show()"
   ],
   "metadata": {
    "id": "IfdEEuMSSEi9",
    "cellView": "form"
   },
   "outputs": [],
   "execution_count": null
  },
  {
   "cell_type": "markdown",
   "source": [
    "## **Diagrama de pastel**"
   ],
   "metadata": {
    "id": "Aq8lq9-_UOzE"
   }
  },
  {
   "cell_type": "markdown",
   "source": [
    "Un diagrama de pastel (o gráfico circular) representa la proporción de un conjunto de categorías respecto al total. Cada categoría se visualiza como un \"sector\" del círculo, cuyo tamaño es proporcional a la frecuencia o porcentaje de esa categoría\n",
    "\n",
    "$$\n",
    "\\theta_i = \\frac{n_i}{N} \\cdot 360^\\circ\n",
    "$$\n",
    "\n",
    "Donde:\n",
    "- $ \\theta_i $ es el ángulo del sector correspondiente a la categoría $ i $ en grados.\n",
    "- $ n_i $ es el número de ocurrencias (frecuencia) de la categoría $ i $.\n",
    "- $ N $ es el número total de ocurrencias, es decir, $ N = \\sum_{i} n_i $.\n",
    "- $ 360^\\circ $ representa la circunferencia total del círculo.\n",
    "\n",
    "- Cada ángulo $ \\theta_i $ se calcula dividiendo la frecuencia de una categoría $ n_i $ por el total $ N $ para obtener la proporción, y luego se multiplica por 360° para obtener el tamaño del sector en grados.\n",
    "- Los sectores en el diagrama de pastel suman $ 360^\\circ $, ya que representan la totalidad del conjunto de datos."
   ],
   "metadata": {
    "id": "F-TpPRoqUROO"
   }
  },
  {
   "cell_type": "markdown",
   "source": [
    "En `consumption_cat` se selecciona la variable a realizar el diagrama de pastel, esto seleccionado la columna del Dataframe `consumption`, y en el primer argumento de la función `plt.pie` de Matplotlib se pasa el conteo de las categorías."
   ],
   "metadata": {
    "id": "VUwzRYpVURj2"
   }
  },
  {
   "cell_type": "code",
   "source": [
    "# Función para crear el diagrama de pastel\n",
    "def plot_pie_chart(variable):\n",
    "    # Contar la frecuencia de cada categoría\n",
    "    category_counts = consumption_cat[variable].value_counts()\n",
    "\n",
    "    # Crear un diagrama de pastel\n",
    "    fig, ax = plt.subplots(figsize=(8, 8))  # Ajustar el tamaño de la figura\n",
    "    wedges, texts, autotexts = ax.pie(\n",
    "        category_counts,\n",
    "        # labels=category_counts.index,\n",
    "        autopct='%1.1f%%',  # Esto muestra los porcentajes dentro del gráfico\n",
    "        startangle=90,\n",
    "        colors=plt.cm.tab20.colors\n",
    "    )\n",
    "\n",
    "    # Añadir un título\n",
    "    plt.title(f'Diagrama de Pastel de {variable} en consumption_cat')\n",
    "\n",
    "    # Mostrar la leyenda\n",
    "    plt.legend(wedges, category_counts.index, title=\"Categorías\", loc=\"center left\", bbox_to_anchor=(1, 0, 0.5, 1))\n",
    "\n",
    "    # Mostrar el gráfico\n",
    "    plt.show()\n",
    "\n",
    "# Crear el dropdown para seleccionar la variable\n",
    "interact(plot_pie_chart, variable=consumption_cat.columns.tolist());"
   ],
   "metadata": {
    "id": "-ekEk211SZ7C"
   },
   "outputs": [],
   "execution_count": null
  },
  {
   "cell_type": "markdown",
   "source": [
    "A continuación podemos ver la versión de Plotly Express"
   ],
   "metadata": {
    "id": "IEdsCxckYqkg"
   }
  },
  {
   "cell_type": "code",
   "source": [
    "# Fijar la variable a usar\n",
    "variable = 'Temperature'\n",
    "\n",
    "# Contar la frecuencia de cada categoría\n",
    "category_counts = consumption_cat[variable].value_counts().reset_index()\n",
    "category_counts.columns = [variable, 'Count']  # Renombrar columnas\n",
    "\n",
    "# Crear el gráfico de pastel\n",
    "fig = px.pie(\n",
    "    category_counts,\n",
    "    names=variable,\n",
    "    values='Count',\n",
    "    title=f'Diagrama de Pastel de {variable} en consumption_cat',\n",
    "    color_discrete_sequence=px.colors.qualitative.Set3  # Cambiar la paleta de colores\n",
    ")\n",
    "\n",
    "# Mostrar el gráfico\n",
    "fig.show()"
   ],
   "metadata": {
    "id": "k-z3WSsrVdL6"
   },
   "outputs": [],
   "execution_count": null
  },
  {
   "cell_type": "markdown",
   "source": [
    "## **Boxplot**"
   ],
   "metadata": {
    "id": "f__VLInuY3NV"
   }
  },
  {
   "cell_type": "markdown",
   "source": [
    "Un **boxplot** (o diagrama de caja) es una representación gráfica que resume la distribución de un conjunto de datos, mostrando sus cuartiles y posibles valores atípicos. La expresión matemática que representa un boxplot incluye varios componentes:\n",
    "\n",
    "1. **Mediana ($ Q_2 $)**: La mediana es el valor que divide el conjunto de datos en dos mitades iguales. Matemáticamente, si tienes un conjunto de datos ordenado $ x_1, x_2, \\ldots, x_n $:\n",
    "   $$\n",
    "   Q_2 = \\text{mediana}(x) =\n",
    "   \\begin{cases}\n",
    "   x_{(n+1)/2} & \\text{si } n \\text{ es impar} \\\\\n",
    "   \\frac{x_{n/2} + x_{(n/2)+1}}{2} & \\text{si } n \\text{ es par}\n",
    "   \\end{cases}\n",
    "   $$\n",
    "\n",
    "2. **Primer cuartil ($ Q_1 $)**: El cuartil 1 es el valor que divide el primer 25% de los datos ordenados.\n",
    "   $$\n",
    "   Q_1 = \\text{percentil 25} = x_{(n+1)/4}\n",
    "   $$\n",
    "\n",
    "3. **Tercer cuartil ($ Q_3 $)**: El cuartil 3 es el valor que divide el 75% de los datos ordenados.\n",
    "   $$\n",
    "   Q_3 = \\text{percentil 75} = x_{3(n+1)/4}\n",
    "   $$\n",
    "\n",
    "4. **Rango intercuartílico (IQR)**: Es la diferencia entre el tercer y el primer cuartil.\n",
    "   $$\n",
    "   \\text{IQR} = Q_3 - Q_1\n",
    "   $$\n",
    "\n",
    "5. **Valores atípicos (outliers)**: Los valores atípicos son aquellos que se encuentran fuera del rango definido por los cuartiles más 1.5 veces el IQR. La fórmula para determinar los límites es:\n",
    "   $$\n",
    "   \\text{Límite Inferior} = Q_1 - 1.5 \\times \\text{IQR}\n",
    "   $$\n",
    "   $$\n",
    "   \\text{Límite Superior} = Q_3 + 1.5 \\times \\text{IQR}\n",
    "   $$"
   ],
   "metadata": {
    "id": "NC9FU-oeZv3T"
   }
  },
  {
   "cell_type": "markdown",
   "source": [
    "Al graficar usando Matplotlib, el primer argumento que recibe la función `px.boxplot` es la la variable a la cual queremos graficar el boxplot"
   ],
   "metadata": {
    "id": "XmXw0i8GZO0V"
   }
  },
  {
   "cell_type": "code",
   "source": [
    "# @title\n",
    "def matplotlib_boxplot(column_name):\n",
    "  # Boxplot de la velocidad del viento\n",
    "  plt.boxplot(consumption[column_name], patch_artist=True)\n",
    "  plt.title(f'Boxplot de {column_name}')\n",
    "  plt.ylabel(f'{column_name}')\n",
    "  plt.grid()\n",
    "  plt.show()\n",
    "\n",
    "# Crear el dropdown para seleccionar la columna (variable 1)\n",
    "column_dropdown = widgets.Dropdown(\n",
    "    options=consumption.columns.tolist()[1:],  # Lista de nombres de columnas\n",
    "    value=consumption.columns[3],  # Valor inicial (segunda columna, por ejemplo)\n",
    "    description='Columna:',\n",
    ")\n",
    "\n",
    "# Mostrar el widget y la gráfica interactiva\n",
    "widgets.interactive(matplotlib_boxplot, column_name=column_dropdown)"
   ],
   "metadata": {
    "id": "PoHUmC0XVh5d",
    "cellView": "form"
   },
   "outputs": [],
   "execution_count": null
  },
  {
   "cell_type": "markdown",
   "source": [
    "En Plotly Express se usa la función `px.box`"
   ],
   "metadata": {
    "id": "By5tNswmZPf-"
   }
  },
  {
   "cell_type": "code",
   "source": [
    "# @title\n",
    "fig = px.box(\n",
    "    combined_data.sort_values(by='month'),\n",
    "    y='PowerConsumption_Zone2',\n",
    "    x='Temperature_cat',\n",
    "    animation_frame=\"month\",\n",
    "    title='Boxplot de Power Consumption por Temperatura',\n",
    ")\n",
    "\n",
    "fig.update_yaxes(range=[0, combined_data['PowerConsumption_Zone2'].max() * 1.1])\n",
    "fig.update_xaxes(range=[-0.5, len(combined_data['Temperature_cat'].unique()) - 0.5])\n",
    "# Mostrar el gráfico\n",
    "fig.show()"
   ],
   "metadata": {
    "id": "rSetnNqiY5H8"
   },
   "outputs": [],
   "execution_count": null
  },
  {
   "cell_type": "markdown",
   "source": [
    "## **Diagrama de Violín**"
   ],
   "metadata": {
    "id": "vWQzf2JbPpMp"
   }
  },
  {
   "cell_type": "markdown",
   "source": [
    "Un **diagrama de violín** muestra la distribución de datos a lo largo de un eje, combinando un histograma y un gráfico de densidad para visualizar la forma de la distribución. Así, un diagrama de violín es una combinación de un **boxplot** y una **estimación de densidad kernel (KDE)**\n"
   ],
   "metadata": {
    "id": "1tFLmnz1Pt1S"
   }
  },
  {
   "cell_type": "markdown",
   "source": [
    "Al graficar usando Matplotlib y Seaborn, los primeros argumentos que recibe la función `sns.violinplot` son las variables a las cuales queremos hacer diagrama de violín"
   ],
   "metadata": {
    "id": "fmthVyaUPuHx"
   }
  },
  {
   "cell_type": "code",
   "source": [
    "# @title\n",
    "def matplotlib_violin(column_name_1, column_name_2):\n",
    "  # Crear el diagrama de violín con Seaborn\n",
    "  concatenated = pd.concat([consumption[column_name_2], consumption_cat[column_name_1]], axis=1)\n",
    "  plt.figure(figsize=(8, 6))\n",
    "  sns.violinplot(x=column_name_1, y=column_name_2, data=concatenated)\n",
    "\n",
    "  # Agregar títulos y etiquetas\n",
    "  plt.title(f'Violin Plot: {column_name_1} según {column_name_2}')\n",
    "  plt.xlabel(f'{column_name_1}')\n",
    "  plt.ylabel(f'{column_name_2}')\n",
    "\n",
    "  # Mostrar el gráfico\n",
    "  plt.show()\n",
    "\n",
    "# Crear el dropdown para seleccionar la columna (variable 1)\n",
    "column_dropdown_2 = widgets.Dropdown(\n",
    "    options=consumption.columns.tolist()[1:],  # Lista de nombres de columnas\n",
    "    value=consumption.columns[3],  # Valor inicial\n",
    "    description='Columna: 1',\n",
    ")\n",
    "\n",
    "# Crear el dropdown para seleccionar la columna (variable 2)\n",
    "column_dropdown_1 = widgets.Dropdown(\n",
    "    options=consumption_cat.columns.tolist()[1:],  # Lista de nombres de columnas\n",
    "    value=consumption_cat.columns[6],  # Valor inicial\n",
    "    description='Columna: 2',\n",
    ")\n",
    "\n",
    "# Mostrar el widget y la gráfica interactiva\n",
    "widgets.interactive(matplotlib_violin, column_name_1=column_dropdown_1, column_name_2=column_dropdown_2)"
   ],
   "metadata": {
    "id": "aeMcLBz8PXLy"
   },
   "outputs": [],
   "execution_count": null
  },
  {
   "cell_type": "markdown",
   "source": [],
   "metadata": {
    "id": "XLhZXfNgSE5F"
   }
  },
  {
   "cell_type": "code",
   "source": [
    "fig = px.violin(\n",
    "    combined_data.sort_values(by='month'),\n",
    "    y='PowerConsumption_Zone2',\n",
    "    x='Temperature_cat',\n",
    "    animation_frame=\"month\",\n",
    "    title='Boxplot de Power Consumption por Temperatura',\n",
    ")\n",
    "\n",
    "fig.update_yaxes(range=[0, combined_data['PowerConsumption_Zone2'].max() * 1.1])\n",
    "fig.update_xaxes(range=[-0.5, len(combined_data['Temperature_cat'].unique()) - 0.5])\n",
    "# Mostrar el gráfico\n",
    "fig.show()"
   ],
   "metadata": {
    "id": "9OKzA4CHP5xj"
   },
   "outputs": [],
   "execution_count": null
  },
  {
   "cell_type": "markdown",
   "source": [
    "## **Geopandas**"
   ],
   "metadata": {
    "id": "zeRG0anaSLCL"
   }
  },
  {
   "cell_type": "markdown",
   "source": [
    "GeoPandas es una biblioteca de Python diseñada para trabajar con datos geoespaciales de manera eficiente, combinando la funcionalidad de pandas con herramientas para la manipulación de geometrías (puntos, líneas, polígonos) y datos geográficos. Permite realizar operaciones como el análisis espacial, la visualización y la manipulación de datos geográficos en formato vectorial."
   ],
   "metadata": {
    "id": "esjtqyVISaOR"
   }
  },
  {
   "cell_type": "markdown",
   "source": [
    "#### Cargamos la base de datos con algunos circuitos de la red CHEC"
   ],
   "metadata": {
    "id": "xpxl7haFSn1x"
   }
  },
  {
   "cell_type": "markdown",
   "source": [
    " Se lee un archivo CSV en un DataFrame de pandas, conviertiendo una columna de geometría en objetos geométricos y luego transforma el DataFrame en un GeoDataFrame de GeoPandas para facilitar el manejo de datos espaciales."
   ],
   "metadata": {
    "id": "DtSUthR45-4N"
   }
  },
  {
   "cell_type": "code",
   "source": [
    "# @title\n",
    "# Leer el archivo CSV en un DataFrame de pandas\n",
    "circuitos = pd.read_csv('databases/circuitos.csv')\n",
    "# Convertir la columna 'geometry' de formato WKT a objetos geométricos\n",
    "circuitos['geometry'] = circuitos['geometry'].apply(wkt.loads)\n",
    "# Convertir el DataFrame de pandas a un GeoDataFrame de GeoPandas, especificando la columna de geometría\n",
    "circuitos = gpd.GeoDataFrame(circuitos, geometry='geometry')\n",
    "# Mostrar las primeras filas del GeoDataFrame para verificar el contenido\n",
    "@interact(x=(0, 100, 1))\n",
    "def actualizar(x=5):\n",
    "    display(circuitos.head(x))"
   ],
   "metadata": {
    "id": "pR_8F3KSQ-1Z",
    "cellView": "form"
   },
   "outputs": [],
   "execution_count": null
  },
  {
   "cell_type": "markdown",
   "source": [
    "Se genera un color oscuro aleatorio para los circuitos y crea un mapa centrado en las coordenadas medias de los puntos de un GeoDataFrame usando Folium."
   ],
   "metadata": {
    "id": "MfSQxGZi6IJ9"
   }
  },
  {
   "cell_type": "code",
   "source": [
    "# @title\n",
    "# Función para generar un color oscuro aleatorio para los circuitos\n",
    "def dark_random_color():\n",
    "    r = random.randint(0, 100)  # Limitar el valor rojo entre 0 y 100 (oscuro)\n",
    "    g = random.randint(0, 100)  # Limitar el valor verde entre 0 y 100 (oscuro)\n",
    "    b = random.randint(0, 100)  # Limitar el valor azul entre 0 y 100 (oscuro)\n",
    "    return f'#{r:02x}{g:02x}{b:02x}'\n",
    "\n",
    "# @title\n",
    "# Crear un mapa centrado en la media de las coordenadas de los circuitos\n",
    "map_center = [circuitos.geometry.centroid.y.mean(), circuitos.geometry.centroid.x.mean()]\n",
    "m = folium.Map(location=map_center, zoom_start=12)"
   ],
   "metadata": {
    "id": "E5X54fOUbBN6"
   },
   "outputs": [],
   "execution_count": null
  },
  {
   "cell_type": "markdown",
   "source": [
    "Se agrupa un GeoDataFrame por la columna 'CIRCUITO', genera un color oscuro aleatorio para cada grupo, y luego añade las líneas (o multilíneas) al mapa como PolyLine utilizando el color asignado y las coordenadas adecuadas."
   ],
   "metadata": {
    "id": "7Fy-60Az6OwV"
   }
  },
  {
   "cell_type": "code",
   "source": [
    "# @title\n",
    "# Agrupar los datos del GeoDataFrame por la columna 'CIRCUITO' para procesar cada grupo de forma individual\n",
    "for circuito, grupo in circuitos.groupby('CIRCUITO'):\n",
    "    # Generar un color aleatorio oscuro para cada circuito\n",
    "    circuito_color = dark_random_color()\n",
    "\n",
    "    # Ordenar el grupo por 'NODO1_ID' y 'NODO2_ID'\n",
    "    grupo_sorted = grupo.sort_values(by=['NODO1_ID', 'NODO2_ID'])\n",
    "\n",
    "    # Lista para almacenar las coordenadas de las líneas\n",
    "    line_coords = []\n",
    "\n",
    "    # Iterar sobre cada fila del grupo ordenado\n",
    "    for idx, row in grupo_sorted.iterrows():\n",
    "        # Verificar si la geometría es una línea\n",
    "        if row.geometry.geom_type == 'LineString':\n",
    "            # Convertir las coordenadas de la línea de (longitud, latitud) a (latitud, longitud)\n",
    "            coords = [(coord[1], coord[0]) for coord in list(row.geometry.coords)]\n",
    "            line_coords.append(coords)\n",
    "        # Verificar si la geometría es una multilinea\n",
    "        elif row.geometry.geom_type == 'MultiLineString':\n",
    "            # Iterar sobre cada línea en la multilinea\n",
    "            for linestring in row.geometry:\n",
    "                # Convertir las coordenadas de la línea de (longitud, latitud) a (latitud, longitud)\n",
    "                coords = [(coord[1], coord[0]) for coord in list(linestring.coords)]\n",
    "                line_coords.append(coords)\n",
    "\n",
    "    # Agregar cada conjunto de coordenadas de líneas al mapa como una PolyLine\n",
    "    for coords in line_coords:\n",
    "        folium.PolyLine(coords, color=circuito_color, weight=1.5, opacity=1).add_to(m)\n"
   ],
   "metadata": {
    "id": "JeVdLuPub3I6",
    "cellView": "form"
   },
   "outputs": [],
   "execution_count": null
  },
  {
   "cell_type": "markdown",
   "source": [
    "### Cargamos la base de datos de los interruptores de esos circuitos"
   ],
   "metadata": {
    "id": "wkjFRwQOaY5u"
   }
  },
  {
   "cell_type": "markdown",
   "source": [
    "Se lee un archivo CSV en un DataFrame de pandas, se convierte una columna de geometría en objetos geométricos y luego se transforma el DataFrame en un GeoDataFrame de GeoPandas para manejar datos espaciales."
   ],
   "metadata": {
    "id": "tCGqZ48F6h-8"
   }
  },
  {
   "cell_type": "code",
   "source": [
    "# @title\n",
    "# Leer el archivo CSV en un DataFrame de pandas\n",
    "interruptores = pd.read_csv('databases/switches.csv')\n",
    "# Convertir la columna 'geometry' de formato WKT a objetos geométricos\n",
    "interruptores['geometry'] = interruptores['geometry'].apply(wkt.loads)\n",
    "# Convertir el DataFrame de pandas a un GeoDataFrame de GeoPandas, especificando la columna de geometría\n",
    "interruptores = gpd.GeoDataFrame(interruptores, geometry='geometry')\n",
    "# Mostrar las primeras filas del GeoDataFrame para verificar el contenido\n",
    "@interact(x=(0, 100, 1))\n",
    "def actualizar(x=5):\n",
    "    display(interruptores.head(x))"
   ],
   "metadata": {
    "id": "UPqCrHFAW5ej",
    "cellView": "form"
   },
   "outputs": [],
   "execution_count": null
  },
  {
   "cell_type": "markdown",
   "source": [
    "Se agregan marcadores circulares al mapa para cada interruptor, ubicados en la latitud y longitud especificadas, con un color y opacidad definidos, y muestra un texto emergente con el ID del interruptor."
   ],
   "metadata": {
    "id": "z_Rt3wi76wfc"
   }
  },
  {
   "cell_type": "code",
   "source": [
    "# @title\n",
    "# Agregar los interruptores al mapa\n",
    "for idx, row in interruptores.iterrows():\n",
    "    # Extraer la latitud y longitud de la geometría del interruptor\n",
    "    lat = row.geometry.y\n",
    "    lon = row.geometry.x\n",
    "\n",
    "    # Crear un marcador circular para cada interruptor en el mapa\n",
    "    folium.CircleMarker(\n",
    "        location=[lat, lon],  # Ubicación del marcador (latitud, longitud)\n",
    "        radius=4,  # Radio del marcador\n",
    "        color='black',  # Color del borde del marcador\n",
    "        fill=True,  # Rellenar el marcador\n",
    "        fill_color='black',  # Color de relleno del marcador\n",
    "        fill_opacity=0.6,  # Opacidad del relleno del marcador\n",
    "        popup=f\"Interruptor ID: {row['CIRCUITO']}\"  # Texto emergente con el ID del interruptor\n",
    "    ).add_to(m)  # Agregar el marcador al mapa\n",
    "\n",
    "    # Opcional: almacenar la fila y la latitud para su uso posterior\n",
    "    row_1 = row\n",
    "    lat_1 = lat\n"
   ],
   "metadata": {
    "id": "o4AMLYkmb9QC"
   },
   "outputs": [],
   "execution_count": null
  },
  {
   "cell_type": "markdown",
   "source": [
    "### Cargamos la base de datos con los apoyos de esos circuitos"
   ],
   "metadata": {
    "id": "tcbpNYcaasfa"
   }
  },
  {
   "cell_type": "markdown",
   "source": [
    "Se lee un archivo CSV en un DataFrame de pandas, se convierte una columna de geometría en objetos geométricos y luego se transforma el DataFrame en un GeoDataFrame de GeoPandas para manejar datos espaciales."
   ],
   "metadata": {
    "id": "Q36EJWPR67jm"
   }
  },
  {
   "cell_type": "code",
   "source": [
    "# @title\n",
    "# Leer el archivo CSV en un DataFrame de pandas\n",
    "apoyos = pd.read_csv('databases/apoyos.csv')\n",
    "# Convertir la columna 'geometry' de formato WKT a objetos geométricos\n",
    "apoyos['geometry'] = apoyos['geometry'].apply(wkt.loads)\n",
    "# Convertir el DataFrame de pandas a un GeoDataFrame de GeoPandas, especificando la columna de geometría\n",
    "apoyos = gpd.GeoDataFrame(apoyos, geometry='geometry')\n",
    "# Mostrar las primeras filas del GeoDataFrame para verificar el contenido\n",
    "@interact(x=(0, 100, 1))\n",
    "def actualizar(x=5):\n",
    "    display(apoyos.head(x))"
   ],
   "metadata": {
    "id": "uLR_ojwkarVJ",
    "cellView": "form"
   },
   "outputs": [],
   "execution_count": null
  },
  {
   "cell_type": "markdown",
   "source": [
    "Se agregan marcadores circulares al mapa para cada apoyo, ubicados en la latitud y longitud especificadas, con un color y opacidad definidos, y muestra un texto emergente con el ID del apoyo."
   ],
   "metadata": {
    "id": "0C4ICLvu7AKm"
   }
  },
  {
   "cell_type": "code",
   "source": [
    "# @title\n",
    "# Agregar los apoyos al mapa\n",
    "for idx, row in apoyos.iterrows():\n",
    "    # Extraer las coordenadas (latitud y longitud) de la geometría del apoyo\n",
    "    lat = row.geometry.xy[1][0]  # Coordenadas en el eje y (latitud)\n",
    "    lon = row.geometry.xy[0][0]  # Coordenadas en el eje x (longitud)\n",
    "\n",
    "    # Crear un marcador circular para cada apoyo en el mapa\n",
    "    folium.CircleMarker(\n",
    "        location=[lat, lon],  # Ubicación del marcador (latitud, longitud)\n",
    "        radius=2,  # Radio del marcador\n",
    "        color='blue',  # Color del borde del marcador\n",
    "        fill=True,  # Rellenar el marcador\n",
    "        fill_color='blue',  # Color de relleno del marcador\n",
    "        fill_opacity=0.6,  # Opacidad del relleno del marcador\n",
    "        popup=f\"Apoyo ID: {row['CIRCUITO']}\"  # Texto emergente con el ID del apoyo\n",
    "    ).add_to(m)  # Agregar el marcador al mapa\n"
   ],
   "metadata": {
    "id": "B7YXOhoHcDhT"
   },
   "outputs": [],
   "execution_count": null
  },
  {
   "cell_type": "markdown",
   "source": [
    "### Cargamos la base de datos de los transformadores de esos circuitos"
   ],
   "metadata": {
    "id": "pgkLzuQQa2RR"
   }
  },
  {
   "cell_type": "markdown",
   "source": [
    "Se lee un archivo CSV en un DataFrame de pandas, se convierte una columna de geometría en objetos geométricos y luego se transforma el DataFrame en un GeoDataFrame de GeoPandas para manejar datos espaciales."
   ],
   "metadata": {
    "id": "ZiZzwlYV69dc"
   }
  },
  {
   "cell_type": "code",
   "source": [
    "# @title\n",
    "# Leer el archivo CSV en un DataFrame de pandas\n",
    "transformadores = pd.read_csv('databases/transformadores.csv')\n",
    "# Convertir la columna 'geometry' de formato WKT a objetos geométricos\n",
    "transformadores['geometry'] = transformadores['geometry'].apply(wkt.loads)\n",
    "# Convertir el DataFrame de pandas a un GeoDataFrame de GeoPandas, especificando la columna de geometría\n",
    "transformadores = gpd.GeoDataFrame(transformadores, geometry='geometry')\n",
    "# Mostrar las primeras filas del GeoDataFrame para verificar el contenido\n",
    "@interact(x=(0, 100, 1))\n",
    "def actualizar(x=5):\n",
    "    display(transformadores.head(x))"
   ],
   "metadata": {
    "id": "VxGLhXT6a1HN",
    "cellView": "form"
   },
   "outputs": [],
   "execution_count": null
  },
  {
   "cell_type": "markdown",
   "source": [
    "Se agregan marcadores circulares al mapa para cada transformador, ubicados en la latitud y longitud especificadas, con un color y opacidad definidos, y muestra un texto emergente con el ID del transformador."
   ],
   "metadata": {
    "id": "jDzFvMeR7FFN"
   }
  },
  {
   "cell_type": "code",
   "source": [
    "# @title\n",
    "# Agregar los transformadores al mapa\n",
    "for idx, row in transformadores.iterrows():\n",
    "    # Extraer las coordenadas (latitud y longitud) de la geometría del transformador\n",
    "    lat = row.geometry.y  # Coordenadas en el eje y (latitud)\n",
    "    lon = row.geometry.x  # Coordenadas en el eje x (longitud)\n",
    "\n",
    "    # Crear un marcador circular para cada transformador en el mapa\n",
    "    folium.CircleMarker(\n",
    "        location=[lat, lon],  # Ubicación del marcador (latitud, longitud)\n",
    "        radius=6,  # Radio del marcador\n",
    "        color='green',  # Color del borde del marcador\n",
    "        fill=True,  # Rellenar el marcador\n",
    "        fill_color='green',  # Color de relleno del marcador\n",
    "        fill_opacity=0.9,  # Opacidad del relleno del marcador\n",
    "        popup=f\"Transformador ID: {row['CIRCUITO']}\"  # Texto emergente con el ID del transformador\n",
    "    ).add_to(m)  # Agregar el marcador al mapa\n"
   ],
   "metadata": {
    "cellView": "form",
    "id": "IpLrD-WrcGfO"
   },
   "outputs": [],
   "execution_count": null
  },
  {
   "cell_type": "markdown",
   "source": [
    "### Gráficamos los equipos de los circuitos usando la biblioteca Folium"
   ],
   "metadata": {
    "id": "JiEOS9R_bFZq"
   }
  },
  {
   "cell_type": "code",
   "source": [
    "# añadimos las convenciones de los distintos tipos de elementos\n",
    "legend_html = '''\n",
    "<div style=\"position: fixed;\n",
    "             bottom: 50px; left: 50px; width: 150px; height: auto;\n",
    "             border:2px solid grey; z-index:9999; font-size:14px;\n",
    "             background-color: white; padding: 5px;\">\n",
    "&nbsp; <b>Leyenda</b> <br>\n",
    "<div style=\"display: flex; align-items: center;\">\n",
    "    <i class=\"fa fa-circle\" style=\"color:blue; font-size: 8px; margin-right: 5px;\"></i>\n",
    "    Apoyos\n",
    "</div>\n",
    "<div style=\"display: flex; align-items: center;\">\n",
    "    <i class=\"fa fa-circle\" style=\"color:green; font-size: 10px; margin-right: 5px;\"></i>\n",
    "    Transformadores\n",
    "</div>\n",
    "<div style=\"display: flex; align-items: center;\">\n",
    "    <i class=\"fa fa-circle\" style=\"color:black; font-size: 7px; margin-right: 5px;\"></i>\n",
    "    Interruptores\n",
    "</div>\n",
    "<div style=\"display: flex; align-items: center;\">\n",
    "    <i class=\"fa fa-minus\" style=\"color:black; font-size: 10px; margin-right: 5px;\"></i>\n",
    "    Circuitos\n",
    "</div>\n",
    "</div>\n",
    "'''\n",
    "\n",
    "m.get_root().html.add_child(folium.Element(legend_html))"
   ],
   "metadata": {
    "id": "F0SW8uMrHLKt"
   },
   "outputs": [],
   "execution_count": null
  },
  {
   "cell_type": "code",
   "source": [
    "m"
   ],
   "metadata": {
    "colab": {
     "base_uri": "https://localhost:8080/",
     "height": 865
    },
    "id": "r_X1auRxcHZC",
    "outputId": "941391fc-e411-4b23-e5ee-4839c3808012"
   },
   "outputs": [],
   "execution_count": null
  },
  {
   "metadata": {},
   "cell_type": "markdown",
   "source": [
    "**Copyright**\n",
    "\n",
    "The notebooks are provided as [Open Educational Resource](https://de.wikipedia.org/wiki/Open_Educational_Resources). Feel free to use the notebooks for your own educational purposes. The text is licensed under [Creative Commons Attribution 4.0](https://creativecommons.org/licenses/by/4.0/), the code of the IPython examples under the [MIT license](https://opensource.org/licenses/MIT)."
   ]
  },
  {
   "metadata": {},
   "cell_type": "code",
   "outputs": [],
   "execution_count": null,
   "source": ""
  }
 ]
}
