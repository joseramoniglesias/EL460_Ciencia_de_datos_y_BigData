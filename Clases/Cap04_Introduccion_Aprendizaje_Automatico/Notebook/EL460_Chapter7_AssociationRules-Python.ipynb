{
 "cells": [
  {
   "cell_type": "markdown",
   "source": [
    "# Finding patterns - Association Rules<a class=\"tocSkip\">\n",
    "## Ciencia de Datos <a class=\"tocSkip\">\n",
    "### Ingenieria Electrónica <a class=\"tocSkip\">\n",
    "### Universidad Popular del Cesar <a class=\"tocSkip\">\n",
    "### Prof.: Jose Ramón Iglesias Gamarra - [https://github.com/joseramoniglesias/](https://github.com/joseramoniglesias/) <a class=\"tocSkip\">\n",
    "  **joseiglesias@unicesar.edu.co**"
   ],
   "metadata": {
    "collapsed": false
   },
   "id": "afbf321a962e8d75"
  },
  {
   "cell_type": "markdown",
   "source": [
    "# Ejemplo cesta de la compra\n",
    "Supóngase que se dispone del registro de todas las compras que se han realizado en un supermercado. El objetivo del análisis es identificar productos que tiendan a comprarse de forma conjunta para así poder situarlos en posiciones cercanas dentro de la tienda y maximizar la probabilidad de que los clientes compren."
   ],
   "metadata": {
    "collapsed": false
   },
   "id": "d78db72141c2bad1"
  },
  {
   "cell_type": "code",
   "source": [
    "# Librerías\n",
    "# ==============================================================================\n",
    "import pandas as pd\n",
    "import matplotlib.pyplot as plt\n",
    "import seaborn as sns\n",
    "from mlxtend.frequent_patterns import apriori\n",
    "from mlxtend.preprocessing import TransactionEncoder\n",
    "from mlxtend.frequent_patterns import association_rules"
   ],
   "metadata": {
    "collapsed": false,
    "ExecuteTime": {
     "end_time": "2024-04-27T17:31:48.479139Z",
     "start_time": "2024-04-27T17:31:48.202735Z"
    }
   },
   "id": "58677f69bd7cb8c9",
   "outputs": [],
   "execution_count": 4
  },
  {
   "cell_type": "markdown",
   "source": [
    "# Datos\n",
    "Para este ejemplo se emplea el set de datos Groceries del paquete de R arules, que contiene un registro de todas las ventas realizadas por un supermercado durante 30 días. En total se dispone de 9835 transacciones formadas por combinaciones de 169 productos."
   ],
   "metadata": {
    "collapsed": false
   },
   "id": "b186f00392bf517f"
  },
  {
   "cell_type": "code",
   "source": [
    "# Datos\n",
    "# ==============================================================================\n",
    "datos = pd.read_csv('datos_groceries.csv')\n",
    "datos.head()"
   ],
   "metadata": {
    "collapsed": false,
    "ExecuteTime": {
     "end_time": "2024-04-27T17:31:50.552307Z",
     "start_time": "2024-04-27T17:31:50.507931Z"
    }
   },
   "id": "20a4689a70e87e85",
   "outputs": [
    {
     "data": {
      "text/plain": [
       "   id_compra                 item\n",
       "0          1         citrus fruit\n",
       "1          1  semi-finished bread\n",
       "2          1            margarine\n",
       "3          1          ready soups\n",
       "4          2       tropical fruit"
      ],
      "text/html": [
       "<div>\n",
       "<style scoped>\n",
       "    .dataframe tbody tr th:only-of-type {\n",
       "        vertical-align: middle;\n",
       "    }\n",
       "\n",
       "    .dataframe tbody tr th {\n",
       "        vertical-align: top;\n",
       "    }\n",
       "\n",
       "    .dataframe thead th {\n",
       "        text-align: right;\n",
       "    }\n",
       "</style>\n",
       "<table border=\"1\" class=\"dataframe\">\n",
       "  <thead>\n",
       "    <tr style=\"text-align: right;\">\n",
       "      <th></th>\n",
       "      <th>id_compra</th>\n",
       "      <th>item</th>\n",
       "    </tr>\n",
       "  </thead>\n",
       "  <tbody>\n",
       "    <tr>\n",
       "      <th>0</th>\n",
       "      <td>1</td>\n",
       "      <td>citrus fruit</td>\n",
       "    </tr>\n",
       "    <tr>\n",
       "      <th>1</th>\n",
       "      <td>1</td>\n",
       "      <td>semi-finished bread</td>\n",
       "    </tr>\n",
       "    <tr>\n",
       "      <th>2</th>\n",
       "      <td>1</td>\n",
       "      <td>margarine</td>\n",
       "    </tr>\n",
       "    <tr>\n",
       "      <th>3</th>\n",
       "      <td>1</td>\n",
       "      <td>ready soups</td>\n",
       "    </tr>\n",
       "    <tr>\n",
       "      <th>4</th>\n",
       "      <td>2</td>\n",
       "      <td>tropical fruit</td>\n",
       "    </tr>\n",
       "  </tbody>\n",
       "</table>\n",
       "</div>"
      ]
     },
     "execution_count": 5,
     "metadata": {},
     "output_type": "execute_result"
    }
   ],
   "execution_count": 5
  },
  {
   "cell_type": "markdown",
   "source": [
    "# Exploración de transacciones e ítems\n",
    "Uno de los primeros análisis que conviene realizar cuando se trabaja con transacciones es explorar su contenido y tamaño, es decir, el número de ítems que las forman y cuáles son.\n",
    "\n",
    "En este conjunto de datos, cada línea contiene la información de un ítem y el identificador de la transacción (compra) a la que pertenece. Por ejemplo, la transacción con el identificador 14 está formada por 3 ítems."
   ],
   "metadata": {
    "collapsed": false
   },
   "id": "a7ecdf7cca43dd45"
  },
  {
   "cell_type": "code",
   "source": [
    "# Ítems de la transacción 14\n",
    "# ==============================================================================\n",
    "datos.query(\"id_compra==14\")"
   ],
   "metadata": {
    "collapsed": false,
    "ExecuteTime": {
     "end_time": "2024-04-27T17:31:56.392748Z",
     "start_time": "2024-04-27T17:31:56.362928Z"
    }
   },
   "id": "753ff09910e54f61",
   "outputs": [
    {
     "data": {
      "text/plain": [
       "    id_compra         item\n",
       "45         14  frankfurter\n",
       "46         14   rolls/buns\n",
       "47         14         soda"
      ],
      "text/html": [
       "<div>\n",
       "<style scoped>\n",
       "    .dataframe tbody tr th:only-of-type {\n",
       "        vertical-align: middle;\n",
       "    }\n",
       "\n",
       "    .dataframe tbody tr th {\n",
       "        vertical-align: top;\n",
       "    }\n",
       "\n",
       "    .dataframe thead th {\n",
       "        text-align: right;\n",
       "    }\n",
       "</style>\n",
       "<table border=\"1\" class=\"dataframe\">\n",
       "  <thead>\n",
       "    <tr style=\"text-align: right;\">\n",
       "      <th></th>\n",
       "      <th>id_compra</th>\n",
       "      <th>item</th>\n",
       "    </tr>\n",
       "  </thead>\n",
       "  <tbody>\n",
       "    <tr>\n",
       "      <th>45</th>\n",
       "      <td>14</td>\n",
       "      <td>frankfurter</td>\n",
       "    </tr>\n",
       "    <tr>\n",
       "      <th>46</th>\n",
       "      <td>14</td>\n",
       "      <td>rolls/buns</td>\n",
       "    </tr>\n",
       "    <tr>\n",
       "      <th>47</th>\n",
       "      <td>14</td>\n",
       "      <td>soda</td>\n",
       "    </tr>\n",
       "  </tbody>\n",
       "</table>\n",
       "</div>"
      ]
     },
     "execution_count": 6,
     "metadata": {},
     "output_type": "execute_result"
    }
   ],
   "execution_count": 6
  },
  {
   "cell_type": "code",
   "source": [
    "# Total de transacciones e ítems (productos)\n",
    "# ==============================================================================\n",
    "print(f\"Número total de transacciones: {datos['id_compra'].nunique()}\")\n",
    "print(f\"Número total de ítems (productos): {datos['item'].nunique()}\")"
   ],
   "metadata": {
    "collapsed": false,
    "ExecuteTime": {
     "end_time": "2024-04-27T17:32:26.118134Z",
     "start_time": "2024-04-27T17:32:26.097753Z"
    }
   },
   "id": "2b24a6915cea641c",
   "outputs": [
    {
     "name": "stdout",
     "output_type": "stream",
     "text": [
      "Número total de transacciones: 9835\n",
      "Número total de ítems (productos): 169\n"
     ]
    }
   ],
   "execution_count": 7
  },
  {
   "cell_type": "code",
   "source": [
    "# Ítems (productos) agrupados por transacción (compra)\n",
    "# ==============================================================================\n",
    "datos.groupby('id_compra')['item'].apply(list)"
   ],
   "metadata": {
    "collapsed": false,
    "ExecuteTime": {
     "end_time": "2024-04-27T17:32:28.347950Z",
     "start_time": "2024-04-27T17:32:28.034212Z"
    }
   },
   "id": "353e6ceecb4b3953",
   "outputs": [
    {
     "data": {
      "text/plain": [
       "id_compra\n",
       "1       [citrus fruit, semi-finished bread, margarine,...\n",
       "2                        [tropical fruit, yogurt, coffee]\n",
       "3                                            [whole milk]\n",
       "4         [pip fruit, yogurt, cream cheese, meat spreads]\n",
       "5       [other vegetables, whole milk, condensed milk,...\n",
       "                              ...                        \n",
       "9831    [sausage, chicken, beef, hamburger meat, citru...\n",
       "9832                                  [cooking chocolate]\n",
       "9833    [chicken, citrus fruit, other vegetables, butt...\n",
       "9834    [semi-finished bread, bottled water, soda, bot...\n",
       "9835    [chicken, tropical fruit, other vegetables, vi...\n",
       "Name: item, Length: 9835, dtype: object"
      ]
     },
     "execution_count": 8,
     "metadata": {},
     "output_type": "execute_result"
    }
   ],
   "execution_count": 8
  },
  {
   "cell_type": "code",
   "source": [
    "# Distribución del número de ítems por transacción\n",
    "# ==============================================================================\n",
    "display(datos.groupby('id_compra')['item'].size().describe(percentiles=[.25, .5, .75, .9]))\n",
    "\n",
    "fig, ax = plt.subplots(figsize=(7, 3))\n",
    "datos.groupby('id_compra')['item'].size().plot.hist(ax=ax)\n",
    "ax.set_title('Distribución del tamaño de las transacciones');\n",
    "ax.set_xlabel('Número de ítems');"
   ],
   "metadata": {
    "collapsed": false,
    "ExecuteTime": {
     "end_time": "2024-04-27T17:33:39.426070Z",
     "start_time": "2024-04-27T17:33:39.040306Z"
    }
   },
   "id": "9030b137a6008aa8",
   "outputs": [
    {
     "data": {
      "text/plain": [
       "count    9835.000000\n",
       "mean        4.409456\n",
       "std         3.589385\n",
       "min         1.000000\n",
       "25%         2.000000\n",
       "50%         3.000000\n",
       "75%         6.000000\n",
       "90%         9.000000\n",
       "max        32.000000\n",
       "Name: item, dtype: float64"
      ]
     },
     "metadata": {},
     "output_type": "display_data"
    },
    {
     "data": {
      "text/plain": [
       "<Figure size 700x300 with 1 Axes>"
      ],
      "image/png": "[encoded data removed]"
     },
     "metadata": {},
     "output_type": "display_data"
    }
   ],
   "execution_count": 9
  },
  {
   "cell_type": "markdown",
   "source": [
    "La gran mayoría de clientes compra entre 2 y 6 productos, y el 90% de ellos compra como máximo 9.\n",
    "\n",
    "El siguiente análisis básico consiste en identificar cuáles son los ítems más frecuentes (los que tienen mayor soporte) dentro del conjunto de todas las transacciones. Se calcula como la fracción de transacciones que contienen dicho ítem respecto al total de todas las transacciones. Esto es distinto de la frecuencia de un ítem respecto al total de ítems, de ahí que la suma de todos los soportes no sea 1.\n",
    "\n",
    "Para realizar este cálculo se genera una matriz binaria (valores 0/1 o True/False), con una fila por cada transacción, en este caso cada compra, y una columna por cada posible ítem, en este caso productos. La posición de la matriz ( i,j) tiene el valor 1 si la transacción i contiene el ítem j y 0 de lo contrario. Existen múltiples formas de construir este tipo de matriz, una de ellas es utilizando la clase TransactionEncoder de la librería mlxtend."
   ],
   "metadata": {
    "collapsed": false
   },
   "id": "389bef85d40690be"
  },
  {
   "cell_type": "code",
   "source": [
    "# Codificar las transacciones en forma de matriz binaria\n",
    "# ==============================================================================\n",
    "# Crear una lista de listas que contenga los ítems de cada transacción\n",
    "transacciones = datos.groupby('id_compra')['item'].apply(list).to_list()\n",
    "\n",
    "# Entrenar el objeto TransactionEncoder y transformar los datos\n",
    "encoder = TransactionEncoder()\n",
    "transacciones_encoded = encoder.fit(transacciones).transform(transacciones)\n",
    "transacciones_encoded = pd.DataFrame(transacciones_encoded, columns=encoder.columns_)\n",
    "transacciones_encoded.head(3)"
   ],
   "metadata": {
    "collapsed": false,
    "ExecuteTime": {
     "end_time": "2024-04-27T17:36:18.059967Z",
     "start_time": "2024-04-27T17:36:17.749984Z"
    }
   },
   "id": "bc26834f67cf2a5b",
   "outputs": [
    {
     "data": {
      "text/plain": [
       "   Instant food products  UHT-milk  abrasive cleaner  artif. sweetener  \\\n",
       "0                  False     False             False             False   \n",
       "1                  False     False             False             False   \n",
       "2                  False     False             False             False   \n",
       "\n",
       "   baby cosmetics  baby food   bags  baking powder  bathroom cleaner   beef  \\\n",
       "0           False      False  False          False             False  False   \n",
       "1           False      False  False          False             False  False   \n",
       "2           False      False  False          False             False  False   \n",
       "\n",
       "   ...  turkey  vinegar  waffles  whipped/sour cream  whisky  white bread  \\\n",
       "0  ...   False    False    False               False   False        False   \n",
       "1  ...   False    False    False               False   False        False   \n",
       "2  ...   False    False    False               False   False        False   \n",
       "\n",
       "   white wine  whole milk  yogurt  zwieback  \n",
       "0       False       False   False     False  \n",
       "1       False       False    True     False  \n",
       "2       False        True   False     False  \n",
       "\n",
       "[3 rows x 169 columns]"
      ],
      "text/html": [
       "<div>\n",
       "<style scoped>\n",
       "    .dataframe tbody tr th:only-of-type {\n",
       "        vertical-align: middle;\n",
       "    }\n",
       "\n",
       "    .dataframe tbody tr th {\n",
       "        vertical-align: top;\n",
       "    }\n",
       "\n",
       "    .dataframe thead th {\n",
       "        text-align: right;\n",
       "    }\n",
       "</style>\n",
       "<table border=\"1\" class=\"dataframe\">\n",
       "  <thead>\n",
       "    <tr style=\"text-align: right;\">\n",
       "      <th></th>\n",
       "      <th>Instant food products</th>\n",
       "      <th>UHT-milk</th>\n",
       "      <th>abrasive cleaner</th>\n",
       "      <th>artif. sweetener</th>\n",
       "      <th>baby cosmetics</th>\n",
       "      <th>baby food</th>\n",
       "      <th>bags</th>\n",
       "      <th>baking powder</th>\n",
       "      <th>bathroom cleaner</th>\n",
       "      <th>beef</th>\n",
       "      <th>...</th>\n",
       "      <th>turkey</th>\n",
       "      <th>vinegar</th>\n",
       "      <th>waffles</th>\n",
       "      <th>whipped/sour cream</th>\n",
       "      <th>whisky</th>\n",
       "      <th>white bread</th>\n",
       "      <th>white wine</th>\n",
       "      <th>whole milk</th>\n",
       "      <th>yogurt</th>\n",
       "      <th>zwieback</th>\n",
       "    </tr>\n",
       "  </thead>\n",
       "  <tbody>\n",
       "    <tr>\n",
       "      <th>0</th>\n",
       "      <td>False</td>\n",
       "      <td>False</td>\n",
       "      <td>False</td>\n",
       "      <td>False</td>\n",
       "      <td>False</td>\n",
       "      <td>False</td>\n",
       "      <td>False</td>\n",
       "      <td>False</td>\n",
       "      <td>False</td>\n",
       "      <td>False</td>\n",
       "      <td>...</td>\n",
       "      <td>False</td>\n",
       "      <td>False</td>\n",
       "      <td>False</td>\n",
       "      <td>False</td>\n",
       "      <td>False</td>\n",
       "      <td>False</td>\n",
       "      <td>False</td>\n",
       "      <td>False</td>\n",
       "      <td>False</td>\n",
       "      <td>False</td>\n",
       "    </tr>\n",
       "    <tr>\n",
       "      <th>1</th>\n",
       "      <td>False</td>\n",
       "      <td>False</td>\n",
       "      <td>False</td>\n",
       "      <td>False</td>\n",
       "      <td>False</td>\n",
       "      <td>False</td>\n",
       "      <td>False</td>\n",
       "      <td>False</td>\n",
       "      <td>False</td>\n",
       "      <td>False</td>\n",
       "      <td>...</td>\n",
       "      <td>False</td>\n",
       "      <td>False</td>\n",
       "      <td>False</td>\n",
       "      <td>False</td>\n",
       "      <td>False</td>\n",
       "      <td>False</td>\n",
       "      <td>False</td>\n",
       "      <td>False</td>\n",
       "      <td>True</td>\n",
       "      <td>False</td>\n",
       "    </tr>\n",
       "    <tr>\n",
       "      <th>2</th>\n",
       "      <td>False</td>\n",
       "      <td>False</td>\n",
       "      <td>False</td>\n",
       "      <td>False</td>\n",
       "      <td>False</td>\n",
       "      <td>False</td>\n",
       "      <td>False</td>\n",
       "      <td>False</td>\n",
       "      <td>False</td>\n",
       "      <td>False</td>\n",
       "      <td>...</td>\n",
       "      <td>False</td>\n",
       "      <td>False</td>\n",
       "      <td>False</td>\n",
       "      <td>False</td>\n",
       "      <td>False</td>\n",
       "      <td>False</td>\n",
       "      <td>False</td>\n",
       "      <td>True</td>\n",
       "      <td>False</td>\n",
       "      <td>False</td>\n",
       "    </tr>\n",
       "  </tbody>\n",
       "</table>\n",
       "<p>3 rows × 169 columns</p>\n",
       "</div>"
      ]
     },
     "execution_count": 10,
     "metadata": {},
     "output_type": "execute_result"
    }
   ],
   "execution_count": 10
  },
  {
   "cell_type": "code",
   "source": [
    "# Porcentaje de transacciones en las que aparece cada producto (top 5)\n",
    "# ==============================================================================\n",
    "transacciones_encoded.mean(axis = 0).sort_values(ascending = False).head(5)"
   ],
   "metadata": {
    "collapsed": false,
    "ExecuteTime": {
     "end_time": "2024-04-27T17:38:04.383629Z",
     "start_time": "2024-04-27T17:38:04.367985Z"
    }
   },
   "id": "da329b92c1eda53f",
   "outputs": [
    {
     "data": {
      "text/plain": [
       "whole milk          0.255516\n",
       "other vegetables    0.193493\n",
       "rolls/buns          0.183935\n",
       "soda                0.174377\n",
       "yogurt              0.139502\n",
       "dtype: float64"
      ]
     },
     "execution_count": 13,
     "metadata": {},
     "output_type": "execute_result"
    }
   ],
   "execution_count": 13
  },
  {
   "cell_type": "markdown",
   "source": [
    "Los 5 productos que aparecen con más frecuencia en las cestas de la compra son: whole milk, other vegetables, rolls/buns y soda. Esto no significa necesariamente que sean los productos con mayor volumen de ventas ya que no se está teniendo en cuenta cuántas unidades se venden, sino con qué frecuencia.\n",
    "\n",
    "Es importante estudiar cómo se distribuye el soporte de los ítems individuales en un conjunto de transacciones antes de identificar itemsets frecuentes o crear reglas de asociación, ya que, dependiendo del caso, tendrá sentido emplear un límite de soporte u otro. Por lo general, cuando el número de posibles ítems es muy grande (varios miles) prácticamente todos los artículos son raros, por lo que los soportes son muy bajos."
   ],
   "metadata": {
    "collapsed": false
   },
   "id": "7e55a8ac30482bda"
  },
  {
   "cell_type": "code",
   "source": [
    "# Distribución del sopoerte de los items\n",
    "# ==============================================================================\n",
    "fig, ax = plt.subplots(figsize=(7, 2.5))\n",
    "transacciones_encoded.mean(axis = 0).plot.hist(ax = ax)\n",
    "ax.set_xlim(0, )\n",
    "ax.set_title('Distribución del soporte de los ítems');"
   ],
   "metadata": {
    "collapsed": false,
    "ExecuteTime": {
     "end_time": "2024-04-27T17:39:29.046345Z",
     "start_time": "2024-04-27T17:39:28.763703Z"
    }
   },
   "id": "4dc886198d1bfc4d",
   "outputs": [
    {
     "data": {
      "text/plain": [
       "<Figure size 700x250 with 1 Axes>"
      ],
      "image/png": "[encoded data removed]"
     },
     "metadata": {},
     "output_type": "display_data"
    }
   ],
   "execution_count": 14
  },
  {
   "cell_type": "markdown",
   "source": [
    "# Itemsets\n",
    "Las funciones apriori y fpgrowth del paquete mlxtend permiten la identificación de itemsets aplicando cada una el algoritmo que les da nombre.\n",
    "\n",
    "Ambas funciones requieren que los datos estén almacenados en un data frame de pandas, en formato one hot encoded, también conocido como dummy variables. Se trata de un formato de matriz binaria (valores 0/1 o True/False), con una fila por cada transacción, en este caso cada compra, y una columna por cada posible ítem, en este caso productos. La posición de la matriz (i,j) tiene el valor 1 si la transacción i contiene el ítem j y 0 de lo contrario. Existen múltiples formas de construir este tipo de matriz, una de ellas es utilizando la clase TransactionEncoder de este mismo paquete."
   ],
   "metadata": {
    "collapsed": false
   },
   "id": "cf0e0bc43635eee8"
  },
  {
   "cell_type": "code",
   "source": [
    "# Codificar las transacciones en forma de matriz binaria\n",
    "# ==============================================================================\n",
    "# Crear una lista de listas que contenga los artículos comprados en cada transacción\n",
    "transacciones = datos.groupby('id_compra')['item'].apply(list).to_list()\n",
    "\n",
    "# Entrenar el objeto TransactionEncoder y transformar los datos\n",
    "encoder = TransactionEncoder()\n",
    "transacciones_encoded = encoder.fit(transacciones).transform(transacciones)\n",
    "transacciones_encoded = pd.DataFrame(transacciones_encoded, columns=encoder.columns_)\n",
    "transacciones_encoded.head(3)"
   ],
   "metadata": {
    "collapsed": false,
    "ExecuteTime": {
     "end_time": "2024-04-27T17:40:44.904209Z",
     "start_time": "2024-04-27T17:40:44.591622Z"
    }
   },
   "id": "610eeb1a5d800efe",
   "outputs": [
    {
     "data": {
      "text/plain": [
       "   Instant food products  UHT-milk  abrasive cleaner  artif. sweetener  \\\n",
       "0                  False     False             False             False   \n",
       "1                  False     False             False             False   \n",
       "2                  False     False             False             False   \n",
       "\n",
       "   baby cosmetics  baby food   bags  baking powder  bathroom cleaner   beef  \\\n",
       "0           False      False  False          False             False  False   \n",
       "1           False      False  False          False             False  False   \n",
       "2           False      False  False          False             False  False   \n",
       "\n",
       "   ...  turkey  vinegar  waffles  whipped/sour cream  whisky  white bread  \\\n",
       "0  ...   False    False    False               False   False        False   \n",
       "1  ...   False    False    False               False   False        False   \n",
       "2  ...   False    False    False               False   False        False   \n",
       "\n",
       "   white wine  whole milk  yogurt  zwieback  \n",
       "0       False       False   False     False  \n",
       "1       False       False    True     False  \n",
       "2       False        True   False     False  \n",
       "\n",
       "[3 rows x 169 columns]"
      ],
      "text/html": [
       "<div>\n",
       "<style scoped>\n",
       "    .dataframe tbody tr th:only-of-type {\n",
       "        vertical-align: middle;\n",
       "    }\n",
       "\n",
       "    .dataframe tbody tr th {\n",
       "        vertical-align: top;\n",
       "    }\n",
       "\n",
       "    .dataframe thead th {\n",
       "        text-align: right;\n",
       "    }\n",
       "</style>\n",
       "<table border=\"1\" class=\"dataframe\">\n",
       "  <thead>\n",
       "    <tr style=\"text-align: right;\">\n",
       "      <th></th>\n",
       "      <th>Instant food products</th>\n",
       "      <th>UHT-milk</th>\n",
       "      <th>abrasive cleaner</th>\n",
       "      <th>artif. sweetener</th>\n",
       "      <th>baby cosmetics</th>\n",
       "      <th>baby food</th>\n",
       "      <th>bags</th>\n",
       "      <th>baking powder</th>\n",
       "      <th>bathroom cleaner</th>\n",
       "      <th>beef</th>\n",
       "      <th>...</th>\n",
       "      <th>turkey</th>\n",
       "      <th>vinegar</th>\n",
       "      <th>waffles</th>\n",
       "      <th>whipped/sour cream</th>\n",
       "      <th>whisky</th>\n",
       "      <th>white bread</th>\n",
       "      <th>white wine</th>\n",
       "      <th>whole milk</th>\n",
       "      <th>yogurt</th>\n",
       "      <th>zwieback</th>\n",
       "    </tr>\n",
       "  </thead>\n",
       "  <tbody>\n",
       "    <tr>\n",
       "      <th>0</th>\n",
       "      <td>False</td>\n",
       "      <td>False</td>\n",
       "      <td>False</td>\n",
       "      <td>False</td>\n",
       "      <td>False</td>\n",
       "      <td>False</td>\n",
       "      <td>False</td>\n",
       "      <td>False</td>\n",
       "      <td>False</td>\n",
       "      <td>False</td>\n",
       "      <td>...</td>\n",
       "      <td>False</td>\n",
       "      <td>False</td>\n",
       "      <td>False</td>\n",
       "      <td>False</td>\n",
       "      <td>False</td>\n",
       "      <td>False</td>\n",
       "      <td>False</td>\n",
       "      <td>False</td>\n",
       "      <td>False</td>\n",
       "      <td>False</td>\n",
       "    </tr>\n",
       "    <tr>\n",
       "      <th>1</th>\n",
       "      <td>False</td>\n",
       "      <td>False</td>\n",
       "      <td>False</td>\n",
       "      <td>False</td>\n",
       "      <td>False</td>\n",
       "      <td>False</td>\n",
       "      <td>False</td>\n",
       "      <td>False</td>\n",
       "      <td>False</td>\n",
       "      <td>False</td>\n",
       "      <td>...</td>\n",
       "      <td>False</td>\n",
       "      <td>False</td>\n",
       "      <td>False</td>\n",
       "      <td>False</td>\n",
       "      <td>False</td>\n",
       "      <td>False</td>\n",
       "      <td>False</td>\n",
       "      <td>False</td>\n",
       "      <td>True</td>\n",
       "      <td>False</td>\n",
       "    </tr>\n",
       "    <tr>\n",
       "      <th>2</th>\n",
       "      <td>False</td>\n",
       "      <td>False</td>\n",
       "      <td>False</td>\n",
       "      <td>False</td>\n",
       "      <td>False</td>\n",
       "      <td>False</td>\n",
       "      <td>False</td>\n",
       "      <td>False</td>\n",
       "      <td>False</td>\n",
       "      <td>False</td>\n",
       "      <td>...</td>\n",
       "      <td>False</td>\n",
       "      <td>False</td>\n",
       "      <td>False</td>\n",
       "      <td>False</td>\n",
       "      <td>False</td>\n",
       "      <td>False</td>\n",
       "      <td>False</td>\n",
       "      <td>True</td>\n",
       "      <td>False</td>\n",
       "      <td>False</td>\n",
       "    </tr>\n",
       "  </tbody>\n",
       "</table>\n",
       "<p>3 rows × 169 columns</p>\n",
       "</div>"
      ]
     },
     "execution_count": 15,
     "metadata": {},
     "output_type": "execute_result"
    }
   ],
   "execution_count": 15
  },
  {
   "cell_type": "markdown",
   "source": [
    "Una vez que los datos se encuentran en el formato adecuado se ejecuta el algoritmo deseado para la identificación de itemsets frecuentes. Se procede a extraer aquellos itemsets, incluidos los formados por un único ítem, que hayan sido comprados al menos 30 veces. En un caso real, este valor sería excesivamente bajo si se tiene en cuenta la cantidad total de transacciones, sin embargo, se emplea 30 para que en los resultados aparezcan un número suficiente de itemsets y reglas de asociación que permitan mostrar las posibilidades de análisis que ofrece mlxtend."
   ],
   "metadata": {
    "collapsed": false
   },
   "id": "de5b6093eea6339b"
  },
  {
   "cell_type": "code",
   "source": [
    "# Identificación de itemsets frecuentes\n",
    "# ==============================================================================\n",
    "soporte = 30 / transacciones_encoded.shape[0]\n",
    "print(f\"Soporte mínimo: {soporte}\")\n",
    "itemsets = apriori(transacciones_encoded, min_support=soporte, use_colnames=True)\n",
    "itemsets.sort_values(by='support', ascending=False)"
   ],
   "metadata": {
    "collapsed": false,
    "ExecuteTime": {
     "end_time": "2024-04-27T17:42:16.751470Z",
     "start_time": "2024-04-27T17:42:13.569582Z"
    }
   },
   "id": "6267de118f714708",
   "outputs": [
    {
     "name": "stdout",
     "output_type": "stream",
     "text": [
      "Soporte mínimo: 0.003050330452465684\n"
     ]
    },
    {
     "data": {
      "text/plain": [
       "       support                                          itemsets\n",
       "133   0.255516                                      (whole milk)\n",
       "83    0.193493                                (other vegetables)\n",
       "98    0.183935                                      (rolls/buns)\n",
       "111   0.174377                                            (soda)\n",
       "134   0.139502                                          (yogurt)\n",
       "...        ...                                               ...\n",
       "1439  0.003050                    (citrus fruit, yogurt, butter)\n",
       "1601  0.003050                  (tropical fruit, yogurt, coffee)\n",
       "664   0.003050                              (margarine, dessert)\n",
       "1884  0.003050                 (whole milk, newspapers, sausage)\n",
       "1366  0.003050  (other vegetables, bottled water, shopping bags)\n",
       "\n",
       "[2226 rows x 2 columns]"
      ],
      "text/html": [
       "<div>\n",
       "<style scoped>\n",
       "    .dataframe tbody tr th:only-of-type {\n",
       "        vertical-align: middle;\n",
       "    }\n",
       "\n",
       "    .dataframe tbody tr th {\n",
       "        vertical-align: top;\n",
       "    }\n",
       "\n",
       "    .dataframe thead th {\n",
       "        text-align: right;\n",
       "    }\n",
       "</style>\n",
       "<table border=\"1\" class=\"dataframe\">\n",
       "  <thead>\n",
       "    <tr style=\"text-align: right;\">\n",
       "      <th></th>\n",
       "      <th>support</th>\n",
       "      <th>itemsets</th>\n",
       "    </tr>\n",
       "  </thead>\n",
       "  <tbody>\n",
       "    <tr>\n",
       "      <th>133</th>\n",
       "      <td>0.255516</td>\n",
       "      <td>(whole milk)</td>\n",
       "    </tr>\n",
       "    <tr>\n",
       "      <th>83</th>\n",
       "      <td>0.193493</td>\n",
       "      <td>(other vegetables)</td>\n",
       "    </tr>\n",
       "    <tr>\n",
       "      <th>98</th>\n",
       "      <td>0.183935</td>\n",
       "      <td>(rolls/buns)</td>\n",
       "    </tr>\n",
       "    <tr>\n",
       "      <th>111</th>\n",
       "      <td>0.174377</td>\n",
       "      <td>(soda)</td>\n",
       "    </tr>\n",
       "    <tr>\n",
       "      <th>134</th>\n",
       "      <td>0.139502</td>\n",
       "      <td>(yogurt)</td>\n",
       "    </tr>\n",
       "    <tr>\n",
       "      <th>...</th>\n",
       "      <td>...</td>\n",
       "      <td>...</td>\n",
       "    </tr>\n",
       "    <tr>\n",
       "      <th>1439</th>\n",
       "      <td>0.003050</td>\n",
       "      <td>(citrus fruit, yogurt, butter)</td>\n",
       "    </tr>\n",
       "    <tr>\n",
       "      <th>1601</th>\n",
       "      <td>0.003050</td>\n",
       "      <td>(tropical fruit, yogurt, coffee)</td>\n",
       "    </tr>\n",
       "    <tr>\n",
       "      <th>664</th>\n",
       "      <td>0.003050</td>\n",
       "      <td>(margarine, dessert)</td>\n",
       "    </tr>\n",
       "    <tr>\n",
       "      <th>1884</th>\n",
       "      <td>0.003050</td>\n",
       "      <td>(whole milk, newspapers, sausage)</td>\n",
       "    </tr>\n",
       "    <tr>\n",
       "      <th>1366</th>\n",
       "      <td>0.003050</td>\n",
       "      <td>(other vegetables, bottled water, shopping bags)</td>\n",
       "    </tr>\n",
       "  </tbody>\n",
       "</table>\n",
       "<p>2226 rows × 2 columns</p>\n",
       "</div>"
      ]
     },
     "execution_count": 16,
     "metadata": {},
     "output_type": "execute_result"
    }
   ],
   "execution_count": 16
  },
  {
   "cell_type": "markdown",
   "source": [
    "Se han encontrado un total de 2226 itemsets frecuentes que superan el soporte mínimo de 0.00305."
   ],
   "metadata": {
    "collapsed": false
   },
   "id": "7c431fad472ebbf3"
  },
  {
   "cell_type": "code",
   "source": [
    "# Top 10 itemsets con mayor soporte\n",
    "# ==============================================================================\n",
    "itemsets.sort_values(by='support', ascending=False).head(10)"
   ],
   "metadata": {
    "collapsed": false,
    "ExecuteTime": {
     "end_time": "2024-04-27T17:43:03.483883Z",
     "start_time": "2024-04-27T17:43:03.468133Z"
    }
   },
   "id": "ff8e24f68ab4d243",
   "outputs": [
    {
     "data": {
      "text/plain": [
       "      support            itemsets\n",
       "133  0.255516        (whole milk)\n",
       "83   0.193493  (other vegetables)\n",
       "98   0.183935        (rolls/buns)\n",
       "111  0.174377              (soda)\n",
       "134  0.139502            (yogurt)\n",
       "9    0.110524     (bottled water)\n",
       "99   0.108998   (root vegetables)\n",
       "126  0.104931    (tropical fruit)\n",
       "107  0.098526     (shopping bags)\n",
       "104  0.093950           (sausage)"
      ],
      "text/html": [
       "<div>\n",
       "<style scoped>\n",
       "    .dataframe tbody tr th:only-of-type {\n",
       "        vertical-align: middle;\n",
       "    }\n",
       "\n",
       "    .dataframe tbody tr th {\n",
       "        vertical-align: top;\n",
       "    }\n",
       "\n",
       "    .dataframe thead th {\n",
       "        text-align: right;\n",
       "    }\n",
       "</style>\n",
       "<table border=\"1\" class=\"dataframe\">\n",
       "  <thead>\n",
       "    <tr style=\"text-align: right;\">\n",
       "      <th></th>\n",
       "      <th>support</th>\n",
       "      <th>itemsets</th>\n",
       "    </tr>\n",
       "  </thead>\n",
       "  <tbody>\n",
       "    <tr>\n",
       "      <th>133</th>\n",
       "      <td>0.255516</td>\n",
       "      <td>(whole milk)</td>\n",
       "    </tr>\n",
       "    <tr>\n",
       "      <th>83</th>\n",
       "      <td>0.193493</td>\n",
       "      <td>(other vegetables)</td>\n",
       "    </tr>\n",
       "    <tr>\n",
       "      <th>98</th>\n",
       "      <td>0.183935</td>\n",
       "      <td>(rolls/buns)</td>\n",
       "    </tr>\n",
       "    <tr>\n",
       "      <th>111</th>\n",
       "      <td>0.174377</td>\n",
       "      <td>(soda)</td>\n",
       "    </tr>\n",
       "    <tr>\n",
       "      <th>134</th>\n",
       "      <td>0.139502</td>\n",
       "      <td>(yogurt)</td>\n",
       "    </tr>\n",
       "    <tr>\n",
       "      <th>9</th>\n",
       "      <td>0.110524</td>\n",
       "      <td>(bottled water)</td>\n",
       "    </tr>\n",
       "    <tr>\n",
       "      <th>99</th>\n",
       "      <td>0.108998</td>\n",
       "      <td>(root vegetables)</td>\n",
       "    </tr>\n",
       "    <tr>\n",
       "      <th>126</th>\n",
       "      <td>0.104931</td>\n",
       "      <td>(tropical fruit)</td>\n",
       "    </tr>\n",
       "    <tr>\n",
       "      <th>107</th>\n",
       "      <td>0.098526</td>\n",
       "      <td>(shopping bags)</td>\n",
       "    </tr>\n",
       "    <tr>\n",
       "      <th>104</th>\n",
       "      <td>0.093950</td>\n",
       "      <td>(sausage)</td>\n",
       "    </tr>\n",
       "  </tbody>\n",
       "</table>\n",
       "</div>"
      ]
     },
     "execution_count": 17,
     "metadata": {},
     "output_type": "execute_result"
    }
   ],
   "execution_count": 17
  },
  {
   "cell_type": "markdown",
   "source": [
    "# Filtrado de itemsets\n",
    "Una vez que los itemsets frecuentes han sido identificados, suele ser interesante aplicar determinados filtrados, algunos de los más frecuentes son:\n",
    "\n",
    "* Itemsets de un tamaño mínimo.\n",
    "\n",
    "* Itemsets que contienen determinados ítems.\n",
    "\n",
    "* Itemsets que no contienen un determinado ítem."
   ],
   "metadata": {
    "collapsed": false
   },
   "id": "3a7afc56d6fe6d92"
  },
  {
   "cell_type": "code",
   "source": [
    "# Top 10 itemsets con al menos 2 items, ordenados por soporte\n",
    "# ==============================================================================\n",
    "itemsets['n_items'] = itemsets['itemsets'].apply(lambda x: len(x))\n",
    "itemsets.query('n_items >= 2').sort_values('support', ascending=False).head(10)"
   ],
   "metadata": {
    "collapsed": false,
    "ExecuteTime": {
     "end_time": "2024-04-27T17:43:53.030384Z",
     "start_time": "2024-04-27T17:43:53.000124Z"
    }
   },
   "id": "6036189de75e7160",
   "outputs": [
    {
     "data": {
      "text/plain": [
       "       support                             itemsets  n_items\n",
       "1076  0.074835       (other vegetables, whole milk)        2\n",
       "1171  0.056634             (rolls/buns, whole milk)        2\n",
       "1275  0.056024                 (yogurt, whole milk)        2\n",
       "1185  0.048907        (root vegetables, whole milk)        2\n",
       "1055  0.047382  (root vegetables, other vegetables)        2\n",
       "1077  0.043416           (other vegetables, yogurt)        2\n",
       "1054  0.042603       (rolls/buns, other vegetables)        2\n",
       "1263  0.042298         (tropical fruit, whole milk)        2\n",
       "1240  0.040061                   (whole milk, soda)        2\n",
       "1161  0.038332                   (rolls/buns, soda)        2"
      ],
      "text/html": [
       "<div>\n",
       "<style scoped>\n",
       "    .dataframe tbody tr th:only-of-type {\n",
       "        vertical-align: middle;\n",
       "    }\n",
       "\n",
       "    .dataframe tbody tr th {\n",
       "        vertical-align: top;\n",
       "    }\n",
       "\n",
       "    .dataframe thead th {\n",
       "        text-align: right;\n",
       "    }\n",
       "</style>\n",
       "<table border=\"1\" class=\"dataframe\">\n",
       "  <thead>\n",
       "    <tr style=\"text-align: right;\">\n",
       "      <th></th>\n",
       "      <th>support</th>\n",
       "      <th>itemsets</th>\n",
       "      <th>n_items</th>\n",
       "    </tr>\n",
       "  </thead>\n",
       "  <tbody>\n",
       "    <tr>\n",
       "      <th>1076</th>\n",
       "      <td>0.074835</td>\n",
       "      <td>(other vegetables, whole milk)</td>\n",
       "      <td>2</td>\n",
       "    </tr>\n",
       "    <tr>\n",
       "      <th>1171</th>\n",
       "      <td>0.056634</td>\n",
       "      <td>(rolls/buns, whole milk)</td>\n",
       "      <td>2</td>\n",
       "    </tr>\n",
       "    <tr>\n",
       "      <th>1275</th>\n",
       "      <td>0.056024</td>\n",
       "      <td>(yogurt, whole milk)</td>\n",
       "      <td>2</td>\n",
       "    </tr>\n",
       "    <tr>\n",
       "      <th>1185</th>\n",
       "      <td>0.048907</td>\n",
       "      <td>(root vegetables, whole milk)</td>\n",
       "      <td>2</td>\n",
       "    </tr>\n",
       "    <tr>\n",
       "      <th>1055</th>\n",
       "      <td>0.047382</td>\n",
       "      <td>(root vegetables, other vegetables)</td>\n",
       "      <td>2</td>\n",
       "    </tr>\n",
       "    <tr>\n",
       "      <th>1077</th>\n",
       "      <td>0.043416</td>\n",
       "      <td>(other vegetables, yogurt)</td>\n",
       "      <td>2</td>\n",
       "    </tr>\n",
       "    <tr>\n",
       "      <th>1054</th>\n",
       "      <td>0.042603</td>\n",
       "      <td>(rolls/buns, other vegetables)</td>\n",
       "      <td>2</td>\n",
       "    </tr>\n",
       "    <tr>\n",
       "      <th>1263</th>\n",
       "      <td>0.042298</td>\n",
       "      <td>(tropical fruit, whole milk)</td>\n",
       "      <td>2</td>\n",
       "    </tr>\n",
       "    <tr>\n",
       "      <th>1240</th>\n",
       "      <td>0.040061</td>\n",
       "      <td>(whole milk, soda)</td>\n",
       "      <td>2</td>\n",
       "    </tr>\n",
       "    <tr>\n",
       "      <th>1161</th>\n",
       "      <td>0.038332</td>\n",
       "      <td>(rolls/buns, soda)</td>\n",
       "      <td>2</td>\n",
       "    </tr>\n",
       "  </tbody>\n",
       "</table>\n",
       "</div>"
      ]
     },
     "execution_count": 18,
     "metadata": {},
     "output_type": "execute_result"
    }
   ],
   "execution_count": 18
  },
  {
   "cell_type": "code",
   "source": [
    "# Itemsets frecuentes que contienen el ítem newspapers\n",
    "# ==============================================================================\n",
    "mask = itemsets['itemsets'].map(lambda x: 'newspapers' in x)\n",
    "itemsets.loc[mask].sort_values(by='support', ascending=False)"
   ],
   "metadata": {
    "collapsed": false,
    "ExecuteTime": {
     "end_time": "2024-04-27T17:44:45.155143Z",
     "start_time": "2024-04-27T17:44:45.123873Z"
    }
   },
   "id": "13b072ffc8f917dc",
   "outputs": [
    {
     "data": {
      "text/plain": [
       "       support                                           itemsets  n_items\n",
       "78    0.079817                                       (newspapers)        1\n",
       "1017  0.027351                           (newspapers, whole milk)        2\n",
       "1006  0.019725                           (rolls/buns, newspapers)        2\n",
       "1002  0.019319                     (other vegetables, newspapers)        2\n",
       "1018  0.015353                               (newspapers, yogurt)        2\n",
       "...        ...                                                ...      ...\n",
       "1876  0.003050                  (rolls/buns, newspapers, sausage)        3\n",
       "1884  0.003050                  (whole milk, newspapers, sausage)        3\n",
       "957   0.003050                                 (meat, newspapers)        2\n",
       "896   0.003050                     (hygiene articles, newspapers)        2\n",
       "2171  0.003050  (root vegetables, other vegetables, newspapers...        4\n",
       "\n",
       "[80 rows x 3 columns]"
      ],
      "text/html": [
       "<div>\n",
       "<style scoped>\n",
       "    .dataframe tbody tr th:only-of-type {\n",
       "        vertical-align: middle;\n",
       "    }\n",
       "\n",
       "    .dataframe tbody tr th {\n",
       "        vertical-align: top;\n",
       "    }\n",
       "\n",
       "    .dataframe thead th {\n",
       "        text-align: right;\n",
       "    }\n",
       "</style>\n",
       "<table border=\"1\" class=\"dataframe\">\n",
       "  <thead>\n",
       "    <tr style=\"text-align: right;\">\n",
       "      <th></th>\n",
       "      <th>support</th>\n",
       "      <th>itemsets</th>\n",
       "      <th>n_items</th>\n",
       "    </tr>\n",
       "  </thead>\n",
       "  <tbody>\n",
       "    <tr>\n",
       "      <th>78</th>\n",
       "      <td>0.079817</td>\n",
       "      <td>(newspapers)</td>\n",
       "      <td>1</td>\n",
       "    </tr>\n",
       "    <tr>\n",
       "      <th>1017</th>\n",
       "      <td>0.027351</td>\n",
       "      <td>(newspapers, whole milk)</td>\n",
       "      <td>2</td>\n",
       "    </tr>\n",
       "    <tr>\n",
       "      <th>1006</th>\n",
       "      <td>0.019725</td>\n",
       "      <td>(rolls/buns, newspapers)</td>\n",
       "      <td>2</td>\n",
       "    </tr>\n",
       "    <tr>\n",
       "      <th>1002</th>\n",
       "      <td>0.019319</td>\n",
       "      <td>(other vegetables, newspapers)</td>\n",
       "      <td>2</td>\n",
       "    </tr>\n",
       "    <tr>\n",
       "      <th>1018</th>\n",
       "      <td>0.015353</td>\n",
       "      <td>(newspapers, yogurt)</td>\n",
       "      <td>2</td>\n",
       "    </tr>\n",
       "    <tr>\n",
       "      <th>...</th>\n",
       "      <td>...</td>\n",
       "      <td>...</td>\n",
       "      <td>...</td>\n",
       "    </tr>\n",
       "    <tr>\n",
       "      <th>1876</th>\n",
       "      <td>0.003050</td>\n",
       "      <td>(rolls/buns, newspapers, sausage)</td>\n",
       "      <td>3</td>\n",
       "    </tr>\n",
       "    <tr>\n",
       "      <th>1884</th>\n",
       "      <td>0.003050</td>\n",
       "      <td>(whole milk, newspapers, sausage)</td>\n",
       "      <td>3</td>\n",
       "    </tr>\n",
       "    <tr>\n",
       "      <th>957</th>\n",
       "      <td>0.003050</td>\n",
       "      <td>(meat, newspapers)</td>\n",
       "      <td>2</td>\n",
       "    </tr>\n",
       "    <tr>\n",
       "      <th>896</th>\n",
       "      <td>0.003050</td>\n",
       "      <td>(hygiene articles, newspapers)</td>\n",
       "      <td>2</td>\n",
       "    </tr>\n",
       "    <tr>\n",
       "      <th>2171</th>\n",
       "      <td>0.003050</td>\n",
       "      <td>(root vegetables, other vegetables, newspapers...</td>\n",
       "      <td>4</td>\n",
       "    </tr>\n",
       "  </tbody>\n",
       "</table>\n",
       "<p>80 rows × 3 columns</p>\n",
       "</div>"
      ]
     },
     "execution_count": 19,
     "metadata": {},
     "output_type": "execute_result"
    }
   ],
   "execution_count": 19
  },
  {
   "cell_type": "code",
   "source": [
    "# Itemsets frecuentes que contienen los items, al menos, newspapers y whole milk\n",
    "# ==============================================================================\n",
    "items = {'newspapers', 'whole milk'}\n",
    "mask = itemsets['itemsets'].map(lambda x: x.issuperset(items))\n",
    "itemsets.loc[mask].sort_values(by='support', ascending=False).reset_index()"
   ],
   "metadata": {
    "collapsed": false,
    "ExecuteTime": {
     "end_time": "2024-04-27T17:44:57.647128Z",
     "start_time": "2024-04-27T17:44:57.615533Z"
    }
   },
   "id": "8407e5602cfb902c",
   "outputs": [
    {
     "data": {
      "text/plain": [
       "    index   support                                           itemsets  \\\n",
       "0    1017  0.027351                           (newspapers, whole milk)   \n",
       "1    1872  0.008338         (other vegetables, newspapers, whole milk)   \n",
       "2    1879  0.007626               (rolls/buns, newspapers, whole milk)   \n",
       "3    1889  0.006609                   (newspapers, yogurt, whole milk)   \n",
       "4    1882  0.005796          (root vegetables, newspapers, whole milk)   \n",
       "5    1887  0.005084           (tropical fruit, newspapers, whole milk)   \n",
       "6    1885  0.004779                     (whole milk, newspapers, soda)   \n",
       "7    1360  0.004067            (bottled water, newspapers, whole milk)   \n",
       "8    1406  0.004067              (brown bread, newspapers, whole milk)   \n",
       "9    1874  0.003864                   (pastry, newspapers, whole milk)   \n",
       "10   1553  0.003355             (citrus fruit, newspapers, whole milk)   \n",
       "11   1455  0.003152                   (whole milk, newspapers, butter)   \n",
       "12   1520  0.003152                (chocolate, newspapers, whole milk)   \n",
       "13   1820  0.003152                (margarine, newspapers, whole milk)   \n",
       "14   1884  0.003050                  (whole milk, newspapers, sausage)   \n",
       "15   2171  0.003050  (root vegetables, other vegetables, newspapers...   \n",
       "\n",
       "    n_items  \n",
       "0         2  \n",
       "1         3  \n",
       "2         3  \n",
       "3         3  \n",
       "4         3  \n",
       "5         3  \n",
       "6         3  \n",
       "7         3  \n",
       "8         3  \n",
       "9         3  \n",
       "10        3  \n",
       "11        3  \n",
       "12        3  \n",
       "13        3  \n",
       "14        3  \n",
       "15        4  "
      ],
      "text/html": [
       "<div>\n",
       "<style scoped>\n",
       "    .dataframe tbody tr th:only-of-type {\n",
       "        vertical-align: middle;\n",
       "    }\n",
       "\n",
       "    .dataframe tbody tr th {\n",
       "        vertical-align: top;\n",
       "    }\n",
       "\n",
       "    .dataframe thead th {\n",
       "        text-align: right;\n",
       "    }\n",
       "</style>\n",
       "<table border=\"1\" class=\"dataframe\">\n",
       "  <thead>\n",
       "    <tr style=\"text-align: right;\">\n",
       "      <th></th>\n",
       "      <th>index</th>\n",
       "      <th>support</th>\n",
       "      <th>itemsets</th>\n",
       "      <th>n_items</th>\n",
       "    </tr>\n",
       "  </thead>\n",
       "  <tbody>\n",
       "    <tr>\n",
       "      <th>0</th>\n",
       "      <td>1017</td>\n",
       "      <td>0.027351</td>\n",
       "      <td>(newspapers, whole milk)</td>\n",
       "      <td>2</td>\n",
       "    </tr>\n",
       "    <tr>\n",
       "      <th>1</th>\n",
       "      <td>1872</td>\n",
       "      <td>0.008338</td>\n",
       "      <td>(other vegetables, newspapers, whole milk)</td>\n",
       "      <td>3</td>\n",
       "    </tr>\n",
       "    <tr>\n",
       "      <th>2</th>\n",
       "      <td>1879</td>\n",
       "      <td>0.007626</td>\n",
       "      <td>(rolls/buns, newspapers, whole milk)</td>\n",
       "      <td>3</td>\n",
       "    </tr>\n",
       "    <tr>\n",
       "      <th>3</th>\n",
       "      <td>1889</td>\n",
       "      <td>0.006609</td>\n",
       "      <td>(newspapers, yogurt, whole milk)</td>\n",
       "      <td>3</td>\n",
       "    </tr>\n",
       "    <tr>\n",
       "      <th>4</th>\n",
       "      <td>1882</td>\n",
       "      <td>0.005796</td>\n",
       "      <td>(root vegetables, newspapers, whole milk)</td>\n",
       "      <td>3</td>\n",
       "    </tr>\n",
       "    <tr>\n",
       "      <th>5</th>\n",
       "      <td>1887</td>\n",
       "      <td>0.005084</td>\n",
       "      <td>(tropical fruit, newspapers, whole milk)</td>\n",
       "      <td>3</td>\n",
       "    </tr>\n",
       "    <tr>\n",
       "      <th>6</th>\n",
       "      <td>1885</td>\n",
       "      <td>0.004779</td>\n",
       "      <td>(whole milk, newspapers, soda)</td>\n",
       "      <td>3</td>\n",
       "    </tr>\n",
       "    <tr>\n",
       "      <th>7</th>\n",
       "      <td>1360</td>\n",
       "      <td>0.004067</td>\n",
       "      <td>(bottled water, newspapers, whole milk)</td>\n",
       "      <td>3</td>\n",
       "    </tr>\n",
       "    <tr>\n",
       "      <th>8</th>\n",
       "      <td>1406</td>\n",
       "      <td>0.004067</td>\n",
       "      <td>(brown bread, newspapers, whole milk)</td>\n",
       "      <td>3</td>\n",
       "    </tr>\n",
       "    <tr>\n",
       "      <th>9</th>\n",
       "      <td>1874</td>\n",
       "      <td>0.003864</td>\n",
       "      <td>(pastry, newspapers, whole milk)</td>\n",
       "      <td>3</td>\n",
       "    </tr>\n",
       "    <tr>\n",
       "      <th>10</th>\n",
       "      <td>1553</td>\n",
       "      <td>0.003355</td>\n",
       "      <td>(citrus fruit, newspapers, whole milk)</td>\n",
       "      <td>3</td>\n",
       "    </tr>\n",
       "    <tr>\n",
       "      <th>11</th>\n",
       "      <td>1455</td>\n",
       "      <td>0.003152</td>\n",
       "      <td>(whole milk, newspapers, butter)</td>\n",
       "      <td>3</td>\n",
       "    </tr>\n",
       "    <tr>\n",
       "      <th>12</th>\n",
       "      <td>1520</td>\n",
       "      <td>0.003152</td>\n",
       "      <td>(chocolate, newspapers, whole milk)</td>\n",
       "      <td>3</td>\n",
       "    </tr>\n",
       "    <tr>\n",
       "      <th>13</th>\n",
       "      <td>1820</td>\n",
       "      <td>0.003152</td>\n",
       "      <td>(margarine, newspapers, whole milk)</td>\n",
       "      <td>3</td>\n",
       "    </tr>\n",
       "    <tr>\n",
       "      <th>14</th>\n",
       "      <td>1884</td>\n",
       "      <td>0.003050</td>\n",
       "      <td>(whole milk, newspapers, sausage)</td>\n",
       "      <td>3</td>\n",
       "    </tr>\n",
       "    <tr>\n",
       "      <th>15</th>\n",
       "      <td>2171</td>\n",
       "      <td>0.003050</td>\n",
       "      <td>(root vegetables, other vegetables, newspapers...</td>\n",
       "      <td>4</td>\n",
       "    </tr>\n",
       "  </tbody>\n",
       "</table>\n",
       "</div>"
      ]
     },
     "execution_count": 20,
     "metadata": {},
     "output_type": "execute_result"
    }
   ],
   "execution_count": 20
  },
  {
   "cell_type": "markdown",
   "source": [],
   "metadata": {
    "collapsed": false
   },
   "id": "43c972df26bfe8d3"
  },
  {
   "cell_type": "markdown",
   "source": [
    "Puede observarse que muchos itemsets están a su vez contenidos en itemsets de orden superior, es decir, existen itemsets que son subsets de otros. Para identificar cuáles son, o cuales no lo son, se pueden emplear los métodos issubset() o issuperset()."
   ],
   "metadata": {
    "collapsed": false
   },
   "id": "95f040a023ce4c40"
  },
  {
   "cell_type": "code",
   "source": [
    "itemset_a = {'other vegetables', 'whole milk', 'newspapers'}\n",
    "itemset_b = {'other vegetables', 'whole milk', 'newspapers'}\n",
    "\n",
    "print(itemset_a.issubset(itemset_b))\n",
    "print(itemset_b.issuperset(itemset_a))"
   ],
   "metadata": {
    "collapsed": false,
    "ExecuteTime": {
     "end_time": "2024-04-27T17:45:29.977995Z",
     "start_time": "2024-04-27T17:45:29.962034Z"
    }
   },
   "id": "757cfc973b114b17",
   "outputs": [
    {
     "name": "stdout",
     "output_type": "stream",
     "text": [
      "True\n",
      "True\n"
     ]
    }
   ],
   "execution_count": 21
  },
  {
   "cell_type": "markdown",
   "source": [
    "# Reglas de asociación\n",
    "Para crear reglas de asociación se sigue el mismo proceso que para obtener itemsets frecuentes mostrado en el apartado anterior. Una vez obtenidos los itemsets frecuentes, se pasan a la función generate_rules encargada de generar las reglas de asociación y de seleccionar aquellas que alcanzan una valor mínimo de confianza o lift."
   ],
   "metadata": {
    "collapsed": false
   },
   "id": "8a936970d6db4f8f"
  },
  {
   "cell_type": "code",
   "source": [
    "# Identificación de itemsets frecuentes\n",
    "# ==============================================================================\n",
    "soporte = 30 / transacciones_encoded.shape[0]\n",
    "itemsets_frecuentes = apriori(transacciones_encoded, min_support=soporte, use_colnames=True)\n",
    "\n",
    "# Crear reglas de associación (confianza mínima del 70%)\n",
    "# ==============================================================================\n",
    "confianza = 0.7 # confianza mínima del 70% para que una regla sea selecionada\n",
    "reglas = association_rules(itemsets_frecuentes, metric=\"confidence\", min_threshold=0.7)\n",
    "print(f\"Número de reglas generadas: {len(reglas)}\")\n",
    "reglas.sort_values(by='confidence').head(5)"
   ],
   "metadata": {
    "collapsed": false,
    "ExecuteTime": {
     "end_time": "2024-04-27T17:46:43.267569Z",
     "start_time": "2024-04-27T17:46:40.220321Z"
    }
   },
   "id": "556b6dc6f1ae5565",
   "outputs": [
    {
     "name": "stdout",
     "output_type": "stream",
     "text": [
      "Número de reglas generadas: 19\n"
     ]
    },
    {
     "data": {
      "text/plain": [
       "                                          antecedents   consequents  \\\n",
       "14          (root vegetables, tropical fruit, yogurt)  (whole milk)   \n",
       "12  (domestic eggs, other vegetables, whipped/sour...  (whole milk)   \n",
       "1                                    (coffee, butter)  (whole milk)   \n",
       "4                                      (pork, butter)  (whole milk)   \n",
       "16  (root vegetables, other vegetables, tropical f...  (whole milk)   \n",
       "\n",
       "    antecedent support  consequent support   support  confidence      lift  \\\n",
       "14            0.008134            0.255516  0.005694    0.700000  2.739554   \n",
       "12            0.005084            0.255516  0.003559    0.700000  2.739554   \n",
       "1             0.004779            0.255516  0.003355    0.702128  2.747881   \n",
       "4             0.005491            0.255516  0.003864    0.703704  2.754049   \n",
       "16            0.004474            0.255516  0.003152    0.704545  2.757344   \n",
       "\n",
       "    leverage  conviction  zhangs_metric  \n",
       "14  0.003616    2.481613       0.640185  \n",
       "12  0.002260    2.481613       0.638222  \n",
       "1   0.002134    2.499339       0.639138  \n",
       "4   0.002461    2.512633       0.640415  \n",
       "16  0.002009    2.519792       0.640196  "
      ],
      "text/html": [
       "<div>\n",
       "<style scoped>\n",
       "    .dataframe tbody tr th:only-of-type {\n",
       "        vertical-align: middle;\n",
       "    }\n",
       "\n",
       "    .dataframe tbody tr th {\n",
       "        vertical-align: top;\n",
       "    }\n",
       "\n",
       "    .dataframe thead th {\n",
       "        text-align: right;\n",
       "    }\n",
       "</style>\n",
       "<table border=\"1\" class=\"dataframe\">\n",
       "  <thead>\n",
       "    <tr style=\"text-align: right;\">\n",
       "      <th></th>\n",
       "      <th>antecedents</th>\n",
       "      <th>consequents</th>\n",
       "      <th>antecedent support</th>\n",
       "      <th>consequent support</th>\n",
       "      <th>support</th>\n",
       "      <th>confidence</th>\n",
       "      <th>lift</th>\n",
       "      <th>leverage</th>\n",
       "      <th>conviction</th>\n",
       "      <th>zhangs_metric</th>\n",
       "    </tr>\n",
       "  </thead>\n",
       "  <tbody>\n",
       "    <tr>\n",
       "      <th>14</th>\n",
       "      <td>(root vegetables, tropical fruit, yogurt)</td>\n",
       "      <td>(whole milk)</td>\n",
       "      <td>0.008134</td>\n",
       "      <td>0.255516</td>\n",
       "      <td>0.005694</td>\n",
       "      <td>0.700000</td>\n",
       "      <td>2.739554</td>\n",
       "      <td>0.003616</td>\n",
       "      <td>2.481613</td>\n",
       "      <td>0.640185</td>\n",
       "    </tr>\n",
       "    <tr>\n",
       "      <th>12</th>\n",
       "      <td>(domestic eggs, other vegetables, whipped/sour...</td>\n",
       "      <td>(whole milk)</td>\n",
       "      <td>0.005084</td>\n",
       "      <td>0.255516</td>\n",
       "      <td>0.003559</td>\n",
       "      <td>0.700000</td>\n",
       "      <td>2.739554</td>\n",
       "      <td>0.002260</td>\n",
       "      <td>2.481613</td>\n",
       "      <td>0.638222</td>\n",
       "    </tr>\n",
       "    <tr>\n",
       "      <th>1</th>\n",
       "      <td>(coffee, butter)</td>\n",
       "      <td>(whole milk)</td>\n",
       "      <td>0.004779</td>\n",
       "      <td>0.255516</td>\n",
       "      <td>0.003355</td>\n",
       "      <td>0.702128</td>\n",
       "      <td>2.747881</td>\n",
       "      <td>0.002134</td>\n",
       "      <td>2.499339</td>\n",
       "      <td>0.639138</td>\n",
       "    </tr>\n",
       "    <tr>\n",
       "      <th>4</th>\n",
       "      <td>(pork, butter)</td>\n",
       "      <td>(whole milk)</td>\n",
       "      <td>0.005491</td>\n",
       "      <td>0.255516</td>\n",
       "      <td>0.003864</td>\n",
       "      <td>0.703704</td>\n",
       "      <td>2.754049</td>\n",
       "      <td>0.002461</td>\n",
       "      <td>2.512633</td>\n",
       "      <td>0.640415</td>\n",
       "    </tr>\n",
       "    <tr>\n",
       "      <th>16</th>\n",
       "      <td>(root vegetables, other vegetables, tropical f...</td>\n",
       "      <td>(whole milk)</td>\n",
       "      <td>0.004474</td>\n",
       "      <td>0.255516</td>\n",
       "      <td>0.003152</td>\n",
       "      <td>0.704545</td>\n",
       "      <td>2.757344</td>\n",
       "      <td>0.002009</td>\n",
       "      <td>2.519792</td>\n",
       "      <td>0.640196</td>\n",
       "    </tr>\n",
       "  </tbody>\n",
       "</table>\n",
       "</div>"
      ]
     },
     "execution_count": 22,
     "metadata": {},
     "output_type": "execute_result"
    }
   ],
   "execution_count": 22
  },
  {
   "cell_type": "markdown",
   "source": [
    "Se han identificado un total de 19 reglas con una confianza superior al 70%."
   ],
   "metadata": {
    "collapsed": false
   },
   "id": "3ec94b3f91825194"
  },
  {
   "cell_type": "markdown",
   "source": [],
   "metadata": {
    "collapsed": false
   },
   "id": "8c317e40069d007d"
  },
  {
   "cell_type": "markdown",
   "source": [
    "# Filtrado de reglas\n",
    "Cuando se crean reglas de asociación, puede ser interesante seleccionar únicamente aquellas que contienen un determinado conjunto de ítems. El proceso de filtrado es similar al mostrado para itemsets frecuentes, pero esta vez, puede aplicarse al antecedente, al consecuente o ambos a la vez.\n",
    "\n",
    "Supóngase que solo son de interés aquellas reglas que muestren productos que se vendan junto con other vegetables. Esto significa que el ítem other vegetables, debe aparecer en el lado derecho de la regla (consequents)."
   ],
   "metadata": {
    "collapsed": false
   },
   "id": "7461f83647a38163"
  },
  {
   "cell_type": "code",
   "source": [
    "# Seleccionar reglas que tienen \"other vegetables\" en el consecuente\n",
    "# ==============================================================================\n",
    "mask = reglas['consequents'].map(lambda x: 'other vegetables' in x)\n",
    "reglas.loc[mask]"
   ],
   "metadata": {
    "collapsed": false,
    "ExecuteTime": {
     "end_time": "2024-04-27T17:48:02.165856Z",
     "start_time": "2024-04-27T17:48:02.135331Z"
    }
   },
   "id": "556dd3b8250ea1cd",
   "outputs": [
    {
     "data": {
      "text/plain": [
       "                                          antecedents         consequents  \\\n",
       "10    (root vegetables, tropical fruit, citrus fruit)  (other vegetables)   \n",
       "13  (root vegetables, tropical fruit, whipped/sour...  (other vegetables)   \n",
       "17  (root vegetables, tropical fruit, citrus fruit...  (other vegetables)   \n",
       "\n",
       "    antecedent support  consequent support   support  confidence      lift  \\\n",
       "10            0.005694            0.193493  0.004474    0.785714  4.060694   \n",
       "13            0.004575            0.193493  0.003355    0.733333  3.789981   \n",
       "17            0.003559            0.193493  0.003152    0.885714  4.577509   \n",
       "\n",
       "    leverage  conviction  zhangs_metric  \n",
       "10  0.003372    3.763701       0.758053  \n",
       "13  0.002470    3.024403       0.739530  \n",
       "17  0.002463    7.056940       0.784332  "
      ],
      "text/html": [
       "<div>\n",
       "<style scoped>\n",
       "    .dataframe tbody tr th:only-of-type {\n",
       "        vertical-align: middle;\n",
       "    }\n",
       "\n",
       "    .dataframe tbody tr th {\n",
       "        vertical-align: top;\n",
       "    }\n",
       "\n",
       "    .dataframe thead th {\n",
       "        text-align: right;\n",
       "    }\n",
       "</style>\n",
       "<table border=\"1\" class=\"dataframe\">\n",
       "  <thead>\n",
       "    <tr style=\"text-align: right;\">\n",
       "      <th></th>\n",
       "      <th>antecedents</th>\n",
       "      <th>consequents</th>\n",
       "      <th>antecedent support</th>\n",
       "      <th>consequent support</th>\n",
       "      <th>support</th>\n",
       "      <th>confidence</th>\n",
       "      <th>lift</th>\n",
       "      <th>leverage</th>\n",
       "      <th>conviction</th>\n",
       "      <th>zhangs_metric</th>\n",
       "    </tr>\n",
       "  </thead>\n",
       "  <tbody>\n",
       "    <tr>\n",
       "      <th>10</th>\n",
       "      <td>(root vegetables, tropical fruit, citrus fruit)</td>\n",
       "      <td>(other vegetables)</td>\n",
       "      <td>0.005694</td>\n",
       "      <td>0.193493</td>\n",
       "      <td>0.004474</td>\n",
       "      <td>0.785714</td>\n",
       "      <td>4.060694</td>\n",
       "      <td>0.003372</td>\n",
       "      <td>3.763701</td>\n",
       "      <td>0.758053</td>\n",
       "    </tr>\n",
       "    <tr>\n",
       "      <th>13</th>\n",
       "      <td>(root vegetables, tropical fruit, whipped/sour...</td>\n",
       "      <td>(other vegetables)</td>\n",
       "      <td>0.004575</td>\n",
       "      <td>0.193493</td>\n",
       "      <td>0.003355</td>\n",
       "      <td>0.733333</td>\n",
       "      <td>3.789981</td>\n",
       "      <td>0.002470</td>\n",
       "      <td>3.024403</td>\n",
       "      <td>0.739530</td>\n",
       "    </tr>\n",
       "    <tr>\n",
       "      <th>17</th>\n",
       "      <td>(root vegetables, tropical fruit, citrus fruit...</td>\n",
       "      <td>(other vegetables)</td>\n",
       "      <td>0.003559</td>\n",
       "      <td>0.193493</td>\n",
       "      <td>0.003152</td>\n",
       "      <td>0.885714</td>\n",
       "      <td>4.577509</td>\n",
       "      <td>0.002463</td>\n",
       "      <td>7.056940</td>\n",
       "      <td>0.784332</td>\n",
       "    </tr>\n",
       "  </tbody>\n",
       "</table>\n",
       "</div>"
      ]
     },
     "execution_count": 23,
     "metadata": {},
     "output_type": "execute_result"
    }
   ],
   "execution_count": 23
  },
  {
   "cell_type": "markdown",
   "source": [
    "Hay un total de 3 reglas que tienen el item other vegetables en el consecuente. Los ítems que suelen aparecer en la cesta de la compra junto con other vegetables son:"
   ],
   "metadata": {
    "collapsed": false
   },
   "id": "1c3bcaa3c97916a0"
  },
  {
   "cell_type": "code",
   "source": [
    "antecedents = reglas.loc[mask, 'antecedents'].to_list()\n",
    "set().union(*antecedents)"
   ],
   "metadata": {
    "collapsed": false,
    "ExecuteTime": {
     "end_time": "2024-04-27T17:48:25.313666Z",
     "start_time": "2024-04-27T17:48:25.291794Z"
    }
   },
   "id": "462a8fdbb3ae7301",
   "outputs": [
    {
     "data": {
      "text/plain": [
       "{'citrus fruit',\n",
       " 'root vegetables',\n",
       " 'tropical fruit',\n",
       " 'whipped/sour cream',\n",
       " 'whole milk'}"
      ]
     },
     "execution_count": 24,
     "metadata": {},
     "output_type": "execute_result"
    }
   ],
   "execution_count": 24
  },
  {
   "cell_type": "markdown",
   "source": [
    "Otro ejemplo de filtrado es encontrar aquellas reglas que contienen un conjunto de ítems teniendo en cuenta tanto el antecedente como el consecuente, por ejemplo, aquellas que contienen al menos los ítems: citrus fruit, root vegetables, tropical fruit, whole milk y other vegetables."
   ],
   "metadata": {
    "collapsed": false
   },
   "id": "a1f230966358ac39"
  },
  {
   "cell_type": "code",
   "source": [
    "# Crear una columna con los ítems que forman parte del antecedente y el consecuente\n",
    "# ======================================================================================\n",
    "reglas['items'] = reglas[['antecedents', 'consequents']].apply(lambda x: set().union(*x), axis=1)\n",
    "reglas.head(3)"
   ],
   "metadata": {
    "collapsed": false,
    "ExecuteTime": {
     "end_time": "2024-04-27T17:49:19.590731Z",
     "start_time": "2024-04-27T17:49:19.559752Z"
    }
   },
   "id": "4f799b1038661925",
   "outputs": [
    {
     "data": {
      "text/plain": [
       "               antecedents   consequents  antecedent support  \\\n",
       "0  (yogurt, baking powder)  (whole milk)            0.004575   \n",
       "1         (coffee, butter)  (whole milk)            0.004779   \n",
       "2           (curd, butter)  (whole milk)            0.006812   \n",
       "\n",
       "   consequent support   support  confidence      lift  leverage  conviction  \\\n",
       "0            0.255516  0.003254    0.711111  2.783039  0.002085    2.577060   \n",
       "1            0.255516  0.003355    0.702128  2.747881  0.002134    2.499339   \n",
       "2            0.255516  0.004881    0.716418  2.803808  0.003140    2.625286   \n",
       "\n",
       "   zhangs_metric                                items  \n",
       "0       0.643626  {whole milk, yogurt, baking powder}  \n",
       "1       0.639138         {whole milk, coffee, butter}  \n",
       "2       0.647755           {whole milk, curd, butter}  "
      ],
      "text/html": [
       "<div>\n",
       "<style scoped>\n",
       "    .dataframe tbody tr th:only-of-type {\n",
       "        vertical-align: middle;\n",
       "    }\n",
       "\n",
       "    .dataframe tbody tr th {\n",
       "        vertical-align: top;\n",
       "    }\n",
       "\n",
       "    .dataframe thead th {\n",
       "        text-align: right;\n",
       "    }\n",
       "</style>\n",
       "<table border=\"1\" class=\"dataframe\">\n",
       "  <thead>\n",
       "    <tr style=\"text-align: right;\">\n",
       "      <th></th>\n",
       "      <th>antecedents</th>\n",
       "      <th>consequents</th>\n",
       "      <th>antecedent support</th>\n",
       "      <th>consequent support</th>\n",
       "      <th>support</th>\n",
       "      <th>confidence</th>\n",
       "      <th>lift</th>\n",
       "      <th>leverage</th>\n",
       "      <th>conviction</th>\n",
       "      <th>zhangs_metric</th>\n",
       "      <th>items</th>\n",
       "    </tr>\n",
       "  </thead>\n",
       "  <tbody>\n",
       "    <tr>\n",
       "      <th>0</th>\n",
       "      <td>(yogurt, baking powder)</td>\n",
       "      <td>(whole milk)</td>\n",
       "      <td>0.004575</td>\n",
       "      <td>0.255516</td>\n",
       "      <td>0.003254</td>\n",
       "      <td>0.711111</td>\n",
       "      <td>2.783039</td>\n",
       "      <td>0.002085</td>\n",
       "      <td>2.577060</td>\n",
       "      <td>0.643626</td>\n",
       "      <td>{whole milk, yogurt, baking powder}</td>\n",
       "    </tr>\n",
       "    <tr>\n",
       "      <th>1</th>\n",
       "      <td>(coffee, butter)</td>\n",
       "      <td>(whole milk)</td>\n",
       "      <td>0.004779</td>\n",
       "      <td>0.255516</td>\n",
       "      <td>0.003355</td>\n",
       "      <td>0.702128</td>\n",
       "      <td>2.747881</td>\n",
       "      <td>0.002134</td>\n",
       "      <td>2.499339</td>\n",
       "      <td>0.639138</td>\n",
       "      <td>{whole milk, coffee, butter}</td>\n",
       "    </tr>\n",
       "    <tr>\n",
       "      <th>2</th>\n",
       "      <td>(curd, butter)</td>\n",
       "      <td>(whole milk)</td>\n",
       "      <td>0.006812</td>\n",
       "      <td>0.255516</td>\n",
       "      <td>0.004881</td>\n",
       "      <td>0.716418</td>\n",
       "      <td>2.803808</td>\n",
       "      <td>0.003140</td>\n",
       "      <td>2.625286</td>\n",
       "      <td>0.647755</td>\n",
       "      <td>{whole milk, curd, butter}</td>\n",
       "    </tr>\n",
       "  </tbody>\n",
       "</table>\n",
       "</div>"
      ]
     },
     "execution_count": 25,
     "metadata": {},
     "output_type": "execute_result"
    }
   ],
   "execution_count": 25
  },
  {
   "cell_type": "code",
   "source": [
    "# Filtrar reglas\n",
    "# ==============================================================================\n",
    "seleccion_items = {'citrus fruit', 'root vegetables', 'tropical fruit',\n",
    "                   'whole milk', 'other vegetables'}\n",
    "mask = reglas['items'].map(lambda x: x.issubset(seleccion_items))\n",
    "reglas.loc[mask]"
   ],
   "metadata": {
    "collapsed": false,
    "ExecuteTime": {
     "end_time": "2024-04-27T17:49:28.009469Z",
     "start_time": "2024-04-27T17:49:27.978469Z"
    }
   },
   "id": "d03ea7d2663c04e4",
   "outputs": [
    {
     "data": {
      "text/plain": [
       "                                          antecedents         consequents  \\\n",
       "10    (root vegetables, tropical fruit, citrus fruit)  (other vegetables)   \n",
       "16  (root vegetables, other vegetables, tropical f...        (whole milk)   \n",
       "17  (root vegetables, tropical fruit, citrus fruit...  (other vegetables)   \n",
       "\n",
       "    antecedent support  consequent support   support  confidence      lift  \\\n",
       "10            0.005694            0.193493  0.004474    0.785714  4.060694   \n",
       "16            0.004474            0.255516  0.003152    0.704545  2.757344   \n",
       "17            0.003559            0.193493  0.003152    0.885714  4.577509   \n",
       "\n",
       "    leverage  conviction  zhangs_metric  \\\n",
       "10  0.003372    3.763701       0.758053   \n",
       "16  0.002009    2.519792       0.640196   \n",
       "17  0.002463    7.056940       0.784332   \n",
       "\n",
       "                                                items  \n",
       "10  {root vegetables, other vegetables, tropical f...  \n",
       "16  {root vegetables, other vegetables, tropical f...  \n",
       "17  {root vegetables, other vegetables, tropical f...  "
      ],
      "text/html": [
       "<div>\n",
       "<style scoped>\n",
       "    .dataframe tbody tr th:only-of-type {\n",
       "        vertical-align: middle;\n",
       "    }\n",
       "\n",
       "    .dataframe tbody tr th {\n",
       "        vertical-align: top;\n",
       "    }\n",
       "\n",
       "    .dataframe thead th {\n",
       "        text-align: right;\n",
       "    }\n",
       "</style>\n",
       "<table border=\"1\" class=\"dataframe\">\n",
       "  <thead>\n",
       "    <tr style=\"text-align: right;\">\n",
       "      <th></th>\n",
       "      <th>antecedents</th>\n",
       "      <th>consequents</th>\n",
       "      <th>antecedent support</th>\n",
       "      <th>consequent support</th>\n",
       "      <th>support</th>\n",
       "      <th>confidence</th>\n",
       "      <th>lift</th>\n",
       "      <th>leverage</th>\n",
       "      <th>conviction</th>\n",
       "      <th>zhangs_metric</th>\n",
       "      <th>items</th>\n",
       "    </tr>\n",
       "  </thead>\n",
       "  <tbody>\n",
       "    <tr>\n",
       "      <th>10</th>\n",
       "      <td>(root vegetables, tropical fruit, citrus fruit)</td>\n",
       "      <td>(other vegetables)</td>\n",
       "      <td>0.005694</td>\n",
       "      <td>0.193493</td>\n",
       "      <td>0.004474</td>\n",
       "      <td>0.785714</td>\n",
       "      <td>4.060694</td>\n",
       "      <td>0.003372</td>\n",
       "      <td>3.763701</td>\n",
       "      <td>0.758053</td>\n",
       "      <td>{root vegetables, other vegetables, tropical f...</td>\n",
       "    </tr>\n",
       "    <tr>\n",
       "      <th>16</th>\n",
       "      <td>(root vegetables, other vegetables, tropical f...</td>\n",
       "      <td>(whole milk)</td>\n",
       "      <td>0.004474</td>\n",
       "      <td>0.255516</td>\n",
       "      <td>0.003152</td>\n",
       "      <td>0.704545</td>\n",
       "      <td>2.757344</td>\n",
       "      <td>0.002009</td>\n",
       "      <td>2.519792</td>\n",
       "      <td>0.640196</td>\n",
       "      <td>{root vegetables, other vegetables, tropical f...</td>\n",
       "    </tr>\n",
       "    <tr>\n",
       "      <th>17</th>\n",
       "      <td>(root vegetables, tropical fruit, citrus fruit...</td>\n",
       "      <td>(other vegetables)</td>\n",
       "      <td>0.003559</td>\n",
       "      <td>0.193493</td>\n",
       "      <td>0.003152</td>\n",
       "      <td>0.885714</td>\n",
       "      <td>4.577509</td>\n",
       "      <td>0.002463</td>\n",
       "      <td>7.056940</td>\n",
       "      <td>0.784332</td>\n",
       "      <td>{root vegetables, other vegetables, tropical f...</td>\n",
       "    </tr>\n",
       "  </tbody>\n",
       "</table>\n",
       "</div>"
      ]
     },
     "execution_count": 26,
     "metadata": {},
     "output_type": "execute_result"
    }
   ],
   "execution_count": 26
  },
  {
   "cell_type": "markdown",
   "source": [
    "# Información de sesión"
   ],
   "metadata": {
    "collapsed": false
   },
   "id": "3d82a1af3657f59"
  },
  {
   "cell_type": "code",
   "source": [
    "import session_info\n",
    "session_info.show(html=False)"
   ],
   "metadata": {
    "collapsed": false,
    "ExecuteTime": {
     "end_time": "2024-04-26T18:26:17.750029Z",
     "start_time": "2024-04-26T18:26:16.820992Z"
    }
   },
   "id": "37855700269f2e4d",
   "outputs": [
    {
     "name": "stdout",
     "output_type": "stream",
     "text": [
      "-----\n",
      "matplotlib          3.7.2\n",
      "mlxtend             0.23.1\n",
      "pandas              2.1.1\n",
      "pydev_jupyter_utils NA\n",
      "pydev_jupyter_vars  NA\n",
      "seaborn             0.12.2\n",
      "session_info        1.0.0\n",
      "-----\n",
      "IPython             8.15.0\n",
      "jupyter_client      7.4.9\n",
      "jupyter_core        5.3.0\n",
      "jupyterlab          3.6.3\n",
      "notebook            6.5.4\n",
      "-----\n",
      "Python 3.10.13 | packaged by Anaconda, Inc. | (main, Sep 11 2023, 13:15:57) [MSC v.1916 64 bit (AMD64)]\n",
      "Windows-10-10.0.22631-SP0\n",
      "-----\n",
      "Session information updated at 2024-04-26 13:26\n"
     ]
    }
   ],
   "execution_count": 26
  },
  {
   "cell_type": "markdown",
   "source": [
    "**Copyright**\n",
    "\n",
    "The notebooks are provided as [Open Educational Resource](https://de.wikipedia.org/wiki/Open_Educational_Resources). Feel free to use the notebooks for your own educational purposes. The text is licensed under [Creative Commons Attribution 4.0](https://creativecommons.org/licenses/by/4.0/), the code of the IPython examples under the [MIT license](https://opensource.org/licenses/MIT)."
   ],
   "metadata": {
    "collapsed": false
   },
   "id": "9502d657ef67e74d"
  },
  {
   "cell_type": "code",
   "outputs": [],
   "source": [],
   "metadata": {
    "collapsed": false
   },
   "id": "435d1b5f0c57e404",
   "execution_count": null
  }
 ],
 "metadata": {
  "kernelspec": {
   "display_name": "Python 3",
   "language": "python",
   "name": "python3"
  },
  "language_info": {
   "codemirror_mode": {
    "name": "ipython",
    "version": 2
   },
   "file_extension": ".py",
   "mimetype": "text/x-python",
   "name": "python",
   "nbconvert_exporter": "python",
   "pygments_lexer": "ipython2",
   "version": "2.7.6"
  }
 },
 "nbformat": 4,
 "nbformat_minor": 5
}
