{
 "cells": [
  {
   "cell_type": "markdown",
   "source": [
    "## Sistemas de Recomendación<a class=\"tocSkip\">\n",
    "  ## CIENCIA DE DATOS y Big Data <a class=\"tocSkip\">\n",
    "  ### Ingenieria Electrónica <a class=\"tocSkip\">\n",
    "  ### Universidad Popular del Cesar <a class=\"tocSkip\">\n",
    "  ### Prof.: Jose Ramón Iglesias Gamarra - [https://github.com/joseramoniglesias/](https://github.com/joseramoniglesias/) <a class=\"tocSkip\">\n",
    "  **joseiglesias@unicesar.edu.co**"
   ],
   "metadata": {
    "collapsed": false
   }
  },
  {
   "cell_type": "markdown",
   "source": [
    "Filtrado colaborativo\n",
    "Los Sistemas Recomendadores son una colección de algoritmos utilizados para sugerir temas a los usuarios, basados en información tomada desde el punto de vista del usuario. Estos sistemas ubicuos pueden ser comúnmente vistos en tiendas online, bases de datos de películas y buscadores de empleos. Vamos a ver los sistemas de recomendación basados en Contenido e implementaremos una versión utilizando Python y la librería Pandas.\n",
    "\n",
    "Primero, importemos las librerías necesarias:"
   ],
   "metadata": {
    "collapsed": false
   }
  },
  {
   "cell_type": "code",
   "metadata": {
    "ExecuteTime": {
     "end_time": "2025-09-30T23:20:15.100896Z",
     "start_time": "2025-09-30T23:20:13.090663Z"
    }
   },
   "source": [
    "#librería de manipulación de dataframes\n",
    "import pandas as pd\n",
    "#Funciones matemáticas, necesitaremos sólo importar la función sqrt\n",
    "from math import sqrt\n",
    "import numpy as np\n",
    "import matplotlib.pyplot as plt\n",
    "%matplotlib inline"
   ],
   "outputs": [],
   "execution_count": 1
  },
  {
   "cell_type": "markdown",
   "metadata": {},
   "source": [
    "Ahora carguemos cada archivo dentro de su dataframe:"
   ]
  },
  {
   "cell_type": "code",
   "metadata": {
    "ExecuteTime": {
     "end_time": "2025-09-30T23:27:35.120272Z",
     "start_time": "2025-09-30T23:27:27.674371Z"
    }
   },
   "source": [
    "#Guardando la información de la película dentro de un dataframe de panda\n",
    "movies_df = pd.read_csv('movies.csv')\n",
    "#Guardando información del usuario dentro de un dataframe de panda\n",
    "ratings_df = pd.read_csv('ratings.csv')"
   ],
   "outputs": [],
   "execution_count": 2
  },
  {
   "cell_type": "markdown",
   "metadata": {},
   "source": [
    "Miremos cada uno de ellos a ver cómo están organizados:"
   ]
  },
  {
   "cell_type": "code",
   "metadata": {
    "ExecuteTime": {
     "end_time": "2025-09-30T23:27:39.777458Z",
     "start_time": "2025-09-30T23:27:39.762520Z"
    }
   },
   "source": [
    "#Head es una función que obtiene las primeras N filas de un dataframe. El valor por omisión de N es 5.\n",
    "movies_df.head()"
   ],
   "outputs": [
    {
     "data": {
      "text/plain": [
       "   movieId                               title  \\\n",
       "0        1                    Toy Story (1995)   \n",
       "1        2                      Jumanji (1995)   \n",
       "2        3             Grumpier Old Men (1995)   \n",
       "3        4            Waiting to Exhale (1995)   \n",
       "4        5  Father of the Bride Part II (1995)   \n",
       "\n",
       "                                        genres  \n",
       "0  Adventure|Animation|Children|Comedy|Fantasy  \n",
       "1                   Adventure|Children|Fantasy  \n",
       "2                               Comedy|Romance  \n",
       "3                         Comedy|Drama|Romance  \n",
       "4                                       Comedy  "
      ],
      "text/html": [
       "<div>\n",
       "<style scoped>\n",
       "    .dataframe tbody tr th:only-of-type {\n",
       "        vertical-align: middle;\n",
       "    }\n",
       "\n",
       "    .dataframe tbody tr th {\n",
       "        vertical-align: top;\n",
       "    }\n",
       "\n",
       "    .dataframe thead th {\n",
       "        text-align: right;\n",
       "    }\n",
       "</style>\n",
       "<table border=\"1\" class=\"dataframe\">\n",
       "  <thead>\n",
       "    <tr style=\"text-align: right;\">\n",
       "      <th></th>\n",
       "      <th>movieId</th>\n",
       "      <th>title</th>\n",
       "      <th>genres</th>\n",
       "    </tr>\n",
       "  </thead>\n",
       "  <tbody>\n",
       "    <tr>\n",
       "      <th>0</th>\n",
       "      <td>1</td>\n",
       "      <td>Toy Story (1995)</td>\n",
       "      <td>Adventure|Animation|Children|Comedy|Fantasy</td>\n",
       "    </tr>\n",
       "    <tr>\n",
       "      <th>1</th>\n",
       "      <td>2</td>\n",
       "      <td>Jumanji (1995)</td>\n",
       "      <td>Adventure|Children|Fantasy</td>\n",
       "    </tr>\n",
       "    <tr>\n",
       "      <th>2</th>\n",
       "      <td>3</td>\n",
       "      <td>Grumpier Old Men (1995)</td>\n",
       "      <td>Comedy|Romance</td>\n",
       "    </tr>\n",
       "    <tr>\n",
       "      <th>3</th>\n",
       "      <td>4</td>\n",
       "      <td>Waiting to Exhale (1995)</td>\n",
       "      <td>Comedy|Drama|Romance</td>\n",
       "    </tr>\n",
       "    <tr>\n",
       "      <th>4</th>\n",
       "      <td>5</td>\n",
       "      <td>Father of the Bride Part II (1995)</td>\n",
       "      <td>Comedy</td>\n",
       "    </tr>\n",
       "  </tbody>\n",
       "</table>\n",
       "</div>"
      ]
     },
     "execution_count": 3,
     "metadata": {},
     "output_type": "execute_result"
    }
   ],
   "execution_count": 3
  },
  {
   "cell_type": "markdown",
   "metadata": {},
   "source": [
    "Cada película tiene un único ID, un título con su año de estreno (El cual puede contener caracteres unicode) y muchos géneros diferentes en el mismo campo. Saquemos el año de la columna del título y ubiquemoslo en su propia columna con la función extract que viene con Pandas.\n",
    "Saquemos el año de la columna title utilizando la función de pandas replace y guardémoslo en la nueva columna year."
   ]
  },
  {
   "cell_type": "code",
   "metadata": {
    "ExecuteTime": {
     "end_time": "2025-09-30T23:27:49.199168Z",
     "start_time": "2025-09-30T23:27:49.187761Z"
    }
   },
   "source": [
    "#Utilizar expresiones regulares para encontrar un año guardado entre paréntesis\n",
    "#Especificamos los paréntesis de forma tal de que no haya problemas con las películas que tiene el año en sus títulos\n",
    "movies_df['year'] = movies_df.title.str.extract('(<img alt=\"\\d\\d\\d\\d\" title=\"Rendered by QuickLaTeX.com\" height=\"2\" width=\"3\" style=\"vertical-align: -4px;\" data-src=\"https://www.statdeveloper.com/wp-content/ql-cache/quicklatex.com-6bed55770ce78fa33f73530474cdaed1_l3.png\" class=\"ql-img-inline-formula quicklatex-auto-format lazyload\" src=\"data:image/gif;base64,R0lGODlhAQABAAAAACH5BAEKAAEALAAAAAABAAEAAAICTAEAOw==\"><noscript><img   alt=\"\\d\\d\\d\\d\" title=\"Rendered by QuickLaTeX.com\" height=\"2\" width=\"3\" style=\"vertical-align: -4px;\" data-src=\"https://www.statdeveloper.com/wp-content/ql-cache/quicklatex.com-6bed55770ce78fa33f73530474cdaed1_l3.png\" class=\"ql-img-inline-formula quicklatex-auto-format lazyload\" src=\"data:image/gif;base64,R0lGODlhAQABAAAAACH5BAEKAAEALAAAAAABAAEAAAICTAEAOw==\" /><noscript><img src=\"https://www.statdeveloper.com/wp-content/ql-cache/quicklatex.com-6bed55770ce78fa33f73530474cdaed1_l3.png\" class=\"ql-img-inline-formula quicklatex-auto-format\" alt=\"\\d\\d\\d\\d\" title=\"Rendered by QuickLaTeX.com\" height=\"2\" width=\"3\" style=\"vertical-align: -4px;\"/></noscript>)',expand=False)\n",
    "#Sacando los paréntesis\n",
    "movies_df['year'] = movies_df.year.str.extract('(\\d\\d\\d\\d)',expand=False)\n",
    "#Sacando los años de la columna 'title'\n",
    "movies_df['title'] = movies_df.title.str.replace('(<img alt=\"\\d\\d\\d\\d\" title=\"Rendered by QuickLaTeX.com\" height=\"2\" width=\"3\" style=\"vertical-align: -4px;\" data-src=\"https://www.statdeveloper.com/wp-content/ql-cache/quicklatex.com-6bed55770ce78fa33f73530474cdaed1_l3.png\" class=\"ql-img-inline-formula quicklatex-auto-format lazyload\" src=\"data:image/gif;base64,R0lGODlhAQABAAAAACH5BAEKAAEALAAAAAABAAEAAAICTAEAOw==\"><noscript><img   alt=\"\\d\\d\\d\\d\" title=\"Rendered by QuickLaTeX.com\" height=\"2\" width=\"3\" style=\"vertical-align: -4px;\" data-src=\"https://www.statdeveloper.com/wp-content/ql-cache/quicklatex.com-6bed55770ce78fa33f73530474cdaed1_l3.png\" class=\"ql-img-inline-formula quicklatex-auto-format lazyload\" src=\"data:image/gif;base64,R0lGODlhAQABAAAAACH5BAEKAAEALAAAAAABAAEAAAICTAEAOw==\" /><noscript><img src=\"https://www.statdeveloper.com/wp-content/ql-cache/quicklatex.com-6bed55770ce78fa33f73530474cdaed1_l3.png\" class=\"ql-img-inline-formula quicklatex-auto-format\" alt=\"\\d\\d\\d\\d\" title=\"Rendered by QuickLaTeX.com\" height=\"2\" width=\"3\" style=\"vertical-align: -4px;\"/></noscript>)', '')\n",
    "#Aplicando la función strip para sacar los espacios finales que pudiera haber\n",
    "movies_df['title'] = movies_df['title'].apply(lambda x: x.strip()"
   ],
   "outputs": [
    {
     "name": "stderr",
     "output_type": "stream",
     "text": [
      "<>:3: SyntaxWarning: invalid escape sequence '\\d'\n",
      "<>:5: SyntaxWarning: invalid escape sequence '\\d'\n",
      "<>:7: SyntaxWarning: invalid escape sequence '\\d'\n",
      "<>:3: SyntaxWarning: invalid escape sequence '\\d'\n",
      "<>:5: SyntaxWarning: invalid escape sequence '\\d'\n",
      "<>:7: SyntaxWarning: invalid escape sequence '\\d'\n",
      "C:\\Users\\Public\\Documents\\Wondershare\\CreatorTemp\\ipykernel_18268\\3868826007.py:3: SyntaxWarning: invalid escape sequence '\\d'\n",
      "  movies_df['year'] = movies_df.title.str.extract('(<img alt=\"\\d\\d\\d\\d\" title=\"Rendered by QuickLaTeX.com\" height=\"2\" width=\"3\" style=\"vertical-align: -4px;\" data-src=\"https://www.statdeveloper.com/wp-content/ql-cache/quicklatex.com-6bed55770ce78fa33f73530474cdaed1_l3.png\" class=\"ql-img-inline-formula quicklatex-auto-format lazyload\" src=\"data:image/gif;base64,R0lGODlhAQABAAAAACH5BAEKAAEALAAAAAABAAEAAAICTAEAOw==\"><noscript><img   alt=\"\\d\\d\\d\\d\" title=\"Rendered by QuickLaTeX.com\" height=\"2\" width=\"3\" style=\"vertical-align: -4px;\" data-src=\"https://www.statdeveloper.com/wp-content/ql-cache/quicklatex.com-6bed55770ce78fa33f73530474cdaed1_l3.png\" class=\"ql-img-inline-formula quicklatex-auto-format lazyload\" src=\"data:image/gif;base64,R0lGODlhAQABAAAAACH5BAEKAAEALAAAAAABAAEAAAICTAEAOw==\" /><noscript><img src=\"https://www.statdeveloper.com/wp-content/ql-cache/quicklatex.com-6bed55770ce78fa33f73530474cdaed1_l3.png\" class=\"ql-img-inline-formula quicklatex-auto-format\" alt=\"\\d\\d\\d\\d\" title=\"Rendered by QuickLaTeX.com\" height=\"2\" width=\"3\" style=\"vertical-align: -4px;\"/></noscript>)',expand=False)\n",
      "C:\\Users\\Public\\Documents\\Wondershare\\CreatorTemp\\ipykernel_18268\\3868826007.py:5: SyntaxWarning: invalid escape sequence '\\d'\n",
      "  movies_df['year'] = movies_df.year.str.extract('(\\d\\d\\d\\d)',expand=False)\n",
      "C:\\Users\\Public\\Documents\\Wondershare\\CreatorTemp\\ipykernel_18268\\3868826007.py:7: SyntaxWarning: invalid escape sequence '\\d'\n",
      "  movies_df['title'] = movies_df.title.str.replace('(<img alt=\"\\d\\d\\d\\d\" title=\"Rendered by QuickLaTeX.com\" height=\"2\" width=\"3\" style=\"vertical-align: -4px;\" data-src=\"https://www.statdeveloper.com/wp-content/ql-cache/quicklatex.com-6bed55770ce78fa33f73530474cdaed1_l3.png\" class=\"ql-img-inline-formula quicklatex-auto-format lazyload\" src=\"data:image/gif;base64,R0lGODlhAQABAAAAACH5BAEKAAEALAAAAAABAAEAAAICTAEAOw==\"><noscript><img   alt=\"\\d\\d\\d\\d\" title=\"Rendered by QuickLaTeX.com\" height=\"2\" width=\"3\" style=\"vertical-align: -4px;\" data-src=\"https://www.statdeveloper.com/wp-content/ql-cache/quicklatex.com-6bed55770ce78fa33f73530474cdaed1_l3.png\" class=\"ql-img-inline-formula quicklatex-auto-format lazyload\" src=\"data:image/gif;base64,R0lGODlhAQABAAAAACH5BAEKAAEALAAAAAABAAEAAAICTAEAOw==\" /><noscript><img src=\"https://www.statdeveloper.com/wp-content/ql-cache/quicklatex.com-6bed55770ce78fa33f73530474cdaed1_l3.png\" class=\"ql-img-inline-formula quicklatex-auto-format\" alt=\"\\d\\d\\d\\d\" title=\"Rendered by QuickLaTeX.com\" height=\"2\" width=\"3\" style=\"vertical-align: -4px;\"/></noscript>)', '')\n"
     ]
    },
    {
     "ename": "SyntaxError",
     "evalue": "incomplete input (3868826007.py, line 9)",
     "output_type": "error",
     "traceback": [
      "\u001B[1;36m  Cell \u001B[1;32mIn[4], line 9\u001B[1;36m\u001B[0m\n\u001B[1;33m    movies_df['title'] = movies_df['title'].apply(lambda x: x.strip()\u001B[0m\n\u001B[1;37m                                                                     ^\u001B[0m\n\u001B[1;31mSyntaxError\u001B[0m\u001B[1;31m:\u001B[0m incomplete input\n"
     ]
    }
   ],
   "execution_count": 4
  },
  {
   "cell_type": "markdown",
   "metadata": {},
   "source": [
    "Veamos el resultado"
   ]
  },
  {
   "cell_type": "code",
   "execution_count": null,
   "metadata": {},
   "outputs": [],
   "source": [
    "movies_df.head()"
   ]
  },
  {
   "cell_type": "markdown",
   "metadata": {},
   "source": [
    "Luego, saquemos la columna de los géneros ya que no los necesitaremos para este sistema recomendador."
   ]
  },
  {
   "cell_type": "code",
   "execution_count": null,
   "metadata": {},
   "outputs": [],
   "source": [
    "#Eliminando la columna géneros\n",
    "movies_df = movies_df.drop('genres', 1)"
   ]
  },
  {
   "cell_type": "markdown",
   "metadata": {},
   "source": [
    "Aquí está el dataframe final:"
   ]
  },
  {
   "cell_type": "code",
   "execution_count": null,
   "metadata": {},
   "outputs": [],
   "source": [
    "movies_df.head()"
   ]
  },
  {
   "cell_type": "markdown",
   "metadata": {},
   "source": [
    "Ahora, veamos el dataframe de los ratings."
   ]
  },
  {
   "cell_type": "code",
   "execution_count": null,
   "metadata": {},
   "outputs": [],
   "source": [
    "ratings_df.head()"
   ]
  },
  {
   "cell_type": "markdown",
   "metadata": {},
   "source": [
    "Cada fila en el dataframe ratings tiene un id de usuario asociado con al menos una película, un rating y una marca de tiempo que muestra cuando se revisó. No se necesitará la columna timestamp, por lo que se eliminará para ahorrar memoria."
   ]
  },
  {
   "cell_type": "code",
   "execution_count": null,
   "metadata": {},
   "outputs": [],
   "source": [
    "#Drop elimina una fila en particular o columna dentro de un dataframe\n",
    "ratings_df = ratings_df.drop('timestamp', 1)"
   ]
  },
  {
   "cell_type": "markdown",
   "metadata": {},
   "source": [
    "Asi es cómo el Dataframe definitivo se ve:"
   ]
  },
  {
   "cell_type": "code",
   "execution_count": null,
   "metadata": {},
   "outputs": [],
   "source": [
    "ratings_df.head()"
   ]
  },
  {
   "cell_type": "markdown",
   "metadata": {},
   "source": [
    "Filtrado Colaborativo\n",
    "Ahora, comenzaremos el trabajo con los sistemas recomendadores.\n",
    "\n",
    "La primer técnica que vas a ver se llama Filtrado Colaborativo, también conocido como Filtrado de Usuario a Usuario. Como lo indica su nombre alternativo, esta técnica utiliza otros usuarios para recomendar items al ingreso de datos. Se intenta encontrar usuarios que tengan preferencias y opiniones parecidas para entonces recomendar items que se hayan parecido al ingreso anterior. Existen varios métodos para encontrar usuarios parecidos (Incluso los que utilizan Machine Learning), y el método que vamos a utilizar estará basado en la Función de Correlación de Pearson.\n",
    "El proceso para crear un sistema de recomendación Basado en el Usuario es el siguiente:\n",
    "\n",
    "Elegir un usuario con las películas que el usuario ha mirado\n",
    "Basado en su indice de selección de películas, encuentra a los primeros X vecinos\n",
    "Obtener el registro de la película que miró el usuario para cada vecino.\n",
    "Calcular un puntaje de similitud utilizando alguna fórmula\n",
    "Recomendar los ítems con los puntajes más altos\n",
    "Comencemos creando un usuario a quien recomendar películas:\n",
    "Nota: Para agregar más películas, aumenta la catidad de elementos en userInput. Agrega tantos como desees! Solo asegúrate de escribir en letras mayúsculas y si una película comienza con un “The”, como “The Matrix” entonces escríbelo así: ‘Matrix, The’."
   ]
  },
  {
   "cell_type": "code",
   "execution_count": null,
   "metadata": {},
   "outputs": [],
   "source": [
    "userInput = [\n",
    "            {'title':'Breakfast Club, The', 'rating':5},\n",
    "            {'title':'Toy Story', 'rating':3.5},\n",
    "            {'title':'Jumanji', 'rating':2},\n",
    "            {'title':\"Pulp Fiction\", 'rating':5},\n",
    "            {'title':'Akira', 'rating':4.5}\n",
    "         ] \n",
    "inputMovies = pd.DataFrame(userInput)\n",
    "inputMovies"
   ]
  },
  {
   "cell_type": "markdown",
   "metadata": {},
   "source": [
    "Agregar movieId al ingreso del usuario: Con las datos ingresados completos, extraigamos los ID de las películas del dataframe de películas y agreguémosla.\n",
    "Esto se logra primero sacando las filas que tienen que tienen títulos de películas y luego une este subconjunto con el dataframe de entrada. También sacamos columnas que no se necesitan para ahorrar espacio de memoria."
   ]
  },
  {
   "cell_type": "code",
   "execution_count": null,
   "metadata": {},
   "outputs": [],
   "source": [
    "#Filtrar las películas por título\n",
    "inputId = movies_df[movies_df['title'].isin(inputMovies['title'].tolist())]\n",
    "#Luego juntarlas para obtener el movieId. Implícitamente, lo está uniendo por título.\n",
    "inputMovies = pd.merge(inputId, inputMovies)\n",
    "#Eliminando información que no utilizaremos del dataframe de entrada\n",
    "inputMovies = inputMovies.drop('year', 1)\n",
    "#Dataframe de entrada final\n",
    "#Si una película que se agregó no se encuentra, entonces podría no estar en el dataframe \n",
    "#original o podría estar escrito de otra forma, por favor revisar mayúscula o minúscula.\n",
    "inputMovies"
   ]
  },
  {
   "cell_type": "markdown",
   "metadata": {},
   "source": [
    "Usuarios que han visto las mismas películas: Ahora, que el ID de la película está como entrada, podemos obtener el subconjunto de usuarios que han visto o revisado las películas en nuestra entrada."
   ]
  },
  {
   "cell_type": "code",
   "execution_count": null,
   "metadata": {},
   "outputs": [],
   "source": [
    "#Filtrando los usuarios que han visto las películas y guardándolas\n",
    "userSubset = ratings_df[ratings_df['movieId'].isin(inputMovies['movieId'].tolist())]\n",
    "userSubset.head()"
   ]
  },
  {
   "cell_type": "markdown",
   "metadata": {},
   "source": [
    "Ahora agrupamos las filas por el ID del usuario."
   ]
  },
  {
   "cell_type": "code",
   "execution_count": null,
   "metadata": {},
   "outputs": [],
   "source": [
    "#Groupby crea varios dataframes donde todos tienen el mismo valor para la columna especificada como parámetro\n",
    "userSubsetGroup = userSubset.groupby(['userId'])"
   ]
  },
  {
   "cell_type": "markdown",
   "metadata": {},
   "source": [
    "Miremos a uno de los usuarios, por ejemlo, el userID=1130"
   ]
  },
  {
   "cell_type": "code",
   "execution_count": null,
   "metadata": {},
   "outputs": [],
   "source": [
    "userSubsetGroup.get_group(1130)"
   ]
  },
  {
   "cell_type": "markdown",
   "metadata": {},
   "source": [
    "Ahora hagamos ordenamiento dentro de cada grupo de forma tal que los usuarios que compartan la mayor cantidad de películas tengan prioridad. Esto brinda una recomendación mejorada ya que no será necesario pasar por todos los usuarios."
   ]
  },
  {
   "cell_type": "code",
   "execution_count": null,
   "metadata": {},
   "outputs": [],
   "source": [
    "#Ordenamiento de forma tal de que los usuarios con más películas en común tengan prioridad\n",
    "userSubsetGroup = sorted(userSubsetGroup,  key=lambda x: len(x[1]), reverse=True)"
   ]
  },
  {
   "cell_type": "markdown",
   "metadata": {},
   "source": [
    "Ahora, miremos al primer usuario"
   ]
  },
  {
   "cell_type": "code",
   "execution_count": null,
   "metadata": {},
   "outputs": [],
   "source": [
    "userSubsetGroup[0:3]"
   ]
  },
  {
   "cell_type": "markdown",
   "metadata": {},
   "source": [
    "Similitud entre usuarios y usuarios ingresantes\n",
    "Luego, compararemos a todos los usuarios (casi todos) con nuestro usuario indicado y encontraremos el que más se parece.\n",
    "Encontraremos cómo cada usuario similar se relacionan entre si a través del Coeficiente de Correlación de Pearson. Se utiliza para medir la fuerza de una asociación lineal entre dos variables. La fórmula para encontrar este coeficiente entre los conjuntos X e Y con los valores de N se puede ver en la fórmula:\n",
    "r=\\frac{\\sum_{i=1}^{n}(x_i-\\bar{x})(y_i-\\bar{y})}{\\sqrt{\\sum_{i=1}^{n}(x_i-\\bar{x})^2}\\sqrt{\\sum_{i=1}^{n}(y_i-\\bar{y})^2}}\n",
    "¿Por qué la Correlación Pearson?\n",
    "La correlación Pearson no varía con la escala, ejemplo: si se multiplican todos los elementos por una constante distinta a cero o si se agrega cualquier constante a todos los elementos. Por ejemplo, si tienes dos vectores X e Y, entonces, pearson(X, Y)=pearson(X, 2 \\cdot Y + 3). Esta es una propiedad muy importante en los sistemas recomendadores por que dos usuarios podrían putnuar dos series de elementos de manera completamente diferente, pero serían usuarios parecidos (ejemplo: con ideas similares) con puntuaciones parecidas en escalas variadas .\n",
    "\n",
    "Los valores brindados por la fórumula puede variar de r=-1 a r=1, donde 1 se correlaciona directamente entre las dos entidades (esto sería una correlación positiva perfecta) y -1 forma una correlación negativa perfecta. En nuestro caso, un 1 se refiere a que dos usuarios tiene gustos parecidos, mientras que -1 es lo opuesto.\n",
    "Elegiremos un subconjunto de usuarios para hacer las iteraciones. Este limite existe porque no queremos desperdiciar mucho tiempo pasando por cada usuario."
   ]
  },
  {
   "cell_type": "code",
   "execution_count": null,
   "metadata": {},
   "outputs": [],
   "source": [
    "userSubsetGroup = userSubsetGroup[0:100]"
   ]
  },
  {
   "cell_type": "markdown",
   "metadata": {},
   "source": [
    "Ahora, calculemos la Correlación Pearson entre la entrada del usuario el grupo, para almacenarlo en el diccionario, donde la clave es el Id del usuario y el valor es el coeficiente"
   ]
  },
  {
   "cell_type": "code",
   "execution_count": null,
   "metadata": {},
   "outputs": [],
   "source": [
    "#Guardar la Correlación Pearson en un diccionario, donde la clave es el Id del usuario y el valor es el coeficiente\n",
    "pearsonCorrelationDict = {]\n",
    "#Para cada grupo de usuarios en nuestro subconjunto \n",
    "for name, group in userSubsetGroup:\n",
    "    #Comencemos ordenando el usuario actual y el ingresado de forma tal que los valores no se mezclen luego\n",
    "    group = group.sort_values(by='movieId')\n",
    "    inputMovies = inputMovies.sort_values(by='movieId')\n",
    "    #Obtener el N para la fórmula\n",
    "    nRatings = len(group)\n",
    "    #Obtener los puntajes de revisión para las películas en común\n",
    "    temp_df = inputMovies[inputMovies['movieId'].isin(group['movieId'].tolist())]\n",
    "    #Guardarlas en una variable temporal con formato de lista para facilitar cálculos futuros\n",
    "    tempRatingList = temp_df['rating'].tolist()\n",
    "    #Pongamos también las revisiones de grupos de usuarios en una lista\n",
    "    tempGroupList = group['rating'].tolist()\n",
    "    #Calculemos la Correlación Pearson entre dos usuarios, x e y\n",
    "    Sxx = sum([i**2 for i in tempRatingList]) - pow(sum(tempRatingList),2)/float(nRatings)\n",
    "    Syy = sum([i**2 for i in tempGroupList]) - pow(sum(tempGroupList),2)/float(nRatings)\n",
    "    Sxy = sum( i*j for i, j in zip(tempRatingList, tempGroupList)) - sum(tempRatingList)*sum(tempGroupList)/float(nRatings)\n",
    "    #Si el denominador es diferente a cero, entonces dividir, sino, la correlación es 0.\n",
    "    if Sxx != 0 and Syy != 0:\n",
    "        pearsonCorrelationDict[name] = Sxy/sqrt(Sxx*Syy)\n",
    "    else:\n",
    "        pearsonCorrelationDict[name] = 0"
   ]
  },
  {
   "cell_type": "code",
   "execution_count": null,
   "metadata": {},
   "outputs": [],
   "source": [
    "pearsonCorrelationDict.items()"
   ]
  },
  {
   "cell_type": "code",
   "execution_count": null,
   "metadata": {},
   "outputs": [],
   "source": [
    "pearsonDF = pd.DataFrame.from_dict(pearsonCorrelationDict, orient='index')\n",
    "pearsonDF.columns = ['similarityIndex']\n",
    "pearsonDF['userId'] = pearsonDF.index\n",
    "pearsonDF.index = range(len(pearsonDF))\n",
    "pearsonDF.head()"
   ]
  },
  {
   "cell_type": "markdown",
   "metadata": {},
   "source": [
    "Ahora obtengamos los 50 primeros usuarios más parecidos a los que se ingresaron."
   ]
  },
  {
   "cell_type": "code",
   "execution_count": null,
   "metadata": {},
   "outputs": [],
   "source": [
    "topUsers=pearsonDF.sort_values(by='similarityIndex', ascending=False)[0:50]\n",
    "topUsers.head()"
   ]
  },
  {
   "cell_type": "markdown",
   "metadata": {},
   "source": [
    "Recomendemos películas al usuario de entrada puntuando a los usuarios elegidos para todas las películas\n",
    "\n",
    "Haremos esto tomando el peso promedio de los ratings de las películas utilizando la Correlación Pearson. Pero para hacer esto, primero necesitamos que los usuarios vean las películas en nuestro pearsonDF a partir del dataframe de puntajes y luego guardar su correlación en una nueva columna llamada _similarityIndex”. Estos se logra juntando estas dos tablas de debajo."
   ]
  },
  {
   "cell_type": "code",
   "execution_count": null,
   "metadata": {},
   "outputs": [],
   "source": [
    "topUsersRating=topUsers.merge(ratings_df, left_on='userId', right_on='userId', how='inner')\n",
    "topUsersRating.head()"
   ]
  },
  {
   "cell_type": "markdown",
   "metadata": {},
   "source": [
    "Ahora todo lo que se necesita hacer es multiplicar el puntaje de la película por su peso (El índice de similitud), luego se suman los nuevos puntajes y dividen por la suma de los pesos.\n",
    "Esto se logra sencillamente multiplicando dos columnas, luego agrupando el dataframe por la columna movieId y luego dividiendo dos columnas:\n",
    "Aqui se muestra la idea de todos los usuarios similares respecto de las películas candidatas para el usuario ingresado:"
   ]
  },
  {
   "cell_type": "code",
   "execution_count": null,
   "metadata": {},
   "outputs": [],
   "source": [
    "#Se multiplica la similitud de los puntajes de los usuarios\n",
    "topUsersRating['weightedRating'] = topUsersRating['similarityIndex']*topUsersRating['rating']\n",
    "topUsersRating.head()"
   ]
  },
  {
   "cell_type": "code",
   "execution_count": null,
   "metadata": {},
   "outputs": [],
   "source": [
    "#Se aplica una suma a los topUsers luego de agruparlos por userId\n",
    "tempTopUsersRating = topUsersRating.groupby('movieId').sum()[['similarityIndex','weightedRating']]\n",
    "tempTopUsersRating.columns = ['sum_similarityIndex','sum_weightedRating']\n",
    "tempTopUsersRating.head()"
   ]
  },
  {
   "cell_type": "code",
   "execution_count": null,
   "metadata": {},
   "outputs": [],
   "source": [
    "#Se crea un dataframe vacío\n",
    "recommendation_df = pd.DataFrame()\n",
    "#Ahora se toma el promedio ponderado\n",
    "recommendation_df['weighted average recommendation score'] = tempTopUsersRating['sum_weightedRating']/tempTopUsersRating['sum_similarityIndex']\n",
    "recommendation_df['movieId'] = tempTopUsersRating.index\n",
    "recommendation_df.head()"
   ]
  },
  {
   "cell_type": "markdown",
   "metadata": {},
   "source": [
    "Luego, ordenémoslo y veamos las primeras 20 películas que el algoritmo recomendó!"
   ]
  },
  {
   "cell_type": "code",
   "execution_count": null,
   "metadata": {},
   "outputs": [],
   "source": [
    "recommendation_df = recommendation_df.sort_values(by='weighted average recommendation score', ascending=False)\n",
    "recommendation_df.head(10)"
   ]
  },
  {
   "cell_type": "code",
   "execution_count": null,
   "metadata": {},
   "outputs": [],
   "source": [
    "movies_df.loc[movies_df['movieId'].isin(recommendation_df.head(10)['movieId'].tolist())]"
   ]
  },
  {
   "cell_type": "markdown",
   "metadata": {},
   "source": [
    "Ventajas y Desventajas del Filtro Colaborativo\n",
    "Ventajas\n",
    "Tiene en cuenta el puntaje de otros usuarios\n",
    "No necesita estudiar o extraer la información del elemento recomendado\n",
    "Se adapta al interés del usuario mientras cambia\n",
    "Desventajas\n",
    "La función de aproximación puede ser lenta\n",
    "Podriá surgir una cantidad baja de usuarios para aproximar\n",
    "Temas de privacidad cuando se intenta aprender de las preferencias del usuario"
   ]
  }
 ],
 "metadata": {
  "kernelspec": {
   "display_name": "Python 3",
   "language": "python",
   "name": "python3"
  },
  "language_info": {
   "codemirror_mode": {
    "name": "ipython",
    "version": 3
   },
   "file_extension": ".py",
   "mimetype": "text/x-python",
   "name": "python",
   "nbconvert_exporter": "python",
   "pygments_lexer": "ipython3",
   "version": "3.7.6"
  }
 },
 "nbformat": 4,
 "nbformat_minor": 4
}
