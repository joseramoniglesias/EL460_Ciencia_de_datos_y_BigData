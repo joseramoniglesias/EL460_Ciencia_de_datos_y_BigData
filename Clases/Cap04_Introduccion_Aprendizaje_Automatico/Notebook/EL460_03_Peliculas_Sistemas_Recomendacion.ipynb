{
 "cells": [
  {
   "cell_type": "markdown",
   "source": [
    "## Sistemas de Recomendación<a class=\"tocSkip\">\n",
    "  ## CIENCIA DE DATOS y Big Data <a class=\"tocSkip\">\n",
    "  ### Ingenieria Electrónica <a class=\"tocSkip\">\n",
    "  ### Universidad Popular del Cesar <a class=\"tocSkip\">\n",
    "  ### Prof.: Jose Ramón Iglesias Gamarra - [https://github.com/joseramoniglesias/](https://github.com/joseramoniglesias/) <a class=\"tocSkip\">\n",
    "  **joseiglesias@unicesar.edu.co**"
   ],
   "metadata": {
    "collapsed": false
   }
  },
  {
   "cell_type": "code",
   "source": [
    "!pip install currencyconverter"
   ],
   "metadata": {
    "collapsed": false
   },
   "outputs": [],
   "execution_count": null
  },
  {
   "cell_type": "code",
   "metadata": {
    "execution": {
     "iopub.execute_input": "2020-11-13T12:25:57.951164Z",
     "iopub.status.busy": "2020-11-13T12:25:57.950475Z",
     "iopub.status.idle": "2020-11-13T12:26:00.069309Z",
     "shell.execute_reply": "2020-11-13T12:26:00.068501Z"
    },
    "papermill": {
     "duration": 2.167295,
     "end_time": "2020-11-13T12:26:00.069446",
     "exception": false,
     "start_time": "2020-11-13T12:25:57.902151",
     "status": "completed"
    },
    "tags": []
   },
   "source": [
    "import numpy as np\n",
    "import pandas as pd\n",
    "pd.options.mode.chained_assignment = None\n",
    "import matplotlib.pyplot as plt\n",
    "import seaborn as sns\n",
    "sns.set(style='whitegrid')\n",
    "from currency_converter import CurrencyConverter\n",
    "import datetime\n",
    "from wordcloud import WordCloud, STOPWORDS \n",
    "import textwrap\n",
    "import string\n",
    "from nltk.corpus import stopwords\n",
    "from nltk.stem import PorterStemmer \n",
    "from sklearn.metrics.pairwise import cosine_similarity\n",
    "from sklearn.feature_extraction.text import CountVectorizer"
   ],
   "outputs": [],
   "execution_count": null
  },
  {
   "cell_type": "code",
   "metadata": {
    "execution": {
     "iopub.execute_input": "2020-11-13T12:26:00.164799Z",
     "iopub.status.busy": "2020-11-13T12:26:00.164090Z",
     "iopub.status.idle": "2020-11-13T12:26:05.992746Z",
     "shell.execute_reply": "2020-11-13T12:26:05.992010Z"
    },
    "papermill": {
     "duration": 5.883491,
     "end_time": "2020-11-13T12:26:05.992900",
     "exception": false,
     "start_time": "2020-11-13T12:26:00.109409",
     "status": "completed"
    },
    "tags": []
   },
   "source": [
    "data_imdb_movies = pd.read_csv('IMDb movies.csv')\n",
    "data_imdb_names = pd.read_csv('IMDb names.csv')\n",
    "data_imdb_title_principals = pd.read_csv('IMDb title_principals.csv')"
   ],
   "outputs": [],
   "execution_count": null
  },
  {
   "cell_type": "code",
   "metadata": {
    "execution": {
     "iopub.execute_input": "2020-11-13T12:26:06.074774Z",
     "iopub.status.busy": "2020-11-13T12:26:06.073985Z",
     "iopub.status.idle": "2020-11-13T12:26:06.141122Z",
     "shell.execute_reply": "2020-11-13T12:26:06.141584Z"
    },
    "papermill": {
     "duration": 0.111043,
     "end_time": "2020-11-13T12:26:06.141752",
     "exception": false,
     "start_time": "2020-11-13T12:26:06.030709",
     "status": "completed"
    },
    "tags": []
   },
   "source": [
    "imdb_movies = data_imdb_movies.copy()\n",
    "imdb_movies.head()"
   ],
   "outputs": [],
   "execution_count": null
  },
  {
   "cell_type": "code",
   "metadata": {
    "execution": {
     "iopub.execute_input": "2020-11-13T12:26:06.231101Z",
     "iopub.status.busy": "2020-11-13T12:26:06.230382Z",
     "iopub.status.idle": "2020-11-13T12:26:06.314949Z",
     "shell.execute_reply": "2020-11-13T12:26:06.314351Z"
    },
    "papermill": {
     "duration": 0.129862,
     "end_time": "2020-11-13T12:26:06.315070",
     "exception": false,
     "start_time": "2020-11-13T12:26:06.185208",
     "status": "completed"
    },
    "tags": []
   },
   "source": [
    "imdb_names = data_imdb_names.copy()\n",
    "imdb_names.head()"
   ],
   "outputs": [],
   "execution_count": null
  },
  {
   "cell_type": "code",
   "metadata": {
    "execution": {
     "iopub.execute_input": "2020-11-13T12:26:06.405842Z",
     "iopub.status.busy": "2020-11-13T12:26:06.405033Z",
     "iopub.status.idle": "2020-11-13T12:26:06.495456Z",
     "shell.execute_reply": "2020-11-13T12:26:06.494724Z"
    },
    "papermill": {
     "duration": 0.139173,
     "end_time": "2020-11-13T12:26:06.495610",
     "exception": false,
     "start_time": "2020-11-13T12:26:06.356437",
     "status": "completed"
    },
    "tags": []
   },
   "source": [
    "imdb_title_principals = data_imdb_title_principals.copy()\n",
    "imdb_title_principals.head()"
   ],
   "outputs": [],
   "execution_count": null
  },
  {
   "cell_type": "code",
   "metadata": {
    "execution": {
     "iopub.execute_input": "2020-11-13T12:26:06.586529Z",
     "iopub.status.busy": "2020-11-13T12:26:06.585790Z",
     "iopub.status.idle": "2020-11-13T12:26:07.062616Z",
     "shell.execute_reply": "2020-11-13T12:26:07.061165Z"
    },
    "papermill": {
     "duration": 0.525479,
     "end_time": "2020-11-13T12:26:07.062839",
     "exception": false,
     "start_time": "2020-11-13T12:26:06.537360",
     "status": "completed"
    },
    "tags": []
   },
   "source": [
    "print(imdb_movies.info())\n",
    "print('\\n')\n",
    "print(imdb_names.info())\n",
    "print('\\n')\n",
    "print(imdb_title_principals.info())"
   ],
   "outputs": [],
   "execution_count": null
  },
  {
   "cell_type": "markdown",
   "metadata": {
    "papermill": {
     "duration": 0.041109,
     "end_time": "2020-11-13T12:26:07.148019",
     "exception": false,
     "start_time": "2020-11-13T12:26:07.106910",
     "status": "completed"
    },
    "tags": []
   },
   "source": [
    "# Data Preprocessing & Exploratory Data Analysis"
   ]
  },
  {
   "cell_type": "code",
   "metadata": {
    "execution": {
     "iopub.execute_input": "2020-11-13T12:26:07.250505Z",
     "iopub.status.busy": "2020-11-13T12:26:07.249720Z",
     "iopub.status.idle": "2020-11-13T12:26:08.897616Z",
     "shell.execute_reply": "2020-11-13T12:26:08.897018Z"
    },
    "papermill": {
     "duration": 1.705119,
     "end_time": "2020-11-13T12:26:08.897724",
     "exception": false,
     "start_time": "2020-11-13T12:26:07.192605",
     "status": "completed"
    },
    "tags": []
   },
   "source": [
    "# Merge name to title principals\n",
    "imdb_title_principals = pd.merge(imdb_title_principals, imdb_names[['imdb_name_id', 'name']], \n",
    "                                 left_on = ['imdb_name_id'], right_on = ['imdb_name_id']) \n",
    "# Ordering columns\n",
    "imdb_title_principals = imdb_title_principals[['imdb_title_id', 'ordering', 'imdb_name_id', 'name', 'category', 'job', 'characters']]\n",
    "imdb_title_principals.head()"
   ],
   "outputs": [],
   "execution_count": null
  },
  {
   "cell_type": "code",
   "metadata": {
    "execution": {
     "iopub.execute_input": "2020-11-13T12:26:09.049486Z",
     "iopub.status.busy": "2020-11-13T12:26:09.048753Z",
     "iopub.status.idle": "2020-11-13T12:26:09.468921Z",
     "shell.execute_reply": "2020-11-13T12:26:09.468240Z"
    },
    "papermill": {
     "duration": 0.523402,
     "end_time": "2020-11-13T12:26:09.469058",
     "exception": false,
     "start_time": "2020-11-13T12:26:08.945656",
     "status": "completed"
    },
    "tags": []
   },
   "source": [
    "# Create new column \"cinematographer\" into imdb_movies data\n",
    "cinematographer_name = imdb_title_principals[imdb_title_principals['category']=='cinematographer'].reset_index()\n",
    "cinematographer_name.rename(columns={'name' : 'cinematographer'}, inplace = True)\n",
    "imdb_movies = pd.merge(imdb_movies, cinematographer_name[['imdb_title_id', 'cinematographer']],\n",
    "                       left_on = 'imdb_title_id', right_on = 'imdb_title_id', how = 'left')\n",
    "\n",
    "# Group/join cinematographer names with same imdb_title_id to avoid duplicated data (from merging imdb_movies and cinematographer_name)\n",
    "duplicated_data = imdb_movies[imdb_movies['imdb_title_id'].duplicated(keep = False)]\n",
    "multiple_names_cinematographer = duplicated_data.groupby('imdb_title_id')['cinematographer'].apply(', '.join).reset_index()\n",
    "duplicated_data.drop(['cinematographer'], axis = 1, inplace = True)\n",
    "duplicated_data.drop_duplicates(subset=['imdb_title_id'], inplace = True)\n",
    "data_multiple_names = pd.merge(duplicated_data, multiple_names_cinematographer[['imdb_title_id', 'cinematographer']], \n",
    "                               left_on = 'imdb_title_id', right_on = 'imdb_title_id')\n",
    "data_multiple_names[['imdb_title_id', 'cinematographer']].head()"
   ],
   "outputs": [],
   "execution_count": null
  },
  {
   "cell_type": "code",
   "metadata": {
    "execution": {
     "iopub.execute_input": "2020-11-13T12:26:09.569048Z",
     "iopub.status.busy": "2020-11-13T12:26:09.567893Z",
     "iopub.status.idle": "2020-11-13T12:26:09.887790Z",
     "shell.execute_reply": "2020-11-13T12:26:09.887144Z"
    },
    "papermill": {
     "duration": 0.374183,
     "end_time": "2020-11-13T12:26:09.887932",
     "exception": false,
     "start_time": "2020-11-13T12:26:09.513749",
     "status": "completed"
    },
    "tags": []
   },
   "source": [
    "# Drop and replace duplicate data (because names of cinematographer) with data which have multiple names of cinematographer\n",
    "imdb_movies.drop_duplicates(subset=['imdb_title_id'], keep = False, inplace = True)\n",
    "imdb_movies = pd.concat((imdb_movies, data_multiple_names), sort = False).sort_values('imdb_title_id')\n",
    "\n",
    "# Reorder column cinematographer\n",
    "cols = imdb_movies.columns.tolist()\n",
    "cols = cols[0:13] + cols[-1:] + cols [13:-1]\n",
    "imdb_movies = imdb_movies[cols]\n",
    "imdb_movies.head()"
   ],
   "outputs": [],
   "execution_count": null
  },
  {
   "cell_type": "code",
   "metadata": {
    "execution": {
     "iopub.execute_input": "2020-11-13T12:26:10.005879Z",
     "iopub.status.busy": "2020-11-13T12:26:10.000674Z",
     "iopub.status.idle": "2020-11-13T12:26:10.050491Z",
     "shell.execute_reply": "2020-11-13T12:26:10.049569Z"
    },
    "papermill": {
     "duration": 0.118937,
     "end_time": "2020-11-13T12:26:10.050658",
     "exception": false,
     "start_time": "2020-11-13T12:26:09.931721",
     "status": "completed"
    },
    "tags": []
   },
   "source": [
    "# Filtering data (only USA or Hollywood Movies)\n",
    "imdb_movies['country'].fillna('', inplace = True)\n",
    "imdb_movies = imdb_movies[imdb_movies['country'].str.contains('USA')]"
   ],
   "outputs": [],
   "execution_count": null
  },
  {
   "cell_type": "code",
   "metadata": {
    "execution": {
     "iopub.execute_input": "2020-11-13T12:26:10.154957Z",
     "iopub.status.busy": "2020-11-13T12:26:10.151940Z",
     "iopub.status.idle": "2020-11-13T12:26:10.965930Z",
     "shell.execute_reply": "2020-11-13T12:26:10.965048Z"
    },
    "papermill": {
     "duration": 0.872184,
     "end_time": "2020-11-13T12:26:10.966098",
     "exception": false,
     "start_time": "2020-11-13T12:26:10.093914",
     "status": "completed"
    },
    "tags": []
   },
   "source": [
    "# Create budget_currency column and formatting budget column into numeric values for converting to usd\n",
    "imdb_movies['budget_currency'] = imdb_movies['budget'].str.split(' ', expand = True)[0]\n",
    "imdb_movies['budget_currency'] = imdb_movies['budget_currency'].str.replace('$', 'USD')\n",
    "imdb_movies['budget'] = imdb_movies['budget'].str.split(' ', expand = True)[1]\n",
    "imdb_movies['budget'] = pd.to_numeric(imdb_movies['budget'], errors='coerce')\n",
    "\n",
    "# Create worlwide_gross_income_currency column and formatting worlwide_gross_income column into numeric values for converting to usd\n",
    "imdb_movies['worlwide_gross_income_currency'] = imdb_movies['worlwide_gross_income'].str.split(' ', expand = True)[0]\n",
    "imdb_movies['worlwide_gross_income_currency'] = imdb_movies['worlwide_gross_income_currency'].str.replace('$', 'USD')\n",
    "imdb_movies['worlwide_gross_income'] = imdb_movies['worlwide_gross_income'].str.split(' ', expand = True)[1]\n",
    "imdb_movies['worlwide_gross_income'] = pd.to_numeric(imdb_movies['worlwide_gross_income'], errors='coerce')\n",
    "\n",
    "# Create usa_gross_income_currency column and formatting usa_gross_income column into numeric values for converting to usd\n",
    "imdb_movies['usa_gross_income_currency'] = imdb_movies['usa_gross_income'].str.split(' ', expand = True)[0]\n",
    "imdb_movies['usa_gross_income_currency'] = imdb_movies['usa_gross_income_currency'].str.replace('$', 'USD')\n",
    "imdb_movies['usa_gross_income'] = imdb_movies['usa_gross_income'].str.split(' ', expand = True)[1]\n",
    "imdb_movies['usa_gross_income'] = pd.to_numeric(imdb_movies['usa_gross_income'], errors='coerce')\n"
   ],
   "outputs": [],
   "execution_count": null
  },
  {
   "cell_type": "code",
   "metadata": {
    "execution": {
     "iopub.execute_input": "2020-11-13T12:26:11.072812Z",
     "iopub.status.busy": "2020-11-13T12:26:11.070460Z",
     "iopub.status.idle": "2020-11-13T12:26:29.190101Z",
     "shell.execute_reply": "2020-11-13T12:26:29.189273Z"
    },
    "papermill": {
     "duration": 18.175892,
     "end_time": "2020-11-13T12:26:29.190244",
     "exception": false,
     "start_time": "2020-11-13T12:26:11.014352",
     "status": "completed"
    },
    "scrolled": false,
    "tags": []
   },
   "source": [
    "# Convert currencies into USD\n",
    "\n",
    "c = CurrencyConverter()\n",
    "for i in range(imdb_movies.shape[0]):\n",
    "    # budget column\n",
    "    if (imdb_movies['budget_currency'].iloc[i] in c.currencies):\n",
    "        imdb_movies['budget'].iloc[i] = c.convert(imdb_movies['budget'].iloc[i], imdb_movies['budget_currency'].iloc[i], 'USD')\n",
    "    else :\n",
    "        imdb_movies['budget'].iloc[i] = np.nan\n",
    "   \n",
    "    # worlwide_gross_income column   \n",
    "    if (imdb_movies['worlwide_gross_income_currency'].iloc[i] in c.currencies):\n",
    "        imdb_movies['worlwide_gross_income'].iloc[i] = c.convert(imdb_movies['worlwide_gross_income'].iloc[i], \n",
    "                                                            imdb_movies['worlwide_gross_income_currency'].iloc[i], 'USD', )\n",
    "    else :\n",
    "        imdb_movies['worlwide_gross_income'].iloc[i] = np.nan\n",
    "    \n",
    "    # usa_gross_income column   \n",
    "    if (imdb_movies['usa_gross_income_currency'].iloc[i] in c.currencies):\n",
    "        imdb_movies['usa_gross_income'].iloc[i] = c.convert(imdb_movies['usa_gross_income'].iloc[i], \n",
    "                                                       imdb_movies['usa_gross_income_currency'].iloc[i], 'USD', \n",
    "                                                       )\n",
    "    else :\n",
    "        imdb_movies['usa_gross_income'].iloc[i] = np.nan\n"
   ],
   "outputs": [],
   "execution_count": null
  },
  {
   "cell_type": "markdown",
   "metadata": {
    "papermill": {
     "duration": 0.043569,
     "end_time": "2020-11-13T12:26:29.280016",
     "exception": false,
     "start_time": "2020-11-13T12:26:29.236447",
     "status": "completed"
    },
    "tags": []
   },
   "source": [
    "## Analysis Numeric and Categorical Data"
   ]
  },
  {
   "cell_type": "markdown",
   "metadata": {
    "papermill": {
     "duration": 0.041272,
     "end_time": "2020-11-13T12:26:29.366404",
     "exception": false,
     "start_time": "2020-11-13T12:26:29.325132",
     "status": "completed"
    },
    "tags": []
   },
   "source": [
    "### Analysis Numeric Data"
   ]
  },
  {
   "cell_type": "code",
   "metadata": {
    "execution": {
     "iopub.execute_input": "2020-11-13T12:26:29.467079Z",
     "iopub.status.busy": "2020-11-13T12:26:29.466290Z",
     "iopub.status.idle": "2020-11-13T12:26:29.514520Z",
     "shell.execute_reply": "2020-11-13T12:26:29.513838Z"
    },
    "papermill": {
     "duration": 0.10458,
     "end_time": "2020-11-13T12:26:29.514637",
     "exception": false,
     "start_time": "2020-11-13T12:26:29.410057",
     "status": "completed"
    },
    "tags": []
   },
   "source": [
    "num_data = ['duration', 'avg_vote', 'votes', 'budget', 'usa_gross_income', 'worlwide_gross_income', \n",
    "            'metascore', 'reviews_from_users', 'reviews_from_critics']\n",
    "imdb_movies[num_data].describe()"
   ],
   "outputs": [],
   "execution_count": null
  },
  {
   "cell_type": "code",
   "metadata": {
    "execution": {
     "iopub.execute_input": "2020-11-13T12:26:29.617225Z",
     "iopub.status.busy": "2020-11-13T12:26:29.616401Z",
     "iopub.status.idle": "2020-11-13T12:26:36.946838Z",
     "shell.execute_reply": "2020-11-13T12:26:36.946335Z"
    },
    "papermill": {
     "duration": 7.384303,
     "end_time": "2020-11-13T12:26:36.946965",
     "exception": false,
     "start_time": "2020-11-13T12:26:29.562662",
     "status": "completed"
    },
    "scrolled": true,
    "tags": []
   },
   "source": [
    "# Visualize distplot and boxplot on each numerical data/columns\n",
    "\n",
    "fig, ax = plt.subplots(9, 2, figsize = (14, 24))\n",
    "fig.tight_layout(pad = 5)\n",
    "\n",
    "for i, n in enumerate(num_data):\n",
    "    sns.distplot(ax = ax[i,0], a = imdb_movies[n].dropna(), label = 'skewness : %.2f'%(imdb_movies[n].skew()))\n",
    "    ax[i,0].set_title(n, fontsize = 18)\n",
    "    ax[i,0].legend(loc = 'best')\n",
    "    \n",
    "    sns.boxplot(ax = ax[i, 1], x = imdb_movies[n].dropna())\n",
    "    ax[i, 1].set_title(n, fontsize = 18)\n",
    "plt.show()"
   ],
   "outputs": [],
   "execution_count": null
  },
  {
   "cell_type": "markdown",
   "metadata": {
    "papermill": {
     "duration": 0.051723,
     "end_time": "2020-11-13T12:26:37.049870",
     "exception": false,
     "start_time": "2020-11-13T12:26:36.998147",
     "status": "completed"
    },
    "tags": []
   },
   "source": [
    "### Analysis Categorical Data"
   ]
  },
  {
   "cell_type": "markdown",
   "metadata": {
    "papermill": {
     "duration": 0.046836,
     "end_time": "2020-11-13T12:26:37.147181",
     "exception": false,
     "start_time": "2020-11-13T12:26:37.100345",
     "status": "completed"
    },
    "tags": []
   },
   "source": [
    "#### Which Decade Has Release Most Movies and Highest Average Vote (Rating)"
   ]
  },
  {
   "cell_type": "code",
   "metadata": {
    "execution": {
     "iopub.execute_input": "2020-11-13T12:26:37.273609Z",
     "iopub.status.busy": "2020-11-13T12:26:37.264791Z",
     "iopub.status.idle": "2020-11-13T12:26:37.392894Z",
     "shell.execute_reply": "2020-11-13T12:26:37.392333Z"
    },
    "papermill": {
     "duration": 0.195004,
     "end_time": "2020-11-13T12:26:37.393026",
     "exception": false,
     "start_time": "2020-11-13T12:26:37.198022",
     "status": "completed"
    },
    "tags": []
   },
   "source": [
    "# Clean the data on 'year' column\n",
    "imdb_movies['year'].replace('TV Movie 2019', 2019, inplace = True)\n",
    "imdb_movies['year'] = imdb_movies['year'].astype(int)\n",
    "\n",
    "# Group the data based on Decades\n",
    "movies_by_decades = imdb_movies[['imdb_title_id', 'original_title', 'year','avg_vote', 'votes']]\n",
    "decades = movies_by_decades['year']//10*10\n",
    "decades = decades.astype(str)+' - '+ (decades+9).astype(str)\n",
    "decades_column = pd.DataFrame(decades)\n",
    "movies_by_decades.insert(3, 'decades', decades_column)\n",
    "movies_by_decades.head()"
   ],
   "outputs": [],
   "execution_count": null
  },
  {
   "cell_type": "code",
   "metadata": {
    "execution": {
     "iopub.execute_input": "2020-11-13T12:26:37.504472Z",
     "iopub.status.busy": "2020-11-13T12:26:37.503643Z",
     "iopub.status.idle": "2020-11-13T12:26:37.810169Z",
     "shell.execute_reply": "2020-11-13T12:26:37.809446Z"
    },
    "papermill": {
     "duration": 0.366948,
     "end_time": "2020-11-13T12:26:37.810290",
     "exception": false,
     "start_time": "2020-11-13T12:26:37.443342",
     "status": "completed"
    },
    "tags": []
   },
   "source": [
    "# Visualize movie counts release based on decade with barchart\n",
    "\n",
    "max_width = 15\n",
    "fig, ax = plt.subplots(figsize = (16,4))\n",
    "decades = movies_by_decades.groupby('decades')['imdb_title_id'].count().index\n",
    "count = movies_by_decades.groupby('decades')['imdb_title_id'].count()\n",
    "sns.barplot(ax = ax, x = decades, y = count)\n",
    "ax.set_title('Movie Counts Based on Decade', fontsize = 18)\n",
    "ax.set_xlabel('Decade')\n",
    "for index,count in enumerate(count.astype(int)):\n",
    "       ax.text(x=index-0.15 , y =count+1 , s=f\"{count}\" , fontdict=dict(fontsize=10))\n",
    "ax.set_ylabel('No. of Movies')\n",
    "plt.show()"
   ],
   "outputs": [],
   "execution_count": null
  },
  {
   "cell_type": "code",
   "metadata": {
    "execution": {
     "iopub.execute_input": "2020-11-13T12:26:37.926862Z",
     "iopub.status.busy": "2020-11-13T12:26:37.926114Z",
     "iopub.status.idle": "2020-11-13T12:26:38.233208Z",
     "shell.execute_reply": "2020-11-13T12:26:38.232499Z"
    },
    "papermill": {
     "duration": 0.371483,
     "end_time": "2020-11-13T12:26:38.233336",
     "exception": false,
     "start_time": "2020-11-13T12:26:37.861853",
     "status": "completed"
    },
    "tags": []
   },
   "source": [
    "# Visualize average vote (rating) based on decade with barchart\n",
    "\n",
    "max_width = 15\n",
    "fig, ax = plt.subplots(figsize = (16,4))\n",
    "decades = movies_by_decades.groupby('decades')['avg_vote'].mean().index\n",
    "avg_vote = movies_by_decades.groupby('decades')['avg_vote'].mean()\n",
    "sns.barplot(ax = ax, x = decades, y = avg_vote)\n",
    "ax.set_title('Average Vote (Rating) Based on Decade', fontsize = 18)\n",
    "ax.set_xlabel('Decade')\n",
    "for index,avg_vote in enumerate(np.round(avg_vote, 2)):\n",
    "       ax.text(x=index-0.15 , y =avg_vote+0 , s=f\"{avg_vote}\" , fontdict=dict(fontsize=10))\n",
    "ax.set_ylabel('Average Vote')\n",
    "ax.set_ylim((5, 7))\n",
    "\n",
    "plt.show()"
   ],
   "outputs": [],
   "execution_count": null
  },
  {
   "cell_type": "markdown",
   "metadata": {
    "papermill": {
     "duration": 0.053435,
     "end_time": "2020-11-13T12:26:38.341010",
     "exception": false,
     "start_time": "2020-11-13T12:26:38.287575",
     "status": "completed"
    },
    "tags": []
   },
   "source": [
    "#### Which Month Has Release Most Movies"
   ]
  },
  {
   "cell_type": "code",
   "metadata": {
    "execution": {
     "iopub.execute_input": "2020-11-13T12:26:38.484110Z",
     "iopub.status.busy": "2020-11-13T12:26:38.467841Z",
     "iopub.status.idle": "2020-11-13T12:26:38.506141Z",
     "shell.execute_reply": "2020-11-13T12:26:38.505357Z"
    },
    "papermill": {
     "duration": 0.110294,
     "end_time": "2020-11-13T12:26:38.506273",
     "exception": false,
     "start_time": "2020-11-13T12:26:38.395979",
     "status": "completed"
    },
    "tags": []
   },
   "source": [
    "# Preprocess the data \n",
    "\n",
    "imdb_movies['date_published'].replace('TV Movie 2019', 2019, inplace = True)\n",
    "movies_published = imdb_movies[['imdb_title_id', 'original_title', 'genre', 'date_published']]\n",
    "movies_published['month_published'] = [month[5:7] for month in movies_published['date_published'].astype(str)]\n",
    "\n",
    "#print(movies_published['month_published'].unique()) # There are blank values on month_published column\n",
    "movies_published['month_published'][movies_published['month_published']==''] = np.nan # replace blank values with nan\n",
    "movies_published.head()"
   ],
   "outputs": [],
   "execution_count": null
  },
  {
   "cell_type": "code",
   "metadata": {
    "execution": {
     "iopub.execute_input": "2020-11-13T12:26:38.629616Z",
     "iopub.status.busy": "2020-11-13T12:26:38.624449Z",
     "iopub.status.idle": "2020-11-13T12:26:38.925752Z",
     "shell.execute_reply": "2020-11-13T12:26:38.925056Z"
    },
    "papermill": {
     "duration": 0.366176,
     "end_time": "2020-11-13T12:26:38.925895",
     "exception": false,
     "start_time": "2020-11-13T12:26:38.559719",
     "status": "completed"
    },
    "tags": []
   },
   "source": [
    "# Visualize movie counts release based on month with barchart\n",
    "\n",
    "max_width = 15\n",
    "fig, ax = plt.subplots(figsize = (16,4))\n",
    "months_published = movies_published.groupby('month_published')['imdb_title_id'].count().index\n",
    "count_movies = movies_published.groupby('month_published')['imdb_title_id'].count()\n",
    "sns.barplot(ax = ax, x = months_published, y = count_movies)\n",
    "ax.set_title('Movie Counts Based on Month', fontsize = 18)\n",
    "ax.set_xlabel('Month')\n",
    "ax.set_ylabel('No. of Movies')\n",
    "for index,count_movies in enumerate(count_movies):\n",
    "       ax.text(x=index-0.15 , y =count_movies+0 , s=f\"{count_movies}\" , fontdict=dict(fontsize=10))\n",
    "ax.set_xticklabels(['January', 'February', 'March', 'April', 'May', 'June'\n",
    "                    , 'July', 'August', 'September', 'October', 'November', 'December'])\n",
    "\n",
    "plt.show()"
   ],
   "outputs": [],
   "execution_count": null
  },
  {
   "cell_type": "markdown",
   "metadata": {
    "papermill": {
     "duration": 0.056219,
     "end_time": "2020-11-13T12:26:39.036341",
     "exception": false,
     "start_time": "2020-11-13T12:26:38.980122",
     "status": "completed"
    },
    "tags": []
   },
   "source": [
    "#### Wordcloud Genre Column\n"
   ]
  },
  {
   "cell_type": "code",
   "metadata": {
    "execution": {
     "iopub.execute_input": "2020-11-13T12:26:39.163987Z",
     "iopub.status.busy": "2020-11-13T12:26:39.158646Z",
     "iopub.status.idle": "2020-11-13T12:26:40.683982Z",
     "shell.execute_reply": "2020-11-13T12:26:40.684557Z"
    },
    "papermill": {
     "duration": 1.594474,
     "end_time": "2020-11-13T12:26:40.684741",
     "exception": false,
     "start_time": "2020-11-13T12:26:39.090267",
     "status": "completed"
    },
    "tags": []
   },
   "source": [
    "# Create wordcloud on genre column data\n",
    "\n",
    "comment_words = ''\n",
    "stop_words = set(STOPWORDS)\n",
    "\n",
    "for val in imdb_movies['genre']:\n",
    "    val = str(val)\n",
    "    tokens = val.split()\n",
    "    \n",
    "    for i in range(len(tokens)):\n",
    "        tokens[i] = tokens[i].lower()\n",
    "    \n",
    "    comment_words += \" \".join(tokens)+\" \"\n",
    "\n",
    "wordcloud = WordCloud(width = 800, height = 600, background_color = 'black'\n",
    "                      , stopwords = stop_words, min_font_size = 10).generate(comment_words)\n",
    "\n",
    "fig, ax = plt.subplots(figsize = (8, 6))\n",
    "ax.grid(False)\n",
    "ax.imshow((wordcloud))\n",
    "fig.tight_layout(pad=0)\n",
    "plt.show()"
   ],
   "outputs": [],
   "execution_count": null
  },
  {
   "cell_type": "markdown",
   "metadata": {
    "papermill": {
     "duration": 0.06386,
     "end_time": "2020-11-13T12:26:40.812383",
     "exception": false,
     "start_time": "2020-11-13T12:26:40.748523",
     "status": "completed"
    },
    "tags": []
   },
   "source": [
    "#### Which Genre Has Release Most Movies and Highest Average Vote (Rating)"
   ]
  },
  {
   "cell_type": "code",
   "metadata": {
    "execution": {
     "iopub.execute_input": "2020-11-13T12:26:40.948296Z",
     "iopub.status.busy": "2020-11-13T12:26:40.945354Z",
     "iopub.status.idle": "2020-11-13T12:26:41.346678Z",
     "shell.execute_reply": "2020-11-13T12:26:41.346069Z"
    },
    "papermill": {
     "duration": 0.473154,
     "end_time": "2020-11-13T12:26:41.346800",
     "exception": false,
     "start_time": "2020-11-13T12:26:40.873646",
     "status": "completed"
    },
    "tags": []
   },
   "source": [
    "# Preprocess and split genre column data (because there are more than one genre in each row data)\n",
    "\n",
    "movies_genre = imdb_movies[['imdb_title_id', 'original_title', 'genre', 'avg_vote']]\n",
    "movies_genre['genre'] = movies_genre['genre'].astype('str')\n",
    "\n",
    "genre_split = pd.DataFrame(movies_genre['genre'].str.split(',').tolist(), index=movies_genre['imdb_title_id']).stack()\n",
    "genre_split = genre_split.reset_index(['imdb_title_id'])\n",
    "genre_split.columns = ['imdb_title_id', 'genre_split']\n",
    "movies_genre_split = pd.merge(genre_split, movies_genre[['imdb_title_id', 'original_title', 'avg_vote']],\n",
    "                              left_on = 'imdb_title_id', right_on = 'imdb_title_id')\n",
    "movies_genre_split['genre_split'] = movies_genre_split['genre_split'].str.lstrip(' ').str.rstrip(' ')\n",
    "movies_genre_split.head()"
   ],
   "outputs": [],
   "execution_count": null
  },
  {
   "cell_type": "code",
   "metadata": {
    "execution": {
     "iopub.execute_input": "2020-11-13T12:26:41.489810Z",
     "iopub.status.busy": "2020-11-13T12:26:41.485402Z",
     "iopub.status.idle": "2020-11-13T12:26:41.817706Z",
     "shell.execute_reply": "2020-11-13T12:26:41.816974Z"
    },
    "papermill": {
     "duration": 0.409761,
     "end_time": "2020-11-13T12:26:41.817873",
     "exception": false,
     "start_time": "2020-11-13T12:26:41.408112",
     "status": "completed"
    },
    "tags": []
   },
   "source": [
    "# Visualize top 5 genres based on movie counts and based on average vote (rating)\n",
    "\n",
    "fig, ax = plt.subplots(1, 2, figsize = (16,6))\n",
    "\n",
    "genres = movies_genre_split.groupby('genre_split')['imdb_title_id'].count().sort_values(ascending = False).index[0:5]\n",
    "count_movies = movies_genre_split.groupby('genre_split')['imdb_title_id'].count().sort_values(ascending = False)[0:5]\n",
    "ax[0].pie(x=count_movies, autopct=\"%.2f%%\", labels=genres, pctdistance=0.5)\n",
    "ax[0].set_title('Top 5 Genres Based on Movie Counts', fontsize = 18)\n",
    "\n",
    "genres = movies_genre_split.groupby('genre_split')['avg_vote'].mean().sort_values(ascending = False).index[0:5]\n",
    "avg_votes = movies_genre_split.groupby('genre_split')['avg_vote'].mean().sort_values(ascending = False)[0:5]\n",
    "sns.barplot(ax = ax[1], x = genres, y = avg_votes)\n",
    "ax[1].set_title('Top 5 Genres Based on Average Vote (Rating)', fontsize = 18)\n",
    "ax[1].set_xlabel('Genre')\n",
    "for index,avg_votes in enumerate(round(avg_votes, 2)):\n",
    "    ax[1].text(x=index-0.1 , y =avg_votes+0 , s=f\"{avg_votes}\" , fontdict=dict(fontsize=10))\n",
    "ax[1].set_ylabel('Average Vote')\n",
    "ax[1].set_ylim(6, 8)\n",
    "\n",
    "plt.show()"
   ],
   "outputs": [],
   "execution_count": null
  },
  {
   "cell_type": "markdown",
   "metadata": {
    "papermill": {
     "duration": 0.063196,
     "end_time": "2020-11-13T12:26:41.948795",
     "exception": false,
     "start_time": "2020-11-13T12:26:41.885599",
     "status": "completed"
    },
    "tags": []
   },
   "source": [
    "#### Which Director Has Release Most Movies and Highest Average Vote (Rating)"
   ]
  },
  {
   "cell_type": "code",
   "metadata": {
    "execution": {
     "iopub.execute_input": "2020-11-13T12:26:42.095881Z",
     "iopub.status.busy": "2020-11-13T12:26:42.087399Z",
     "iopub.status.idle": "2020-11-13T12:26:42.304986Z",
     "shell.execute_reply": "2020-11-13T12:26:42.304336Z"
    },
    "papermill": {
     "duration": 0.292978,
     "end_time": "2020-11-13T12:26:42.305112",
     "exception": false,
     "start_time": "2020-11-13T12:26:42.012134",
     "status": "completed"
    },
    "tags": []
   },
   "source": [
    "# Preprocess and split director column data (because there are more than one director in each row data)\n",
    "\n",
    "movies_director = imdb_movies[['imdb_title_id', 'original_title', 'director', 'avg_vote']]\n",
    "movies_director['director'] = movies_director['director'].astype('str')\n",
    "\n",
    "director_split = pd.DataFrame(movies_director['director'].str.split(',').tolist(), index=movies_director['imdb_title_id']).stack()\n",
    "director_split = director_split.reset_index(['imdb_title_id'])\n",
    "director_split.columns = ['imdb_title_id', 'director_split']\n",
    "movies_director_split = pd.merge(director_split, movies_director[['imdb_title_id', 'original_title', 'avg_vote']],\n",
    "                              left_on = 'imdb_title_id', right_on = 'imdb_title_id')\n",
    "movies_director_split['director_split'] = movies_director_split['director_split'].str.lstrip(' ').str.rstrip(' ')\n",
    "gb_director = movies_director_split.groupby('director_split').agg({ 'imdb_title_id' : ['count'], 'avg_vote': ['mean']})\n",
    "gb_director.drop(gb_director[gb_director.index == 'nan'].index, inplace = True)\n",
    "gb_director.head()"
   ],
   "outputs": [],
   "execution_count": null
  },
  {
   "cell_type": "code",
   "metadata": {
    "execution": {
     "iopub.execute_input": "2020-11-13T12:26:42.449218Z",
     "iopub.status.busy": "2020-11-13T12:26:42.446792Z",
     "iopub.status.idle": "2020-11-13T12:26:42.724764Z",
     "shell.execute_reply": "2020-11-13T12:26:42.725360Z"
    },
    "papermill": {
     "duration": 0.35213,
     "end_time": "2020-11-13T12:26:42.725536",
     "exception": false,
     "start_time": "2020-11-13T12:26:42.373406",
     "status": "completed"
    },
    "tags": []
   },
   "source": [
    "# Visualize top 10 directors based on movie counts with barchart\n",
    "\n",
    "max_width = 15\n",
    "fig, ax = plt.subplots(figsize = (16,4))\n",
    "directors = gb_director[('imdb_title_id', 'count')].sort_values(ascending = False)[0:10].index\n",
    "count_movies = gb_director[('imdb_title_id', 'count')].sort_values(ascending = False)[0:10]\n",
    "sns.barplot(ax = ax, x = directors, y = count_movies)\n",
    "ax.set_title('Top 10 Directors Based on Movie Counts', fontsize = 18)\n",
    "ax.set_xlabel('Director')\n",
    "ax.set_xticklabels((textwrap.fill(x.get_text(), max_width) for x in ax.get_xticklabels()), fontsize = 10)\n",
    "for index,count_movies in enumerate(count_movies):\n",
    "    ax.text(x=index-0.05 , y =count_movies+0 , s=f\"{count_movies}\" , fontdict=dict(fontsize=10))\n",
    "ax.set_ylabel('No. of Movies')\n",
    "ax.set_ylim(50, 100)\n",
    "plt.show()"
   ],
   "outputs": [],
   "execution_count": null
  },
  {
   "cell_type": "code",
   "metadata": {
    "execution": {
     "iopub.execute_input": "2020-11-13T12:26:42.882861Z",
     "iopub.status.busy": "2020-11-13T12:26:42.882136Z",
     "iopub.status.idle": "2020-11-13T12:26:43.181862Z",
     "shell.execute_reply": "2020-11-13T12:26:43.182394Z"
    },
    "papermill": {
     "duration": 0.387536,
     "end_time": "2020-11-13T12:26:43.182562",
     "exception": false,
     "start_time": "2020-11-13T12:26:42.795026",
     "status": "completed"
    },
    "tags": []
   },
   "source": [
    "# Visualize top 10 directors based on average vote (rating) with barchart\n",
    "\n",
    "max_width = 15\n",
    "fig, ax = plt.subplots(figsize = (16,4))\n",
    "\n",
    "# Specification : at least have direct 5 movies\n",
    "mask = movies_director_split.groupby('director_split')['imdb_title_id'].count() >= 5\n",
    "directors = gb_director.loc[mask][('avg_vote',  'mean')].sort_values(ascending = False)[0:10].index\n",
    "avg_vote = gb_director.loc[mask][('avg_vote',  'mean')].sort_values(ascending = False)[0:10]\n",
    "\n",
    "sns.barplot(ax = ax, x = directors, y = avg_vote)\n",
    "ax.set_title('Top 10 Directors Based on Average Vote (Rating)', fontsize = 18)\n",
    "ax.set_xlabel('Director')\n",
    "ax.set_xticklabels((textwrap.fill(x.get_text(), max_width) for x in ax.get_xticklabels()), fontsize = 10)\n",
    "for index,avg_vote in enumerate(round(avg_vote, 2)):\n",
    "    ax.text(x=index-0.1 , y =avg_vote+0 , s=f\"{avg_vote}\" , fontdict=dict(fontsize=10))\n",
    "ax.set_ylabel('Average Vote')\n",
    "ax.set_ylim(7.4, 8.4)\n",
    "plt.show()"
   ],
   "outputs": [],
   "execution_count": null
  },
  {
   "cell_type": "markdown",
   "metadata": {
    "papermill": {
     "duration": 0.067826,
     "end_time": "2020-11-13T12:26:43.322355",
     "exception": false,
     "start_time": "2020-11-13T12:26:43.254529",
     "status": "completed"
    },
    "tags": []
   },
   "source": [
    "#### Which Writer Has Release Most Movies and Highest Average Vote (Rating)"
   ]
  },
  {
   "cell_type": "code",
   "metadata": {
    "execution": {
     "iopub.execute_input": "2020-11-13T12:26:43.489757Z",
     "iopub.status.busy": "2020-11-13T12:26:43.470515Z",
     "iopub.status.idle": "2020-11-13T12:26:43.952983Z",
     "shell.execute_reply": "2020-11-13T12:26:43.953545Z"
    },
    "papermill": {
     "duration": 0.562467,
     "end_time": "2020-11-13T12:26:43.953727",
     "exception": false,
     "start_time": "2020-11-13T12:26:43.391260",
     "status": "completed"
    },
    "tags": []
   },
   "source": [
    "# Preprocess and split writer column data (because there are more than one writer in each row data)\n",
    "\n",
    "movies_writer = imdb_movies[['imdb_title_id', 'original_title', 'writer', 'avg_vote']]\n",
    "movies_writer['writer'] = movies_writer['writer'].astype('str')\n",
    "\n",
    "writer_split = pd.DataFrame(movies_writer['writer'].str.split(',').tolist(), index=movies_writer['imdb_title_id']).stack()\n",
    "writer_split = writer_split.reset_index(['imdb_title_id'])\n",
    "writer_split.columns = ['imdb_title_id', 'writer_split']\n",
    "movies_writer_split = pd.merge(writer_split, movies_writer[['imdb_title_id', 'original_title', 'avg_vote']],\n",
    "                              left_on = 'imdb_title_id', right_on = 'imdb_title_id')\n",
    "movies_writer_split['writer_split'] = movies_writer_split['writer_split'].str.lstrip(' ').str.rstrip(' ')\n",
    "gb_writer = movies_writer_split.groupby('writer_split').agg({ 'imdb_title_id' : ['count'], 'avg_vote': ['mean']})\n",
    "gb_writer.drop(gb_writer[gb_writer.index == 'nan'].index, inplace = True)\n",
    "gb_writer.head()"
   ],
   "outputs": [],
   "execution_count": null
  },
  {
   "cell_type": "code",
   "metadata": {
    "execution": {
     "iopub.execute_input": "2020-11-13T12:26:44.113976Z",
     "iopub.status.busy": "2020-11-13T12:26:44.113298Z",
     "iopub.status.idle": "2020-11-13T12:26:44.395251Z",
     "shell.execute_reply": "2020-11-13T12:26:44.394474Z"
    },
    "papermill": {
     "duration": 0.370622,
     "end_time": "2020-11-13T12:26:44.395386",
     "exception": false,
     "start_time": "2020-11-13T12:26:44.024764",
     "status": "completed"
    },
    "tags": []
   },
   "source": [
    "# Visualize top 10 writers based on movie counts with barchart\n",
    "\n",
    "max_width = 15\n",
    "fig, ax = plt.subplots(figsize = (16,4))\n",
    "\n",
    "writers = gb_writer[('imdb_title_id', 'count')].sort_values(ascending = False)[0:10].index\n",
    "count_movies = gb_writer[('imdb_title_id', 'count')].sort_values(ascending = False)[0:10]\n",
    "\n",
    "sns.barplot(ax = ax, x = writers, y = count_movies)\n",
    "ax.set_title('Top 10 Writers Based on Movie Counts', fontsize = 18)\n",
    "ax.set_xlabel('Writer')\n",
    "for index,count_movies in enumerate(count_movies):\n",
    "    ax.text(x=index-0.05 , y =count_movies+0 , s=f\"{count_movies}\" , fontdict=dict(fontsize=10))\n",
    "ax.set_ylabel('No. of Movies')\n",
    "ax.set_ylim(30, 60)\n",
    "plt.show()"
   ],
   "outputs": [],
   "execution_count": null
  },
  {
   "cell_type": "code",
   "metadata": {
    "execution": {
     "iopub.execute_input": "2020-11-13T12:26:44.619847Z",
     "iopub.status.busy": "2020-11-13T12:26:44.618682Z",
     "iopub.status.idle": "2020-11-13T12:26:44.968692Z",
     "shell.execute_reply": "2020-11-13T12:26:44.968142Z"
    },
    "papermill": {
     "duration": 0.498902,
     "end_time": "2020-11-13T12:26:44.968848",
     "exception": false,
     "start_time": "2020-11-13T12:26:44.469946",
     "status": "completed"
    },
    "tags": []
   },
   "source": [
    "# Visualize top 10 writers based on average vote (rating) with barchart\n",
    "\n",
    "max_width = 15\n",
    "fig, ax = plt.subplots(figsize = (16,4))\n",
    "\n",
    "# Specification : at least have write 5 movies\n",
    "mask = movies_writer_split.groupby('writer_split')['imdb_title_id'].count() >= 5\n",
    "writers = gb_writer.loc[mask][('avg_vote',  'mean')].sort_values(ascending = False)[0:10].index\n",
    "avg_vote = gb_writer.loc[mask][('avg_vote',  'mean')].sort_values(ascending = False)[0:10]\n",
    "\n",
    "sns.barplot(ax = ax, x = writers, y = avg_vote)\n",
    "ax.set_title('Top 10 Writers Based on Average Vote (Rating)', fontsize = 18)\n",
    "ax.set_xlabel('Writer')\n",
    "ax.set_xticklabels((textwrap.fill(x.get_text(), max_width) for x in ax.get_xticklabels()), fontsize = 10)\n",
    "for index,avg_vote in enumerate(round(avg_vote, 2)):\n",
    "    ax.text(x=index-0.1 , y =avg_vote+0 , s=f\"{avg_vote}\" , fontdict=dict(fontsize=10))\n",
    "ax.set_ylabel('Average Vote')\n",
    "ax.set_ylim(7.4, 8.8)\n",
    "plt.show()"
   ],
   "outputs": [],
   "execution_count": null
  },
  {
   "cell_type": "markdown",
   "metadata": {
    "papermill": {
     "duration": 0.073912,
     "end_time": "2020-11-13T12:26:45.118760",
     "exception": false,
     "start_time": "2020-11-13T12:26:45.044848",
     "status": "completed"
    },
    "tags": []
   },
   "source": [
    "#### Which Production Company Has Release Most Movies and Highest Average Vote (Rating)"
   ]
  },
  {
   "cell_type": "code",
   "metadata": {
    "execution": {
     "iopub.execute_input": "2020-11-13T12:26:45.272151Z",
     "iopub.status.busy": "2020-11-13T12:26:45.271079Z",
     "iopub.status.idle": "2020-11-13T12:26:45.337808Z",
     "shell.execute_reply": "2020-11-13T12:26:45.336956Z"
    },
    "papermill": {
     "duration": 0.147253,
     "end_time": "2020-11-13T12:26:45.337986",
     "exception": false,
     "start_time": "2020-11-13T12:26:45.190733",
     "status": "completed"
    },
    "tags": []
   },
   "source": [
    "# Preprocess production company column data\n",
    "\n",
    "movies_productioncomp = imdb_movies[['imdb_title_id', 'original_title', 'production_company', 'avg_vote']]\n",
    "movies_productioncomp['production_company'] = movies_productioncomp['production_company'].astype('str')\n",
    "\n",
    "gb_productioncomp = movies_productioncomp.groupby('production_company').agg({ 'imdb_title_id' : ['count'], 'avg_vote': ['mean']})\n",
    "gb_productioncomp.drop((gb_productioncomp[gb_productioncomp.index == ''].index) | (gb_productioncomp[gb_productioncomp.index == 'nan'].index), inplace = True)\n",
    "gb_productioncomp.head()"
   ],
   "outputs": [],
   "execution_count": null
  },
  {
   "cell_type": "code",
   "metadata": {
    "execution": {
     "iopub.execute_input": "2020-11-13T12:26:45.498513Z",
     "iopub.status.busy": "2020-11-13T12:26:45.497781Z",
     "iopub.status.idle": "2020-11-13T12:26:45.782149Z",
     "shell.execute_reply": "2020-11-13T12:26:45.781551Z"
    },
    "papermill": {
     "duration": 0.373103,
     "end_time": "2020-11-13T12:26:45.782289",
     "exception": false,
     "start_time": "2020-11-13T12:26:45.409186",
     "status": "completed"
    },
    "scrolled": false,
    "tags": []
   },
   "source": [
    "# Visualize top 10 production companies based on movie counts with barchart\n",
    "\n",
    "max_width = 15\n",
    "fig, ax = plt.subplots(figsize = (16,4))\n",
    "\n",
    "productioncomp = gb_productioncomp[('imdb_title_id', 'count')].sort_values(ascending = False)[0:10].index\n",
    "count_movies = gb_productioncomp[('imdb_title_id', 'count')].sort_values(ascending = False)[0:10]\n",
    "\n",
    "sns.barplot(ax = ax, x = productioncomp, y = count_movies)\n",
    "ax.set_title('Top 10 Production Companies Based on Movie Counts', fontsize = 18)\n",
    "ax.set_xlabel('Production Company')\n",
    "ax.set_xticklabels((textwrap.fill(x.get_text(), max_width) for x in ax.get_xticklabels()), fontsize = 10)\n",
    "for index,count_movies in enumerate(count_movies):\n",
    "    ax.text(x=index-0.1 , y =count_movies+0.6 , s=f\"{count_movies}\" , fontdict=dict(fontsize=10))\n",
    "ax.set_ylabel('No. of Movies')\n",
    "ax.set_ylim(100, 1400)\n",
    "plt.show()"
   ],
   "outputs": [],
   "execution_count": null
  },
  {
   "cell_type": "code",
   "metadata": {
    "execution": {
     "iopub.execute_input": "2020-11-13T12:26:45.948344Z",
     "iopub.status.busy": "2020-11-13T12:26:45.944541Z",
     "iopub.status.idle": "2020-11-13T12:26:46.264856Z",
     "shell.execute_reply": "2020-11-13T12:26:46.264121Z"
    },
    "papermill": {
     "duration": 0.407922,
     "end_time": "2020-11-13T12:26:46.265001",
     "exception": false,
     "start_time": "2020-11-13T12:26:45.857079",
     "status": "completed"
    },
    "scrolled": false,
    "tags": []
   },
   "source": [
    "# Visualize top 10 production companies based on average vote (rating) with barchart\n",
    "\n",
    "max_width = 15\n",
    "fig, ax = plt.subplots(figsize = (16,4))\n",
    "\n",
    "# Specification : at least have produce 20 movies\n",
    "mask = movies_productioncomp.groupby('production_company')['imdb_title_id'].count() >= 20\n",
    "productioncomp = gb_productioncomp.loc[mask][('avg_vote',  'mean')].sort_values(ascending = False)[0:10].index\n",
    "avg_vote = gb_productioncomp.loc[mask][('avg_vote',  'mean')].sort_values(ascending = False)[0:10]\n",
    "\n",
    "sns.barplot(ax = ax, x = productioncomp, y = avg_vote)\n",
    "ax.set_title('Top 10 Production Companies Based on Average Vote (Rating)', fontsize = 18)\n",
    "ax.set_xlabel('Production Company')\n",
    "ax.set_xticklabels((textwrap.fill(x.get_text(), max_width) for x in ax.get_xticklabels()), fontsize = 10)\n",
    "for index,avg_vote in enumerate(round(avg_vote, 2)):\n",
    "    ax.text(x=index-0.1 , y =avg_vote+0.005 , s=f\"{avg_vote}\" , fontdict=dict(fontsize=10))\n",
    "ax.set_ylabel('Average Vote')\n",
    "ax.set_ylim(6.4, 7.2)\n",
    "plt.show()"
   ],
   "outputs": [],
   "execution_count": null
  },
  {
   "cell_type": "markdown",
   "metadata": {
    "papermill": {
     "duration": 0.074636,
     "end_time": "2020-11-13T12:26:46.416336",
     "exception": false,
     "start_time": "2020-11-13T12:26:46.341700",
     "status": "completed"
    },
    "tags": []
   },
   "source": [
    "#### Which Actor Has Release Most Movies and Highest Average Vote (Rating)"
   ]
  },
  {
   "cell_type": "code",
   "metadata": {
    "execution": {
     "iopub.execute_input": "2020-11-13T12:26:46.577700Z",
     "iopub.status.busy": "2020-11-13T12:26:46.576549Z",
     "iopub.status.idle": "2020-11-13T12:26:48.362704Z",
     "shell.execute_reply": "2020-11-13T12:26:48.361486Z"
    },
    "papermill": {
     "duration": 1.870821,
     "end_time": "2020-11-13T12:26:48.362932",
     "exception": false,
     "start_time": "2020-11-13T12:26:46.492111",
     "status": "completed"
    },
    "tags": []
   },
   "source": [
    "# Preprocess and split actor column data (because there are more than one actor in each row data)\n",
    "\n",
    "movies_actor = imdb_movies[['imdb_title_id', 'original_title', 'actors', 'avg_vote']]\n",
    "movies_actor['actors'] = movies_actor['actors'].astype('str')\n",
    "\n",
    "actor_split = pd.DataFrame(movies_actor['actors'].str.split(',').tolist(), index=movies_actor['imdb_title_id']).stack()\n",
    "actor_split = actor_split.reset_index(['imdb_title_id'])\n",
    "actor_split.columns = ['imdb_title_id', 'actor_split']\n",
    "movies_actor_split = pd.merge(actor_split, movies_actor[['imdb_title_id', 'original_title', 'avg_vote']],\n",
    "                              left_on = 'imdb_title_id', right_on = 'imdb_title_id')\n",
    "movies_actor_split['actor_split'] = movies_actor_split['actor_split'].str.lstrip(' ').str.rstrip(' ')\n",
    "gb_actor = movies_actor_split.groupby('actor_split').agg({ 'imdb_title_id' : ['count'], 'avg_vote': ['mean']})\n",
    "gb_actor.drop((gb_actor[gb_actor.index == 'nan'].index), inplace = True)\n",
    "gb_actor.head()"
   ],
   "outputs": [],
   "execution_count": null
  },
  {
   "cell_type": "code",
   "metadata": {
    "execution": {
     "iopub.execute_input": "2020-11-13T12:26:48.528764Z",
     "iopub.status.busy": "2020-11-13T12:26:48.519686Z",
     "iopub.status.idle": "2020-11-13T12:26:48.858395Z",
     "shell.execute_reply": "2020-11-13T12:26:48.858923Z"
    },
    "papermill": {
     "duration": 0.422366,
     "end_time": "2020-11-13T12:26:48.859100",
     "exception": false,
     "start_time": "2020-11-13T12:26:48.436734",
     "status": "completed"
    },
    "scrolled": false,
    "tags": []
   },
   "source": [
    "# Visualize top 10 actors based on movie counts with barchart\n",
    "\n",
    "max_width = 15\n",
    "fig, ax = plt.subplots(figsize = (16,4))\n",
    "\n",
    "actor = gb_actor[('imdb_title_id', 'count')].sort_values(ascending = False)[0:10].index\n",
    "count_movies = gb_actor[('imdb_title_id', 'count')].sort_values(ascending = False)[0:10]\n",
    "\n",
    "sns.barplot(ax = ax, x = actor, y = count_movies)\n",
    "ax.set_title('Top 10 Actors/Actess Based on Movie Counts', fontsize = 18)\n",
    "ax.set_xlabel('Actor/Actess')\n",
    "ax.set_xticklabels((textwrap.fill(x.get_text(), max_width) for x in ax.get_xticklabels()), fontsize = 10)\n",
    "for index,count_movies in enumerate(count_movies):\n",
    "    ax.text(x=index-0.1 , y =count_movies+0 , s=f\"{count_movies}\" , fontdict=dict(fontsize=10))\n",
    "ax.set_ylabel('No. of Movies')\n",
    "ax.set_ylim(90, 200)\n",
    "plt.show()"
   ],
   "outputs": [],
   "execution_count": null
  },
  {
   "cell_type": "code",
   "metadata": {
    "execution": {
     "iopub.execute_input": "2020-11-13T12:26:49.136162Z",
     "iopub.status.busy": "2020-11-13T12:26:49.129329Z",
     "iopub.status.idle": "2020-11-13T12:26:50.041282Z",
     "shell.execute_reply": "2020-11-13T12:26:50.040605Z"
    },
    "papermill": {
     "duration": 1.107112,
     "end_time": "2020-11-13T12:26:50.041401",
     "exception": false,
     "start_time": "2020-11-13T12:26:48.934289",
     "status": "completed"
    },
    "scrolled": false,
    "tags": []
   },
   "source": [
    "# Visualize top 10 actors based on average vote (rating) with barchart\n",
    "\n",
    "max_width = 15\n",
    "fig, ax = plt.subplots(figsize = (16,4))\n",
    "\n",
    "# Specification : at least have become an actor/actress on 10 movies\n",
    "mask = movies_actor_split.groupby('actor_split')['imdb_title_id'].count() >= 10\n",
    "actor = gb_actor.loc[mask][('avg_vote',  'mean')].sort_values(ascending = False)[0:10].index\n",
    "avg_vote = gb_actor.loc[mask][('avg_vote',  'mean')].sort_values(ascending = False)[0:10]\n",
    "\n",
    "sns.barplot(ax = ax, x = actor, y = avg_vote)\n",
    "ax.set_title('Top 10 Actors/Actress Based on Average Vote (Rating)', fontsize = 18)\n",
    "ax.set_xlabel('Actor/Actess')\n",
    "ax.set_xticklabels((textwrap.fill(x.get_text(), max_width) for x in ax.get_xticklabels()), fontsize = 10)\n",
    "for index,avg_vote in enumerate(round(avg_vote, 2)):\n",
    "    ax.text(x=index-0.1 , y =avg_vote+0.005 , s=f\"{avg_vote}\" , fontdict=dict(fontsize=10))\n",
    "ax.set_ylabel('Average Vote')\n",
    "ax.set_ylim(7, 7.6)\n",
    "plt.show()"
   ],
   "outputs": [],
   "execution_count": null
  },
  {
   "cell_type": "markdown",
   "metadata": {
    "papermill": {
     "duration": 0.078322,
     "end_time": "2020-11-13T12:26:50.197093",
     "exception": false,
     "start_time": "2020-11-13T12:26:50.118771",
     "status": "completed"
    },
    "tags": []
   },
   "source": [
    "#### Which Cinematographer Has Release Most Movies and Highest Average Vote (Rating)"
   ]
  },
  {
   "cell_type": "code",
   "metadata": {
    "execution": {
     "iopub.execute_input": "2020-11-13T12:26:50.365207Z",
     "iopub.status.busy": "2020-11-13T12:26:50.364070Z",
     "iopub.status.idle": "2020-11-13T12:26:50.558784Z",
     "shell.execute_reply": "2020-11-13T12:26:50.557874Z"
    },
    "papermill": {
     "duration": 0.27669,
     "end_time": "2020-11-13T12:26:50.558947",
     "exception": false,
     "start_time": "2020-11-13T12:26:50.282257",
     "status": "completed"
    },
    "tags": []
   },
   "source": [
    "# Preprocess and split cinematographer column data (because there are more than one cinematographer in each row data)\n",
    "\n",
    "movies_cinematographer = imdb_movies[['imdb_title_id', 'original_title', 'cinematographer', 'avg_vote']]\n",
    "movies_cinematographer['cinematographer'] = movies_cinematographer['cinematographer'].astype('str')\n",
    "\n",
    "cinematographer_split = pd.DataFrame(movies_cinematographer['cinematographer'].str.split(',').tolist(), index=movies_cinematographer['imdb_title_id']).stack()\n",
    "cinematographer_split = cinematographer_split.reset_index(['imdb_title_id'])\n",
    "cinematographer_split.columns = ['imdb_title_id', 'cinematographer_split']\n",
    "\n",
    "movies_cinematographer_split = pd.merge(cinematographer_split, movies_cinematographer[['imdb_title_id', 'original_title', 'avg_vote']],\n",
    "                              left_on = 'imdb_title_id', right_on = 'imdb_title_id')\n",
    "movies_cinematographer_split['cinematographer_split'] = movies_cinematographer_split['cinematographer_split'].str.lstrip(' ').str.rstrip(' ')\n",
    "gb_cinematographer = movies_cinematographer_split.groupby('cinematographer_split').agg({ 'imdb_title_id' : ['count'], 'avg_vote': ['mean']})\n",
    "gb_cinematographer.drop((gb_cinematographer[gb_cinematographer.index == 'nan'].index), inplace = True)\n",
    "gb_cinematographer.head()"
   ],
   "outputs": [],
   "execution_count": null
  },
  {
   "cell_type": "code",
   "metadata": {
    "execution": {
     "iopub.execute_input": "2020-11-13T12:26:50.728000Z",
     "iopub.status.busy": "2020-11-13T12:26:50.727155Z",
     "iopub.status.idle": "2020-11-13T12:26:50.982344Z",
     "shell.execute_reply": "2020-11-13T12:26:50.981356Z"
    },
    "papermill": {
     "duration": 0.346943,
     "end_time": "2020-11-13T12:26:50.982477",
     "exception": false,
     "start_time": "2020-11-13T12:26:50.635534",
     "status": "completed"
    },
    "scrolled": false,
    "tags": []
   },
   "source": [
    "# Visualize top 10 cinematographer based on movie counts with barchart\n",
    "\n",
    "max_width = 15\n",
    "fig, ax = plt.subplots(figsize = (16,4))\n",
    "\n",
    "cinematographer = gb_cinematographer[('imdb_title_id', 'count')].sort_values(ascending = False)[0:10].index\n",
    "count_movies = gb_cinematographer[('imdb_title_id', 'count')].sort_values(ascending = False)[0:10]\n",
    "\n",
    "sns.barplot(ax = ax, x = cinematographer, y = count_movies)\n",
    "ax.set_title('Top 10 Cinematographers Based on Movie Counts', fontsize = 18)\n",
    "ax.set_xlabel('Cinematographer')\n",
    "ax.set_xticklabels((textwrap.fill(x.get_text(), max_width) for x in ax.get_xticklabels()), fontsize = 10)\n",
    "for index,count_movies in enumerate(round(count_movies, 2)):\n",
    "    ax.text(x=index-0.05 , y =count_movies+0 , s=f\"{count_movies}\" , fontdict=dict(fontsize=10))\n",
    "ax.set_ylabel('No. of Movies')\n",
    "ax.set_ylim(55, 80)\n",
    "plt.show()"
   ],
   "outputs": [],
   "execution_count": null
  },
  {
   "cell_type": "code",
   "metadata": {
    "execution": {
     "iopub.execute_input": "2020-11-13T12:26:51.157974Z",
     "iopub.status.busy": "2020-11-13T12:26:51.153470Z",
     "iopub.status.idle": "2020-11-13T12:26:51.453889Z",
     "shell.execute_reply": "2020-11-13T12:26:51.454409Z"
    },
    "papermill": {
     "duration": 0.391823,
     "end_time": "2020-11-13T12:26:51.454580",
     "exception": false,
     "start_time": "2020-11-13T12:26:51.062757",
     "status": "completed"
    },
    "scrolled": false,
    "tags": []
   },
   "source": [
    "# Visualize top 10 actors based on average vote (rating) with barchart\n",
    "\n",
    "max_width = 15\n",
    "fig, ax = plt.subplots(figsize = (16,4))\n",
    "\n",
    "# Specification : at least have direct 5 movies\n",
    "mask = movies_cinematographer_split.groupby('cinematographer_split')['imdb_title_id'].count() >= 5\n",
    "cinematographer = gb_cinematographer.loc[mask][('avg_vote',  'mean')].sort_values(ascending = False)[0:10].index\n",
    "avg_vote = gb_cinematographer.loc[mask][('avg_vote',  'mean')].sort_values(ascending = False)[0:10]\n",
    "\n",
    "sns.barplot(ax = ax, x = cinematographer, y = avg_vote)\n",
    "ax.set_title('Top 10 Cinematographers Based on Average Vote (Rating)', fontsize = 18)\n",
    "ax.set_xlabel('Cinematographer')\n",
    "ax.set_xticklabels((textwrap.fill(x.get_text(), max_width) for x in ax.get_xticklabels()), fontsize = 10)\n",
    "for index,avg_vote in enumerate(round(avg_vote, 2)):\n",
    "    ax.text(x=index-0.1 , y =avg_vote+0.005 , s=f\"{avg_vote}\" , fontdict=dict(fontsize=10))\n",
    "ax.set_ylabel('Average Vote')\n",
    "ax.set_ylim(6.8, 8)\n",
    "plt.show()"
   ],
   "outputs": [],
   "execution_count": null
  },
  {
   "cell_type": "markdown",
   "metadata": {
    "papermill": {
     "duration": 0.081563,
     "end_time": "2020-11-13T12:26:51.622593",
     "exception": false,
     "start_time": "2020-11-13T12:26:51.541030",
     "status": "completed"
    },
    "tags": []
   },
   "source": [
    "# Recommender System Based on Content"
   ]
  },
  {
   "cell_type": "code",
   "metadata": {
    "execution": {
     "iopub.execute_input": "2020-11-13T12:26:51.792801Z",
     "iopub.status.busy": "2020-11-13T12:26:51.789985Z",
     "iopub.status.idle": "2020-11-13T12:26:51.809420Z",
     "shell.execute_reply": "2020-11-13T12:26:51.809951Z"
    },
    "papermill": {
     "duration": 0.104619,
     "end_time": "2020-11-13T12:26:51.810141",
     "exception": false,
     "start_time": "2020-11-13T12:26:51.705522",
     "status": "completed"
    },
    "tags": []
   },
   "source": [
    "# Features that used in this recommender system is 'original_title' (as index),  'genre', 'director', 'actors', 'description'\n",
    "data_recsys=imdb_movies[['original_title', 'genre', 'director', 'actors', 'description']].reset_index(drop = True)\n",
    "data_recsys.head()"
   ],
   "outputs": [],
   "execution_count": null
  },
  {
   "cell_type": "code",
   "metadata": {
    "execution": {
     "iopub.execute_input": "2020-11-13T12:26:51.994304Z",
     "iopub.status.busy": "2020-11-13T12:26:51.992056Z",
     "iopub.status.idle": "2020-11-13T12:26:52.397946Z",
     "shell.execute_reply": "2020-11-13T12:26:52.398424Z"
    },
    "papermill": {
     "duration": 0.505036,
     "end_time": "2020-11-13T12:26:52.398580",
     "exception": false,
     "start_time": "2020-11-13T12:26:51.893544",
     "status": "completed"
    },
    "tags": []
   },
   "source": [
    "# Preprocess the data\n",
    "\n",
    "data_recsys.set_index('original_title', inplace = True)\n",
    "\n",
    "data_recsys['genre'] = data_recsys['genre'].fillna('').astype('str').str.lower()\n",
    "data_recsys['genre'] = data_recsys['genre'].str.split(',')\n",
    "\n",
    "data_recsys['director'] = data_recsys['director'].fillna('').astype('str').str.lower()\n",
    "data_recsys['director'] = data_recsys['director'].str.split(',')\n",
    "\n",
    "data_recsys['actors'] = data_recsys['actors'].fillna('').astype('str').str.lower()\n",
    "data_recsys['actors'] = data_recsys['actors'].str.split(',')"
   ],
   "outputs": [],
   "execution_count": null
  },
  {
   "cell_type": "code",
   "metadata": {
    "execution": {
     "iopub.execute_input": "2020-11-13T12:26:52.576921Z",
     "iopub.status.busy": "2020-11-13T12:26:52.570266Z",
     "iopub.status.idle": "2020-11-13T12:28:13.242667Z",
     "shell.execute_reply": "2020-11-13T12:28:13.242044Z"
    },
    "papermill": {
     "duration": 80.767372,
     "end_time": "2020-11-13T12:28:13.242821",
     "exception": false,
     "start_time": "2020-11-13T12:26:52.475449",
     "status": "completed"
    },
    "tags": []
   },
   "source": [
    "# Preprocess description column data\n",
    "\n",
    "data_recsys['description'] = data_recsys['description'].fillna('').astype('str').str.lower()\n",
    "data_recsys['description'] = data_recsys['description'].str.translate(str.maketrans('', '', string.punctuation))\n",
    "\n",
    "#from nltk.corpus import stopwords\n",
    "listStopwords = set(stopwords.words('english'))\n",
    "filtered = []\n",
    "ps = PorterStemmer() \n",
    "for i, text in enumerate(data_recsys['description'].str.split()):\n",
    "    for word in text:\n",
    "        # Filtering/Removing stopwords in the text\n",
    "        if word not in listStopwords:\n",
    "            # Stemming words\n",
    "            word_stemmed = ps.stem(word)\n",
    "            filtered.append(word_stemmed)\n",
    "    data_recsys['description'][i] = filtered\n",
    "    filtered = []"
   ],
   "outputs": [],
   "execution_count": null
  },
  {
   "cell_type": "code",
   "metadata": {
    "execution": {
     "iopub.execute_input": "2020-11-13T12:28:13.425429Z",
     "iopub.status.busy": "2020-11-13T12:28:13.424023Z",
     "iopub.status.idle": "2020-11-13T12:29:08.307414Z",
     "shell.execute_reply": "2020-11-13T12:29:08.306586Z"
    },
    "papermill": {
     "duration": 54.976646,
     "end_time": "2020-11-13T12:29:08.307546",
     "exception": false,
     "start_time": "2020-11-13T12:28:13.330900",
     "status": "completed"
    },
    "tags": []
   },
   "source": [
    "# Create new column 'bunch_of_words' that contains words taken from all features columns\n",
    "\n",
    "data_recsys['bunch_of_words'] = ''\n",
    "for i, text in data_recsys.iterrows():\n",
    "    words = ''\n",
    "    for col in data_recsys.columns:\n",
    "        words = words + ' '.join(text[col]) + ' '\n",
    "    data_recsys['bunch_of_words'][i] = words"
   ],
   "outputs": [],
   "execution_count": null
  },
  {
   "cell_type": "code",
   "metadata": {
    "execution": {
     "iopub.execute_input": "2020-11-13T12:29:08.500710Z",
     "iopub.status.busy": "2020-11-13T12:29:08.499943Z",
     "iopub.status.idle": "2020-11-13T12:29:08.504760Z",
     "shell.execute_reply": "2020-11-13T12:29:08.505397Z"
    },
    "papermill": {
     "duration": 0.115291,
     "end_time": "2020-11-13T12:29:08.505609",
     "exception": false,
     "start_time": "2020-11-13T12:29:08.390318",
     "status": "completed"
    },
    "tags": []
   },
   "source": [
    "data_recsys.head()"
   ],
   "outputs": [],
   "execution_count": null
  },
  {
   "cell_type": "code",
   "metadata": {
    "execution": {
     "iopub.execute_input": "2020-11-13T12:29:08.721695Z",
     "iopub.status.busy": "2020-11-13T12:29:08.720543Z",
     "iopub.status.idle": "2020-11-13T12:29:11.553064Z",
     "shell.execute_reply": "2020-11-13T12:29:11.552284Z"
    },
    "papermill": {
     "duration": 2.964479,
     "end_time": "2020-11-13T12:29:11.553264",
     "exception": false,
     "start_time": "2020-11-13T12:29:08.588785",
     "status": "completed"
    },
    "tags": []
   },
   "source": [
    "# Convert a collection of text documents to a vector of term/token counts (CountVectorizer)\n",
    "\n",
    "count = CountVectorizer()\n",
    "count_matrix = count.fit_transform(data_recsys['bunch_of_words']).astype(np.uint8)"
   ],
   "outputs": [],
   "execution_count": null
  },
  {
   "cell_type": "code",
   "metadata": {
    "execution": {
     "iopub.execute_input": "2020-11-13T12:29:11.768365Z",
     "iopub.status.busy": "2020-11-13T12:29:11.767083Z",
     "iopub.status.idle": "2020-11-13T12:29:11.770858Z",
     "shell.execute_reply": "2020-11-13T12:29:11.770160Z"
    },
    "papermill": {
     "duration": 0.132489,
     "end_time": "2020-11-13T12:29:11.771008",
     "exception": false,
     "start_time": "2020-11-13T12:29:11.638519",
     "status": "completed"
    },
    "tags": []
   },
   "source": [
    "# To reduce memory usage\n",
    "del data_imdb_names\n",
    "del data_imdb_title_principals"
   ],
   "outputs": [],
   "execution_count": null
  },
  {
   "cell_type": "code",
   "metadata": {
    "execution": {
     "iopub.execute_input": "2020-11-13T12:29:11.947769Z",
     "iopub.status.busy": "2020-11-13T12:29:11.946997Z",
     "iopub.status.idle": "2020-11-13T12:32:32.702429Z",
     "shell.execute_reply": "2020-11-13T12:32:32.701281Z"
    },
    "papermill": {
     "duration": 200.847649,
     "end_time": "2020-11-13T12:32:32.702676",
     "exception": false,
     "start_time": "2020-11-13T12:29:11.855027",
     "status": "completed"
    },
    "tags": []
   },
   "source": [
    "# Calculate Cosine Similarity\n",
    "# Cosine similarity is a metric used to measure how similar the documents are irrespective of their size\n",
    "\n",
    "chunk_size = 500 \n",
    "matrix_len = count_matrix.shape[0] # Not sparse numpy.ndarray\n",
    "\n",
    "# Calculate cosine similarity chunk by chunk\n",
    "def similarity_cosine_by_chunk(start, end):\n",
    "    if end > matrix_len:\n",
    "        end = matrix_len\n",
    "    return cosine_similarity(X=count_matrix[start:end], Y=count_matrix)\n",
    "cosine_similarity_all = []\n",
    "i=0\n",
    "for chunk_start in range(0, matrix_len, chunk_size):\n",
    "    \n",
    "    # Initialize first cosine sim chunk (for first concatenating chunks purpose)\n",
    "    if i == 0: \n",
    "        cosine_sim = similarity_cosine_by_chunk(chunk_start, chunk_start+chunk_size)\n",
    "    \n",
    "    # Initialize other cosine sim chunk, then concatenating chunk by chunk untill all chunks concatenated\n",
    "    else :\n",
    "        cosine_similarity_chunk= similarity_cosine_by_chunk(chunk_start, chunk_start+chunk_size)\n",
    "        # Use type data float32 for reduce memory usage\n",
    "        cosine_sim = np.concatenate((cosine_sim.astype(np.float32), cosine_similarity_chunk.astype(np.float32)))\n",
    "    \n",
    "    # Change value i != 0 for execute else statement, because we dont need execute if statement anymore (if statement only to initialize first chunk for first concatenating purpose)\n",
    "    i= 1"
   ],
   "outputs": [],
   "execution_count": null
  },
  {
   "cell_type": "code",
   "metadata": {
    "execution": {
     "iopub.execute_input": "2020-11-13T12:32:32.892886Z",
     "iopub.status.busy": "2020-11-13T12:32:32.891780Z",
     "iopub.status.idle": "2020-11-13T12:32:32.900853Z",
     "shell.execute_reply": "2020-11-13T12:32:32.900094Z"
    },
    "papermill": {
     "duration": 0.102917,
     "end_time": "2020-11-13T12:32:32.900978",
     "exception": false,
     "start_time": "2020-11-13T12:32:32.798061",
     "status": "completed"
    },
    "tags": []
   },
   "source": [
    "# Create function that return 10 recommended/similar movies based on input\n",
    "\n",
    "# Create variable index\n",
    "index_movies = pd.Series(data_recsys.index)\n",
    "\n",
    "# Movies Recommendation function\n",
    "def recommendation_movies(title, cosine_sim = cosine_sim):\n",
    "    recommended_movies = []\n",
    "    index_movie_input = index_movies[index_movies == title].index[0]\n",
    "    score_movies = pd.Series(cosine_sim[index_movie_input]).sort_values(ascending = False)\n",
    "    top_10_index_movies = list(score_movies.iloc[1:11].index)\n",
    "    # Get movies title and year by index (top 10 movies)\n",
    "    for i in top_10_index_movies:\n",
    "        recommended_movies.append(imdb_movies['original_title'].iloc[i] + ' (' + str(imdb_movies['year'].iloc[i]) + ')')\n",
    "    return recommended_movies"
   ],
   "outputs": [],
   "execution_count": null
  },
  {
   "cell_type": "code",
   "metadata": {
    "execution": {
     "iopub.execute_input": "2020-11-13T12:32:33.078010Z",
     "iopub.status.busy": "2020-11-13T12:32:33.077283Z",
     "iopub.status.idle": "2020-11-13T12:32:33.089796Z",
     "shell.execute_reply": "2020-11-13T12:32:33.089093Z"
    },
    "papermill": {
     "duration": 0.104554,
     "end_time": "2020-11-13T12:32:33.089963",
     "exception": false,
     "start_time": "2020-11-13T12:32:32.985409",
     "status": "completed"
    },
    "tags": []
   },
   "source": [
    "# Results\n",
    "recommendation_movies('The Dark Knight')"
   ],
   "outputs": [],
   "execution_count": null
  }
 ],
 "metadata": {
  "kernelspec": {
   "display_name": "Python 3",
   "language": "python",
   "name": "python3"
  },
  "language_info": {
   "codemirror_mode": {
    "name": "ipython",
    "version": 3
   },
   "file_extension": ".py",
   "mimetype": "text/x-python",
   "name": "python",
   "nbconvert_exporter": "python",
   "pygments_lexer": "ipython3",
   "version": "3.7.6"
  },
  "papermill": {
   "duration": 413.73646,
   "end_time": "2020-11-13T12:32:33.287449",
   "environment_variables": {},
   "exception": null,
   "input_path": "__notebook__.ipynb",
   "output_path": "__notebook__.ipynb",
   "parameters": {},
   "start_time": "2020-11-13T12:25:39.550989",
   "version": "2.1.0"
  }
 },
 "nbformat": 4,
 "nbformat_minor": 4
}
